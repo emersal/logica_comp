{
  "cells": [
    {
      "cell_type": "markdown",
      "metadata": {
        "id": "fcbGPQLa3VqH"
      },
      "source": [
        "# Lógica para Computação: Especificação de Problemas em Lógica\n",
        "> *Autor: Davi Romero de Vasconcelos, daviromero@ufc.br, Universidade Federal do Ceará, Campus de Quixadá, Março de 2022*.\n",
        "> *(Última atualização 15/03/2022)*\n",
        "\n",
        "Este material foi preparado para a disciplina de Lógica para Computação com a finalidade de apresentar os conceitos básicos de Lógica, utilizando a Linguagem de Programação Python para auxiliar no ensino-aprendizagem da disciplina. Para cada seção é apresentado um link (no título da seção) com um vídeo explicando o conteúdo a ser abordado. Uma Playlist com todo o conteúdo de Lógica para Computação está disponível no [YouTube](https://youtube.com/playlist?list=PLfOnKvd6pFiq_BUI-llPhDeGR55P6nHfr)."
      ]
    },
    {
      "cell_type": "code",
      "execution_count": 2,
      "metadata": {
        "cellView": "form",
        "id": "KRbAmatIeYlx",
        "colab": {
          "base_uri": "https://localhost:8080/"
        },
        "outputId": "b1864ad8-b9fb-4e70-9427-9e710a2068c7"
      },
      "outputs": [
        {
          "output_type": "stream",
          "name": "stdout",
          "text": [
            "  Preparing metadata (setup.py) ... \u001b[?25l\u001b[?25hdone\n",
            "\u001b[2K   \u001b[90m━━━━━━━━━━━━━━━━━━━━━━━━━━━━━━━━━━━━━━━━\u001b[0m \u001b[32m117.8/117.8 kB\u001b[0m \u001b[31m5.2 MB/s\u001b[0m eta \u001b[36m0:00:00\u001b[0m\n",
            "\u001b[2K   \u001b[90m━━━━━━━━━━━━━━━━━━━━━━━━━━━━━━━━━━━━━━━━\u001b[0m \u001b[32m722.2/722.2 kB\u001b[0m \u001b[31m22.9 MB/s\u001b[0m eta \u001b[36m0:00:00\u001b[0m\n",
            "\u001b[2K   \u001b[90m━━━━━━━━━━━━━━━━━━━━━━━━━━━━━━━━━━━━━━━━\u001b[0m \u001b[32m1.6/1.6 MB\u001b[0m \u001b[31m41.3 MB/s\u001b[0m eta \u001b[36m0:00:00\u001b[0m\n",
            "\u001b[?25h  Building wheel for logic4py (setup.py) ... \u001b[?25l\u001b[?25hdone\n"
          ]
        }
      ],
      "source": [
        "#@title Implementação em Python dos conceitos sobre a Linguagem da Lógica Proposicional\n",
        "#@markdown Não é necessário conhecer o código aqui implementado ou mesmo ter um conhecimento profundo da linguagem Python. Basta acompanhar os exemplos e experimentar construir suas próprias demonstrações.\n",
        "#@markdown >*Execute esta célula (`ctrl+enter` ou clicando no botão ao lado) para que o ambiente seja carregado com as classes implementadas.*\n",
        "\n",
        "#!pip install logic4py -q\n",
        "!pip install git+https://github.com/daviromero/logic4py.git -q\n",
        "from logic4py.logic_gui import verify_reasoning_example"
      ]
    },
    {
      "cell_type": "markdown",
      "metadata": {
        "id": "3J8GKueYxOiy"
      },
      "source": [
        "# [Especificação de Problemas em Lógica](https://youtu.be/SBH5w4-Wy9g)\n",
        "\n",
        "A lógica pode ser utilizada para representar (parte) do mundo, ou seja, podemos especificar fatos acerca do mundo na linguagem lógica. Podemos utilizar a lógica para \"raciocinar\" através de sua relação de consequência lógica ($\\models$)\n",
        "\n",
        "![image.png](data:image/png;base64,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)\n",
        "\n",
        "Na lógica proposicional, utilizamos os símbolos proposicionais para representar as sentenças declarativas, tais como:\n",
        "- A sentença \"está chovendo\" pode ser representada pelo átomo $P$\n",
        "- A sentença \"a rua está molhada\" pode ser representada pelo átomo $Q$\n",
        "\n",
        "Na lógica podemos utilizar os conectivos lógicos para formar sentenças mais complexas, a exemplo:\n",
        "- A sentença \"Se está chovendo, então a rua está molhada\" é representada pela fórmula $(P\\rightarrow Q)$\n",
        "\n",
        "Abaixo, apresentamos a representação usual para expressões em linguagem natural (português) na linguagem lógica, que serão respresentados por meio das fórmulas da lógica proposicional.\n",
        "\n",
        "Expressão em Português   | Conectivo           | Representação em Lógica (Fórmula)\n",
        "-------------------------|---------------------|-----------------------------\n",
        "e; mas; também; alem disso | $\\wedge$ | $(A\\wedge B)$\n",
        "ou | $\\vee$ | $(A\\vee B)$\n",
        "ou ... ou (Ou-Exclusivo) | $\\vee$ | $(A\\wedge \\lnot B)\\vee(\\lnot A\\wedge B) $\n",
        "Se A, então B | $\\rightarrow$ | $(A\\rightarrow B)$\n",
        "A implica B | $\\rightarrow$ | $(A\\rightarrow B)$\n",
        "A, logo B | $\\rightarrow$ | $(A\\rightarrow B)$  \n",
        "A só se B; A somente se B  | $\\rightarrow$ | $(A\\rightarrow B)$  \n",
        "B segue de A | $\\rightarrow$ | $(A\\rightarrow B)$  \n",
        "A é uma condição suficiente para B; basta A para B  | $\\rightarrow$ | $(A\\rightarrow B)$  \n",
        "B é uma condição necessária para A  | $\\rightarrow$ | $(A\\rightarrow B)$  \n",
        "A se e somente se B  |$\\leftrightarrow$  | $(A\\leftrightarrow B)$\n",
        "A é condição necessária e suficiente para B  |  $\\leftrightarrow$  | $(A\\leftrightarrow B)$\n",
        "não A | $\\lnot$ | $(\\lnot A)$\n",
        "É falso que A | $\\lnot$ | $(\\lnot A)$\n",
        "Não é verdade que A | $\\lnot$ | $(\\lnot A)$\n",
        "\n",
        "\n",
        "Vejamos a seguir apresentar alguns exemplos.\n",
        "\n",
        "1. O Corinthians é o melhor time e ele tem a maior torcida\n",
        "  - \"O Corinthians é o melhor time\" representado por $P$\n",
        "  - \"O Corinthians tem a maior torcida\" representado por $Q$\n",
        "  - Portanto, a afirmação será representada por $(P\\wedge Q)$\n",
        "1. O Corinthians tem a maior torcida e ele é o melhor time do Brasil\n",
        "  - \"O Corinthians tem a maior torcida\" representado por $Q$\n",
        "  - \"O Corinthians é o melhor time\" representado por $P$\n",
        "  - Portanto, a afirmação será representada por $(Q\\wedge P)$\n",
        "1. O processador é rápido, mas a impressora é lenta\n",
        "  - \"O processador é rápido\" representado por $P$\n",
        "  - \"A impressora é lenta\" representado por $Q$\n",
        "  - Portanto, a afirmação será representada por $(P\\wedge Q)$\n",
        "1. O processador é rápido ou a impressora é lenta\n",
        "  - \"O processador é rápido\" representado por $P$\n",
        "  - \"A impressora é lenta\" representado por $Q$\n",
        "  - Portanto, a afirmação será representada por $(P\\vee Q)$\n",
        "1. Uma condição suficiente para a falha de uma rede elétrica é que a chave central desligue\n",
        "  - \"Chave central deligue\" representado por $P$\n",
        "  - \"Falha de uma rede elétrica\" representado por $Q$\n",
        "  - Portanto, a afirmação será representada por $(P\\rightarrow Q)$\n",
        "1. É falso que João seja alto\n",
        "  - \"João é alto\" representado por $P$\n",
        "  - Portanto, a afirmação será representada por $(\\lnot P)$\n",
        "1. A negação de João é alto e magro pode ser expressa da seguinte forma:\n",
        "  1. É falso que João seja alto e magro\n",
        "    -  \"João é alto\" representado por $P$\n",
        "    - \"João é magro\" representado por $Q$\n",
        "    - Portanto, a afirmação será representada por $\\lnot(P\\wedge Q)$\n",
        "  1. João não é alto ou não é magro\n",
        "    - \"João é alto\" representado por $P$\n",
        "    - \"João é magro\" representado por $Q$\n",
        "    - Portanto, a afirmação será representada por $((\\lnot P)\\vee (\\lnot Q))$\n",
        "\n",
        "## Conectivos em Linguagem Natural versus em Lógica Proposicional\n",
        "\n",
        "Os Conectivos podem ter mais de um significado em linguagem natural\n",
        "1. João dirigiu e atropelou um pedestre  $\\rightsquigarrow$ $(JD\\wedge JAP)$\n",
        "1. João atropelou um pedestre e dirigiu $\\rightsquigarrow$  $(JAP\\wedge JD)$\n",
        "1. Se eu abrir a janela, então teremos ar fresco $\\rightsquigarrow$  $(AJ\\rightarrow AF)$\n",
        "1. Se eu abrir a janela, então $1+3=4$ $\\rightsquigarrow$  $(AJ\\rightarrow E)$\n",
        "1. João está trabalhando ou ele está em casa $\\rightsquigarrow$  $(JT\\vee JC)$\n",
        "1. Euclides era um Grego ou um matemático $\\rightsquigarrow$  $(EG\\vee EM)$"
      ]
    },
    {
      "cell_type": "markdown",
      "metadata": {
        "id": "nKP59YHtqjX9"
      },
      "source": [
        "## [Especificação do Problema do Vestido](https://youtu.be/7wxTNMYNu3I)\n",
        "\n",
        "**(Problema do Vestido)** Três irmãs - Ana, Maria e Cláudia - foram a uma festa com vestidos de cores diferentes. Uma vestia azul, a outra branco e a terceira preto. Chegando à festa, o anfitrião perguntou quem era cada uma delas. A resposta foi como segue:\n",
        "- A de azul respondeu: \"Ana é que está de branco\"\n",
        "- A de branco falou: \"Eu sou Maria\"\n",
        "- A de preto disse: \"Cláudia é quem está de branco\"\n",
        "\n",
        "O anfitrião foi capaz de identificar corretamente quem era cada pessoa considerando que:\n",
        "- Ana sempre diz a verdade\n",
        "- Maria às vezes diz a verdade\n",
        "- Cláudia nunca diz a verdade\n",
        "\n"
      ]
    },
    {
      "cell_type": "markdown",
      "metadata": {
        "id": "7V_G2saTt7XX"
      },
      "source": [
        "> **Resposta:**\n",
        ">\n",
        "> - Para cada irmã, temos que\n",
        ">   - por exemplo, a Maria veste algum vestido: $MA\\vee MB\\vee MP$\n",
        ">   - E somente um deles:\n",
        "> $$(MA\\rightarrow(\\lnot MB\\wedge\\lnot MP))$$\n",
        "> $$(MB\\rightarrow(\\lnot MA\\wedge\\lnot MP))$$\n",
        "> $$(MP\\rightarrow(\\lnot MA\\wedge\\lnot MB))$$\n",
        ">\n",
        "> - Para cada vestido, temos que\n",
        ">   - por exemplo, o Azul será usado por alguma irmã: $$MA\\vee AA\\vee CA$$\n",
        ">   - E somente um deles:\n",
        "> $$(MA\\rightarrow(\\lnot AA\\wedge\\lnot CA))$$\n",
        "> $$(AA\\rightarrow(\\lnot MA\\wedge\\lnot CA))$$\n",
        "> $$(CA\\rightarrow(\\lnot AA\\wedge\\lnot MA))$$\n",
        ">\n",
        "> - Como Ana sempre diz a verdade, temos que\n",
        ">   - Se Ana está de Azul: $AA\\rightarrow AB$\n",
        ">   - Se Ana está de Branco: $\\lnot AB$\n",
        ">   - Se Ana está de Preto: $AP\\rightarrow CB$\n",
        ">\n",
        "> - De Maria dizer às vezes a verdade, não podemos inferir nada.\n",
        ">\n",
        "> - Como Cláudia nunca diz a verdade, temos que\n",
        ">   - Se Cláudia está de Azul: $CA\\rightarrow \\lnot AB$\n",
        ">   - Se Cláudia está de Branco: Não acrescenta informação\n",
        ">   - Se Cláudia está de Preto: $CP\\rightarrow \\lnot CB$ (já foi definido)"
      ]
    },
    {
      "cell_type": "code",
      "execution_count": 3,
      "metadata": {
        "cellView": "form",
        "colab": {
          "base_uri": "https://localhost:8080/",
          "height": 247,
          "referenced_widgets": [
            "676558113f3a48c3af70b21e65d89439",
            "5869460a09054f6687a876d02fae5185",
            "597f5961603c4d9391781ffcacae3dfa",
            "01e5e57c2f64409a805db8212df4fcb1",
            "df4f6beeac564b6c8c9f06aa5662c162",
            "51ce7b53b2be4954884d7301638cfa96",
            "4c6cbe00c3f34ef6b85febfe1ca052d6",
            "e3e772e1651943a39658f0a48bd87ba7",
            "8be697b6acf5488da523bec6dd146a97",
            "9c21e7b735d9453ea876050e2933f9ca",
            "32134de4a4ce4bdb83328c7f53b64ea2",
            "8c5453abc52f430c947fd9a03a133466"
          ]
        },
        "id": "ADLroptI9F6R",
        "outputId": "1a04d46f-70d2-4801-e923-736bc9950df9"
      },
      "outputs": [
        {
          "output_type": "display_data",
          "data": {
            "text/plain": [
              "<IPython.core.display.Markdown object>"
            ],
            "text/markdown": "<b>Considere as seguintes afirmações:</b>\n1. Se está chovendo, então a rua está molhada.\n1. Está chovendo."
          },
          "metadata": {}
        },
        {
          "output_type": "display_data",
          "data": {
            "text/plain": [
              "<IPython.core.display.Markdown object>"
            ],
            "text/markdown": "<b>Podemos concluir que a afirmação abaixo segue logicamente das afirmações acima?"
          },
          "metadata": {}
        },
        {
          "output_type": "display_data",
          "data": {
            "text/plain": [
              "<IPython.core.display.Markdown object>"
            ],
            "text/markdown": "\n3. A rua está molhada."
          },
          "metadata": {}
        },
        {
          "output_type": "display_data",
          "data": {
            "text/plain": [
              "HBox(children=(RadioButtons(description='Resposta:', options=('Sim', 'Não'), value=None), HBox(children=(Butto…"
            ],
            "application/vnd.jupyter.widget-view+json": {
              "version_major": 2,
              "version_minor": 0,
              "model_id": "676558113f3a48c3af70b21e65d89439"
            }
          },
          "metadata": {}
        },
        {
          "output_type": "display_data",
          "data": {
            "text/plain": [
              "Output()"
            ],
            "application/vnd.jupyter.widget-view+json": {
              "version_major": 2,
              "version_minor": 0,
              "model_id": "32134de4a4ce4bdb83328c7f53b64ea2"
            }
          },
          "metadata": {}
        }
      ],
      "source": [
        "#@title Exemplo 1: Raciocínio em Lógica Proposicional\n",
        "#@markdown Execute essa célula para gerar o seu exemplo.\n",
        "verify_reasoning_example('q1_ex')"
      ]
    },
    {
      "cell_type": "markdown",
      "metadata": {
        "id": "CisfdhZQtE_6"
      },
      "source": [
        "**Exercício: Represente o raciocínio da questão acima na Linguagem Lógica**\n",
        "\n",
        "**Resposta:**\n",
        "> Considere os seguintes átomos:\n",
        "> 1. $C$ para \"está chovendo\".\n",
        "> 1. $M$ para \"a rua está molhada\".\n",
        ">\n",
        "> Representemos as afirmações através das seguintes fórmulas:\n",
        "> 1. $C\\rightarrow M$ para \"Se está chovendo, então a rua está molhada\".\n",
        "> 1. $C$ para \"Está chovendo\".\n",
        "> 1. $M$ para \"A rua está molhada\".\n",
        ">\n",
        "> Assim, devemos verificar se o raciocínio abaixo é válido:\n",
        "> $$C\\rightarrow M, C\\models M$$"
      ]
    },
    {
      "cell_type": "code",
      "execution_count": 5,
      "metadata": {
        "cellView": "form",
        "id": "rCJLRxJNBhly",
        "colab": {
          "base_uri": "https://localhost:8080/",
          "height": 264,
          "referenced_widgets": [
            "9d0a78de5cc14d68af18becfdff07098",
            "e196dc3579144123a1d67f1b67ab3156",
            "be544bea3b8c4553b3bb07f086fb1a3c",
            "941cd19466ef423d86ba5bf1a9f9a8f0",
            "8815deec0d85481eb189ff2f6127cde3",
            "39eea7eb177c49c2a82b12715194c80f",
            "9985b388afb9467ca5ff2ba17e8faded",
            "d8efe209f1ac4654a2ae8f06c73a752e",
            "e871524dd48d4de18e66f68985ef0772",
            "981f80959f9e4a3683902445d765f61d",
            "6032db5ce9f44c1fba3be41d3742546a",
            "ff9b2f0270ce40e69a1d14ac0035a1d7"
          ]
        },
        "outputId": "e9a0131f-19fd-4162-b32b-1ed549b8aeb9"
      },
      "outputs": [
        {
          "output_type": "display_data",
          "data": {
            "text/plain": [
              "<IPython.core.display.Markdown object>"
            ],
            "text/markdown": "<b>Considere as seguintes afirmações:</b>\n1. Se o trem tivesse chegado atrasado e não houvesse táxi na estação, então John se atrasaria para seu compromisso.\n1. John não se atrasou para seu compromisso.\n1. O trem chegou atrasado."
          },
          "metadata": {}
        },
        {
          "output_type": "display_data",
          "data": {
            "text/plain": [
              "<IPython.core.display.Markdown object>"
            ],
            "text/markdown": "<b>Podemos concluir que a afirmação abaixo segue logicamente das afirmações acima?"
          },
          "metadata": {}
        },
        {
          "output_type": "display_data",
          "data": {
            "text/plain": [
              "<IPython.core.display.Markdown object>"
            ],
            "text/markdown": "\n4. Havia táxis na estação."
          },
          "metadata": {}
        },
        {
          "output_type": "display_data",
          "data": {
            "text/plain": [
              "HBox(children=(RadioButtons(description='Resposta:', options=('Sim', 'Não'), value=None), HBox(children=(Butto…"
            ],
            "application/vnd.jupyter.widget-view+json": {
              "version_major": 2,
              "version_minor": 0,
              "model_id": "9d0a78de5cc14d68af18becfdff07098"
            }
          },
          "metadata": {}
        },
        {
          "output_type": "display_data",
          "data": {
            "text/plain": [
              "Output()"
            ],
            "application/vnd.jupyter.widget-view+json": {
              "version_major": 2,
              "version_minor": 0,
              "model_id": "6032db5ce9f44c1fba3be41d3742546a"
            }
          },
          "metadata": {}
        }
      ],
      "source": [
        "#@title Exemplo 4: Raciocínio em Lógica Proposicional\n",
        "#@markdown Execute essa célula para gerar o seu exemplo.\n",
        "verify_reasoning_example('q4_ex')"
      ]
    },
    {
      "cell_type": "markdown",
      "metadata": {
        "id": "nk0K-T2nvOyR"
      },
      "source": [
        "**Exercício: Represente o raciocínio da questão acima na Linguagem Lógica**\n",
        "\n",
        "**Resposta:**\n",
        "> Considere os seguintes átomos:\n",
        "> 1. $P$ para \"o trem tivesse chegado atrasado\".\n",
        "> 1. $Q$ para \"houvesse táxi na estação\".\n",
        "> 1. $R$ para \"John se atrasaria para seu compromisso\".\n",
        ">\n",
        "> Representemos as afirmações através das seguintes fórmulas:\n",
        "> 1. $(P\\land \\lnot Q)\\rightarrow R$ para \"Se o trem tivesse chegado atrasado e não houvesse táxi na estação, então John se atrasaria para seu compromisso\".\n",
        "> 1. $\\lnot R$ para \"John não se atrasou para seu compromisso\".\n",
        "> 1. $P$ para \"O trem chegou atrasado\".\n",
        "> 1. $Q$ para \"Havia táxis na estação\".\n",
        ">\n",
        "> Assim, devemos verificar se o raciocínio abaixo é válido:\n",
        "> $$(P\\land \\lnot Q)\\rightarrow R, \\lnot R, P\\models Q$$\n"
      ]
    },
    {
      "cell_type": "code",
      "execution_count": 6,
      "metadata": {
        "cellView": "form",
        "id": "fd_wzTCCB4lZ",
        "colab": {
          "base_uri": "https://localhost:8080/",
          "height": 264,
          "referenced_widgets": [
            "b3f9735dab994c389adfe4d54f84e8c9",
            "d733cf15fc524e95890cb5a60a0898e9",
            "0fa4dadc0d6a47038d0f96e2e381133a",
            "024b5ec13fb445bd896aa1276244adbd",
            "b5725cf6301649b292565f280122bf00",
            "b3d0090a5c2d4454abb28e90d2074ad8",
            "7fe9f49b84cb48ff91c80fd5ad7061ed",
            "545f15e571c14c06a9013a531fb60d39",
            "91fa3f6e93794aa4855bd334208fe975",
            "0c10de1d23cf4ce3830292f2ed941c8e",
            "3684b90bb6864306a1a8a973f67c9477",
            "145758ea4a1d478787548cce8eebab99"
          ]
        },
        "outputId": "402a4b77-c0fa-43be-d70e-ee707f56f37a"
      },
      "outputs": [
        {
          "output_type": "display_data",
          "data": {
            "text/plain": [
              "<IPython.core.display.Markdown object>"
            ],
            "text/markdown": "<b>Considere as seguintes afirmações:</b>\n1. Se tivesse chovendo e Jane não estivesse com seu guarda-chuva, então ela se molharia.\n1. Jane não está molhada.\n1. Está chovendo."
          },
          "metadata": {}
        },
        {
          "output_type": "display_data",
          "data": {
            "text/plain": [
              "<IPython.core.display.Markdown object>"
            ],
            "text/markdown": "<b>Podemos concluir que a afirmação abaixo segue logicamente das afirmações acima?"
          },
          "metadata": {}
        },
        {
          "output_type": "display_data",
          "data": {
            "text/plain": [
              "<IPython.core.display.Markdown object>"
            ],
            "text/markdown": "\n4. Jane está com seu guarda-chuva."
          },
          "metadata": {}
        },
        {
          "output_type": "display_data",
          "data": {
            "text/plain": [
              "HBox(children=(RadioButtons(description='Resposta:', options=('Sim', 'Não'), value=None), HBox(children=(Butto…"
            ],
            "application/vnd.jupyter.widget-view+json": {
              "version_major": 2,
              "version_minor": 0,
              "model_id": "b3f9735dab994c389adfe4d54f84e8c9"
            }
          },
          "metadata": {}
        },
        {
          "output_type": "display_data",
          "data": {
            "text/plain": [
              "Output()"
            ],
            "application/vnd.jupyter.widget-view+json": {
              "version_major": 2,
              "version_minor": 0,
              "model_id": "3684b90bb6864306a1a8a973f67c9477"
            }
          },
          "metadata": {}
        }
      ],
      "source": [
        "#@title Exemplo 5: Raciocínio em Lógica Proposicional\n",
        "#@markdown Execute essa célula para gerar o seu exemplo.\n",
        "verify_reasoning_example('q5_ex')"
      ]
    },
    {
      "cell_type": "markdown",
      "metadata": {
        "id": "1Kam3WgNyE7A"
      },
      "source": [
        "**Exercício: Represente o raciocínio da questão acima na Linguagem Lógica**\n",
        "\n",
        "**Resposta:**\n",
        "> Considere os seguintes átomos:\n",
        "> 1. $P$ para \"tivesse chovendo\".\n",
        "> 1. $Q$ para \"Jane estivesse com seu guarda-chuva\".\n",
        "> 1. $R$ para \"Jane se molharia\".\n",
        ">\n",
        "> Representemos as afirmações através das seguintes fórmulas:\n",
        "> 1. $(P\\land \\lnot Q)\\rightarrow R$ para \"Se tivesse chovendo e Jane não estivesse com seu guarda-chuva, então ela se molharia\".\n",
        "> 1. $\\lnot R$ para \"Jane não está molhada\".\n",
        "> 1. $P$ para \"Está chovendo\".\n",
        "> 1. $Q$ para \"Jane está com seu guarda-chuva\".\n",
        ">\n",
        "> Assim, devemos verificar se o raciocínio abaixo é válido:\n",
        "> $$(P\\land \\lnot Q)\\rightarrow R, \\lnot R, P\\models Q$$\n"
      ]
    },
    {
      "cell_type": "markdown",
      "metadata": {
        "id": "Mq9Gh4kFVI8i"
      },
      "source": [
        "## Exercícios\n"
      ]
    },
    {
      "cell_type": "code",
      "execution_count": 4,
      "metadata": {
        "cellView": "form",
        "id": "xzUyAHQ-Wd2I",
        "colab": {
          "base_uri": "https://localhost:8080/",
          "height": 230,
          "referenced_widgets": [
            "189cca8e19574a578a49f0f66a9a2d05",
            "3c11bbc4d7154b66a2f5ab7c4a6c6eed",
            "efb4155aa8f148b4bf439d585d43f4ea",
            "86b70bfb0fb049288ac880638907a0a2",
            "88c8491cf1b945998cbe5db7c970c4ee",
            "ad3dc3fe91d04538ac1ae1aacb354b00",
            "b8ca3f40b0214f6896590e6f846f47ad",
            "70fb5c8213b74ec695d07d45219bf957",
            "1728d33c02f74f29be98418c20bb6d3d",
            "c05b248225a345fc99fbc2cb0f31c1f9",
            "7756159cdde649c1ae0231b7a380dc69",
            "ea351bf0b548480cb3295109acf587b6"
          ]
        },
        "outputId": "87a1032f-d457-4ea4-b5a4-6eed84007cfd"
      },
      "outputs": [
        {
          "output_type": "display_data",
          "data": {
            "text/plain": [
              "<IPython.core.display.Markdown object>"
            ],
            "text/markdown": "<b>Considere as seguintes afirmações:</b>\n1. Se o dólar sobe, então os produtos ficam mais caros.\n1. Os produtos não ficaram mais caros."
          },
          "metadata": {}
        },
        {
          "output_type": "display_data",
          "data": {
            "text/plain": [
              "<IPython.core.display.Markdown object>"
            ],
            "text/markdown": "<b>Podemos concluir que a afirmação abaixo segue logicamente das afirmações acima?"
          },
          "metadata": {}
        },
        {
          "output_type": "display_data",
          "data": {
            "text/plain": [
              "<IPython.core.display.Markdown object>"
            ],
            "text/markdown": "\n3. dólar não subiu."
          },
          "metadata": {}
        },
        {
          "output_type": "display_data",
          "data": {
            "text/plain": [
              "HBox(children=(RadioButtons(description='Resposta:', options=('Sim', 'Não'), value=None), HBox(children=(Butto…"
            ],
            "application/vnd.jupyter.widget-view+json": {
              "version_major": 2,
              "version_minor": 0,
              "model_id": "189cca8e19574a578a49f0f66a9a2d05"
            }
          },
          "metadata": {}
        },
        {
          "output_type": "display_data",
          "data": {
            "text/plain": [
              "Output()"
            ],
            "application/vnd.jupyter.widget-view+json": {
              "version_major": 2,
              "version_minor": 0,
              "model_id": "7756159cdde649c1ae0231b7a380dc69"
            }
          },
          "metadata": {}
        }
      ],
      "source": [
        "#@title Exercício 1: Raciocínio em Lógica Proposicional\n",
        "#@markdown Execute essa célula para gerar o seu exercício.\n",
        "verify_reasoning_example('q1')"
      ]
    },
    {
      "cell_type": "markdown",
      "metadata": {
        "id": "dNZ3L_QKy1Sw"
      },
      "source": [
        "**Exercício: Represente o raciocínio da questão acima na Linguagem Lógica**\n",
        "\n",
        "**Resposta:**\n",
        "> Considere os seguintes átomos:\n",
        "> 1. ...\n",
        "> 1. ...\n",
        ">\n",
        "> Representemos as afirmações através das seguintes fórmulas:\n",
        "> 1. ...\n",
        "> 1. ...\n",
        "> 1. ...\n",
        ">\n",
        "> Assim, devemos verificar se o raciocínio abaixo é válido:\n",
        "> $$...$$\n"
      ]
    },
    {
      "cell_type": "code",
      "execution_count": null,
      "metadata": {
        "cellView": "form",
        "id": "HDBNgPRaWz28"
      },
      "outputs": [],
      "source": [
        "#@title Exercício 2: Raciocínio em Lógica Proposicional\n",
        "#@markdown Execute essa célula para gerar o seu exercício.\n",
        "verify_reasoning_example('q2')"
      ]
    },
    {
      "cell_type": "markdown",
      "metadata": {
        "id": "E3Scbk6ez4rj"
      },
      "source": [
        "**Exercício: Represente o raciocínio da questão acima na Linguagem Lógica**\n",
        "\n",
        "**Resposta:**\n",
        "> Considere os seguintes átomos:\n",
        "> 1. ...\n",
        "> 1. ...\n",
        ">\n",
        "> Representemos as afirmações através das seguintes fórmulas:\n",
        "> 1. ...\n",
        "> 1. ...\n",
        "> 1. ...\n",
        ">\n",
        "> Assim, devemos verificar se o raciocínio abaixo é válido:\n",
        "> $$...$$\n"
      ]
    },
    {
      "cell_type": "code",
      "execution_count": null,
      "metadata": {
        "cellView": "form",
        "id": "Tuv-M99AW7_G"
      },
      "outputs": [],
      "source": [
        "#@title Exercício 3: Raciocínio em Lógica Proposicional\n",
        "#@markdown Execute essa célula para gerar o seu exercício.\n",
        "verify_reasoning_example('q3')"
      ]
    },
    {
      "cell_type": "markdown",
      "metadata": {
        "id": "G9mVTJvh0KbQ"
      },
      "source": [
        "**Exercício: Represente o raciocínio da questão acima na Linguagem Lógica**\n",
        "\n",
        "**Resposta:**\n",
        "> Considere os seguintes átomos:\n",
        "> 1. ...\n",
        "> 1. ...\n",
        ">\n",
        "> Representemos as afirmações através das seguintes fórmulas:\n",
        "> 1. ...\n",
        "> 1. ...\n",
        "> 1. ...\n",
        ">\n",
        "> Assim, devemos verificar se o raciocínio abaixo é válido:\n",
        "> $$...$$\n"
      ]
    },
    {
      "cell_type": "code",
      "execution_count": null,
      "metadata": {
        "cellView": "form",
        "id": "D6GbvcbHYupJ"
      },
      "outputs": [],
      "source": [
        "#@title Exercício 4: Raciocínio em Lógica Proposicional\n",
        "#@markdown Execute essa célula para gerar o seu exercício.\n",
        "verify_reasoning_example('q4')"
      ]
    },
    {
      "cell_type": "markdown",
      "metadata": {
        "id": "nAwl3f0s0YDU"
      },
      "source": [
        "**Exercício: Represente o raciocínio da questão acima na Linguagem Lógica**\n",
        "\n",
        "**Resposta:**\n",
        "> Considere os seguintes átomos:\n",
        "> 1. ...\n",
        "> 1. ...\n",
        ">\n",
        "> Representemos as afirmações através das seguintes fórmulas:\n",
        "> 1. ...\n",
        "> 1. ...\n",
        "> 1. ...\n",
        ">\n",
        "> Assim, devemos verificar se o raciocínio abaixo é válido:\n",
        "> $$...$$\n"
      ]
    },
    {
      "cell_type": "code",
      "execution_count": null,
      "metadata": {
        "cellView": "form",
        "id": "dnAuiOTwZPBV"
      },
      "outputs": [],
      "source": [
        "#@title Exercício 5: Raciocínio em Lógica Proposicional\n",
        "#@markdown Execute essa célula para gerar o seu exercício.\n",
        "verify_reasoning_example('q5')"
      ]
    },
    {
      "cell_type": "markdown",
      "metadata": {
        "id": "7hFj1h6V01eu"
      },
      "source": [
        "**Exercício: Represente o raciocínio da questão acima na Linguagem Lógica**\n",
        "\n",
        "**Resposta:**\n",
        "> Considere os seguintes átomos:\n",
        "> 1. ...\n",
        "> 1. ...\n",
        ">\n",
        "> Representemos as afirmações através das seguintes fórmulas:\n",
        "> 1. ...\n",
        "> 1. ...\n",
        "> 1. ...\n",
        ">\n",
        "> Assim, devemos verificar se o raciocínio abaixo é válido:\n",
        "> $$...$$\n"
      ]
    },
    {
      "cell_type": "code",
      "execution_count": null,
      "metadata": {
        "cellView": "form",
        "id": "vdEJpeAKX7OF"
      },
      "outputs": [],
      "source": [
        "#@title Exercício 6: Raciocínio em Lógica Proposicional\n",
        "#@markdown Execute essa célula para gerar o seu exercício.\n",
        "verify_reasoning_example('q6')"
      ]
    },
    {
      "cell_type": "markdown",
      "metadata": {
        "id": "7A8eIQxM148K"
      },
      "source": [
        "**Exercício: Represente o raciocínio da questão acima na Linguagem Lógica**\n",
        "\n",
        "**Resposta:**\n",
        "> Considere os seguintes átomos:\n",
        "1. ...\n",
        "1. ...\n",
        ">\n",
        "> Representemos as afirmações através das seguintes fórmulas:\n",
        "1. ...\n",
        "1. ...\n",
        "1. ...\n",
        ">\n",
        "> Assim, devemos verificar se o raciocínio abaixo é válido:\n",
        "$$...$$\n"
      ]
    },
    {
      "cell_type": "code",
      "execution_count": null,
      "metadata": {
        "cellView": "form",
        "id": "CB2rPSopatvn"
      },
      "outputs": [],
      "source": [
        "#@title Exercício 7: Raciocínio em Lógica Proposicional\n",
        "#@markdown Execute essa célula para gerar o seu exercício.\n",
        "verify_reasoning_example('q7')"
      ]
    },
    {
      "cell_type": "markdown",
      "metadata": {
        "id": "O_oF6Puz2_Rs"
      },
      "source": [
        "**Exercício: Represente o raciocínio da questão acima na Linguagem Lógica**\n",
        "\n",
        "**Resposta:**\n",
        "> Considere os seguintes átomos:\n",
        "> 1. ...\n",
        "> 1. ...\n",
        "> 1. ...\n",
        ">\n",
        "> Representemos as afirmações através das seguintes fórmulas:\n",
        "> 1. ...\n",
        "> 1. ...\n",
        "> 1. ...\n",
        "> 1. ...\n",
        ">\n",
        "> Assim, devemos verificar se o raciocínio abaixo é válido:\n",
        "> $$...$$\n"
      ]
    },
    {
      "cell_type": "code",
      "execution_count": null,
      "metadata": {
        "cellView": "form",
        "id": "XZNKJl34dddV"
      },
      "outputs": [],
      "source": [
        "#@title Exercício 8: Raciocínio em Lógica Proposicional\n",
        "#@markdown Execute essa célula para gerar o seu exercício.\n",
        "verify_reasoning_example('q8')"
      ]
    },
    {
      "cell_type": "markdown",
      "metadata": {
        "id": "4FriKto94cYF"
      },
      "source": [
        "**Exercício: Represente o raciocínio da questão acima na Linguagem Lógica**\n",
        "\n",
        "**Resposta:**\n",
        "> Considere os seguintes átomos:\n",
        "> 1. ...\n",
        "> 1. ...\n",
        "> 1. ...\n",
        ">\n",
        "> Representemos as afirmações através das seguintes fórmulas:\n",
        "> 1. ...\n",
        "> 1. ...\n",
        "> 1. ...\n",
        "> 1. ...\n",
        ">\n",
        "> Assim, devemos verificar se o raciocínio abaixo é válido:\n",
        "> $$...$$\n"
      ]
    },
    {
      "cell_type": "code",
      "execution_count": null,
      "metadata": {
        "cellView": "form",
        "id": "V7OH4mVrd1MX"
      },
      "outputs": [],
      "source": [
        "#@title Exercício 9: Raciocínio em Lógica Proposicional\n",
        "#@markdown Execute essa célula para gerar o seu exercício.\n",
        "verify_reasoning_example('q9')"
      ]
    },
    {
      "cell_type": "markdown",
      "metadata": {
        "id": "_1jl35bz5vPE"
      },
      "source": [
        "**Exercício: Represente o raciocínio da questão acima na Linguagem Lógica**\n",
        "\n",
        "**Resposta:**\n",
        "> Considere os seguintes átomos:\n",
        "> 1. ...\n",
        "> 1. ...\n",
        "> 1. ...\n",
        ">\n",
        "> Representemos as afirmações através das seguintes fórmulas:\n",
        "> 1. ...\n",
        "> 1. ...\n",
        "> 1. ...\n",
        "> 1. ...\n",
        ">\n",
        "> Assim, devemos verificar se o raciocínio abaixo é válido:\n",
        "> $$...$$\n"
      ]
    },
    {
      "cell_type": "code",
      "execution_count": null,
      "metadata": {
        "cellView": "form",
        "id": "V7QAv0a1VNYX"
      },
      "outputs": [],
      "source": [
        "#@title Exercício 10: Raciocínio em Lógica Proposicional\n",
        "#@markdown Execute essa célula para gerar o seu exercício.\n",
        "verify_reasoning_example('q10')"
      ]
    },
    {
      "cell_type": "markdown",
      "metadata": {
        "id": "kit9hcKPM4Vr"
      },
      "source": [
        "**Exercício: Represente o raciocínio da questão acima na Linguagem Lógica**\n",
        "\n",
        "**Resposta:**\n",
        "> Considere os seguintes átomos:\n",
        "> 1. ...\n",
        "> 1. ...\n",
        "> 1. ...\n",
        ">\n",
        "> Representemos as afirmações através das seguintes fórmulas:\n",
        "> 1. ...\n",
        "> 1. ...\n",
        "> 1. ...\n",
        "> 1. ...\n",
        ">\n",
        "> Assim, devemos verificar se o raciocínio abaixo é válido:\n",
        "> $$...$$"
      ]
    },
    {
      "cell_type": "code",
      "execution_count": null,
      "metadata": {
        "cellView": "form",
        "id": "URM5lIu6Vz8P"
      },
      "outputs": [],
      "source": [
        "#@title Exercício 11: Raciocínio em Lógica Proposicional\n",
        "#@markdown Execute essa célula para gerar o seu exercício.\n",
        "verify_reasoning_example('q11')"
      ]
    },
    {
      "cell_type": "markdown",
      "metadata": {
        "id": "fOfrhVy3Rbyw"
      },
      "source": [
        "**Exercício: Represente o raciocínio da questão acima na Linguagem Lógica**\n",
        "\n",
        "**Resposta:**\n",
        "> Considere os seguintes átomos:\n",
        "> 1. ...\n",
        "> 1. ...\n",
        "> 1. ...\n",
        ">\n",
        "> Representemos as afirmações através das seguintes fórmulas:\n",
        "> 1. ...\n",
        "> 1. ...\n",
        "> 1. ...\n",
        "> 1. ...\n",
        ">\n",
        "> Assim, devemos verificar se o raciocínio abaixo é válido:\n",
        "> $$...$$"
      ]
    },
    {
      "cell_type": "code",
      "execution_count": null,
      "metadata": {
        "cellView": "form",
        "id": "TSt4O3Y3WFbe"
      },
      "outputs": [],
      "source": [
        "#@title Exercício 12: Raciocínio em Lógica Proposicional\n",
        "#@markdown Execute essa célula para gerar o seu exercício.\n",
        "verify_reasoning_example('q12')"
      ]
    },
    {
      "cell_type": "markdown",
      "metadata": {
        "id": "EvkX5xc_RmFF"
      },
      "source": [
        "**Exercício: Represente o raciocínio da questão acima na Linguagem Lógica**\n",
        "\n",
        "**Resposta:**\n",
        "> Considere os seguintes átomos:\n",
        "> 1. ...\n",
        "> 1. ...\n",
        "> 1. ...\n",
        ">\n",
        "> Representemos as afirmações através das seguintes fórmulas:\n",
        "> 1. ...\n",
        "> 1. ...\n",
        "> 1. ...\n",
        "> 1. ...\n",
        ">\n",
        "> Assim, devemos verificar se o raciocínio abaixo é válido:\n",
        "> $$...$$"
      ]
    },
    {
      "cell_type": "markdown",
      "metadata": {
        "id": "9G9zr_1QEvss"
      },
      "source": [
        "<!--NAVIGATION-->\n",
        "[< A Linguaagem da Lógica Proposicional](./Cap%C3%ADtulo%2002%20-%20A%20Linguagem%20da%20L%C3%B3gica%20Proposicional.ipynb)| [Índice](./Index.ipynb) | [Semântica da Lógica Proposicional >](./Cap%C3%ADtulo%2004%20-%20Sem%C3%A2ntica%20da%20L%C3%B3gica%20Proposicional.ipynb)"
      ]
    },
    {
      "cell_type": "markdown",
      "metadata": {
        "id": "xrdyxlTTxO6h"
      },
      "source": [
        "<!--NAVIGATION\n",
        "< [A Lógica Proposicional](https://colab.research.google.com/drive/1qCL3pVJtNMDiegvk1jLKb3QwmurBImyb?usp=sharing) | [Índice](https://colab.research.google.com/drive/1Y9amjPuhY80z5rJcGC72GyfZ23TEEwUO?usp=sharing) | [Especificação de Problemas em Lógica](https://colab.research.google.com/drive/1O64NQfPLdGs1O_DGY5Ml7TUqWzSgqlIh?usp=sharing) >-->"
      ]
    }
  ],
  "metadata": {
    "colab": {
      "name": "Capítulo 03 - Especificação de Problemas em Lógica Proposicional.ipynb",
      "provenance": []
    },
    "kernelspec": {
      "display_name": "base",
      "language": "python",
      "name": "python3"
    },
    "language_info": {
      "codemirror_mode": {
        "name": "ipython",
        "version": 3
      },
      "file_extension": ".py",
      "mimetype": "text/x-python",
      "name": "python",
      "nbconvert_exporter": "python",
      "pygments_lexer": "ipython3",
      "version": "3.9.7"
    },
    "vscode": {
      "interpreter": {
        "hash": "40d3a090f54c6569ab1632332b64b2c03c39dcf918b08424e98f38b5ae0af88f"
      }
    },
    "widgets": {
      "application/vnd.jupyter.widget-state+json": {
        "676558113f3a48c3af70b21e65d89439": {
          "model_module": "@jupyter-widgets/controls",
          "model_name": "HBoxModel",
          "model_module_version": "1.5.0",
          "state": {
            "_dom_classes": [],
            "_model_module": "@jupyter-widgets/controls",
            "_model_module_version": "1.5.0",
            "_model_name": "HBoxModel",
            "_view_count": null,
            "_view_module": "@jupyter-widgets/controls",
            "_view_module_version": "1.5.0",
            "_view_name": "HBoxView",
            "box_style": "",
            "children": [
              "IPY_MODEL_5869460a09054f6687a876d02fae5185",
              "IPY_MODEL_597f5961603c4d9391781ffcacae3dfa"
            ],
            "layout": "IPY_MODEL_01e5e57c2f64409a805db8212df4fcb1"
          }
        },
        "5869460a09054f6687a876d02fae5185": {
          "model_module": "@jupyter-widgets/controls",
          "model_name": "RadioButtonsModel",
          "model_module_version": "1.5.0",
          "state": {
            "_dom_classes": [],
            "_model_module": "@jupyter-widgets/controls",
            "_model_module_version": "1.5.0",
            "_model_name": "RadioButtonsModel",
            "_options_labels": [
              "Sim",
              "Não"
            ],
            "_view_count": null,
            "_view_module": "@jupyter-widgets/controls",
            "_view_module_version": "1.5.0",
            "_view_name": "RadioButtonsView",
            "description": "Resposta:",
            "description_tooltip": null,
            "disabled": true,
            "index": 0,
            "layout": "IPY_MODEL_df4f6beeac564b6c8c9f06aa5662c162",
            "style": "IPY_MODEL_51ce7b53b2be4954884d7301638cfa96"
          }
        },
        "597f5961603c4d9391781ffcacae3dfa": {
          "model_module": "@jupyter-widgets/controls",
          "model_name": "HBoxModel",
          "model_module_version": "1.5.0",
          "state": {
            "_dom_classes": [],
            "_model_module": "@jupyter-widgets/controls",
            "_model_module_version": "1.5.0",
            "_model_name": "HBoxModel",
            "_view_count": null,
            "_view_module": "@jupyter-widgets/controls",
            "_view_module_version": "1.5.0",
            "_view_name": "HBoxView",
            "box_style": "",
            "children": [
              "IPY_MODEL_4c6cbe00c3f34ef6b85febfe1ca052d6"
            ],
            "layout": "IPY_MODEL_e3e772e1651943a39658f0a48bd87ba7"
          }
        },
        "01e5e57c2f64409a805db8212df4fcb1": {
          "model_module": "@jupyter-widgets/base",
          "model_name": "LayoutModel",
          "model_module_version": "1.2.0",
          "state": {
            "_model_module": "@jupyter-widgets/base",
            "_model_module_version": "1.2.0",
            "_model_name": "LayoutModel",
            "_view_count": null,
            "_view_module": "@jupyter-widgets/base",
            "_view_module_version": "1.2.0",
            "_view_name": "LayoutView",
            "align_content": null,
            "align_items": null,
            "align_self": null,
            "border": null,
            "bottom": null,
            "display": null,
            "flex": null,
            "flex_flow": null,
            "grid_area": null,
            "grid_auto_columns": null,
            "grid_auto_flow": null,
            "grid_auto_rows": null,
            "grid_column": null,
            "grid_gap": null,
            "grid_row": null,
            "grid_template_areas": null,
            "grid_template_columns": null,
            "grid_template_rows": null,
            "height": null,
            "justify_content": null,
            "justify_items": null,
            "left": null,
            "margin": null,
            "max_height": null,
            "max_width": null,
            "min_height": null,
            "min_width": null,
            "object_fit": null,
            "object_position": null,
            "order": null,
            "overflow": null,
            "overflow_x": null,
            "overflow_y": null,
            "padding": null,
            "right": null,
            "top": null,
            "visibility": null,
            "width": null
          }
        },
        "df4f6beeac564b6c8c9f06aa5662c162": {
          "model_module": "@jupyter-widgets/base",
          "model_name": "LayoutModel",
          "model_module_version": "1.2.0",
          "state": {
            "_model_module": "@jupyter-widgets/base",
            "_model_module_version": "1.2.0",
            "_model_name": "LayoutModel",
            "_view_count": null,
            "_view_module": "@jupyter-widgets/base",
            "_view_module_version": "1.2.0",
            "_view_name": "LayoutView",
            "align_content": null,
            "align_items": null,
            "align_self": null,
            "border": null,
            "bottom": null,
            "display": null,
            "flex": null,
            "flex_flow": null,
            "grid_area": null,
            "grid_auto_columns": null,
            "grid_auto_flow": null,
            "grid_auto_rows": null,
            "grid_column": null,
            "grid_gap": null,
            "grid_row": null,
            "grid_template_areas": null,
            "grid_template_columns": null,
            "grid_template_rows": null,
            "height": null,
            "justify_content": null,
            "justify_items": null,
            "left": null,
            "margin": null,
            "max_height": null,
            "max_width": null,
            "min_height": null,
            "min_width": null,
            "object_fit": null,
            "object_position": null,
            "order": null,
            "overflow": null,
            "overflow_x": null,
            "overflow_y": null,
            "padding": null,
            "right": null,
            "top": null,
            "visibility": null,
            "width": null
          }
        },
        "51ce7b53b2be4954884d7301638cfa96": {
          "model_module": "@jupyter-widgets/controls",
          "model_name": "DescriptionStyleModel",
          "model_module_version": "1.5.0",
          "state": {
            "_model_module": "@jupyter-widgets/controls",
            "_model_module_version": "1.5.0",
            "_model_name": "DescriptionStyleModel",
            "_view_count": null,
            "_view_module": "@jupyter-widgets/base",
            "_view_module_version": "1.2.0",
            "_view_name": "StyleView",
            "description_width": ""
          }
        },
        "4c6cbe00c3f34ef6b85febfe1ca052d6": {
          "model_module": "@jupyter-widgets/controls",
          "model_name": "ButtonModel",
          "model_module_version": "1.5.0",
          "state": {
            "_dom_classes": [],
            "_model_module": "@jupyter-widgets/controls",
            "_model_module_version": "1.5.0",
            "_model_name": "ButtonModel",
            "_view_count": null,
            "_view_module": "@jupyter-widgets/controls",
            "_view_module_version": "1.5.0",
            "_view_name": "ButtonView",
            "button_style": "",
            "description": "Verificar",
            "disabled": true,
            "icon": "",
            "layout": "IPY_MODEL_8be697b6acf5488da523bec6dd146a97",
            "style": "IPY_MODEL_9c21e7b735d9453ea876050e2933f9ca",
            "tooltip": ""
          }
        },
        "e3e772e1651943a39658f0a48bd87ba7": {
          "model_module": "@jupyter-widgets/base",
          "model_name": "LayoutModel",
          "model_module_version": "1.2.0",
          "state": {
            "_model_module": "@jupyter-widgets/base",
            "_model_module_version": "1.2.0",
            "_model_name": "LayoutModel",
            "_view_count": null,
            "_view_module": "@jupyter-widgets/base",
            "_view_module_version": "1.2.0",
            "_view_name": "LayoutView",
            "align_content": null,
            "align_items": null,
            "align_self": null,
            "border": null,
            "bottom": null,
            "display": null,
            "flex": null,
            "flex_flow": null,
            "grid_area": null,
            "grid_auto_columns": null,
            "grid_auto_flow": null,
            "grid_auto_rows": null,
            "grid_column": null,
            "grid_gap": null,
            "grid_row": null,
            "grid_template_areas": null,
            "grid_template_columns": null,
            "grid_template_rows": null,
            "height": null,
            "justify_content": null,
            "justify_items": null,
            "left": null,
            "margin": null,
            "max_height": null,
            "max_width": null,
            "min_height": null,
            "min_width": null,
            "object_fit": null,
            "object_position": null,
            "order": null,
            "overflow": null,
            "overflow_x": null,
            "overflow_y": null,
            "padding": null,
            "right": null,
            "top": null,
            "visibility": null,
            "width": null
          }
        },
        "8be697b6acf5488da523bec6dd146a97": {
          "model_module": "@jupyter-widgets/base",
          "model_name": "LayoutModel",
          "model_module_version": "1.2.0",
          "state": {
            "_model_module": "@jupyter-widgets/base",
            "_model_module_version": "1.2.0",
            "_model_name": "LayoutModel",
            "_view_count": null,
            "_view_module": "@jupyter-widgets/base",
            "_view_module_version": "1.2.0",
            "_view_name": "LayoutView",
            "align_content": null,
            "align_items": null,
            "align_self": null,
            "border": null,
            "bottom": null,
            "display": null,
            "flex": null,
            "flex_flow": null,
            "grid_area": null,
            "grid_auto_columns": null,
            "grid_auto_flow": null,
            "grid_auto_rows": null,
            "grid_column": null,
            "grid_gap": null,
            "grid_row": null,
            "grid_template_areas": null,
            "grid_template_columns": null,
            "grid_template_rows": null,
            "height": null,
            "justify_content": null,
            "justify_items": null,
            "left": null,
            "margin": null,
            "max_height": null,
            "max_width": null,
            "min_height": null,
            "min_width": null,
            "object_fit": null,
            "object_position": null,
            "order": null,
            "overflow": null,
            "overflow_x": null,
            "overflow_y": null,
            "padding": null,
            "right": null,
            "top": null,
            "visibility": null,
            "width": null
          }
        },
        "9c21e7b735d9453ea876050e2933f9ca": {
          "model_module": "@jupyter-widgets/controls",
          "model_name": "ButtonStyleModel",
          "model_module_version": "1.5.0",
          "state": {
            "_model_module": "@jupyter-widgets/controls",
            "_model_module_version": "1.5.0",
            "_model_name": "ButtonStyleModel",
            "_view_count": null,
            "_view_module": "@jupyter-widgets/base",
            "_view_module_version": "1.2.0",
            "_view_name": "StyleView",
            "button_color": null,
            "font_weight": ""
          }
        },
        "32134de4a4ce4bdb83328c7f53b64ea2": {
          "model_module": "@jupyter-widgets/output",
          "model_name": "OutputModel",
          "model_module_version": "1.0.0",
          "state": {
            "_dom_classes": [],
            "_model_module": "@jupyter-widgets/output",
            "_model_module_version": "1.0.0",
            "_model_name": "OutputModel",
            "_view_count": null,
            "_view_module": "@jupyter-widgets/output",
            "_view_module_version": "1.0.0",
            "_view_name": "OutputView",
            "layout": "IPY_MODEL_8c5453abc52f430c947fd9a03a133466",
            "msg_id": "",
            "outputs": [
              {
                "output_type": "display_data",
                "data": {
                  "text/plain": "<IPython.core.display.HTML object>",
                  "text/html": "<b><font color=\"blue\">Parabéns, você acertou a questão.</font>"
                },
                "metadata": {}
              }
            ]
          }
        },
        "8c5453abc52f430c947fd9a03a133466": {
          "model_module": "@jupyter-widgets/base",
          "model_name": "LayoutModel",
          "model_module_version": "1.2.0",
          "state": {
            "_model_module": "@jupyter-widgets/base",
            "_model_module_version": "1.2.0",
            "_model_name": "LayoutModel",
            "_view_count": null,
            "_view_module": "@jupyter-widgets/base",
            "_view_module_version": "1.2.0",
            "_view_name": "LayoutView",
            "align_content": null,
            "align_items": null,
            "align_self": null,
            "border": null,
            "bottom": null,
            "display": null,
            "flex": null,
            "flex_flow": null,
            "grid_area": null,
            "grid_auto_columns": null,
            "grid_auto_flow": null,
            "grid_auto_rows": null,
            "grid_column": null,
            "grid_gap": null,
            "grid_row": null,
            "grid_template_areas": null,
            "grid_template_columns": null,
            "grid_template_rows": null,
            "height": null,
            "justify_content": null,
            "justify_items": null,
            "left": null,
            "margin": null,
            "max_height": null,
            "max_width": null,
            "min_height": null,
            "min_width": null,
            "object_fit": null,
            "object_position": null,
            "order": null,
            "overflow": null,
            "overflow_x": null,
            "overflow_y": null,
            "padding": null,
            "right": null,
            "top": null,
            "visibility": null,
            "width": null
          }
        },
        "9d0a78de5cc14d68af18becfdff07098": {
          "model_module": "@jupyter-widgets/controls",
          "model_name": "HBoxModel",
          "model_module_version": "1.5.0",
          "state": {
            "_dom_classes": [],
            "_model_module": "@jupyter-widgets/controls",
            "_model_module_version": "1.5.0",
            "_model_name": "HBoxModel",
            "_view_count": null,
            "_view_module": "@jupyter-widgets/controls",
            "_view_module_version": "1.5.0",
            "_view_name": "HBoxView",
            "box_style": "",
            "children": [
              "IPY_MODEL_e196dc3579144123a1d67f1b67ab3156",
              "IPY_MODEL_be544bea3b8c4553b3bb07f086fb1a3c"
            ],
            "layout": "IPY_MODEL_941cd19466ef423d86ba5bf1a9f9a8f0"
          }
        },
        "e196dc3579144123a1d67f1b67ab3156": {
          "model_module": "@jupyter-widgets/controls",
          "model_name": "RadioButtonsModel",
          "model_module_version": "1.5.0",
          "state": {
            "_dom_classes": [],
            "_model_module": "@jupyter-widgets/controls",
            "_model_module_version": "1.5.0",
            "_model_name": "RadioButtonsModel",
            "_options_labels": [
              "Sim",
              "Não"
            ],
            "_view_count": null,
            "_view_module": "@jupyter-widgets/controls",
            "_view_module_version": "1.5.0",
            "_view_name": "RadioButtonsView",
            "description": "Resposta:",
            "description_tooltip": null,
            "disabled": true,
            "index": 0,
            "layout": "IPY_MODEL_8815deec0d85481eb189ff2f6127cde3",
            "style": "IPY_MODEL_39eea7eb177c49c2a82b12715194c80f"
          }
        },
        "be544bea3b8c4553b3bb07f086fb1a3c": {
          "model_module": "@jupyter-widgets/controls",
          "model_name": "HBoxModel",
          "model_module_version": "1.5.0",
          "state": {
            "_dom_classes": [],
            "_model_module": "@jupyter-widgets/controls",
            "_model_module_version": "1.5.0",
            "_model_name": "HBoxModel",
            "_view_count": null,
            "_view_module": "@jupyter-widgets/controls",
            "_view_module_version": "1.5.0",
            "_view_name": "HBoxView",
            "box_style": "",
            "children": [
              "IPY_MODEL_9985b388afb9467ca5ff2ba17e8faded"
            ],
            "layout": "IPY_MODEL_d8efe209f1ac4654a2ae8f06c73a752e"
          }
        },
        "941cd19466ef423d86ba5bf1a9f9a8f0": {
          "model_module": "@jupyter-widgets/base",
          "model_name": "LayoutModel",
          "model_module_version": "1.2.0",
          "state": {
            "_model_module": "@jupyter-widgets/base",
            "_model_module_version": "1.2.0",
            "_model_name": "LayoutModel",
            "_view_count": null,
            "_view_module": "@jupyter-widgets/base",
            "_view_module_version": "1.2.0",
            "_view_name": "LayoutView",
            "align_content": null,
            "align_items": null,
            "align_self": null,
            "border": null,
            "bottom": null,
            "display": null,
            "flex": null,
            "flex_flow": null,
            "grid_area": null,
            "grid_auto_columns": null,
            "grid_auto_flow": null,
            "grid_auto_rows": null,
            "grid_column": null,
            "grid_gap": null,
            "grid_row": null,
            "grid_template_areas": null,
            "grid_template_columns": null,
            "grid_template_rows": null,
            "height": null,
            "justify_content": null,
            "justify_items": null,
            "left": null,
            "margin": null,
            "max_height": null,
            "max_width": null,
            "min_height": null,
            "min_width": null,
            "object_fit": null,
            "object_position": null,
            "order": null,
            "overflow": null,
            "overflow_x": null,
            "overflow_y": null,
            "padding": null,
            "right": null,
            "top": null,
            "visibility": null,
            "width": null
          }
        },
        "8815deec0d85481eb189ff2f6127cde3": {
          "model_module": "@jupyter-widgets/base",
          "model_name": "LayoutModel",
          "model_module_version": "1.2.0",
          "state": {
            "_model_module": "@jupyter-widgets/base",
            "_model_module_version": "1.2.0",
            "_model_name": "LayoutModel",
            "_view_count": null,
            "_view_module": "@jupyter-widgets/base",
            "_view_module_version": "1.2.0",
            "_view_name": "LayoutView",
            "align_content": null,
            "align_items": null,
            "align_self": null,
            "border": null,
            "bottom": null,
            "display": null,
            "flex": null,
            "flex_flow": null,
            "grid_area": null,
            "grid_auto_columns": null,
            "grid_auto_flow": null,
            "grid_auto_rows": null,
            "grid_column": null,
            "grid_gap": null,
            "grid_row": null,
            "grid_template_areas": null,
            "grid_template_columns": null,
            "grid_template_rows": null,
            "height": null,
            "justify_content": null,
            "justify_items": null,
            "left": null,
            "margin": null,
            "max_height": null,
            "max_width": null,
            "min_height": null,
            "min_width": null,
            "object_fit": null,
            "object_position": null,
            "order": null,
            "overflow": null,
            "overflow_x": null,
            "overflow_y": null,
            "padding": null,
            "right": null,
            "top": null,
            "visibility": null,
            "width": null
          }
        },
        "39eea7eb177c49c2a82b12715194c80f": {
          "model_module": "@jupyter-widgets/controls",
          "model_name": "DescriptionStyleModel",
          "model_module_version": "1.5.0",
          "state": {
            "_model_module": "@jupyter-widgets/controls",
            "_model_module_version": "1.5.0",
            "_model_name": "DescriptionStyleModel",
            "_view_count": null,
            "_view_module": "@jupyter-widgets/base",
            "_view_module_version": "1.2.0",
            "_view_name": "StyleView",
            "description_width": ""
          }
        },
        "9985b388afb9467ca5ff2ba17e8faded": {
          "model_module": "@jupyter-widgets/controls",
          "model_name": "ButtonModel",
          "model_module_version": "1.5.0",
          "state": {
            "_dom_classes": [],
            "_model_module": "@jupyter-widgets/controls",
            "_model_module_version": "1.5.0",
            "_model_name": "ButtonModel",
            "_view_count": null,
            "_view_module": "@jupyter-widgets/controls",
            "_view_module_version": "1.5.0",
            "_view_name": "ButtonView",
            "button_style": "",
            "description": "Verificar",
            "disabled": true,
            "icon": "",
            "layout": "IPY_MODEL_e871524dd48d4de18e66f68985ef0772",
            "style": "IPY_MODEL_981f80959f9e4a3683902445d765f61d",
            "tooltip": ""
          }
        },
        "d8efe209f1ac4654a2ae8f06c73a752e": {
          "model_module": "@jupyter-widgets/base",
          "model_name": "LayoutModel",
          "model_module_version": "1.2.0",
          "state": {
            "_model_module": "@jupyter-widgets/base",
            "_model_module_version": "1.2.0",
            "_model_name": "LayoutModel",
            "_view_count": null,
            "_view_module": "@jupyter-widgets/base",
            "_view_module_version": "1.2.0",
            "_view_name": "LayoutView",
            "align_content": null,
            "align_items": null,
            "align_self": null,
            "border": null,
            "bottom": null,
            "display": null,
            "flex": null,
            "flex_flow": null,
            "grid_area": null,
            "grid_auto_columns": null,
            "grid_auto_flow": null,
            "grid_auto_rows": null,
            "grid_column": null,
            "grid_gap": null,
            "grid_row": null,
            "grid_template_areas": null,
            "grid_template_columns": null,
            "grid_template_rows": null,
            "height": null,
            "justify_content": null,
            "justify_items": null,
            "left": null,
            "margin": null,
            "max_height": null,
            "max_width": null,
            "min_height": null,
            "min_width": null,
            "object_fit": null,
            "object_position": null,
            "order": null,
            "overflow": null,
            "overflow_x": null,
            "overflow_y": null,
            "padding": null,
            "right": null,
            "top": null,
            "visibility": null,
            "width": null
          }
        },
        "e871524dd48d4de18e66f68985ef0772": {
          "model_module": "@jupyter-widgets/base",
          "model_name": "LayoutModel",
          "model_module_version": "1.2.0",
          "state": {
            "_model_module": "@jupyter-widgets/base",
            "_model_module_version": "1.2.0",
            "_model_name": "LayoutModel",
            "_view_count": null,
            "_view_module": "@jupyter-widgets/base",
            "_view_module_version": "1.2.0",
            "_view_name": "LayoutView",
            "align_content": null,
            "align_items": null,
            "align_self": null,
            "border": null,
            "bottom": null,
            "display": null,
            "flex": null,
            "flex_flow": null,
            "grid_area": null,
            "grid_auto_columns": null,
            "grid_auto_flow": null,
            "grid_auto_rows": null,
            "grid_column": null,
            "grid_gap": null,
            "grid_row": null,
            "grid_template_areas": null,
            "grid_template_columns": null,
            "grid_template_rows": null,
            "height": null,
            "justify_content": null,
            "justify_items": null,
            "left": null,
            "margin": null,
            "max_height": null,
            "max_width": null,
            "min_height": null,
            "min_width": null,
            "object_fit": null,
            "object_position": null,
            "order": null,
            "overflow": null,
            "overflow_x": null,
            "overflow_y": null,
            "padding": null,
            "right": null,
            "top": null,
            "visibility": null,
            "width": null
          }
        },
        "981f80959f9e4a3683902445d765f61d": {
          "model_module": "@jupyter-widgets/controls",
          "model_name": "ButtonStyleModel",
          "model_module_version": "1.5.0",
          "state": {
            "_model_module": "@jupyter-widgets/controls",
            "_model_module_version": "1.5.0",
            "_model_name": "ButtonStyleModel",
            "_view_count": null,
            "_view_module": "@jupyter-widgets/base",
            "_view_module_version": "1.2.0",
            "_view_name": "StyleView",
            "button_color": null,
            "font_weight": ""
          }
        },
        "6032db5ce9f44c1fba3be41d3742546a": {
          "model_module": "@jupyter-widgets/output",
          "model_name": "OutputModel",
          "model_module_version": "1.0.0",
          "state": {
            "_dom_classes": [],
            "_model_module": "@jupyter-widgets/output",
            "_model_module_version": "1.0.0",
            "_model_name": "OutputModel",
            "_view_count": null,
            "_view_module": "@jupyter-widgets/output",
            "_view_module_version": "1.0.0",
            "_view_name": "OutputView",
            "layout": "IPY_MODEL_ff9b2f0270ce40e69a1d14ac0035a1d7",
            "msg_id": "",
            "outputs": [
              {
                "output_type": "display_data",
                "data": {
                  "text/plain": "<IPython.core.display.HTML object>",
                  "text/html": "<b><font color=\"blue\">Parabéns, você acertou a questão.</font>"
                },
                "metadata": {}
              }
            ]
          }
        },
        "ff9b2f0270ce40e69a1d14ac0035a1d7": {
          "model_module": "@jupyter-widgets/base",
          "model_name": "LayoutModel",
          "model_module_version": "1.2.0",
          "state": {
            "_model_module": "@jupyter-widgets/base",
            "_model_module_version": "1.2.0",
            "_model_name": "LayoutModel",
            "_view_count": null,
            "_view_module": "@jupyter-widgets/base",
            "_view_module_version": "1.2.0",
            "_view_name": "LayoutView",
            "align_content": null,
            "align_items": null,
            "align_self": null,
            "border": null,
            "bottom": null,
            "display": null,
            "flex": null,
            "flex_flow": null,
            "grid_area": null,
            "grid_auto_columns": null,
            "grid_auto_flow": null,
            "grid_auto_rows": null,
            "grid_column": null,
            "grid_gap": null,
            "grid_row": null,
            "grid_template_areas": null,
            "grid_template_columns": null,
            "grid_template_rows": null,
            "height": null,
            "justify_content": null,
            "justify_items": null,
            "left": null,
            "margin": null,
            "max_height": null,
            "max_width": null,
            "min_height": null,
            "min_width": null,
            "object_fit": null,
            "object_position": null,
            "order": null,
            "overflow": null,
            "overflow_x": null,
            "overflow_y": null,
            "padding": null,
            "right": null,
            "top": null,
            "visibility": null,
            "width": null
          }
        },
        "b3f9735dab994c389adfe4d54f84e8c9": {
          "model_module": "@jupyter-widgets/controls",
          "model_name": "HBoxModel",
          "model_module_version": "1.5.0",
          "state": {
            "_dom_classes": [],
            "_model_module": "@jupyter-widgets/controls",
            "_model_module_version": "1.5.0",
            "_model_name": "HBoxModel",
            "_view_count": null,
            "_view_module": "@jupyter-widgets/controls",
            "_view_module_version": "1.5.0",
            "_view_name": "HBoxView",
            "box_style": "",
            "children": [
              "IPY_MODEL_d733cf15fc524e95890cb5a60a0898e9",
              "IPY_MODEL_0fa4dadc0d6a47038d0f96e2e381133a"
            ],
            "layout": "IPY_MODEL_024b5ec13fb445bd896aa1276244adbd"
          }
        },
        "d733cf15fc524e95890cb5a60a0898e9": {
          "model_module": "@jupyter-widgets/controls",
          "model_name": "RadioButtonsModel",
          "model_module_version": "1.5.0",
          "state": {
            "_dom_classes": [],
            "_model_module": "@jupyter-widgets/controls",
            "_model_module_version": "1.5.0",
            "_model_name": "RadioButtonsModel",
            "_options_labels": [
              "Sim",
              "Não"
            ],
            "_view_count": null,
            "_view_module": "@jupyter-widgets/controls",
            "_view_module_version": "1.5.0",
            "_view_name": "RadioButtonsView",
            "description": "Resposta:",
            "description_tooltip": null,
            "disabled": true,
            "index": 0,
            "layout": "IPY_MODEL_b5725cf6301649b292565f280122bf00",
            "style": "IPY_MODEL_b3d0090a5c2d4454abb28e90d2074ad8"
          }
        },
        "0fa4dadc0d6a47038d0f96e2e381133a": {
          "model_module": "@jupyter-widgets/controls",
          "model_name": "HBoxModel",
          "model_module_version": "1.5.0",
          "state": {
            "_dom_classes": [],
            "_model_module": "@jupyter-widgets/controls",
            "_model_module_version": "1.5.0",
            "_model_name": "HBoxModel",
            "_view_count": null,
            "_view_module": "@jupyter-widgets/controls",
            "_view_module_version": "1.5.0",
            "_view_name": "HBoxView",
            "box_style": "",
            "children": [
              "IPY_MODEL_7fe9f49b84cb48ff91c80fd5ad7061ed"
            ],
            "layout": "IPY_MODEL_545f15e571c14c06a9013a531fb60d39"
          }
        },
        "024b5ec13fb445bd896aa1276244adbd": {
          "model_module": "@jupyter-widgets/base",
          "model_name": "LayoutModel",
          "model_module_version": "1.2.0",
          "state": {
            "_model_module": "@jupyter-widgets/base",
            "_model_module_version": "1.2.0",
            "_model_name": "LayoutModel",
            "_view_count": null,
            "_view_module": "@jupyter-widgets/base",
            "_view_module_version": "1.2.0",
            "_view_name": "LayoutView",
            "align_content": null,
            "align_items": null,
            "align_self": null,
            "border": null,
            "bottom": null,
            "display": null,
            "flex": null,
            "flex_flow": null,
            "grid_area": null,
            "grid_auto_columns": null,
            "grid_auto_flow": null,
            "grid_auto_rows": null,
            "grid_column": null,
            "grid_gap": null,
            "grid_row": null,
            "grid_template_areas": null,
            "grid_template_columns": null,
            "grid_template_rows": null,
            "height": null,
            "justify_content": null,
            "justify_items": null,
            "left": null,
            "margin": null,
            "max_height": null,
            "max_width": null,
            "min_height": null,
            "min_width": null,
            "object_fit": null,
            "object_position": null,
            "order": null,
            "overflow": null,
            "overflow_x": null,
            "overflow_y": null,
            "padding": null,
            "right": null,
            "top": null,
            "visibility": null,
            "width": null
          }
        },
        "b5725cf6301649b292565f280122bf00": {
          "model_module": "@jupyter-widgets/base",
          "model_name": "LayoutModel",
          "model_module_version": "1.2.0",
          "state": {
            "_model_module": "@jupyter-widgets/base",
            "_model_module_version": "1.2.0",
            "_model_name": "LayoutModel",
            "_view_count": null,
            "_view_module": "@jupyter-widgets/base",
            "_view_module_version": "1.2.0",
            "_view_name": "LayoutView",
            "align_content": null,
            "align_items": null,
            "align_self": null,
            "border": null,
            "bottom": null,
            "display": null,
            "flex": null,
            "flex_flow": null,
            "grid_area": null,
            "grid_auto_columns": null,
            "grid_auto_flow": null,
            "grid_auto_rows": null,
            "grid_column": null,
            "grid_gap": null,
            "grid_row": null,
            "grid_template_areas": null,
            "grid_template_columns": null,
            "grid_template_rows": null,
            "height": null,
            "justify_content": null,
            "justify_items": null,
            "left": null,
            "margin": null,
            "max_height": null,
            "max_width": null,
            "min_height": null,
            "min_width": null,
            "object_fit": null,
            "object_position": null,
            "order": null,
            "overflow": null,
            "overflow_x": null,
            "overflow_y": null,
            "padding": null,
            "right": null,
            "top": null,
            "visibility": null,
            "width": null
          }
        },
        "b3d0090a5c2d4454abb28e90d2074ad8": {
          "model_module": "@jupyter-widgets/controls",
          "model_name": "DescriptionStyleModel",
          "model_module_version": "1.5.0",
          "state": {
            "_model_module": "@jupyter-widgets/controls",
            "_model_module_version": "1.5.0",
            "_model_name": "DescriptionStyleModel",
            "_view_count": null,
            "_view_module": "@jupyter-widgets/base",
            "_view_module_version": "1.2.0",
            "_view_name": "StyleView",
            "description_width": ""
          }
        },
        "7fe9f49b84cb48ff91c80fd5ad7061ed": {
          "model_module": "@jupyter-widgets/controls",
          "model_name": "ButtonModel",
          "model_module_version": "1.5.0",
          "state": {
            "_dom_classes": [],
            "_model_module": "@jupyter-widgets/controls",
            "_model_module_version": "1.5.0",
            "_model_name": "ButtonModel",
            "_view_count": null,
            "_view_module": "@jupyter-widgets/controls",
            "_view_module_version": "1.5.0",
            "_view_name": "ButtonView",
            "button_style": "",
            "description": "Verificar",
            "disabled": true,
            "icon": "",
            "layout": "IPY_MODEL_91fa3f6e93794aa4855bd334208fe975",
            "style": "IPY_MODEL_0c10de1d23cf4ce3830292f2ed941c8e",
            "tooltip": ""
          }
        },
        "545f15e571c14c06a9013a531fb60d39": {
          "model_module": "@jupyter-widgets/base",
          "model_name": "LayoutModel",
          "model_module_version": "1.2.0",
          "state": {
            "_model_module": "@jupyter-widgets/base",
            "_model_module_version": "1.2.0",
            "_model_name": "LayoutModel",
            "_view_count": null,
            "_view_module": "@jupyter-widgets/base",
            "_view_module_version": "1.2.0",
            "_view_name": "LayoutView",
            "align_content": null,
            "align_items": null,
            "align_self": null,
            "border": null,
            "bottom": null,
            "display": null,
            "flex": null,
            "flex_flow": null,
            "grid_area": null,
            "grid_auto_columns": null,
            "grid_auto_flow": null,
            "grid_auto_rows": null,
            "grid_column": null,
            "grid_gap": null,
            "grid_row": null,
            "grid_template_areas": null,
            "grid_template_columns": null,
            "grid_template_rows": null,
            "height": null,
            "justify_content": null,
            "justify_items": null,
            "left": null,
            "margin": null,
            "max_height": null,
            "max_width": null,
            "min_height": null,
            "min_width": null,
            "object_fit": null,
            "object_position": null,
            "order": null,
            "overflow": null,
            "overflow_x": null,
            "overflow_y": null,
            "padding": null,
            "right": null,
            "top": null,
            "visibility": null,
            "width": null
          }
        },
        "91fa3f6e93794aa4855bd334208fe975": {
          "model_module": "@jupyter-widgets/base",
          "model_name": "LayoutModel",
          "model_module_version": "1.2.0",
          "state": {
            "_model_module": "@jupyter-widgets/base",
            "_model_module_version": "1.2.0",
            "_model_name": "LayoutModel",
            "_view_count": null,
            "_view_module": "@jupyter-widgets/base",
            "_view_module_version": "1.2.0",
            "_view_name": "LayoutView",
            "align_content": null,
            "align_items": null,
            "align_self": null,
            "border": null,
            "bottom": null,
            "display": null,
            "flex": null,
            "flex_flow": null,
            "grid_area": null,
            "grid_auto_columns": null,
            "grid_auto_flow": null,
            "grid_auto_rows": null,
            "grid_column": null,
            "grid_gap": null,
            "grid_row": null,
            "grid_template_areas": null,
            "grid_template_columns": null,
            "grid_template_rows": null,
            "height": null,
            "justify_content": null,
            "justify_items": null,
            "left": null,
            "margin": null,
            "max_height": null,
            "max_width": null,
            "min_height": null,
            "min_width": null,
            "object_fit": null,
            "object_position": null,
            "order": null,
            "overflow": null,
            "overflow_x": null,
            "overflow_y": null,
            "padding": null,
            "right": null,
            "top": null,
            "visibility": null,
            "width": null
          }
        },
        "0c10de1d23cf4ce3830292f2ed941c8e": {
          "model_module": "@jupyter-widgets/controls",
          "model_name": "ButtonStyleModel",
          "model_module_version": "1.5.0",
          "state": {
            "_model_module": "@jupyter-widgets/controls",
            "_model_module_version": "1.5.0",
            "_model_name": "ButtonStyleModel",
            "_view_count": null,
            "_view_module": "@jupyter-widgets/base",
            "_view_module_version": "1.2.0",
            "_view_name": "StyleView",
            "button_color": null,
            "font_weight": ""
          }
        },
        "3684b90bb6864306a1a8a973f67c9477": {
          "model_module": "@jupyter-widgets/output",
          "model_name": "OutputModel",
          "model_module_version": "1.0.0",
          "state": {
            "_dom_classes": [],
            "_model_module": "@jupyter-widgets/output",
            "_model_module_version": "1.0.0",
            "_model_name": "OutputModel",
            "_view_count": null,
            "_view_module": "@jupyter-widgets/output",
            "_view_module_version": "1.0.0",
            "_view_name": "OutputView",
            "layout": "IPY_MODEL_145758ea4a1d478787548cce8eebab99",
            "msg_id": "",
            "outputs": [
              {
                "output_type": "display_data",
                "data": {
                  "text/plain": "<IPython.core.display.HTML object>",
                  "text/html": "<b><font color=\"blue\">Parabéns, você acertou a questão.</font>"
                },
                "metadata": {}
              }
            ]
          }
        },
        "145758ea4a1d478787548cce8eebab99": {
          "model_module": "@jupyter-widgets/base",
          "model_name": "LayoutModel",
          "model_module_version": "1.2.0",
          "state": {
            "_model_module": "@jupyter-widgets/base",
            "_model_module_version": "1.2.0",
            "_model_name": "LayoutModel",
            "_view_count": null,
            "_view_module": "@jupyter-widgets/base",
            "_view_module_version": "1.2.0",
            "_view_name": "LayoutView",
            "align_content": null,
            "align_items": null,
            "align_self": null,
            "border": null,
            "bottom": null,
            "display": null,
            "flex": null,
            "flex_flow": null,
            "grid_area": null,
            "grid_auto_columns": null,
            "grid_auto_flow": null,
            "grid_auto_rows": null,
            "grid_column": null,
            "grid_gap": null,
            "grid_row": null,
            "grid_template_areas": null,
            "grid_template_columns": null,
            "grid_template_rows": null,
            "height": null,
            "justify_content": null,
            "justify_items": null,
            "left": null,
            "margin": null,
            "max_height": null,
            "max_width": null,
            "min_height": null,
            "min_width": null,
            "object_fit": null,
            "object_position": null,
            "order": null,
            "overflow": null,
            "overflow_x": null,
            "overflow_y": null,
            "padding": null,
            "right": null,
            "top": null,
            "visibility": null,
            "width": null
          }
        },
        "189cca8e19574a578a49f0f66a9a2d05": {
          "model_module": "@jupyter-widgets/controls",
          "model_name": "HBoxModel",
          "model_module_version": "1.5.0",
          "state": {
            "_dom_classes": [],
            "_model_module": "@jupyter-widgets/controls",
            "_model_module_version": "1.5.0",
            "_model_name": "HBoxModel",
            "_view_count": null,
            "_view_module": "@jupyter-widgets/controls",
            "_view_module_version": "1.5.0",
            "_view_name": "HBoxView",
            "box_style": "",
            "children": [
              "IPY_MODEL_3c11bbc4d7154b66a2f5ab7c4a6c6eed",
              "IPY_MODEL_efb4155aa8f148b4bf439d585d43f4ea"
            ],
            "layout": "IPY_MODEL_86b70bfb0fb049288ac880638907a0a2"
          }
        },
        "3c11bbc4d7154b66a2f5ab7c4a6c6eed": {
          "model_module": "@jupyter-widgets/controls",
          "model_name": "RadioButtonsModel",
          "model_module_version": "1.5.0",
          "state": {
            "_dom_classes": [],
            "_model_module": "@jupyter-widgets/controls",
            "_model_module_version": "1.5.0",
            "_model_name": "RadioButtonsModel",
            "_options_labels": [
              "Sim",
              "Não"
            ],
            "_view_count": null,
            "_view_module": "@jupyter-widgets/controls",
            "_view_module_version": "1.5.0",
            "_view_name": "RadioButtonsView",
            "description": "Resposta:",
            "description_tooltip": null,
            "disabled": false,
            "index": null,
            "layout": "IPY_MODEL_88c8491cf1b945998cbe5db7c970c4ee",
            "style": "IPY_MODEL_ad3dc3fe91d04538ac1ae1aacb354b00"
          }
        },
        "efb4155aa8f148b4bf439d585d43f4ea": {
          "model_module": "@jupyter-widgets/controls",
          "model_name": "HBoxModel",
          "model_module_version": "1.5.0",
          "state": {
            "_dom_classes": [],
            "_model_module": "@jupyter-widgets/controls",
            "_model_module_version": "1.5.0",
            "_model_name": "HBoxModel",
            "_view_count": null,
            "_view_module": "@jupyter-widgets/controls",
            "_view_module_version": "1.5.0",
            "_view_name": "HBoxView",
            "box_style": "",
            "children": [
              "IPY_MODEL_b8ca3f40b0214f6896590e6f846f47ad"
            ],
            "layout": "IPY_MODEL_70fb5c8213b74ec695d07d45219bf957"
          }
        },
        "86b70bfb0fb049288ac880638907a0a2": {
          "model_module": "@jupyter-widgets/base",
          "model_name": "LayoutModel",
          "model_module_version": "1.2.0",
          "state": {
            "_model_module": "@jupyter-widgets/base",
            "_model_module_version": "1.2.0",
            "_model_name": "LayoutModel",
            "_view_count": null,
            "_view_module": "@jupyter-widgets/base",
            "_view_module_version": "1.2.0",
            "_view_name": "LayoutView",
            "align_content": null,
            "align_items": null,
            "align_self": null,
            "border": null,
            "bottom": null,
            "display": null,
            "flex": null,
            "flex_flow": null,
            "grid_area": null,
            "grid_auto_columns": null,
            "grid_auto_flow": null,
            "grid_auto_rows": null,
            "grid_column": null,
            "grid_gap": null,
            "grid_row": null,
            "grid_template_areas": null,
            "grid_template_columns": null,
            "grid_template_rows": null,
            "height": null,
            "justify_content": null,
            "justify_items": null,
            "left": null,
            "margin": null,
            "max_height": null,
            "max_width": null,
            "min_height": null,
            "min_width": null,
            "object_fit": null,
            "object_position": null,
            "order": null,
            "overflow": null,
            "overflow_x": null,
            "overflow_y": null,
            "padding": null,
            "right": null,
            "top": null,
            "visibility": null,
            "width": null
          }
        },
        "88c8491cf1b945998cbe5db7c970c4ee": {
          "model_module": "@jupyter-widgets/base",
          "model_name": "LayoutModel",
          "model_module_version": "1.2.0",
          "state": {
            "_model_module": "@jupyter-widgets/base",
            "_model_module_version": "1.2.0",
            "_model_name": "LayoutModel",
            "_view_count": null,
            "_view_module": "@jupyter-widgets/base",
            "_view_module_version": "1.2.0",
            "_view_name": "LayoutView",
            "align_content": null,
            "align_items": null,
            "align_self": null,
            "border": null,
            "bottom": null,
            "display": null,
            "flex": null,
            "flex_flow": null,
            "grid_area": null,
            "grid_auto_columns": null,
            "grid_auto_flow": null,
            "grid_auto_rows": null,
            "grid_column": null,
            "grid_gap": null,
            "grid_row": null,
            "grid_template_areas": null,
            "grid_template_columns": null,
            "grid_template_rows": null,
            "height": null,
            "justify_content": null,
            "justify_items": null,
            "left": null,
            "margin": null,
            "max_height": null,
            "max_width": null,
            "min_height": null,
            "min_width": null,
            "object_fit": null,
            "object_position": null,
            "order": null,
            "overflow": null,
            "overflow_x": null,
            "overflow_y": null,
            "padding": null,
            "right": null,
            "top": null,
            "visibility": null,
            "width": null
          }
        },
        "ad3dc3fe91d04538ac1ae1aacb354b00": {
          "model_module": "@jupyter-widgets/controls",
          "model_name": "DescriptionStyleModel",
          "model_module_version": "1.5.0",
          "state": {
            "_model_module": "@jupyter-widgets/controls",
            "_model_module_version": "1.5.0",
            "_model_name": "DescriptionStyleModel",
            "_view_count": null,
            "_view_module": "@jupyter-widgets/base",
            "_view_module_version": "1.2.0",
            "_view_name": "StyleView",
            "description_width": ""
          }
        },
        "b8ca3f40b0214f6896590e6f846f47ad": {
          "model_module": "@jupyter-widgets/controls",
          "model_name": "ButtonModel",
          "model_module_version": "1.5.0",
          "state": {
            "_dom_classes": [],
            "_model_module": "@jupyter-widgets/controls",
            "_model_module_version": "1.5.0",
            "_model_name": "ButtonModel",
            "_view_count": null,
            "_view_module": "@jupyter-widgets/controls",
            "_view_module_version": "1.5.0",
            "_view_name": "ButtonView",
            "button_style": "",
            "description": "Verificar",
            "disabled": false,
            "icon": "",
            "layout": "IPY_MODEL_1728d33c02f74f29be98418c20bb6d3d",
            "style": "IPY_MODEL_c05b248225a345fc99fbc2cb0f31c1f9",
            "tooltip": ""
          }
        },
        "70fb5c8213b74ec695d07d45219bf957": {
          "model_module": "@jupyter-widgets/base",
          "model_name": "LayoutModel",
          "model_module_version": "1.2.0",
          "state": {
            "_model_module": "@jupyter-widgets/base",
            "_model_module_version": "1.2.0",
            "_model_name": "LayoutModel",
            "_view_count": null,
            "_view_module": "@jupyter-widgets/base",
            "_view_module_version": "1.2.0",
            "_view_name": "LayoutView",
            "align_content": null,
            "align_items": null,
            "align_self": null,
            "border": null,
            "bottom": null,
            "display": null,
            "flex": null,
            "flex_flow": null,
            "grid_area": null,
            "grid_auto_columns": null,
            "grid_auto_flow": null,
            "grid_auto_rows": null,
            "grid_column": null,
            "grid_gap": null,
            "grid_row": null,
            "grid_template_areas": null,
            "grid_template_columns": null,
            "grid_template_rows": null,
            "height": null,
            "justify_content": null,
            "justify_items": null,
            "left": null,
            "margin": null,
            "max_height": null,
            "max_width": null,
            "min_height": null,
            "min_width": null,
            "object_fit": null,
            "object_position": null,
            "order": null,
            "overflow": null,
            "overflow_x": null,
            "overflow_y": null,
            "padding": null,
            "right": null,
            "top": null,
            "visibility": null,
            "width": null
          }
        },
        "1728d33c02f74f29be98418c20bb6d3d": {
          "model_module": "@jupyter-widgets/base",
          "model_name": "LayoutModel",
          "model_module_version": "1.2.0",
          "state": {
            "_model_module": "@jupyter-widgets/base",
            "_model_module_version": "1.2.0",
            "_model_name": "LayoutModel",
            "_view_count": null,
            "_view_module": "@jupyter-widgets/base",
            "_view_module_version": "1.2.0",
            "_view_name": "LayoutView",
            "align_content": null,
            "align_items": null,
            "align_self": null,
            "border": null,
            "bottom": null,
            "display": null,
            "flex": null,
            "flex_flow": null,
            "grid_area": null,
            "grid_auto_columns": null,
            "grid_auto_flow": null,
            "grid_auto_rows": null,
            "grid_column": null,
            "grid_gap": null,
            "grid_row": null,
            "grid_template_areas": null,
            "grid_template_columns": null,
            "grid_template_rows": null,
            "height": null,
            "justify_content": null,
            "justify_items": null,
            "left": null,
            "margin": null,
            "max_height": null,
            "max_width": null,
            "min_height": null,
            "min_width": null,
            "object_fit": null,
            "object_position": null,
            "order": null,
            "overflow": null,
            "overflow_x": null,
            "overflow_y": null,
            "padding": null,
            "right": null,
            "top": null,
            "visibility": null,
            "width": null
          }
        },
        "c05b248225a345fc99fbc2cb0f31c1f9": {
          "model_module": "@jupyter-widgets/controls",
          "model_name": "ButtonStyleModel",
          "model_module_version": "1.5.0",
          "state": {
            "_model_module": "@jupyter-widgets/controls",
            "_model_module_version": "1.5.0",
            "_model_name": "ButtonStyleModel",
            "_view_count": null,
            "_view_module": "@jupyter-widgets/base",
            "_view_module_version": "1.2.0",
            "_view_name": "StyleView",
            "button_color": null,
            "font_weight": ""
          }
        },
        "7756159cdde649c1ae0231b7a380dc69": {
          "model_module": "@jupyter-widgets/output",
          "model_name": "OutputModel",
          "model_module_version": "1.0.0",
          "state": {
            "_dom_classes": [],
            "_model_module": "@jupyter-widgets/output",
            "_model_module_version": "1.0.0",
            "_model_name": "OutputModel",
            "_view_count": null,
            "_view_module": "@jupyter-widgets/output",
            "_view_module_version": "1.0.0",
            "_view_name": "OutputView",
            "layout": "IPY_MODEL_ea351bf0b548480cb3295109acf587b6",
            "msg_id": "",
            "outputs": []
          }
        },
        "ea351bf0b548480cb3295109acf587b6": {
          "model_module": "@jupyter-widgets/base",
          "model_name": "LayoutModel",
          "model_module_version": "1.2.0",
          "state": {
            "_model_module": "@jupyter-widgets/base",
            "_model_module_version": "1.2.0",
            "_model_name": "LayoutModel",
            "_view_count": null,
            "_view_module": "@jupyter-widgets/base",
            "_view_module_version": "1.2.0",
            "_view_name": "LayoutView",
            "align_content": null,
            "align_items": null,
            "align_self": null,
            "border": null,
            "bottom": null,
            "display": null,
            "flex": null,
            "flex_flow": null,
            "grid_area": null,
            "grid_auto_columns": null,
            "grid_auto_flow": null,
            "grid_auto_rows": null,
            "grid_column": null,
            "grid_gap": null,
            "grid_row": null,
            "grid_template_areas": null,
            "grid_template_columns": null,
            "grid_template_rows": null,
            "height": null,
            "justify_content": null,
            "justify_items": null,
            "left": null,
            "margin": null,
            "max_height": null,
            "max_width": null,
            "min_height": null,
            "min_width": null,
            "object_fit": null,
            "object_position": null,
            "order": null,
            "overflow": null,
            "overflow_x": null,
            "overflow_y": null,
            "padding": null,
            "right": null,
            "top": null,
            "visibility": null,
            "width": null
          }
        }
      }
    }
  },
  "nbformat": 4,
  "nbformat_minor": 0
}