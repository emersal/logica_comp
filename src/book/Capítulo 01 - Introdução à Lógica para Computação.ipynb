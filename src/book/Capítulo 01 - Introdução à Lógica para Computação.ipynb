{
  "cells": [
    {
      "cell_type": "markdown",
      "metadata": {
        "id": "fcbGPQLa3VqH"
      },
      "source": [
        "# Lógica para Computação: Capítulo 01 - Introdução à Lógica para Computação\n",
        "> *Autor: Davi Romero de Vasconcelos, daviromero@ufc.br, Universidade Federal do Ceará, Campus de Quixadá, Março de 2022*.\n",
        "> *(Última atualização 15/03/2022)*\n",
        "\n",
        "Este material foi preparado para a disciplina de Lógica para Computação com a finalidade de apresentar os conceitos básicos de Lógica, utilizando a Linguagem de Programação Python para auxiliar no ensino-aprendizagem da disciplina. Para cada seção é apresentado um link (no título da seção) com um vídeo explicando o conteúdo a ser abordado. Uma Playlist com todo o conteúdo de Lógica para Computação está disponível no [YouTube](https://youtube.com/playlist?list=PLfOnKvd6pFiq_BUI-llPhDeGR55P6nHfr)."
      ]
    },
    {
      "cell_type": "code",
      "execution_count": 1,
      "metadata": {
        "cellView": "form",
        "id": "KRbAmatIeYlx",
        "colab": {
          "base_uri": "https://localhost:8080/"
        },
        "outputId": "adceb589-6433-4c8c-d0a6-904f7c3bbaf9"
      },
      "outputs": [
        {
          "output_type": "stream",
          "name": "stdout",
          "text": [
            "  Preparing metadata (setup.py) ... \u001b[?25l\u001b[?25hdone\n",
            "\u001b[2K   \u001b[90m━━━━━━━━━━━━━━━━━━━━━━━━━━━━━━━━━━━━━━━━\u001b[0m \u001b[32m117.8/117.8 kB\u001b[0m \u001b[31m4.6 MB/s\u001b[0m eta \u001b[36m0:00:00\u001b[0m\n",
            "\u001b[2K   \u001b[90m━━━━━━━━━━━━━━━━━━━━━━━━━━━━━━━━━━━━━━━━\u001b[0m \u001b[32m722.2/722.2 kB\u001b[0m \u001b[31m18.7 MB/s\u001b[0m eta \u001b[36m0:00:00\u001b[0m\n",
            "\u001b[2K   \u001b[90m━━━━━━━━━━━━━━━━━━━━━━━━━━━━━━━━━━━━━━━━\u001b[0m \u001b[32m1.6/1.6 MB\u001b[0m \u001b[31m41.4 MB/s\u001b[0m eta \u001b[36m0:00:00\u001b[0m\n",
            "\u001b[?25h  Building wheel for logic4py (setup.py) ... \u001b[?25l\u001b[?25hdone\n"
          ]
        }
      ],
      "source": [
        "#@title Implementação em Python dos conceitos sobre a Linguagem da Lógica Proposicional\n",
        "#@markdown Não é necessário conhecer o código aqui implementado ou mesmo ter um conhecimento profundo da linguagem Python. Basta acompanhar os exemplos e experimentar construir suas próprias demonstrações.\n",
        "#@markdown >*Execute esta célula (`ctrl+enter` ou clicando no botão ao lado) para que o ambiente seja carregado com as classes implementadas.*\n",
        "\n",
        "#!pip install logic4py -q\n",
        "!pip install git+https://github.com/daviromero/logic4py.git -q\n",
        "from logic4py.logic_gui import verify_reasoning_example"
      ]
    },
    {
      "cell_type": "markdown",
      "metadata": {
        "id": "3J8GKueYxOiy"
      },
      "source": [
        "# [Introdução à Lógica para Computação](https://youtu.be/mJwPvZmreVk)\n",
        "\n",
        "O que é lógica?\n",
        "- \"É o estudo (ou arte) do raciocínio\"\n",
        "- \"Estudo do Pensamento Correto e Verdadeiro\"\n",
        "- \"Tentativa de conceituação do Razoável\"\n",
        "- \"É o estudo da (boa) argumentação\"\n",
        "\n",
        "O que é lógica matemática?\n",
        "- \"É o estudo do tipo de raciocínio utilizado pelos matemáticos\"\n",
        "\n",
        "## Raciocínio\n",
        "\n",
        "\n",
        "Raciocinar consiste na construção de um encadeamento de entidades linguísticas que seguem a relação \"segue de\".\n",
        "\n",
        "As entidades linguísticas no contexto das lógicas que serão apresentadas são as **sentenças declarativas**, ou seja, entidades que expressam um pensamento completo.\n",
        "- Está chovendo\n",
        "- Todo homem é mortal\n",
        "- $2+2=4$\n",
        "- $5\\in\\{2,3,5,7\\}$\n",
        "- O Corinthians é o melhor time do Brasil\n",
        "\n",
        "Em geral, as sentenças interrogativas (\"Qual o pior time do Brasil?\") e imperativas (\"Tire nota DEZ!\") não são objetos de estudo da Lógica"
      ]
    },
    {
      "cell_type": "code",
      "execution_count": null,
      "metadata": {
        "cellView": "form",
        "id": "ADLroptI9F6R"
      },
      "outputs": [],
      "source": [
        "#@title Exemplo 1: Raciocínio em Lógica Proposicional\n",
        "#@markdown Execute essa célula para gerar o seu exemplo.\n",
        "verify_reasoning_example('q1_ex')"
      ]
    },
    {
      "cell_type": "code",
      "execution_count": null,
      "metadata": {
        "cellView": "form",
        "id": "OG19tiZF9zLN"
      },
      "outputs": [],
      "source": [
        "#@title Exemplo 2: Raciocínio em Lógica Proposicional\n",
        "#@markdown Execute essa célula para gerar o seu exemplo.\n",
        "verify_reasoning_example('q2_ex')"
      ]
    },
    {
      "cell_type": "code",
      "execution_count": null,
      "metadata": {
        "cellView": "form",
        "id": "6XHzBHuDeS-2"
      },
      "outputs": [],
      "source": [
        "#@title Exemplo 3: Raciocínio em Lógica Proposicional\n",
        "#@markdown Execute essa célula para gerar o seu exemplo.\n",
        "verify_reasoning_example('q3_ex')"
      ]
    },
    {
      "cell_type": "code",
      "execution_count": null,
      "metadata": {
        "cellView": "form",
        "id": "rCJLRxJNBhly"
      },
      "outputs": [],
      "source": [
        "#@title Exemplo 4: Raciocínio em Lógica Proposicional\n",
        "#@markdown Execute essa célula para gerar o seu exemplo.\n",
        "verify_reasoning_example('q4_ex')"
      ]
    },
    {
      "cell_type": "code",
      "execution_count": null,
      "metadata": {
        "cellView": "form",
        "id": "fd_wzTCCB4lZ"
      },
      "outputs": [],
      "source": [
        "#@title Exemplo 5: Raciocínio em Lógica Proposicional\n",
        "#@markdown Execute essa célula para gerar o seu exemplo.\n",
        "verify_reasoning_example('q5_ex')"
      ]
    },
    {
      "cell_type": "code",
      "execution_count": null,
      "metadata": {
        "cellView": "form",
        "id": "sW6wCnlL-Qn5"
      },
      "outputs": [],
      "source": [
        "#@title Exemplo 6: Raciocínio em Lógica Proposicional\n",
        "#@markdown Execute essa célula para gerar o seu exercício.\n",
        "verify_reasoning_example('q6_ex')"
      ]
    },
    {
      "cell_type": "markdown",
      "metadata": {
        "id": "Mq9Gh4kFVI8i"
      },
      "source": [
        "## Exercícios\n",
        "\n",
        "Os exercícios a seguir foram projetados para que você possa avaliar suas habilidades em raciocínio e argumentação. Use essa oportunidade de autoavaliação para entender seu ponto de partida na disciplina, quais conceitos de raciocínio em lógica já estão amadurecidos em seu pensamento e quais ainda precisam ser aprimorados."
      ]
    },
    {
      "cell_type": "markdown",
      "metadata": {
        "id": "zt4BH-1zBmAl"
      },
      "source": [
        "### Exercícios Lógica Proposicional"
      ]
    },
    {
      "cell_type": "code",
      "execution_count": 2,
      "metadata": {
        "cellView": "form",
        "colab": {
          "base_uri": "https://localhost:8080/",
          "height": 247,
          "referenced_widgets": [
            "fec8120f35f248c580b24422fdcebbc7",
            "4dcfe5851cee473fa77c302ff198b61d",
            "58218d19e8434a11941a4a852a4652c1",
            "2d21ca19ca4f436d96f5590bca840223",
            "d9cf5f6af5d947569353f1d8706a2816",
            "81c7da18624b4fa29a1f14cd3e784a1a",
            "f27247cfe3724afc9709f9709b69f20f",
            "9b2f021c03c54d95a5b9927024402301",
            "0c1bb44332a04dac83d4d29201ea0dae",
            "afe0d8c624bf416aad945d0adaeb17d5",
            "0a2255de985c47e2a3d72d7c80bd5bbe",
            "c8c97550e429447fa9daa54009b8e192"
          ]
        },
        "id": "xzUyAHQ-Wd2I",
        "outputId": "0a4cd4d2-bb6f-4558-afb6-641ec2dd3a21"
      },
      "outputs": [
        {
          "output_type": "display_data",
          "data": {
            "text/plain": [
              "<IPython.core.display.Markdown object>"
            ],
            "text/markdown": "<b>Considere as seguintes afirmações:</b>\n1. Se o dólar sobe, então os produtos ficam mais caros.\n1. Os produtos não ficaram mais caros."
          },
          "metadata": {}
        },
        {
          "output_type": "display_data",
          "data": {
            "text/plain": [
              "<IPython.core.display.Markdown object>"
            ],
            "text/markdown": "<b>Podemos concluir que a afirmação abaixo segue logicamente das afirmações acima?"
          },
          "metadata": {}
        },
        {
          "output_type": "display_data",
          "data": {
            "text/plain": [
              "<IPython.core.display.Markdown object>"
            ],
            "text/markdown": "\n3. dólar não subiu."
          },
          "metadata": {}
        },
        {
          "output_type": "display_data",
          "data": {
            "text/plain": [
              "HBox(children=(RadioButtons(description='Resposta:', options=('Sim', 'Não'), value=None), HBox(children=(Butto…"
            ],
            "application/vnd.jupyter.widget-view+json": {
              "version_major": 2,
              "version_minor": 0,
              "model_id": "fec8120f35f248c580b24422fdcebbc7"
            }
          },
          "metadata": {}
        },
        {
          "output_type": "display_data",
          "data": {
            "text/plain": [
              "Output()"
            ],
            "application/vnd.jupyter.widget-view+json": {
              "version_major": 2,
              "version_minor": 0,
              "model_id": "0a2255de985c47e2a3d72d7c80bd5bbe"
            }
          },
          "metadata": {}
        }
      ],
      "source": [
        "#@title Exercício 1: Raciocínio em Lógica Proposicional\n",
        "#@markdown Execute essa célula para gerar o seu exercício.\n",
        "verify_reasoning_example('q1')"
      ]
    },
    {
      "cell_type": "code",
      "execution_count": 3,
      "metadata": {
        "cellView": "form",
        "colab": {
          "base_uri": "https://localhost:8080/",
          "height": 230,
          "referenced_widgets": [
            "4a6a72a5ac0441cfbf564d50ff23ac65",
            "9db60c55871c49ffb5dd88853e38ea11",
            "2acb9c30fdf6415cb0d27f9a927451e6",
            "6a51920c77c14873b97c13cc11c52aae",
            "3c45b23fc18e443580973576e61749d8",
            "7634f5f48f274d86b854614ab6086cce",
            "494e4f4ab10443caac817dc4b2319c9c",
            "7417e9d8e3cc43b19e8a7eaa44e6bb79",
            "e6a145ad85a84a13bd55ed697e208d61",
            "27c877f7a6594daa89fc214cf9441431",
            "0fa7cd47eaed42b682fd5ef93acf8c54",
            "9287152d077440678732dadb5fb36fe4"
          ]
        },
        "id": "HDBNgPRaWz28",
        "outputId": "f3c5be2b-a1e7-43bb-fe93-cf3b0b4d906a"
      },
      "outputs": [
        {
          "output_type": "display_data",
          "data": {
            "text/plain": [
              "<IPython.core.display.Markdown object>"
            ],
            "text/markdown": "<b>Considere as seguintes afirmações:</b>\n1. Se o dólar sobe, então os produtos ficam mais caros.\n1. Os produtos ficaram mais caros."
          },
          "metadata": {}
        },
        {
          "output_type": "display_data",
          "data": {
            "text/plain": [
              "<IPython.core.display.Markdown object>"
            ],
            "text/markdown": "<b>Podemos concluir que a afirmação abaixo segue logicamente das afirmações acima?"
          },
          "metadata": {}
        },
        {
          "output_type": "display_data",
          "data": {
            "text/plain": [
              "<IPython.core.display.Markdown object>"
            ],
            "text/markdown": "\n3. O dólar não subiu."
          },
          "metadata": {}
        },
        {
          "output_type": "display_data",
          "data": {
            "text/plain": [
              "HBox(children=(RadioButtons(description='Resposta:', options=('Sim', 'Não'), value=None), HBox(children=(Butto…"
            ],
            "application/vnd.jupyter.widget-view+json": {
              "version_major": 2,
              "version_minor": 0,
              "model_id": "4a6a72a5ac0441cfbf564d50ff23ac65"
            }
          },
          "metadata": {}
        },
        {
          "output_type": "display_data",
          "data": {
            "text/plain": [
              "Output()"
            ],
            "application/vnd.jupyter.widget-view+json": {
              "version_major": 2,
              "version_minor": 0,
              "model_id": "0fa7cd47eaed42b682fd5ef93acf8c54"
            }
          },
          "metadata": {}
        }
      ],
      "source": [
        "#@title Exercício 2: Raciocínio em Lógica Proposicional\n",
        "#@markdown Execute essa célula para gerar o seu exercício.\n",
        "verify_reasoning_example('q2')"
      ]
    },
    {
      "cell_type": "code",
      "execution_count": null,
      "metadata": {
        "cellView": "form",
        "id": "Tuv-M99AW7_G"
      },
      "outputs": [],
      "source": [
        "#@title Exercício 3: Raciocínio em Lógica Proposicional\n",
        "#@markdown Execute essa célula para gerar o seu exercício.\n",
        "verify_reasoning_example('q3')"
      ]
    },
    {
      "cell_type": "code",
      "execution_count": null,
      "metadata": {
        "cellView": "form",
        "id": "D6GbvcbHYupJ"
      },
      "outputs": [],
      "source": [
        "#@title Exercício 4: Raciocínio em Lógica Proposicional\n",
        "#@markdown Execute essa célula para gerar o seu exercício.\n",
        "verify_reasoning_example('q4')"
      ]
    },
    {
      "cell_type": "code",
      "execution_count": null,
      "metadata": {
        "cellView": "form",
        "id": "dnAuiOTwZPBV"
      },
      "outputs": [],
      "source": [
        "#@title Exercício 5: Raciocínio em Lógica Proposicional\n",
        "#@markdown Execute essa célula para gerar o seu exercício.\n",
        "verify_reasoning_example('q5')"
      ]
    },
    {
      "cell_type": "code",
      "execution_count": null,
      "metadata": {
        "cellView": "form",
        "id": "vdEJpeAKX7OF"
      },
      "outputs": [],
      "source": [
        "#@title Exercício 6: Raciocínio em Lógica Proposicional\n",
        "#@markdown Execute essa célula para gerar o seu exercício.\n",
        "verify_reasoning_example('q6')"
      ]
    },
    {
      "cell_type": "code",
      "execution_count": null,
      "metadata": {
        "cellView": "form",
        "id": "CB2rPSopatvn"
      },
      "outputs": [],
      "source": [
        "#@title Exercício 7: Raciocínio em Lógica Proposicional\n",
        "#@markdown Execute essa célula para gerar o seu exercício.\n",
        "verify_reasoning_example('q7')"
      ]
    },
    {
      "cell_type": "code",
      "execution_count": null,
      "metadata": {
        "cellView": "form",
        "id": "XZNKJl34dddV"
      },
      "outputs": [],
      "source": [
        "#@title Exercício 8: Raciocínio em Lógica Proposicional\n",
        "#@markdown Execute essa célula para gerar o seu exercício.\n",
        "verify_reasoning_example('q8')"
      ]
    },
    {
      "cell_type": "code",
      "execution_count": null,
      "metadata": {
        "cellView": "form",
        "id": "V7OH4mVrd1MX"
      },
      "outputs": [],
      "source": [
        "#@title Exercício 9: Raciocínio em Lógica Proposicional\n",
        "#@markdown Execute essa célula para gerar o seu exercício.\n",
        "verify_reasoning_example('q9')"
      ]
    },
    {
      "cell_type": "code",
      "execution_count": null,
      "metadata": {
        "cellView": "form",
        "id": "V7QAv0a1VNYX"
      },
      "outputs": [],
      "source": [
        "#@title Exercício 10: Raciocínio em Lógica Proposicional\n",
        "#@markdown Execute essa célula para gerar o seu exercício.\n",
        "verify_reasoning_example('q10')"
      ]
    },
    {
      "cell_type": "code",
      "execution_count": null,
      "metadata": {
        "cellView": "form",
        "id": "URM5lIu6Vz8P"
      },
      "outputs": [],
      "source": [
        "#@title Exercício 11: Raciocínio em Lógica Proposicional\n",
        "#@markdown Execute essa célula para gerar o seu exercício.\n",
        "verify_reasoning_example('q11')"
      ]
    },
    {
      "cell_type": "code",
      "execution_count": null,
      "metadata": {
        "cellView": "form",
        "id": "TSt4O3Y3WFbe"
      },
      "outputs": [],
      "source": [
        "#@title Exercício 12: Raciocínio em Lógica Proposicional\n",
        "#@markdown Execute essa célula para gerar o seu exercício.\n",
        "verify_reasoning_example('q12')"
      ]
    },
    {
      "cell_type": "markdown",
      "metadata": {
        "id": "wmHxLYynBmAn"
      },
      "source": [
        "### Exercícios Lógica de Primeira-Ordem"
      ]
    },
    {
      "cell_type": "code",
      "execution_count": null,
      "metadata": {
        "cellView": "form",
        "id": "jbEody5jBmAn"
      },
      "outputs": [],
      "source": [
        "#@title Exercício 1: Raciocínio em Lógica de Primeira-Ordem\n",
        "#@markdown Execute essa célula para gerar o seu exemplo.\n",
        "verify_reasoning_example('q1_fo')"
      ]
    },
    {
      "cell_type": "code",
      "execution_count": null,
      "metadata": {
        "cellView": "form",
        "id": "fh7PNJvmBmAn"
      },
      "outputs": [],
      "source": [
        "#@title Exercício 2: Raciocínio em Lógica de Primeira-Ordem\n",
        "#@markdown Execute essa célula para gerar o seu exemplo.\n",
        "verify_reasoning_example('q2_fo')"
      ]
    },
    {
      "cell_type": "code",
      "execution_count": null,
      "metadata": {
        "cellView": "form",
        "id": "qdOjJhuiBmAn"
      },
      "outputs": [],
      "source": [
        "#@title Exercício 3: Raciocínio em Lógica de Primeira-Ordem\n",
        "#@markdown Execute essa célula para gerar o seu exemplo.\n",
        "verify_reasoning_example('q3_fo')"
      ]
    },
    {
      "cell_type": "code",
      "execution_count": null,
      "metadata": {
        "cellView": "form",
        "id": "sZaecYAqBmAn"
      },
      "outputs": [],
      "source": [
        "#@title Exercício 4: Raciocínio em Lógica de Primeira-Ordem\n",
        "#@markdown Execute essa célula para gerar o seu exemplo.\n",
        "verify_reasoning_example('q4_fo')"
      ]
    },
    {
      "cell_type": "code",
      "execution_count": null,
      "metadata": {
        "cellView": "form",
        "id": "azI7z3s8BmAo"
      },
      "outputs": [],
      "source": [
        "#@title Exercício 5: Raciocínio em Lógica de Primeira-Ordem\n",
        "#@markdown Execute essa célula para gerar o seu exemplo.\n",
        "verify_reasoning_example('q5_fo')"
      ]
    },
    {
      "cell_type": "code",
      "execution_count": null,
      "metadata": {
        "cellView": "form",
        "id": "1Ifwxv2wBmAo"
      },
      "outputs": [],
      "source": [
        "#@title Exercício 6: Raciocínio em Lógica de Primeira-Ordem\n",
        "#@markdown Execute essa célula para gerar o seu exemplo.\n",
        "verify_reasoning_example('q6_fo')"
      ]
    },
    {
      "cell_type": "code",
      "execution_count": null,
      "metadata": {
        "cellView": "form",
        "id": "Td_SGKKKBmAo"
      },
      "outputs": [],
      "source": [
        "#@title Exercício 7: Raciocínio em Lógica de Primeira-Ordem\n",
        "#@markdown Execute essa célula para gerar o seu exemplo.\n",
        "verify_reasoning_example('q7_fo')"
      ]
    },
    {
      "cell_type": "code",
      "execution_count": null,
      "metadata": {
        "cellView": "form",
        "id": "_NfZg3orBmAo"
      },
      "outputs": [],
      "source": [
        "#@title Exercício 8: Raciocínio em Lógica de Primeira-Ordem\n",
        "#@markdown Execute essa célula para gerar o seu exemplo.\n",
        "verify_reasoning_example('q8_fo')"
      ]
    },
    {
      "cell_type": "code",
      "execution_count": null,
      "metadata": {
        "cellView": "form",
        "id": "CetZQicpBmAo"
      },
      "outputs": [],
      "source": [
        "#@title Exercício 9: Raciocínio em Lógica de Primeira-Ordem\n",
        "#@markdown Execute essa célula para gerar o seu exemplo.\n",
        "verify_reasoning_example('q9_fo')"
      ]
    },
    {
      "cell_type": "code",
      "execution_count": null,
      "metadata": {
        "cellView": "form",
        "id": "jINNrrbkBmAo"
      },
      "outputs": [],
      "source": [
        "#@title Exercício 10: Raciocínio em Lógica de Primeira-Ordem\n",
        "#@markdown Execute essa célula para gerar o seu exemplo.\n",
        "verify_reasoning_example('q10_fo')"
      ]
    },
    {
      "cell_type": "code",
      "execution_count": null,
      "metadata": {
        "cellView": "form",
        "id": "BnbDclXCBmAo"
      },
      "outputs": [],
      "source": [
        "#@title Exercício 11: Raciocínio em Lógica de Primeira-Ordem\n",
        "#@markdown Execute essa célula para gerar o seu exemplo.\n",
        "verify_reasoning_example('q11_fo')"
      ]
    },
    {
      "cell_type": "code",
      "execution_count": null,
      "metadata": {
        "cellView": "form",
        "id": "WKp6X6ZdBmAo"
      },
      "outputs": [],
      "source": [
        "#@title Exercício 12: Raciocínio em Lógica de Primeira-Ordem\n",
        "#@markdown Execute essa célula para gerar o seu exemplo.\n",
        "verify_reasoning_example('q12_fo')"
      ]
    },
    {
      "cell_type": "markdown",
      "metadata": {
        "id": "LePeVi_HBmAo"
      },
      "source": [
        "<!--NAVIGATION-->\n",
        "[Índice](./Index.ipynb) | [A Linguagem da Lógica Proposicional >](./Cap%C3%ADtulo%2002%20-%20A%20Linguagem%20da%20L%C3%B3gica%20Proposicional.ipynb)\n"
      ]
    }
  ],
  "metadata": {
    "colab": {
      "name": "Capítulo 01 - Introdução à Lógica para Computação.ipynb",
      "provenance": []
    },
    "kernelspec": {
      "display_name": "base",
      "language": "python",
      "name": "python3"
    },
    "language_info": {
      "codemirror_mode": {
        "name": "ipython",
        "version": 3
      },
      "file_extension": ".py",
      "mimetype": "text/x-python",
      "name": "python",
      "nbconvert_exporter": "python",
      "pygments_lexer": "ipython3",
      "version": "3.9.7"
    },
    "vscode": {
      "interpreter": {
        "hash": "40d3a090f54c6569ab1632332b64b2c03c39dcf918b08424e98f38b5ae0af88f"
      }
    },
    "widgets": {
      "application/vnd.jupyter.widget-state+json": {
        "fec8120f35f248c580b24422fdcebbc7": {
          "model_module": "@jupyter-widgets/controls",
          "model_name": "HBoxModel",
          "model_module_version": "1.5.0",
          "state": {
            "_dom_classes": [],
            "_model_module": "@jupyter-widgets/controls",
            "_model_module_version": "1.5.0",
            "_model_name": "HBoxModel",
            "_view_count": null,
            "_view_module": "@jupyter-widgets/controls",
            "_view_module_version": "1.5.0",
            "_view_name": "HBoxView",
            "box_style": "",
            "children": [
              "IPY_MODEL_4dcfe5851cee473fa77c302ff198b61d",
              "IPY_MODEL_58218d19e8434a11941a4a852a4652c1"
            ],
            "layout": "IPY_MODEL_2d21ca19ca4f436d96f5590bca840223"
          }
        },
        "4dcfe5851cee473fa77c302ff198b61d": {
          "model_module": "@jupyter-widgets/controls",
          "model_name": "RadioButtonsModel",
          "model_module_version": "1.5.0",
          "state": {
            "_dom_classes": [],
            "_model_module": "@jupyter-widgets/controls",
            "_model_module_version": "1.5.0",
            "_model_name": "RadioButtonsModel",
            "_options_labels": [
              "Sim",
              "Não"
            ],
            "_view_count": null,
            "_view_module": "@jupyter-widgets/controls",
            "_view_module_version": "1.5.0",
            "_view_name": "RadioButtonsView",
            "description": "Resposta:",
            "description_tooltip": null,
            "disabled": true,
            "index": 0,
            "layout": "IPY_MODEL_d9cf5f6af5d947569353f1d8706a2816",
            "style": "IPY_MODEL_81c7da18624b4fa29a1f14cd3e784a1a"
          }
        },
        "58218d19e8434a11941a4a852a4652c1": {
          "model_module": "@jupyter-widgets/controls",
          "model_name": "HBoxModel",
          "model_module_version": "1.5.0",
          "state": {
            "_dom_classes": [],
            "_model_module": "@jupyter-widgets/controls",
            "_model_module_version": "1.5.0",
            "_model_name": "HBoxModel",
            "_view_count": null,
            "_view_module": "@jupyter-widgets/controls",
            "_view_module_version": "1.5.0",
            "_view_name": "HBoxView",
            "box_style": "",
            "children": [
              "IPY_MODEL_f27247cfe3724afc9709f9709b69f20f"
            ],
            "layout": "IPY_MODEL_9b2f021c03c54d95a5b9927024402301"
          }
        },
        "2d21ca19ca4f436d96f5590bca840223": {
          "model_module": "@jupyter-widgets/base",
          "model_name": "LayoutModel",
          "model_module_version": "1.2.0",
          "state": {
            "_model_module": "@jupyter-widgets/base",
            "_model_module_version": "1.2.0",
            "_model_name": "LayoutModel",
            "_view_count": null,
            "_view_module": "@jupyter-widgets/base",
            "_view_module_version": "1.2.0",
            "_view_name": "LayoutView",
            "align_content": null,
            "align_items": null,
            "align_self": null,
            "border": null,
            "bottom": null,
            "display": null,
            "flex": null,
            "flex_flow": null,
            "grid_area": null,
            "grid_auto_columns": null,
            "grid_auto_flow": null,
            "grid_auto_rows": null,
            "grid_column": null,
            "grid_gap": null,
            "grid_row": null,
            "grid_template_areas": null,
            "grid_template_columns": null,
            "grid_template_rows": null,
            "height": null,
            "justify_content": null,
            "justify_items": null,
            "left": null,
            "margin": null,
            "max_height": null,
            "max_width": null,
            "min_height": null,
            "min_width": null,
            "object_fit": null,
            "object_position": null,
            "order": null,
            "overflow": null,
            "overflow_x": null,
            "overflow_y": null,
            "padding": null,
            "right": null,
            "top": null,
            "visibility": null,
            "width": null
          }
        },
        "d9cf5f6af5d947569353f1d8706a2816": {
          "model_module": "@jupyter-widgets/base",
          "model_name": "LayoutModel",
          "model_module_version": "1.2.0",
          "state": {
            "_model_module": "@jupyter-widgets/base",
            "_model_module_version": "1.2.0",
            "_model_name": "LayoutModel",
            "_view_count": null,
            "_view_module": "@jupyter-widgets/base",
            "_view_module_version": "1.2.0",
            "_view_name": "LayoutView",
            "align_content": null,
            "align_items": null,
            "align_self": null,
            "border": null,
            "bottom": null,
            "display": null,
            "flex": null,
            "flex_flow": null,
            "grid_area": null,
            "grid_auto_columns": null,
            "grid_auto_flow": null,
            "grid_auto_rows": null,
            "grid_column": null,
            "grid_gap": null,
            "grid_row": null,
            "grid_template_areas": null,
            "grid_template_columns": null,
            "grid_template_rows": null,
            "height": null,
            "justify_content": null,
            "justify_items": null,
            "left": null,
            "margin": null,
            "max_height": null,
            "max_width": null,
            "min_height": null,
            "min_width": null,
            "object_fit": null,
            "object_position": null,
            "order": null,
            "overflow": null,
            "overflow_x": null,
            "overflow_y": null,
            "padding": null,
            "right": null,
            "top": null,
            "visibility": null,
            "width": null
          }
        },
        "81c7da18624b4fa29a1f14cd3e784a1a": {
          "model_module": "@jupyter-widgets/controls",
          "model_name": "DescriptionStyleModel",
          "model_module_version": "1.5.0",
          "state": {
            "_model_module": "@jupyter-widgets/controls",
            "_model_module_version": "1.5.0",
            "_model_name": "DescriptionStyleModel",
            "_view_count": null,
            "_view_module": "@jupyter-widgets/base",
            "_view_module_version": "1.2.0",
            "_view_name": "StyleView",
            "description_width": ""
          }
        },
        "f27247cfe3724afc9709f9709b69f20f": {
          "model_module": "@jupyter-widgets/controls",
          "model_name": "ButtonModel",
          "model_module_version": "1.5.0",
          "state": {
            "_dom_classes": [],
            "_model_module": "@jupyter-widgets/controls",
            "_model_module_version": "1.5.0",
            "_model_name": "ButtonModel",
            "_view_count": null,
            "_view_module": "@jupyter-widgets/controls",
            "_view_module_version": "1.5.0",
            "_view_name": "ButtonView",
            "button_style": "",
            "description": "Verificar",
            "disabled": true,
            "icon": "",
            "layout": "IPY_MODEL_0c1bb44332a04dac83d4d29201ea0dae",
            "style": "IPY_MODEL_afe0d8c624bf416aad945d0adaeb17d5",
            "tooltip": ""
          }
        },
        "9b2f021c03c54d95a5b9927024402301": {
          "model_module": "@jupyter-widgets/base",
          "model_name": "LayoutModel",
          "model_module_version": "1.2.0",
          "state": {
            "_model_module": "@jupyter-widgets/base",
            "_model_module_version": "1.2.0",
            "_model_name": "LayoutModel",
            "_view_count": null,
            "_view_module": "@jupyter-widgets/base",
            "_view_module_version": "1.2.0",
            "_view_name": "LayoutView",
            "align_content": null,
            "align_items": null,
            "align_self": null,
            "border": null,
            "bottom": null,
            "display": null,
            "flex": null,
            "flex_flow": null,
            "grid_area": null,
            "grid_auto_columns": null,
            "grid_auto_flow": null,
            "grid_auto_rows": null,
            "grid_column": null,
            "grid_gap": null,
            "grid_row": null,
            "grid_template_areas": null,
            "grid_template_columns": null,
            "grid_template_rows": null,
            "height": null,
            "justify_content": null,
            "justify_items": null,
            "left": null,
            "margin": null,
            "max_height": null,
            "max_width": null,
            "min_height": null,
            "min_width": null,
            "object_fit": null,
            "object_position": null,
            "order": null,
            "overflow": null,
            "overflow_x": null,
            "overflow_y": null,
            "padding": null,
            "right": null,
            "top": null,
            "visibility": null,
            "width": null
          }
        },
        "0c1bb44332a04dac83d4d29201ea0dae": {
          "model_module": "@jupyter-widgets/base",
          "model_name": "LayoutModel",
          "model_module_version": "1.2.0",
          "state": {
            "_model_module": "@jupyter-widgets/base",
            "_model_module_version": "1.2.0",
            "_model_name": "LayoutModel",
            "_view_count": null,
            "_view_module": "@jupyter-widgets/base",
            "_view_module_version": "1.2.0",
            "_view_name": "LayoutView",
            "align_content": null,
            "align_items": null,
            "align_self": null,
            "border": null,
            "bottom": null,
            "display": null,
            "flex": null,
            "flex_flow": null,
            "grid_area": null,
            "grid_auto_columns": null,
            "grid_auto_flow": null,
            "grid_auto_rows": null,
            "grid_column": null,
            "grid_gap": null,
            "grid_row": null,
            "grid_template_areas": null,
            "grid_template_columns": null,
            "grid_template_rows": null,
            "height": null,
            "justify_content": null,
            "justify_items": null,
            "left": null,
            "margin": null,
            "max_height": null,
            "max_width": null,
            "min_height": null,
            "min_width": null,
            "object_fit": null,
            "object_position": null,
            "order": null,
            "overflow": null,
            "overflow_x": null,
            "overflow_y": null,
            "padding": null,
            "right": null,
            "top": null,
            "visibility": null,
            "width": null
          }
        },
        "afe0d8c624bf416aad945d0adaeb17d5": {
          "model_module": "@jupyter-widgets/controls",
          "model_name": "ButtonStyleModel",
          "model_module_version": "1.5.0",
          "state": {
            "_model_module": "@jupyter-widgets/controls",
            "_model_module_version": "1.5.0",
            "_model_name": "ButtonStyleModel",
            "_view_count": null,
            "_view_module": "@jupyter-widgets/base",
            "_view_module_version": "1.2.0",
            "_view_name": "StyleView",
            "button_color": null,
            "font_weight": ""
          }
        },
        "0a2255de985c47e2a3d72d7c80bd5bbe": {
          "model_module": "@jupyter-widgets/output",
          "model_name": "OutputModel",
          "model_module_version": "1.0.0",
          "state": {
            "_dom_classes": [],
            "_model_module": "@jupyter-widgets/output",
            "_model_module_version": "1.0.0",
            "_model_name": "OutputModel",
            "_view_count": null,
            "_view_module": "@jupyter-widgets/output",
            "_view_module_version": "1.0.0",
            "_view_name": "OutputView",
            "layout": "IPY_MODEL_c8c97550e429447fa9daa54009b8e192",
            "msg_id": "",
            "outputs": [
              {
                "output_type": "display_data",
                "data": {
                  "text/plain": "<IPython.core.display.HTML object>",
                  "text/html": "<b><font color=\"blue\">Parabéns, você acertou a questão.</font>"
                },
                "metadata": {}
              }
            ]
          }
        },
        "c8c97550e429447fa9daa54009b8e192": {
          "model_module": "@jupyter-widgets/base",
          "model_name": "LayoutModel",
          "model_module_version": "1.2.0",
          "state": {
            "_model_module": "@jupyter-widgets/base",
            "_model_module_version": "1.2.0",
            "_model_name": "LayoutModel",
            "_view_count": null,
            "_view_module": "@jupyter-widgets/base",
            "_view_module_version": "1.2.0",
            "_view_name": "LayoutView",
            "align_content": null,
            "align_items": null,
            "align_self": null,
            "border": null,
            "bottom": null,
            "display": null,
            "flex": null,
            "flex_flow": null,
            "grid_area": null,
            "grid_auto_columns": null,
            "grid_auto_flow": null,
            "grid_auto_rows": null,
            "grid_column": null,
            "grid_gap": null,
            "grid_row": null,
            "grid_template_areas": null,
            "grid_template_columns": null,
            "grid_template_rows": null,
            "height": null,
            "justify_content": null,
            "justify_items": null,
            "left": null,
            "margin": null,
            "max_height": null,
            "max_width": null,
            "min_height": null,
            "min_width": null,
            "object_fit": null,
            "object_position": null,
            "order": null,
            "overflow": null,
            "overflow_x": null,
            "overflow_y": null,
            "padding": null,
            "right": null,
            "top": null,
            "visibility": null,
            "width": null
          }
        },
        "4a6a72a5ac0441cfbf564d50ff23ac65": {
          "model_module": "@jupyter-widgets/controls",
          "model_name": "HBoxModel",
          "model_module_version": "1.5.0",
          "state": {
            "_dom_classes": [],
            "_model_module": "@jupyter-widgets/controls",
            "_model_module_version": "1.5.0",
            "_model_name": "HBoxModel",
            "_view_count": null,
            "_view_module": "@jupyter-widgets/controls",
            "_view_module_version": "1.5.0",
            "_view_name": "HBoxView",
            "box_style": "",
            "children": [
              "IPY_MODEL_9db60c55871c49ffb5dd88853e38ea11",
              "IPY_MODEL_2acb9c30fdf6415cb0d27f9a927451e6"
            ],
            "layout": "IPY_MODEL_6a51920c77c14873b97c13cc11c52aae"
          }
        },
        "9db60c55871c49ffb5dd88853e38ea11": {
          "model_module": "@jupyter-widgets/controls",
          "model_name": "RadioButtonsModel",
          "model_module_version": "1.5.0",
          "state": {
            "_dom_classes": [],
            "_model_module": "@jupyter-widgets/controls",
            "_model_module_version": "1.5.0",
            "_model_name": "RadioButtonsModel",
            "_options_labels": [
              "Sim",
              "Não"
            ],
            "_view_count": null,
            "_view_module": "@jupyter-widgets/controls",
            "_view_module_version": "1.5.0",
            "_view_name": "RadioButtonsView",
            "description": "Resposta:",
            "description_tooltip": null,
            "disabled": false,
            "index": null,
            "layout": "IPY_MODEL_3c45b23fc18e443580973576e61749d8",
            "style": "IPY_MODEL_7634f5f48f274d86b854614ab6086cce"
          }
        },
        "2acb9c30fdf6415cb0d27f9a927451e6": {
          "model_module": "@jupyter-widgets/controls",
          "model_name": "HBoxModel",
          "model_module_version": "1.5.0",
          "state": {
            "_dom_classes": [],
            "_model_module": "@jupyter-widgets/controls",
            "_model_module_version": "1.5.0",
            "_model_name": "HBoxModel",
            "_view_count": null,
            "_view_module": "@jupyter-widgets/controls",
            "_view_module_version": "1.5.0",
            "_view_name": "HBoxView",
            "box_style": "",
            "children": [
              "IPY_MODEL_494e4f4ab10443caac817dc4b2319c9c"
            ],
            "layout": "IPY_MODEL_7417e9d8e3cc43b19e8a7eaa44e6bb79"
          }
        },
        "6a51920c77c14873b97c13cc11c52aae": {
          "model_module": "@jupyter-widgets/base",
          "model_name": "LayoutModel",
          "model_module_version": "1.2.0",
          "state": {
            "_model_module": "@jupyter-widgets/base",
            "_model_module_version": "1.2.0",
            "_model_name": "LayoutModel",
            "_view_count": null,
            "_view_module": "@jupyter-widgets/base",
            "_view_module_version": "1.2.0",
            "_view_name": "LayoutView",
            "align_content": null,
            "align_items": null,
            "align_self": null,
            "border": null,
            "bottom": null,
            "display": null,
            "flex": null,
            "flex_flow": null,
            "grid_area": null,
            "grid_auto_columns": null,
            "grid_auto_flow": null,
            "grid_auto_rows": null,
            "grid_column": null,
            "grid_gap": null,
            "grid_row": null,
            "grid_template_areas": null,
            "grid_template_columns": null,
            "grid_template_rows": null,
            "height": null,
            "justify_content": null,
            "justify_items": null,
            "left": null,
            "margin": null,
            "max_height": null,
            "max_width": null,
            "min_height": null,
            "min_width": null,
            "object_fit": null,
            "object_position": null,
            "order": null,
            "overflow": null,
            "overflow_x": null,
            "overflow_y": null,
            "padding": null,
            "right": null,
            "top": null,
            "visibility": null,
            "width": null
          }
        },
        "3c45b23fc18e443580973576e61749d8": {
          "model_module": "@jupyter-widgets/base",
          "model_name": "LayoutModel",
          "model_module_version": "1.2.0",
          "state": {
            "_model_module": "@jupyter-widgets/base",
            "_model_module_version": "1.2.0",
            "_model_name": "LayoutModel",
            "_view_count": null,
            "_view_module": "@jupyter-widgets/base",
            "_view_module_version": "1.2.0",
            "_view_name": "LayoutView",
            "align_content": null,
            "align_items": null,
            "align_self": null,
            "border": null,
            "bottom": null,
            "display": null,
            "flex": null,
            "flex_flow": null,
            "grid_area": null,
            "grid_auto_columns": null,
            "grid_auto_flow": null,
            "grid_auto_rows": null,
            "grid_column": null,
            "grid_gap": null,
            "grid_row": null,
            "grid_template_areas": null,
            "grid_template_columns": null,
            "grid_template_rows": null,
            "height": null,
            "justify_content": null,
            "justify_items": null,
            "left": null,
            "margin": null,
            "max_height": null,
            "max_width": null,
            "min_height": null,
            "min_width": null,
            "object_fit": null,
            "object_position": null,
            "order": null,
            "overflow": null,
            "overflow_x": null,
            "overflow_y": null,
            "padding": null,
            "right": null,
            "top": null,
            "visibility": null,
            "width": null
          }
        },
        "7634f5f48f274d86b854614ab6086cce": {
          "model_module": "@jupyter-widgets/controls",
          "model_name": "DescriptionStyleModel",
          "model_module_version": "1.5.0",
          "state": {
            "_model_module": "@jupyter-widgets/controls",
            "_model_module_version": "1.5.0",
            "_model_name": "DescriptionStyleModel",
            "_view_count": null,
            "_view_module": "@jupyter-widgets/base",
            "_view_module_version": "1.2.0",
            "_view_name": "StyleView",
            "description_width": ""
          }
        },
        "494e4f4ab10443caac817dc4b2319c9c": {
          "model_module": "@jupyter-widgets/controls",
          "model_name": "ButtonModel",
          "model_module_version": "1.5.0",
          "state": {
            "_dom_classes": [],
            "_model_module": "@jupyter-widgets/controls",
            "_model_module_version": "1.5.0",
            "_model_name": "ButtonModel",
            "_view_count": null,
            "_view_module": "@jupyter-widgets/controls",
            "_view_module_version": "1.5.0",
            "_view_name": "ButtonView",
            "button_style": "",
            "description": "Verificar",
            "disabled": false,
            "icon": "",
            "layout": "IPY_MODEL_e6a145ad85a84a13bd55ed697e208d61",
            "style": "IPY_MODEL_27c877f7a6594daa89fc214cf9441431",
            "tooltip": ""
          }
        },
        "7417e9d8e3cc43b19e8a7eaa44e6bb79": {
          "model_module": "@jupyter-widgets/base",
          "model_name": "LayoutModel",
          "model_module_version": "1.2.0",
          "state": {
            "_model_module": "@jupyter-widgets/base",
            "_model_module_version": "1.2.0",
            "_model_name": "LayoutModel",
            "_view_count": null,
            "_view_module": "@jupyter-widgets/base",
            "_view_module_version": "1.2.0",
            "_view_name": "LayoutView",
            "align_content": null,
            "align_items": null,
            "align_self": null,
            "border": null,
            "bottom": null,
            "display": null,
            "flex": null,
            "flex_flow": null,
            "grid_area": null,
            "grid_auto_columns": null,
            "grid_auto_flow": null,
            "grid_auto_rows": null,
            "grid_column": null,
            "grid_gap": null,
            "grid_row": null,
            "grid_template_areas": null,
            "grid_template_columns": null,
            "grid_template_rows": null,
            "height": null,
            "justify_content": null,
            "justify_items": null,
            "left": null,
            "margin": null,
            "max_height": null,
            "max_width": null,
            "min_height": null,
            "min_width": null,
            "object_fit": null,
            "object_position": null,
            "order": null,
            "overflow": null,
            "overflow_x": null,
            "overflow_y": null,
            "padding": null,
            "right": null,
            "top": null,
            "visibility": null,
            "width": null
          }
        },
        "e6a145ad85a84a13bd55ed697e208d61": {
          "model_module": "@jupyter-widgets/base",
          "model_name": "LayoutModel",
          "model_module_version": "1.2.0",
          "state": {
            "_model_module": "@jupyter-widgets/base",
            "_model_module_version": "1.2.0",
            "_model_name": "LayoutModel",
            "_view_count": null,
            "_view_module": "@jupyter-widgets/base",
            "_view_module_version": "1.2.0",
            "_view_name": "LayoutView",
            "align_content": null,
            "align_items": null,
            "align_self": null,
            "border": null,
            "bottom": null,
            "display": null,
            "flex": null,
            "flex_flow": null,
            "grid_area": null,
            "grid_auto_columns": null,
            "grid_auto_flow": null,
            "grid_auto_rows": null,
            "grid_column": null,
            "grid_gap": null,
            "grid_row": null,
            "grid_template_areas": null,
            "grid_template_columns": null,
            "grid_template_rows": null,
            "height": null,
            "justify_content": null,
            "justify_items": null,
            "left": null,
            "margin": null,
            "max_height": null,
            "max_width": null,
            "min_height": null,
            "min_width": null,
            "object_fit": null,
            "object_position": null,
            "order": null,
            "overflow": null,
            "overflow_x": null,
            "overflow_y": null,
            "padding": null,
            "right": null,
            "top": null,
            "visibility": null,
            "width": null
          }
        },
        "27c877f7a6594daa89fc214cf9441431": {
          "model_module": "@jupyter-widgets/controls",
          "model_name": "ButtonStyleModel",
          "model_module_version": "1.5.0",
          "state": {
            "_model_module": "@jupyter-widgets/controls",
            "_model_module_version": "1.5.0",
            "_model_name": "ButtonStyleModel",
            "_view_count": null,
            "_view_module": "@jupyter-widgets/base",
            "_view_module_version": "1.2.0",
            "_view_name": "StyleView",
            "button_color": null,
            "font_weight": ""
          }
        },
        "0fa7cd47eaed42b682fd5ef93acf8c54": {
          "model_module": "@jupyter-widgets/output",
          "model_name": "OutputModel",
          "model_module_version": "1.0.0",
          "state": {
            "_dom_classes": [],
            "_model_module": "@jupyter-widgets/output",
            "_model_module_version": "1.0.0",
            "_model_name": "OutputModel",
            "_view_count": null,
            "_view_module": "@jupyter-widgets/output",
            "_view_module_version": "1.0.0",
            "_view_name": "OutputView",
            "layout": "IPY_MODEL_9287152d077440678732dadb5fb36fe4",
            "msg_id": "",
            "outputs": []
          }
        },
        "9287152d077440678732dadb5fb36fe4": {
          "model_module": "@jupyter-widgets/base",
          "model_name": "LayoutModel",
          "model_module_version": "1.2.0",
          "state": {
            "_model_module": "@jupyter-widgets/base",
            "_model_module_version": "1.2.0",
            "_model_name": "LayoutModel",
            "_view_count": null,
            "_view_module": "@jupyter-widgets/base",
            "_view_module_version": "1.2.0",
            "_view_name": "LayoutView",
            "align_content": null,
            "align_items": null,
            "align_self": null,
            "border": null,
            "bottom": null,
            "display": null,
            "flex": null,
            "flex_flow": null,
            "grid_area": null,
            "grid_auto_columns": null,
            "grid_auto_flow": null,
            "grid_auto_rows": null,
            "grid_column": null,
            "grid_gap": null,
            "grid_row": null,
            "grid_template_areas": null,
            "grid_template_columns": null,
            "grid_template_rows": null,
            "height": null,
            "justify_content": null,
            "justify_items": null,
            "left": null,
            "margin": null,
            "max_height": null,
            "max_width": null,
            "min_height": null,
            "min_width": null,
            "object_fit": null,
            "object_position": null,
            "order": null,
            "overflow": null,
            "overflow_x": null,
            "overflow_y": null,
            "padding": null,
            "right": null,
            "top": null,
            "visibility": null,
            "width": null
          }
        }
      }
    }
  },
  "nbformat": 4,
  "nbformat_minor": 0
}