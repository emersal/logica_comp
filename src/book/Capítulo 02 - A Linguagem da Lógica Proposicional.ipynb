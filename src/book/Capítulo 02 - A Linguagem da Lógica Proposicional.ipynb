{
  "cells": [
    {
      "cell_type": "markdown",
      "metadata": {
        "id": "fcbGPQLa3VqH"
      },
      "source": [
        "# Lógica para Computação: A Linguagem da Lógica Proposicional\n",
        "> *Autor: Davi Romero de Vasconcelos, daviromero@ufc.br, Universidade Federal do Ceará, Campus de Quixadá, Março de 2022*.\n",
        "> *(Última atualização 15/03/2022)*\n",
        "\n",
        "Este material foi preparado para a disciplina de Lógica para Computação com a finalidade de apresentar os conceitos básicos de Lógica, utilizando a Linguagem de Programação Python para auxiliar no ensino-aprendizagem da disciplina. Para cada seção é apresentado um link (no título da seção) com um vídeo explicando o conteúdo a ser abordado. Uma Playlist com todo o conteúdo de Lógica para Computação está disponível no [YouTube](https://youtube.com/playlist?list=PLfOnKvd6pFiq_BUI-llPhDeGR55P6nHfr)."
      ]
    },
    {
      "cell_type": "code",
      "execution_count": 2,
      "metadata": {
        "cellView": "form",
        "colab": {
          "base_uri": "https://localhost:8080/"
        },
        "id": "gP3Ni8zRC5sM",
        "outputId": "ee8906c3-3e43-4506-874c-36ffdce3e792"
      },
      "outputs": [
        {
          "output_type": "stream",
          "name": "stdout",
          "text": [
            "  Preparing metadata (setup.py) ... \u001b[?25l\u001b[?25hdone\n",
            "\u001b[2K   \u001b[90m━━━━━━━━━━━━━━━━━━━━━━━━━━━━━━━━━━━━━━━━\u001b[0m \u001b[32m117.8/117.8 kB\u001b[0m \u001b[31m4.4 MB/s\u001b[0m eta \u001b[36m0:00:00\u001b[0m\n",
            "\u001b[2K   \u001b[90m━━━━━━━━━━━━━━━━━━━━━━━━━━━━━━━━━━━━━━━━\u001b[0m \u001b[32m722.2/722.2 kB\u001b[0m \u001b[31m16.0 MB/s\u001b[0m eta \u001b[36m0:00:00\u001b[0m\n",
            "\u001b[2K   \u001b[90m━━━━━━━━━━━━━━━━━━━━━━━━━━━━━━━━━━━━━━━━\u001b[0m \u001b[32m1.6/1.6 MB\u001b[0m \u001b[31m35.2 MB/s\u001b[0m eta \u001b[36m0:00:00\u001b[0m\n",
            "\u001b[?25h  Building wheel for logic4py (setup.py) ... \u001b[?25l\u001b[?25hdone\n"
          ]
        }
      ],
      "source": [
        "#@title Implementação em Python dos conceitos sobre a Linguagem da Lógica Proposicional\n",
        "#@markdown Não é necessário conhecer o código aqui implementado ou mesmo ter um conhecimento profundo da linguagem Python. Basta acompanhar os exemplos e experimentar construir suas próprias demonstrações.\n",
        "#@markdown >*Execute esta célula (`ctrl+enter` ou clicando no botão ao lado) para que o ambiente seja carregado com as classes implementadas.*\n",
        "#!pip install logic4py -q\n",
        "!pip install git+https://github.com/daviromero/logic4py.git -q\n",
        "from logic4py.logic_gui import verify_formula, check_def_formula_proof, verify_formula_function_set, verify_formula_function_atoms, verify_formula_function\n",
        "from logic4py.formula import get_subformulas, tam, get_atoms, num_atoms, num_atom_atoms, num_conectives, num_negations, num_parentheses, num_binary_conectives"
      ]
    },
    {
      "cell_type": "markdown",
      "metadata": {
        "id": "3J8GKueYxOiy"
      },
      "source": [
        "# [A Linguagem da Lógica Proposicional](https://youtu.be/4Z80VBkyVsc)\n",
        "\n",
        "Para definirmos a linguagem da lógica proposicional, inicialmente precisamos apresentar o alfabeto da linguagem, ou seja, os símbolos que serão utilizados para construir a linguagem.\n",
        "\n",
        "> **Definição:** O **Alfabeto da Lógica Proposicional** é constituído de:\n",
        "- Símbolos de pontuação: $($ e $)$\n",
        "- Um conjunto enumerável de símbolos proposicionais: $\\mathcal{P}=\\{P_0, P_1, P_2,\\ldots\\}$\n",
        "- Conectivos proposicionais: $\\lnot, \\land, \\lor, \\rightarrow, \\leftrightarrow$, onde\n",
        "  - o símbolo $\\lnot$ (lê-se \"NÃO\") denota a negação\n",
        "  - o símbolo $\\land$ (lê-se \"E\") denota a conjunção lógica\n",
        "  - o símbolo $\\lor$ (lê-se \"OU\") denota a disjunção lógica\n",
        "  - o símbolo $\\rightarrow$ (lê-se \"SE-ENTÃO\") denota a implicação lógica\n",
        "  - o símbolo $\\leftrightarrow$ (lê-se \"SE-SOMENTE-SE\") denota a equivalência lógica\n",
        "\n",
        "Uma vez definido o albabeto da lógica, podemos definir a linguagem da lógica.\n",
        "\n",
        "> **Definição:** O conjunto $\\mathcal{L}_{LP}$ das fórmulas proposicionais, denominado de **Linguagem da Lógica Proposicional**, é definido indutivamente como o *menor conjunto*, satisfazendo as seguintes regras de formação:\n",
        "1. Caso Básico: Todos os símbolos proposicionais estão em $\\mathcal{L}_{LP}$, ou seja, $\\mathcal{P}\\subseteq\\mathcal{L}_{LP}$. Os símbolos proposicionais são chamados de **fórmulas atômicas ou átomos**.\n",
        "1. Caso Indutivo $\\lnot$: Se $\\varphi\\in\\mathcal{L}_{LP}$, então $(\\lnot\\varphi)\\in\\mathcal{L}_{LP}$\n",
        "1. Caso Indutivo $\\land$: Se $\\varphi,\\psi\\in\\mathcal{L}_{LP}$, então $(\\varphi\\land\\psi)\\in\\mathcal{L}_{LP}$\n",
        "1. Caso Indutivo $\\lor$: Se $\\varphi,\\psi\\in\\mathcal{L}_{LP}$, então $(\\varphi\\lor\\psi)\\in\\mathcal{L}_{LP}$\n",
        "1. Caso Indutivo $\\rightarrow$: Se $\\varphi,\\psi\\in\\mathcal{L}_{LP}$, então $(\\varphi\\rightarrow\\psi)\\in\\mathcal{L}_{LP}$\n",
        "1. Caso Indutivo $\\leftrightarrow$: Se $\\varphi,\\psi\\in\\mathcal{L}_{LP}$, então $(\\varphi\\leftrightarrow\\psi)\\in\\mathcal{L}_{LP}$\n",
        "\n",
        "*Exemplo*: São fórmulas de $\\mathcal{L}_{LP}$:\n",
        "- $P$\n",
        "- $(P \\land Q)$\n",
        "- $(P \\lor (\\lnot P))$\n",
        "- $(P \\rightarrow (Q \\rightarrow P))$\n",
        "\n",
        "Não são fórmulas de $\\mathcal{L}_{LP}$\n",
        "- $P~Q$\n",
        "- $P \\land$\n",
        "- $(P \\lnot\\land Q)$\n",
        "- $(P \\rightarrow (\\rightarrow P))$\n",
        "\n",
        "## Abreviações da Linguagem Proposicional\n",
        "Apesar do uso de parênteses ser obrigatório na definição de fórmulas, usamos abreviações na prática:\n",
        "- Os parênteses mais externos podem ser omitidos. Por exemplo, $P\\land Q$ em vez de $(P\\land Q)$, $(P\\lor Q)\\rightarrow P$\n",
        "- O uso repetido dos conectivos $\\land$ e $\\lor$ dispensa o uso de parênteses. Por exemplo, $P\\land Q\\land R$ em vez de $P\\land (Q\\land R)$\n",
        "- O uso repetido do conectivo $\\rightarrow$ dispensa o uso de parênteses, só que os parênteses aninham-se à direita. Por exemplo, $P\\rightarrow Q\\rightarrow R$ em vez de $P\\rightarrow (Q\\rightarrow R)$\n",
        "- Nas fórmula que há uma combinação de conectivos, existe uma precedência entre eles, dada pela ordem :$\\lnot,\\land,\\lor,\\rightarrow,\\leftrightarrow$. Por exemplo:\n",
        "  - $\\lnot P\\land Q$ representa $((\\lnot P)\\land Q)$\n",
        "  - $P\\lor Q\\land R$ representa $(P\\lor (Q\\land R))$\n",
        "  - $P\\lor \\lnot Q\\rightarrow R$ representa $((P\\lor (\\lnot Q))\\rightarrow R)$\n"
      ]
    },
    {
      "cell_type": "code",
      "execution_count": null,
      "metadata": {
        "cellView": "form",
        "colab": {
          "base_uri": "https://localhost:8080/",
          "height": 108,
          "referenced_widgets": [
            "48f98af1d7814be9a840cb51f00b26b4",
            "4e398264298b4c8dad21133c14bc06f2",
            "c6675971b3334ef190555871524cc997",
            "890949a1f1534cc5972030bcd27629a5",
            "e44ac256a4a44d099f488878fd6d64bc",
            "b58b872608794f1e88365a200b9342bf",
            "159a7b9af8ea496aaefcb750178347c5",
            "6f03771a198d4008bc5225ba7db7d056",
            "b120019917314dd7b9c78c1201812013",
            "71cb6c4921244d46b7fe95eaa705cd23",
            "e153ae7d078443fc8e6ea0c1e3d46767",
            "2da2586404e04dd68ea80fb1be458282",
            "cf13f3f15ef548baaa4198e7a15fd1fb",
            "4663051f6b9e4e9589cf8eaa267f8d6e",
            "dbe9dbb58fad4a699662349a34d6d4a9",
            "2ab062cd309940dca775cb2f27be27c5"
          ]
        },
        "id": "uzNb0r3mEUa7",
        "outputId": "ad0bdac3-bc18-407c-a362-6fd14128a912"
      },
      "outputs": [
        {
          "output_type": "display_data",
          "data": {
            "text/plain": [
              "<IPython.core.display.Markdown object>"
            ],
            "text/markdown": "<b>Digite sua fórmula:"
          },
          "metadata": {}
        },
        {
          "output_type": "display_data",
          "data": {
            "text/plain": [
              "Text(value='~A&B->C', layout=Layout(width='90%'), placeholder='Digite sua fórmula:')"
            ],
            "application/vnd.jupyter.widget-view+json": {
              "version_major": 2,
              "version_minor": 0,
              "model_id": "48f98af1d7814be9a840cb51f00b26b4"
            }
          },
          "metadata": {}
        },
        {
          "output_type": "display_data",
          "data": {
            "text/plain": [
              "HBox(children=(Button(description='Verificar', style=ButtonStyle()), Checkbox(value=False, description='Exibir…"
            ],
            "application/vnd.jupyter.widget-view+json": {
              "version_major": 2,
              "version_minor": 0,
              "model_id": "890949a1f1534cc5972030bcd27629a5"
            }
          },
          "metadata": {}
        },
        {
          "output_type": "display_data",
          "data": {
            "text/plain": [
              "Output()"
            ],
            "application/vnd.jupyter.widget-view+json": {
              "version_major": 2,
              "version_minor": 0,
              "model_id": "dbe9dbb58fad4a699662349a34d6d4a9"
            }
          },
          "metadata": {}
        }
      ],
      "source": [
        "#@title Exemplo: Escreva uma fórmula da Lógica Proposicional\n",
        "#@markdown Execute essa célula para gerar o seu exercício.\n",
        "#@markdown > Os átomos devem ser escritos em caixa alta (letras maiúsculas). Os conectivos da lógica serão representados nos exercícios por:\n",
        "#@markdown > - ~ (negação)\n",
        "#@markdown > - & (e)\n",
        "#@markdown > - | (ou)\n",
        "#@markdown > - -> (implicação)\n",
        "#@markdown > - <-> (bi=implicação)\n",
        "\n",
        "verify_formula('~A&B->C')"
      ]
    },
    {
      "cell_type": "markdown",
      "metadata": {
        "id": "i9E0X5hvEiVr"
      },
      "source": [
        "## Demonstrar que uma fórmula pertence à Linguagem da Lógica Proposicional\n",
        "Para demonstrarmos que uma fórmula $\\varphi$ pertence a linguagem da lógica proposicional $\\mathcal{L}_{LP}$, precisamos aplicar a definição indutiva de modo a construir a fórmula $\\varphi$ a partir da aplicação de uma sequência finita de passos (itens) da definição da linguagem da lógica .\n",
        "\n",
        "Iremos demonstrar que a fórmula $(((\\lnot P)\\land Q)\\rightarrow R)\\in\\mathcal{L}_{LP}$.\n",
        "\n",
        "\n",
        "Linha       | Fórmula da Lógica  Proposicional ($\\mathcal{L}_{LP}$)            | Justificativa\n",
        "-------------|---------------------|-----------------------------------\n",
        "(1) | $P,Q,R$ | pelo item 1 (caso base) da Def. de $\\mathcal{L}_{LP}$\n",
        "(2) | $(\\lnot P)$  | pela aplicação do item 2 (negação) da Def. de $\\mathcal{L}_{LP}$ em (1)  \n",
        "(3) | $((\\lnot P)\\land Q)$  | pela aplicação do item 3 (conjunção) da Def. de $\\mathcal{L}_{LP}$ em (2) e (1)   \n",
        "(4) | $(((\\lnot P)\\land Q)\\rightarrow R)$  | pela aplicação do item 5 (implicação) da Def. de $\\mathcal{L}_{LP}$ em (3) e (1)\n",
        "\n",
        "## Um analisador sintático para demonstrar que uma fórmula pertence à Lógica Proposicional\n",
        "Construímos um analisador sintático para verificar se as demonstrações de fórmulas estão corretas a partir de uma gramática. Para tanto faremos as seguintes observações:\n",
        "\n",
        "1. Os átomos devem ser escritos em caixa alta (letras maiúsculas).\n",
        "1. Os conectivos em ordem de precedência $\\lnot, \\land, \\lor, \\rightarrow, \\leftrightarrow$ serão representados, respectivamente, por ~, &, |, ->, <->\n",
        "1. Cada linha da demonstração deverá ser numerada em ordem sequencial e crescente, contendo um número (NUM), um ponto (.), uma fórmula e sua regra de formação (casos da definição indutiva do conjunto de fórmulas) que pode ser da seguinte forma:\n",
        "  - NUM. lista_atomos defAtomos (e.g., 1. A,B,C defAtomos)\n",
        "  - NUM. formula def~ NUM (e.g., 2. $\\textrm{~}A$ def~ 1)\n",
        "  - NUM. formula def& NUM, NUM (e.g., 3. $A\\textrm{\\&}B$ def& 1,2)\n",
        "  - NUM. formula def| NUM, NUM (e.g., 3. $A\\textrm{|}B$ def| 1,2)\n",
        "  - NUM. formula def-> NUM, NUM (e.g., 3. $A\\textrm{->}B$ def-> 1,2)\n",
        "  - NUM. formula def<-> NUM, NUM (e.g., 3. $A\\textrm{<->}B$ def<-> 1,2)\n",
        "\n",
        "Abaixo, apresentamos a demonstração de que $ ((\\lnot P)\\land Q)\\rightarrow R))$ é uma fórmula, conforme o analisador sintático definido acima:\n",
        "\n",
        "1. P,Q,R defAtomos\n",
        "1. (~ P) def~ 1\n",
        "1. ((~ P) & Q) def& 2,1\n",
        "1. (((~ P) & Q) -> R) def-> 3,1\n"
      ]
    },
    {
      "cell_type": "code",
      "execution_count": 5,
      "metadata": {
        "cellView": "form",
        "id": "xhCgWipHGHqx",
        "outputId": "0da43932-db4a-4c16-d7f8-eb21a245643d",
        "colab": {
          "base_uri": "https://localhost:8080/",
          "height": 420,
          "referenced_widgets": [
            "7b8ecfb23a804497a9af0b9a93508def",
            "3a427d8c4cc34247aaee17804061f070",
            "316a0c389a8f4da484b140ad639baf33",
            "fa8e6a21db98428ca3f26fecd985fac0",
            "b03e4e24bce04756bc81ee4e04e43eda",
            "2954ca1c276d489a9358b5b8b0e4d8af",
            "ef71e0f94cdb42ae885496d303e96bb5",
            "76627885a5a2400c9a2432178a3af984",
            "d2ef6abe067a46f785c23583f02f2845",
            "c19a30d5f5cd42fe910093cdc4b62628",
            "4d476b2932ae49b8ad5fdcc1578fc355",
            "bd0c0cbc27ce4b71aaf29929e91077e1",
            "c1b0a590b76e4ed8905f9159ecde4013"
          ]
        }
      },
      "outputs": [
        {
          "output_type": "display_data",
          "data": {
            "text/plain": [
              "HTML(value='<h3>Digite sua demonstração de que uma fórmula pertence a linguagem da lógica:</h3>')"
            ],
            "application/vnd.jupyter.widget-view+json": {
              "version_major": 2,
              "version_minor": 0,
              "model_id": "7b8ecfb23a804497a9af0b9a93508def"
            }
          },
          "metadata": {}
        },
        {
          "output_type": "display_data",
          "data": {
            "text/plain": [
              "Textarea(value='1. P,Q,R defAtomos\\n2. (~ P) def~ 1\\n3. ((~ P) & Q) def& 2,1\\n4. (((~ P) & Q) -> R) def-> 3,1'…"
            ],
            "application/vnd.jupyter.widget-view+json": {
              "version_major": 2,
              "version_minor": 0,
              "model_id": "fa8e6a21db98428ca3f26fecd985fac0"
            }
          },
          "metadata": {}
        },
        {
          "output_type": "display_data",
          "data": {
            "text/plain": [
              "HBox(children=(Button(description='Verificar', style=ButtonStyle()),))"
            ],
            "application/vnd.jupyter.widget-view+json": {
              "version_major": 2,
              "version_minor": 0,
              "model_id": "ef71e0f94cdb42ae885496d303e96bb5"
            }
          },
          "metadata": {}
        },
        {
          "output_type": "display_data",
          "data": {
            "text/plain": [
              "Output()"
            ],
            "application/vnd.jupyter.widget-view+json": {
              "version_major": 2,
              "version_minor": 0,
              "model_id": "bd0c0cbc27ce4b71aaf29929e91077e1"
            }
          },
          "metadata": {}
        }
      ],
      "source": [
        "#@title Exemplo: Demonstre que uma fórmula pertence à Lógica Proposicional\n",
        "#@markdown Execute essa célula para gerar o seu exercício.\n",
        "check_def_formula_proof(input_proof='''1. P,Q,R defAtomos\n",
        "2. (~ P) def~ 1\n",
        "3. ((~ P) & Q) def& 2,1\n",
        "4. (((~ P) & Q) -> R) def-> 3,1''')"
      ]
    },
    {
      "cell_type": "markdown",
      "metadata": {
        "id": "McZJx5wI7SeN"
      },
      "source": [
        "## Linguagem-Objeto e Meta-Linguagem\n",
        "Quando estudamos inglês, dizemos sentenças do tipo:\n",
        "            \"I love Quixadá\" é uma sentença com sujeito, verbo e objeto.\n",
        "Neste caso a língua portuguesa (a meta-linguagem) é utilizada para falar sobre sentenças da língua inglesa (a linguagem-objeto)\n",
        "\n",
        "No caso da lógica, utilizamos uma linguagem natural, a meta-linguagem, (e.g. português) para estudarmos a linguagem lógica, linguagem-objeto. Também utilizamos meta-variáveis, para expressarmos proposições. Na definição de fórmulas utilizamos as meta-variáveis $\\varphi,\\psi$ para expressarmos sentenças. Um conjunto de fórmulas será representado por $\\Gamma$. Abaixo, listamos as principais letras gregas que utilizamos em Lógica para representar fórmulas.\n",
        "\n",
        "Meta-Variável | Letra Grega | Latex\n",
        "-----|------|-----\n",
        "phi| $\\varphi$| \\varphi\n",
        "psi| $\\psi$| \\psi\n",
        "sigma | $\\sigma$| \\sigma\n",
        "alpha |$\\alpha$ | \\alpha\n",
        "beta |$\\beta$|\\beta\n",
        "gama |$\\Gamma$|\\Gamma\n",
        "\n"
      ]
    },
    {
      "cell_type": "markdown",
      "metadata": {
        "id": "xrdyxlTTxO6h"
      },
      "source": [
        "## Provas por Indução\n",
        "\n",
        "**Provas por Indução sobre os Naturais**\n",
        "> Definimos o conjunto dos **Números Naturais** $\\mathbb{N}$ indutivamente como o menor conjunto que satisfaz:\n",
        "> - O zero pertence aos naturais, i.e., $0\\in\\mathbb{N}$\n",
        "> - Se um número $k\\in\\mathbb{N}$, então $k+1\\in\\mathbb{N}$\n",
        "\n",
        "**Princípio de Indução Matemática**\n",
        "> Seja $A$ uma propriedade sobre os naturais, então A(n) para todo inteiro $n\\geq 0$ se\n",
        "> $$\\left\\{\n",
        "\\begin{align*}\n",
        "    &A(0)&\n",
        "    \\\\   &\\forall k\\left(A(k)\\Rightarrow A(k+1)\\right)&\n",
        "\\end{align*}\\right.$$\n",
        "\n",
        "\n",
        "\n",
        "**Demonstração por Indução no números naturais**\n",
        "\n",
        "> **Exemplo:**\n",
        "> Para todo $n\\geq 0$, temos que\n",
        "> $$2^0 + 2^1 + 2^2 + \\ldots + 2^n = 2^{n+1} -1$$\n",
        ">\n",
        ">Demonstração:\n",
        "> - Caso Básico ($n=0$):\n",
        "> \\begin{align*}\n",
        "2^0   = &~ 2^{0+1} -1& \\\\\n",
        "1    = &~ 2^{1} -1 & = 1\n",
        "\\end{align*}\n",
        "> - Passo Indutivo ($n=k+1$):\n",
        ">\n",
        ">  Queremos demonstrar:\n",
        "> $$2^0 + 2^1 + 2^2 + \\ldots + 2^{k+1} = 2^{k+1+1} -1$$\n",
        ">    Hipótese de Indução (HI):\n",
        "> $$2^0 + 2^1 + 2^2 + \\ldots + 2^k = 2^{k+1} -1$$\n",
        ">  Daí, temos que:\n",
        "> \\begin{align*}\n",
        "2^0 + 2^1 + 2^2 + \\ldots + 2^{k} + 2^{k+1}& = & 2^{k+1} -1 + 2^{k+1}, \\textrm{ por HI}  \\\\\n",
        "& = &  2(2^{k+1}) -1 \\\\\n",
        "& = &  2^{k+1+1} -1\n",
        "\\end{align*}\n"
      ]
    },
    {
      "cell_type": "markdown",
      "metadata": {
        "id": "P0o8BE7aVOpP"
      },
      "source": [
        "## [Provas por Indução sobre as estruturas das fórmulas](https://youtu.be/ekJaMJRXOWk)\n",
        "\n",
        "**Princípio de Indução**\n",
        "> Seja $A$ uma propriedade, então $A(\\varphi)$ para toda fórmula $\\varphi\\in\\mathcal{L}_{LP}$ se\n",
        "> $$\\left\\{\n",
        "\\begin{align*}\n",
        "       & A(P_i), \\forall P_i\\in\\mathcal{P}&\n",
        "   \\\\   & A(\\varphi)\\Rightarrow  A((\\lnot\\varphi))&\n",
        "   \\\\   & A(\\varphi), A(\\psi)\\Rightarrow A((\\varphi\\Box\\psi)), \\textrm{ onde } \\Box\\in\\{\\land,\\lor,\\rightarrow,\\leftrightarrow\\}&\n",
        "\\end{align*}\\right.$$\n",
        "\n",
        "\n",
        "> **Exemplo:** Para toda fórmula $\\varphi\\in\\mathcal{L}_{LP}$, temos que o número de parênteses de $\\varphi$ é par.\n",
        ">\n",
        "> **Demonstração**: iremos provar por indução:\n",
        "> - Caso Básico ($P_i$): Cada átomo tem 0 parênteses e 0 é par\n",
        "> - Passo Indutivo ($(\\lnot\\varphi)$):\n",
        ">\n",
        ">   Hipótese de Indução (HI):\n",
        ">   Suponha que $\\varphi$ tenha $2n$.\n",
        ">\n",
        ">   Logo, $(\\lnot\\varphi)$ tem $2 + 2n = 2(n+1)$ que é par.\n",
        "> - Passo Indutivo ($(\\varphi\\Box\\psi)$):\n",
        ">\n",
        ">   Hipótese de Indução (HI): Suponha que $\\varphi,\\psi$ tenham $2n$ e $2m$ parênteses, respectivamente.\n",
        ">\n",
        ">   Logo, $(\\varphi\\Box\\psi)$ tem $2 + 2n + 2m = 2(1+n+m)$ que é par.\n",
        "\n",
        "\n"
      ]
    },
    {
      "cell_type": "markdown",
      "metadata": {
        "id": "PLpcwHcDuFHw"
      },
      "source": [
        "## [Demonstrar que não é fórmula](https://youtu.be/5K7V6PEmrCU)\n",
        "> **Exemplo**: $P\\land\\not\\in\\mathcal{L}_{LP}$\n",
        ">\n",
        "> **Demonstração**: Suponha que $p\\land\\in X$ e $X$ satisfaz todos os itens da Def. de $\\mathcal{L}_{LP}$. Daí iremos provar que $Y=X\\setminus\\{P\\land\\}$ também satisfaz todos os itens.\n",
        "> - Caso Básico: como $P_i\\in X$, temos que $P_i\\in Y$.\n",
        "> - Caso $\\lnot$: temos que se $\\varphi\\in Y$, então $\\varphi\\in X$.  Como $X$ satisfaz item $\\lnot$, temos que $(\\lnot\\varphi)\\in X$.  Da forma das expressões $(\\lnot\\varphi)\\neq P\\land$, assim $(\\lnot\\varphi)\\in X\\setminus\\{P\\land\\}=Y$.\n",
        "> - Os outros casos são semelhantes.\n",
        ">\n",
        "> Daí temos que $X$ não é o menor conjunto que satisfaz todos os casos da Def. de $\\mathcal{L}_{LP}$.  Logo, $P\\land$ não pode pertencer a $\\mathcal{L}_{LP}$.\n"
      ]
    },
    {
      "cell_type": "markdown",
      "metadata": {
        "id": "z285KH6f4GnD"
      },
      "source": [
        "## [Definições Recursivas](https://youtu.be/8dk7ubdKqdc)\n",
        "Em matemática e em computação usualmente definimos funções por recursão.\n",
        "\n",
        "> **Exemplo:** O fatorial é definido por :\n",
        "> $$\\begin{align*}\n",
        "n!=\\left.\n",
        "\\begin{cases}\n",
        "    1, \\textrm{ se }n=0\n",
        "\\\\  n*(n-1)!, \\textrm{caso contrário}\n",
        "\\end{cases}\\right.\n",
        "\\end{align*}$$\n",
        "> Por exemplo, $3!= 3 * 2!= 3 * 2 *1!= 3 * 2 * 1 * 0!= 3 * 2 * 1 * 1= 6$"
      ]
    },
    {
      "cell_type": "markdown",
      "metadata": {
        "id": "ecECWbhiQAg8"
      },
      "source": [
        "**Exercício:** Calcule utilizando a definição recursiva acima o valor de $4!$\n",
        "> **Resposta:**\n",
        "> $4!= 4 * 3! = 4 * 3 * 2!= 4 *  3 * 2 *1!= 4 *  3 * 2 * 1 * 0!= 4 * 3 * 2 * 1 * 1= 24$"
      ]
    },
    {
      "cell_type": "markdown",
      "metadata": {
        "id": "M4Xuer6DRaLL"
      },
      "source": [
        "### Definição na Estrutura de uma Fórmula\n",
        "Em lógica temos um princípio similar na nossa sintaxe. Por exemplo, a função $f:\\mathcal{L_{P}\\rightarrow\\mathbb{N}}(\\sigma)$ retorna o número de parênteses de uma fórmula $\\varphi$ pode ser definido como segue:\n",
        "$$\\begin{align*}\n",
        "\\left.\n",
        "\\begin{cases}\n",
        "f(p_i) &=  0, \\textrm{ para }p_i \\textrm{ atômico}\n",
        "\\\\ f((\\lnot\\varphi)) &=  f(\\varphi)+2\n",
        "\\\\ f((\\varphi\\Box\\psi)) &=  f(\\varphi)+f(\\psi)+2, \\textrm{ onde } \\Box\\in\\{\\land,\\lor,\\rightarrow,\\leftrightarrow\\}\n",
        "\\end{cases}\\right.\n",
        "\\end{align*}$$\n",
        "\n",
        "\n",
        "> **Exemplo:**\n",
        "> $$\\begin{align*}\n",
        "    f((P\\rightarrow(Q\\rightarrow P)))  = & f(P) + f((Q\\rightarrow P))+2 &\n",
        "\\\\     = & f(P) + f(Q) + f(P)+2+2 &\n",
        "\\\\     = & 4 &\n",
        "\\end{align*}$$\n",
        "\n"
      ]
    },
    {
      "cell_type": "markdown",
      "metadata": {
        "id": "qKzMtkA8ReGy"
      },
      "source": [
        "**Exercício:** Calcule utilizando a definição recursiva acima o número de parênteses de $(((\\lnot A)\\lor B)\\rightarrow C)$\n",
        "> **Resposta:**\n",
        "> $$\\begin{align*}\n",
        "    f((((\\lnot A)\\lor B)\\rightarrow C)) & = f((((\\lnot A)\\lor B) + f(C)\n",
        "\\\\    & = f((f(A) + 2) \\lor B) + f(C)\n",
        "\\\\    & = f((f(A) + 2) + f(B) + 2) + f(C)\n",
        "\\\\    & = f(A) + f(B) + f(C) + 2 + 2\n",
        "\\\\    & = 4\n",
        "\\end{align*}$$\n"
      ]
    },
    {
      "cell_type": "code",
      "execution_count": null,
      "metadata": {
        "colab": {
          "base_uri": "https://localhost:8080/",
          "height": 116,
          "referenced_widgets": [
            "4a35c868f3a6474494b2c9f4f771c8f9",
            "f71fe76a2d0945e2a3212a76a7b73369",
            "2fa3c5d3bf5e4cc8b3b8e45779f536e7",
            "f22e981ca478459eb2f613b25b43b667",
            "8eec4b0be94f4874a32978bad3d9e385",
            "d164c64b17e140d3b9953a7593fe4601",
            "39b5a1612d9d4f0491e378c3c1be27cd",
            "773fb43703324690b0568ba834bf30dd",
            "f032c52f8e484080be0bd3f7bd3340d3",
            "732abed8fe90407bb66773842e3ddc71",
            "ae3bd556d9db42ef85644c3120245778",
            "dbc72f24e7cd43dd839e2aefca6134cd",
            "69fdd6bae5d74d59a85bedb1600f6175",
            "0de423a5adbd4db68a0c12de29deaa75"
          ]
        },
        "id": "KKEI4vehOnLO",
        "outputId": "44334918-0341-47d1-b2eb-60ea7a0bc517"
      },
      "outputs": [
        {
          "output_type": "display_data",
          "data": {
            "text/plain": [
              "<IPython.core.display.HTML object>"
            ],
            "text/html": [
              "<b>Considere a fórmula abaixo e calcule o número de parênteses da fórmula"
            ]
          },
          "metadata": {}
        },
        {
          "output_type": "display_data",
          "data": {
            "text/plain": [
              "HBox(children=(Text(value='(((P&(~Q)|R)->(~P)))', layout=Layout(width='40%'), placeholder='Digite sua fórmula:…"
            ],
            "application/vnd.jupyter.widget-view+json": {
              "version_major": 2,
              "version_minor": 0,
              "model_id": "4a35c868f3a6474494b2c9f4f771c8f9"
            }
          },
          "metadata": {}
        },
        {
          "output_type": "display_data",
          "data": {
            "text/plain": [
              "HBox(children=(Button(description='Executar', style=ButtonStyle()),))"
            ],
            "application/vnd.jupyter.widget-view+json": {
              "version_major": 2,
              "version_minor": 0,
              "model_id": "773fb43703324690b0568ba834bf30dd"
            }
          },
          "metadata": {}
        },
        {
          "output_type": "display_data",
          "data": {
            "text/plain": [
              "Output()"
            ],
            "application/vnd.jupyter.widget-view+json": {
              "version_major": 2,
              "version_minor": 0,
              "model_id": "69fdd6bae5d74d59a85bedb1600f6175"
            }
          },
          "metadata": {}
        }
      ],
      "source": [
        "#@title Exemplo: Calcule o número de parênteses de uma fórmula\n",
        "#@markdown Execute essa célula para gerar o seu exercício.\n",
        "verify_formula_function(num_parentheses, input_text_question='Considere a fórmula abaixo e calcule o número de parênteses da fórmula', input_formula='(((P&(~Q)|R)->(~P)))',placeholder_result='Digite o número de parênteses da fórmula ao lado')"
      ]
    },
    {
      "cell_type": "markdown",
      "metadata": {
        "id": "Una8d519Omdh"
      },
      "source": [
        "\n",
        "### O Tamanho de uma fórmula\n",
        "\n",
        "O tamanho ou complexidade $||:\\mathcal{L_P}\\rightarrow\\mathbb{N}$ de uma fórmula $\\varphi$ é definido por\n",
        "\n",
        "$$\\begin{align*}\n",
        "\\left.\n",
        "\\begin{cases}\n",
        "   |P_i| &=  1, \\textrm{ para }P_i \\textrm{ atômico}\n",
        "\\\\ |(\\lnot\\varphi)| &=  |\\varphi|+1\n",
        "\\\\ |(\\varphi\\Box\\psi)| &= |\\varphi|+|\\psi|+1\n",
        "\\end{cases}\\right.\n",
        "\\end{align*}$$\n",
        "\n",
        "\n",
        "> **Exemplo:**\n",
        "> $$\\begin{align*}\n",
        " &|(P\\rightarrow(Q\\rightarrow P))| & = & |P| + |(Q\\rightarrow P)|+1 &\n",
        "\\\\ &    & = & |P| + |Q| + |P|+1+1 &\n",
        "\\\\  &   & = & 5 &\n",
        "\\end{align*}$$\n"
      ]
    },
    {
      "cell_type": "code",
      "execution_count": null,
      "metadata": {
        "cellView": "form",
        "id": "3hLUyB99YPys"
      },
      "outputs": [],
      "source": [
        "#@title Exemplo: Calcule o tamanho de uma fórmula\n",
        "#@markdown Execute essa célula para gerar o seu exercício.\n",
        "verify_formula_function(tam, input_text_question='Considere a fórmula abaixo e calcule o tamanho da fórmula', input_formula='(((P&(~Q)|R)->(~P)))',placeholder_result='Digite o tamanho da fórmula ao lado')"
      ]
    },
    {
      "cell_type": "markdown",
      "metadata": {
        "id": "vaxrqDkfQzqf"
      },
      "source": [
        "### O conjunto de subfórmulas de uma fórmula\n",
        "O conjunto $\\textrm{Subf}:\\mathcal{L_P}\\rightarrow 2^\\mathcal{L_P}$ de subfórmulas é definido por\n",
        "\n",
        "$$\\begin{align*}\n",
        "\\left. \\begin{cases}\n",
        "      \\textrm{Subf}(P_i) &= \\{P_i\\}, \\textrm{ para }P_i \\textrm{ atômico}\n",
        "\\\\    \\textrm{Subf}((\\lnot\\varphi)) &= \\textrm{Subf}(\\varphi)\\cup\\{(\\lnot\\varphi)\\}\n",
        "\\\\    \\textrm{Subf}((\\varphi\\Box\\psi)) &= \\textrm{Subf}(\\varphi)\\cup \\textrm{Subf}(\\psi)\\cup \\{(\\varphi\\Box\\psi)\\}\n",
        "\\end{cases}\\right.\n",
        "\\end{align*}$$\n",
        "\n",
        "\n",
        "> **Exemplo:**\n",
        "> $$\\begin{align*}\n",
        "   & \\textrm{Subf}((P\\rightarrow(Q\\rightarrow P))) & = & \\textrm{Subf}(P) \\cup \\textrm{Subf}((Q\\rightarrow P))\\cup\\{(P\\rightarrow(Q\\rightarrow P))\\}\n",
        "\\\\  &   & = & \\{P\\} \\cup \\textrm{Subf}(Q) \\cup  \\textrm{Subf}(P) \\cup\\{(Q\\rightarrow P)\\}\\cup\\{(P\\rightarrow(Q\\rightarrow P))\\}\n",
        "\\\\  &   & = & \\{P\\} \\cup \\{Q\\} \\cup  \\{P\\} \\cup\\{(Q\\rightarrow P)\\}\\cup\\{(P\\rightarrow(Q\\rightarrow P))\\}\n",
        "\\\\   &  & = & \\{P,Q,(Q\\rightarrow P),(P\\rightarrow(Q\\rightarrow P))\\}\n",
        "\\end{align*}$$"
      ]
    },
    {
      "cell_type": "code",
      "execution_count": 3,
      "metadata": {
        "cellView": "form",
        "id": "Oj8ZDJYwQuMG",
        "outputId": "22cb0589-0ce2-4d2d-bd69-07ba60f22885",
        "colab": {
          "base_uri": "https://localhost:8080/",
          "height": 133,
          "referenced_widgets": [
            "23b63a5d151c45d787fb76a399778092",
            "677a86b013644aaf9e77ebcf48cdc547",
            "637a348f295545ccae8d0264cc14100e",
            "544626903690459ab115403822561af9",
            "216f759f71954aef8c5e3683e53e4bb8",
            "41f5aac7b7d84516bbd52e83075e0906",
            "5fe1be51b02c46749950c8310a09a833",
            "ac0f91fbd4d4472f904d8cdd6d226f25",
            "5fe69eda3fe0428bbdd922c392d57d57",
            "1793ade2865f4ed8a0b066a193ea6cdc",
            "f818b47b0df8402f9c144735c8bcbeaf",
            "b94b2a165f914aec8900f8a3b0194c68",
            "6fc92a9bf4374fe6a710c2a7f6d9002f",
            "a6232968ae47481ab2739c3347d314e8"
          ]
        }
      },
      "outputs": [
        {
          "output_type": "display_data",
          "data": {
            "text/plain": [
              "<IPython.core.display.HTML object>"
            ],
            "text/html": [
              "<b>Considere a fórmula abaixo e retorne o seu conjunto de subfórmulas:"
            ]
          },
          "metadata": {}
        },
        {
          "output_type": "display_data",
          "data": {
            "text/plain": [
              "<IPython.core.display.HTML object>"
            ],
            "text/html": [
              "Cada elemento do seu conjunto deve ser separado por ; (ponto-e-vírgula)"
            ]
          },
          "metadata": {}
        },
        {
          "output_type": "display_data",
          "data": {
            "text/plain": [
              "HBox(children=(Text(value='A&B->C', layout=Layout(width='40%'), placeholder='Digite sua fórmula:'), Text(value…"
            ],
            "application/vnd.jupyter.widget-view+json": {
              "version_major": 2,
              "version_minor": 0,
              "model_id": "23b63a5d151c45d787fb76a399778092"
            }
          },
          "metadata": {}
        },
        {
          "output_type": "display_data",
          "data": {
            "text/plain": [
              "HBox(children=(Button(description='Executar', style=ButtonStyle()),))"
            ],
            "application/vnd.jupyter.widget-view+json": {
              "version_major": 2,
              "version_minor": 0,
              "model_id": "ac0f91fbd4d4472f904d8cdd6d226f25"
            }
          },
          "metadata": {}
        },
        {
          "output_type": "display_data",
          "data": {
            "text/plain": [
              "Output()"
            ],
            "application/vnd.jupyter.widget-view+json": {
              "version_major": 2,
              "version_minor": 0,
              "model_id": "6fc92a9bf4374fe6a710c2a7f6d9002f"
            }
          },
          "metadata": {}
        }
      ],
      "source": [
        "#@title Exemplo: Calcule o conjunto de subfórmulas de uma fórmula\n",
        "#@markdown Execute essa célula para gerar o seu exercício.\n",
        "verify_formula_function_set(get_subformulas, input_text_question='Considere a fórmula abaixo e retorne o seu conjunto de subfórmulas', input_formula='A&B->C',placeholder_result='Digite o conjunto de subfórmulas da fórmula ao lado')"
      ]
    },
    {
      "cell_type": "markdown",
      "metadata": {
        "id": "eGLSyPE5ZH9A"
      },
      "source": [
        "\n",
        "\n",
        "### **Teorema Definição por Recursão**\n",
        "> Dados os mapeamentos $H_{p}: \\mathcal{P} \\rightarrow A$, $H_{\\lnot}: A \\rightarrow A$ e $H_{\\Box} :A\\times A\\rightarrow A$, então existe exatamente um mapeamento $F:\\mathcal{L}_{LP}\\rightarrow A$ tal que\n",
        "> $$\\begin{align*}\n",
        "\\left.\n",
        "\\begin{cases}\n",
        "   F(\\varphi) &= H_{p}(\\varphi), \\textrm{ para }\\varphi \\textrm{ atômico}\n",
        "\\\\ F((\\lnot\\varphi)) &= H_\\lnot(F(\\varphi))\n",
        "\\\\ F((\\varphi\\Box\\psi)) &= H_\\Box(F(\\varphi),F(\\psi))\\end{cases}\\right.\n",
        "\\end{align*}$$\n",
        "\n",
        "Considere as seguintes funções:\n",
        "- $H_p:\\mathcal{P}\\rightarrow\\mathbb{N}$, onde $H_p(P_i)=0$, para toda proposição $p_i\\in \\mathcal{P}$.\n",
        "- $H_{\\lnot} :\\mathbb{N} \\rightarrow\\mathbb{N}$, onde $H_\\lnot(x)=x+2$.\n",
        "- $H_{\\Box}:\\mathbb{N}\\times\\mathbb{N}\\rightarrow\\mathbb{N}$, onde $H_\\Box(x,y)=x+y+2$\n",
        "\n",
        "Aplicando o teorema da definição recursiva, temos a definição da função $F:\\mathcal{L}_{LP}\\rightarrow\\mathbb{N}$ que calcula o número de parênteses de uma fórmula:\n",
        "$$\\begin{align*}\n",
        "\\left.\n",
        "\\begin{cases}\n",
        "      F(P_i) &= H_{p}(P_i) &=& 0\n",
        "   \\\\ F((\\lnot\\varphi)) &= H_\\lnot(F(\\varphi)) &=& F(\\varphi)+2\n",
        "   \\\\ F((\\varphi\\Box\\psi)) &= H_\\Box(F(\\varphi),F(\\psi)) &=& F(\\varphi)+F(\\psi)+2\n",
        "\\end{cases}\\right.\n",
        "\\end{align*}$$"
      ]
    },
    {
      "cell_type": "markdown",
      "metadata": {
        "id": "9Ah-E3Ddckvx"
      },
      "source": [
        "## Exercícios\n",
        "Lista de Exercícios para serem respondidas em seu Colab."
      ]
    },
    {
      "cell_type": "markdown",
      "metadata": {
        "id": "WkrUFg1vq7mu"
      },
      "source": [
        "### **Exercício 1:**\n",
        "Demonstre que a fórmula `(((P&(~Q))|R)->(~P))` pertence à Lógica Proposicional"
      ]
    },
    {
      "cell_type": "code",
      "execution_count": 4,
      "metadata": {
        "cellView": "form",
        "id": "7kuTu8f2pp0G",
        "outputId": "2d6293ac-d390-4509-f120-c4a501de2bd1",
        "colab": {
          "base_uri": "https://localhost:8080/",
          "height": 420,
          "referenced_widgets": [
            "2eb43be67b764ef681247ab0f86585d6",
            "b5aaf38f93dc4862864b464f37f2c883",
            "e74adf8ac1924342be40c70e2ffd3d84",
            "149cabb44e61496aa40b5e4047860ea2",
            "e63de1b8c20b413885e3b7ddcf7bfa09",
            "c02b559d80004ff482a3c5f0ee77f087",
            "fe5be820746048708dfc6c134d1052a7",
            "9985a54c674a479ba15cd6b519893a84",
            "ac6f60790f2145e7a7368059127ae31a",
            "f396f2eed0204fb7957bfa9d8285d45f",
            "c226851968f74f859fa2ad91f1ed3d18",
            "94ac54ced7334446817c60127fdc298c",
            "9250da9ebcb5455f92086d1593c9d9ac"
          ]
        }
      },
      "outputs": [
        {
          "output_type": "display_data",
          "data": {
            "text/plain": [
              "HTML(value='<h3>Digite sua demonstração de que uma fórmula pertence a linguagem da lógica:</h3>')"
            ],
            "application/vnd.jupyter.widget-view+json": {
              "version_major": 2,
              "version_minor": 0,
              "model_id": "2eb43be67b764ef681247ab0f86585d6"
            }
          },
          "metadata": {}
        },
        {
          "output_type": "display_data",
          "data": {
            "text/plain": [
              "Textarea(value='', layout=Layout(height='300px', width='90%'), placeholder='Digite sua demonstração:')"
            ],
            "application/vnd.jupyter.widget-view+json": {
              "version_major": 2,
              "version_minor": 0,
              "model_id": "149cabb44e61496aa40b5e4047860ea2"
            }
          },
          "metadata": {}
        },
        {
          "output_type": "display_data",
          "data": {
            "text/plain": [
              "HBox(children=(Button(description='Verificar', style=ButtonStyle()),))"
            ],
            "application/vnd.jupyter.widget-view+json": {
              "version_major": 2,
              "version_minor": 0,
              "model_id": "fe5be820746048708dfc6c134d1052a7"
            }
          },
          "metadata": {}
        },
        {
          "output_type": "display_data",
          "data": {
            "text/plain": [
              "Output()"
            ],
            "application/vnd.jupyter.widget-view+json": {
              "version_major": 2,
              "version_minor": 0,
              "model_id": "94ac54ced7334446817c60127fdc298c"
            }
          },
          "metadata": {}
        }
      ],
      "source": [
        "#@title Demonstre que a fórmula `(((P&(~Q))|R)->(~P))` pertence à Lógica Proposicional\n",
        "#@markdown Execute essa célula para gerar o seu exercício.\n",
        "check_def_formula_proof(input_proof='''''')"
      ]
    },
    {
      "cell_type": "markdown",
      "metadata": {
        "id": "lQuKxbq0cqs3"
      },
      "source": [
        "### **Exercício 2:**\n",
        "1. Defina uma função $c_{\\lnot}:\\mathcal{L}_{LP}\\rightarrow\\mathbb{N}$ que calcula o número de ocorrências do conectivo unário $\\lnot$ em uma fórmula. Por exemplo, a fórmula\n",
        "$(\\lnot (A\\rightarrow~(\\lnot~B)))$ tem duas ocorrências de $\\lnot$, ou seja, $c_{\\lnot}((\\lnot (A\\rightarrow(\\lnot B))))=2$.\n",
        "1. Apresente a definição da chamada recursiva (passo-a-passo) do cálculo de $c_{\\lnot}((\\lnot (A\\rightarrow(\\lnot B))))=2$"
      ]
    },
    {
      "cell_type": "markdown",
      "metadata": {
        "id": "_MOELQuHdDPW"
      },
      "source": [
        "**Resposta:** Adicione nessa célula a resposta do exercício"
      ]
    },
    {
      "cell_type": "code",
      "execution_count": 6,
      "metadata": {
        "id": "Hf9gumTocoKc",
        "outputId": "26f8a0ca-3f56-4d7d-b70f-0d11fd9e7a4b",
        "colab": {
          "base_uri": "https://localhost:8080/",
          "height": 116,
          "referenced_widgets": [
            "276f80ad99734a4096f3fdb69719103d",
            "bc9d9a0a55fe43ad8299c47e86d1e992",
            "b147d8258ed64ae2a901bc281ad129c7",
            "bb9c3dfc93f4496cb6384e60c3b79855",
            "66e09190c7854a6aa2278be7aaba608d",
            "7813b9b445a84a4fa9c9bdd724b42bb3",
            "ed922ef235cd434e89385edd381180ca",
            "d052b38008b3429cb21f88c3764c6e71",
            "ebd1294208d64f5bbde002f28cc09f9d",
            "911022826fd44e3799432e70962fb046",
            "bd073d6cee31418fa63bf05dc1f31d9d",
            "1a1b2e29ae4040ab97d336fb5143e60e",
            "97a1d904fba04de3895a78f462a13cbb",
            "6889bc24c4e9431bb3497263aa9d54f6"
          ]
        }
      },
      "outputs": [
        {
          "output_type": "display_data",
          "data": {
            "text/plain": [
              "<IPython.core.display.HTML object>"
            ],
            "text/html": [
              "<b>Considere a fórmula abaixo e calcule o número de conectivos negação"
            ]
          },
          "metadata": {}
        },
        {
          "output_type": "display_data",
          "data": {
            "text/plain": [
              "HBox(children=(Text(value='(~(A->(~B)))', layout=Layout(width='40%'), placeholder='Digite sua fórmula:'), Text…"
            ],
            "application/vnd.jupyter.widget-view+json": {
              "version_major": 2,
              "version_minor": 0,
              "model_id": "276f80ad99734a4096f3fdb69719103d"
            }
          },
          "metadata": {}
        },
        {
          "output_type": "display_data",
          "data": {
            "text/plain": [
              "HBox(children=(Button(description='Executar', style=ButtonStyle()),))"
            ],
            "application/vnd.jupyter.widget-view+json": {
              "version_major": 2,
              "version_minor": 0,
              "model_id": "d052b38008b3429cb21f88c3764c6e71"
            }
          },
          "metadata": {}
        },
        {
          "output_type": "display_data",
          "data": {
            "text/plain": [
              "Output()"
            ],
            "application/vnd.jupyter.widget-view+json": {
              "version_major": 2,
              "version_minor": 0,
              "model_id": "97a1d904fba04de3895a78f462a13cbb"
            }
          },
          "metadata": {}
        }
      ],
      "source": [
        "#@title Calcule o número de conectivos negação de uma fórmula\n",
        "#@markdown Execute essa célula para gerar o seu exercício.\n",
        "verify_formula_function(num_negations, input_text_question='Considere a fórmula abaixo e calcule o número de conectivos negação', input_text_result='Parabéns, você acertou a questão.', input_formula='(~(A->(~B)))',placeholder_result='Digite o número de símbolos negação da fórmula ao lado')"
      ]
    },
    {
      "cell_type": "markdown",
      "metadata": {
        "id": "LV0E5KccfIp1"
      },
      "source": [
        "### **Exercício 3:**\n",
        "1. Defina uma função $c_\\Box:\\mathcal{L}_{LP}\\rightarrow\\mathbb{N}$ que calcula o número de ocorrências de conectivos binários $(\\land,\\lor,\\rightarrow,\\leftrightarrow)$ em uma fórmula. Por exemplo, a fórmula\n",
        "$(C\\lor(A\\rightarrow(\\lnot A)))$ tem duas ocorrências de $\\Box$, ou seja, $c_{\\Box}((C\\lor(A\\rightarrow(\\lnot A))))=2$.\n",
        "1. Apresente a definição da chamada recursiva (passo-a-passo) do cálculo de $c_{\\Box}((C\\lor(A\\rightarrow(\\lnot A))))=2$"
      ]
    },
    {
      "cell_type": "markdown",
      "metadata": {
        "id": "pthU8L6mgUnI"
      },
      "source": [
        "**Resposta:** Adicione nessa célula a resposta do exercício"
      ]
    },
    {
      "cell_type": "code",
      "execution_count": 7,
      "metadata": {
        "cellView": "form",
        "id": "GOdqLpfwf6A9",
        "outputId": "33a73f13-bec8-4989-b1f0-3b3954e946b5",
        "colab": {
          "base_uri": "https://localhost:8080/",
          "height": 116,
          "referenced_widgets": [
            "20262f293f8e400493f5c6adf8d91d0a",
            "0b91d03057744abd9af3eb204795c243",
            "d073206a6a5244ddb32671ca273b21ad",
            "fc3ea5793d964f4f962f81db9c74fedb",
            "e3f3800588a4410f830e7ca9826134e4",
            "716d4cba55674d83876eba816c3ac295",
            "1eaf5422bc834697b67ed3c28021aab4",
            "dc730ffad8534a3987501ce19ee5d545",
            "e7a2fb55a4b045a99c17b145e859c5b8",
            "394cfefb19754c4d980bd0e931a15f35",
            "7e12e3e88e854bb7b349361bc1e2b54f",
            "8a2a20a22d014c67998a1e3aef91628a",
            "67753b9051fc4836b50cd49e79e0a10f",
            "cb87436633c74d2a9452a706646d0f59"
          ]
        }
      },
      "outputs": [
        {
          "output_type": "display_data",
          "data": {
            "text/plain": [
              "<IPython.core.display.HTML object>"
            ],
            "text/html": [
              "<b>Considere a fórmula abaixo e calcule o número de conectivos binários"
            ]
          },
          "metadata": {}
        },
        {
          "output_type": "display_data",
          "data": {
            "text/plain": [
              "HBox(children=(Text(value='(C|(A->(~A)))', layout=Layout(width='40%'), placeholder='Digite sua fórmula:'), Tex…"
            ],
            "application/vnd.jupyter.widget-view+json": {
              "version_major": 2,
              "version_minor": 0,
              "model_id": "20262f293f8e400493f5c6adf8d91d0a"
            }
          },
          "metadata": {}
        },
        {
          "output_type": "display_data",
          "data": {
            "text/plain": [
              "HBox(children=(Button(description='Executar', style=ButtonStyle()),))"
            ],
            "application/vnd.jupyter.widget-view+json": {
              "version_major": 2,
              "version_minor": 0,
              "model_id": "dc730ffad8534a3987501ce19ee5d545"
            }
          },
          "metadata": {}
        },
        {
          "output_type": "display_data",
          "data": {
            "text/plain": [
              "Output()"
            ],
            "application/vnd.jupyter.widget-view+json": {
              "version_major": 2,
              "version_minor": 0,
              "model_id": "67753b9051fc4836b50cd49e79e0a10f"
            }
          },
          "metadata": {}
        }
      ],
      "source": [
        "#@title Calcule o número de conectivos binários de uma fórmula\n",
        "#@markdown Execute essa célula para gerar o seu exercício.\n",
        "verify_formula_function(num_binary_conectives, input_text_question='Considere a fórmula abaixo e calcule o número de conectivos binários', input_formula='(C|(A->(~A)))',placeholder_result='Digite o número de conectivos binários da fórmula ao lado')"
      ]
    },
    {
      "cell_type": "markdown",
      "metadata": {
        "id": "Jya1Je8BhIx6"
      },
      "source": [
        "### **Exercício 4:**\n",
        "1. Defina uma função $c:\\mathcal{L}_{LP}\\rightarrow\\mathbb{N}$ que calcula o número de ocorrências de conectivos $(\\lnot,\\land,\\lor,\\rightarrow,\\leftrightarrow)$ em uma fórmula. Por exemplo, a fórmula\n",
        "$(C\\lor(A\\rightarrow(\\lnot A)))$ tem três ocorrências de conectivos, ou seja, $c((C\\lor(A\\rightarrow(\\lnot A))))=3$.\n",
        "1. Apresente a definição da chamada recursiva (passo-a-passo) do cálculo de $c((C\\lor(A\\rightarrow(\\lnot A))))=3$"
      ]
    },
    {
      "cell_type": "markdown",
      "metadata": {
        "id": "vH5eXZU6hgZ1"
      },
      "source": [
        "**Resposta:** Adicione nessa célula a resposta do exercício"
      ]
    },
    {
      "cell_type": "code",
      "execution_count": 8,
      "metadata": {
        "cellView": "form",
        "id": "XJDCpByYhj9X",
        "outputId": "64a03da6-3c20-40da-b41e-7f6c8cc039e8",
        "colab": {
          "base_uri": "https://localhost:8080/",
          "height": 116,
          "referenced_widgets": [
            "40231e1592644a728f54c96b00bd2ba8",
            "c7f1b0dcd8d940ffb3414d8baa777868",
            "5ba21b70a7094fc39a1dfee3c94f892c",
            "162a596b6c22489896e7b0f089a68270",
            "72c46f38b43b4cc0995ec46047b4a2bb",
            "e4263cd610c747fa9bf28a05a3b2422b",
            "e86fde4428f1460ca9c9b058313da81e",
            "f8690e8b8445447bae1b3d697104d790",
            "d14323402b874209823bf0a87f2be90b",
            "574cf42e86e84aab9f6c89e4e06d9b09",
            "1b77469046d24433817e95c8dff48c15",
            "3fb3ebf241e9409ca4efb5452a5e4d40",
            "65a96ec1c9f74631b298597c3951ab70",
            "c8f8238279c9471880a5dfa57b483419"
          ]
        }
      },
      "outputs": [
        {
          "output_type": "display_data",
          "data": {
            "text/plain": [
              "<IPython.core.display.HTML object>"
            ],
            "text/html": [
              "<b>Considere a fórmula abaixo e calcule o número de conectivos"
            ]
          },
          "metadata": {}
        },
        {
          "output_type": "display_data",
          "data": {
            "text/plain": [
              "HBox(children=(Text(value='(C|(A->(~A)))', layout=Layout(width='40%'), placeholder='Digite sua fórmula:'), Tex…"
            ],
            "application/vnd.jupyter.widget-view+json": {
              "version_major": 2,
              "version_minor": 0,
              "model_id": "40231e1592644a728f54c96b00bd2ba8"
            }
          },
          "metadata": {}
        },
        {
          "output_type": "display_data",
          "data": {
            "text/plain": [
              "HBox(children=(Button(description='Executar', style=ButtonStyle()),))"
            ],
            "application/vnd.jupyter.widget-view+json": {
              "version_major": 2,
              "version_minor": 0,
              "model_id": "f8690e8b8445447bae1b3d697104d790"
            }
          },
          "metadata": {}
        },
        {
          "output_type": "display_data",
          "data": {
            "text/plain": [
              "Output()"
            ],
            "application/vnd.jupyter.widget-view+json": {
              "version_major": 2,
              "version_minor": 0,
              "model_id": "65a96ec1c9f74631b298597c3951ab70"
            }
          },
          "metadata": {}
        }
      ],
      "source": [
        "#@title Calcule o número de conectivos de uma fórmula\n",
        "#@markdown Execute essa célula para gerar o seu exercício.\n",
        "verify_formula_function(num_conectives, input_text_question='Considere a fórmula abaixo e calcule o número de conectivos', input_formula='(C|(A->(~A)))',placeholder_result='Digite o número de conectivos da fórmula ao lado')"
      ]
    },
    {
      "cell_type": "markdown",
      "metadata": {
        "id": "jCnL2TKjim-_"
      },
      "source": [
        "### **Exercício 5:**\n",
        "1. Defina uma função $s:\\mathcal{L}_{LP}\\rightarrow\\mathbb{N}$ que calcula o número de ocorrências de átomos em uma fórmula. Por exemplo, a fórmula\n",
        "$(C\\lor(A\\rightarrow(\\lnot A)))$ tem três ocorrências de átomos, ou seja, $s((C\\lor(A\\rightarrow(\\lnot A))))=3$.\n",
        "1. Apresente a definição da chamada recursiva (passo-a-passo) do cálculo de $s((C\\lor(A\\rightarrow(\\lnot A))))=3$"
      ]
    },
    {
      "cell_type": "markdown",
      "metadata": {
        "id": "9CbM8OvNlTC1"
      },
      "source": [
        "**Resposta:** Adicione nessa célula a resposta do exercício"
      ]
    },
    {
      "cell_type": "code",
      "execution_count": 9,
      "metadata": {
        "cellView": "form",
        "id": "zOU2AR_yfJDA",
        "outputId": "c5e38080-e89e-4b1e-a510-8c6195020346",
        "colab": {
          "base_uri": "https://localhost:8080/",
          "height": 116,
          "referenced_widgets": [
            "371924e15f504fb7bc1823f1a45a29a4",
            "066a5470ead64401956e31f45366c7a1",
            "02b7bf41e7fe49e6a267bb8acb71a7f4",
            "01c6d5167afb4ba6a925ed95f671ebd6",
            "f84bd749b9cf44cc97cb87e5ca047dc8",
            "68bb8098d24a47f68686dc95183a0273",
            "d6e1189ce6c34d44ae166f79960ba129",
            "39df05763b244e5581ec4090e3be4644",
            "a44f423afb8a4252b86df2bf35903253",
            "1cf6a5623a434ad2a6f89e52885d9b0a",
            "2ee8ccb4965148068b7e8bcbe8494ec1",
            "0aecdacb9e514dc09cd4b5bcd5ef3576",
            "790b05732a6f4a2b9caee8289ee63bdd",
            "9d7c49ee79214fd8b9f7b74884a5e524"
          ]
        }
      },
      "outputs": [
        {
          "output_type": "display_data",
          "data": {
            "text/plain": [
              "<IPython.core.display.HTML object>"
            ],
            "text/html": [
              "<b>Considere a fórmula abaixo e calcule o número ocorrências de átomos"
            ]
          },
          "metadata": {}
        },
        {
          "output_type": "display_data",
          "data": {
            "text/plain": [
              "HBox(children=(Text(value='(C|(A->(~A)))', layout=Layout(width='40%'), placeholder='Digite sua fórmula:'), Tex…"
            ],
            "application/vnd.jupyter.widget-view+json": {
              "version_major": 2,
              "version_minor": 0,
              "model_id": "371924e15f504fb7bc1823f1a45a29a4"
            }
          },
          "metadata": {}
        },
        {
          "output_type": "display_data",
          "data": {
            "text/plain": [
              "HBox(children=(Button(description='Executar', style=ButtonStyle()),))"
            ],
            "application/vnd.jupyter.widget-view+json": {
              "version_major": 2,
              "version_minor": 0,
              "model_id": "39df05763b244e5581ec4090e3be4644"
            }
          },
          "metadata": {}
        },
        {
          "output_type": "display_data",
          "data": {
            "text/plain": [
              "Output()"
            ],
            "application/vnd.jupyter.widget-view+json": {
              "version_major": 2,
              "version_minor": 0,
              "model_id": "790b05732a6f4a2b9caee8289ee63bdd"
            }
          },
          "metadata": {}
        }
      ],
      "source": [
        "#@title Calcule o número de átomos de uma fórmula\n",
        "#@markdown Execute essa célula para gerar o seu exercício.\n",
        "verify_formula_function(num_atoms, input_text_question='Considere a fórmula abaixo e calcule o número ocorrências de átomos', input_formula='(C|(A->(~A)))',placeholder_result='Digite o número de átomos da fórmula ao lado')"
      ]
    },
    {
      "cell_type": "markdown",
      "metadata": {
        "id": "WVfEmcicjE9q"
      },
      "source": [
        "### **Exercício 6:**\n",
        "1. Defina uma função $s_P:\\mathcal{L}_{LP}\\times\\mathcal{P}\\rightarrow\\mathbb{N}$ que calcula o número de ocorrências de um dado átomo em uma fórmula. Por exemplo, a fórmula\n",
        "$(C\\lor(A\\rightarrow(\\lnot A)))$ tem duas ocorrências do átomo $A$, ou seja, $s_P((C\\lor(A\\rightarrow(\\lnot A))),A)=2$.\n",
        "1. Apresente a definição da chamada recursiva (passo-a-passo) do cálculo de $s_P((C\\lor(A\\rightarrow(\\lnot A))),A)=2$"
      ]
    },
    {
      "cell_type": "markdown",
      "metadata": {
        "id": "1tRmX9YglU_L"
      },
      "source": [
        "**Resposta:** Adicione nessa célula a resposta do exercício"
      ]
    },
    {
      "cell_type": "code",
      "execution_count": 10,
      "metadata": {
        "cellView": "form",
        "id": "3D3Fy17ClVvo",
        "outputId": "c4882ab8-2552-4490-a3fe-36fff8dfbb54",
        "colab": {
          "base_uri": "https://localhost:8080/",
          "height": 116,
          "referenced_widgets": [
            "b3b26d1fbcfb4ec890498974e26d1b36",
            "c398302db8dd4c78ab247dfe13da69db",
            "868ef1320dac4b4abd0fee9d0c7ac2a7",
            "9c35a7f16157466daf18d8a128b5cea8",
            "74c83af685624112b80cd5057aa9a232",
            "56dc6ab9a7f64de8acc3f654c09e390d",
            "25d178bd15e546dfb038a95d5646305d",
            "31cc718e961044dda92ab888b7ec40d8",
            "3a597560fd3047699b7940a42e4587cf",
            "f4e948abbc134228a93148411da0a770",
            "d18c04f2cb4f47068c8a47282ecc4ab8",
            "3ab66b856ebf411d936127217be05c45",
            "edb4f70012cc44f895e114a1fec07d98",
            "b9118d53a1d549e68357269f8098510a",
            "7980cd0a59e341f8a825acb57de1daee",
            "5410fd2acba74d64a976c6a9dff5f78b"
          ]
        }
      },
      "outputs": [
        {
          "output_type": "display_data",
          "data": {
            "text/plain": [
              "<IPython.core.display.HTML object>"
            ],
            "text/html": [
              "<b>Considere a fórmula abaixo e calcule o número ocorrências de átomos:"
            ]
          },
          "metadata": {}
        },
        {
          "output_type": "display_data",
          "data": {
            "text/plain": [
              "HBox(children=(Text(value='(C|(A->(~A)))', layout=Layout(width='33.3%'), placeholder='Digite sua fórmula'), Te…"
            ],
            "application/vnd.jupyter.widget-view+json": {
              "version_major": 2,
              "version_minor": 0,
              "model_id": "b3b26d1fbcfb4ec890498974e26d1b36"
            }
          },
          "metadata": {}
        },
        {
          "output_type": "display_data",
          "data": {
            "text/plain": [
              "HBox(children=(Button(description='Executar', style=ButtonStyle()),))"
            ],
            "application/vnd.jupyter.widget-view+json": {
              "version_major": 2,
              "version_minor": 0,
              "model_id": "f4e948abbc134228a93148411da0a770"
            }
          },
          "metadata": {}
        },
        {
          "output_type": "display_data",
          "data": {
            "text/plain": [
              "Output()"
            ],
            "application/vnd.jupyter.widget-view+json": {
              "version_major": 2,
              "version_minor": 0,
              "model_id": "7980cd0a59e341f8a825acb57de1daee"
            }
          },
          "metadata": {}
        }
      ],
      "source": [
        "#@title Calcule o número de átomos de uma fórmula\n",
        "#@markdown Execute essa célula para gerar o seu exercício.\n",
        "verify_formula_function_atoms(num_atom_atoms, input_atom='A', input_text_question='Considere a fórmula abaixo e calcule o número ocorrências de átomos', input_formula='(C|(A->(~A)))',placeholder_result='Digite o número de átomos do atómo e da fórmula ao lado')\n"
      ]
    },
    {
      "cell_type": "markdown",
      "metadata": {
        "id": "Bmsn9rBTky2N"
      },
      "source": [
        "### **Exercício 7:**\n",
        "1. Defina uma função $a:\\mathcal{L}_{LP}\\rightarrow 2^\\mathcal{P}$ que calcula o conjunto de átomos em uma fórmula. Por exemplo, a fórmula\n",
        "$(C\\lor(A\\rightarrow(\\lnot A)))$ tem dois átomo $A$ e $C$, ou seja, $a((C\\lor(A\\rightarrow(\\lnot A))))=\\{A,C\\}$.\n",
        "1. Apresente a definição da chamada recursiva (passo-a-passo) do cálculo de $a((C\\lor(A\\rightarrow(\\lnot A))))=\\{A,C\\}$"
      ]
    },
    {
      "cell_type": "markdown",
      "metadata": {
        "id": "03Z6l_NdkzIS"
      },
      "source": [
        "**Resposta:** Adicione nessa célula a resposta do exercício"
      ]
    },
    {
      "cell_type": "code",
      "execution_count": 11,
      "metadata": {
        "cellView": "form",
        "id": "4VPDjR2Oek2j",
        "outputId": "8e17be12-7738-4f3f-d7ad-41dcbfecee39",
        "colab": {
          "base_uri": "https://localhost:8080/",
          "height": 133,
          "referenced_widgets": [
            "b963764ce62b4a4686c9a73eef52f2ba",
            "e0283fd19fd94684a73d06110d158629",
            "a1ecdcd9135c4062a8be6c91dcbbe2bc",
            "7c1b42d5f8aa42cdb5b1ffa98d772521",
            "8517d0c495b54ef489e93087ae8d8332",
            "487d8d3b9498451e91e7d315aba0e802",
            "8385cbacf71f48a298911a1912177f29",
            "472440098e834387bed65a261c4dc250",
            "b68e75d86a684fd6951580a5139173bd",
            "300b6aae3aba4c49b11e6e729bd2753f",
            "ffb565a84f5b4ccb98a653fad5c60f1a",
            "258d26fe825e412882db4c78060c5d10",
            "884dcb787caf40f7a0630cdbf5102c77",
            "a2d4afaf3ced4aa5ad88a7fb5378bd19"
          ]
        }
      },
      "outputs": [
        {
          "output_type": "display_data",
          "data": {
            "text/plain": [
              "<IPython.core.display.HTML object>"
            ],
            "text/html": [
              "<b>Considere a fórmula abaixo e retorne o conjunto de átomos:"
            ]
          },
          "metadata": {}
        },
        {
          "output_type": "display_data",
          "data": {
            "text/plain": [
              "<IPython.core.display.HTML object>"
            ],
            "text/html": [
              "Cada elemento do seu conjunto deve ser separado por ; (ponto-e-vírgula)"
            ]
          },
          "metadata": {}
        },
        {
          "output_type": "display_data",
          "data": {
            "text/plain": [
              "HBox(children=(Text(value='(C|(A->(~A)))', layout=Layout(width='40%'), placeholder='Digite sua fórmula:'), Tex…"
            ],
            "application/vnd.jupyter.widget-view+json": {
              "version_major": 2,
              "version_minor": 0,
              "model_id": "b963764ce62b4a4686c9a73eef52f2ba"
            }
          },
          "metadata": {}
        },
        {
          "output_type": "display_data",
          "data": {
            "text/plain": [
              "HBox(children=(Button(description='Executar', style=ButtonStyle()),))"
            ],
            "application/vnd.jupyter.widget-view+json": {
              "version_major": 2,
              "version_minor": 0,
              "model_id": "472440098e834387bed65a261c4dc250"
            }
          },
          "metadata": {}
        },
        {
          "output_type": "display_data",
          "data": {
            "text/plain": [
              "Output()"
            ],
            "application/vnd.jupyter.widget-view+json": {
              "version_major": 2,
              "version_minor": 0,
              "model_id": "884dcb787caf40f7a0630cdbf5102c77"
            }
          },
          "metadata": {}
        }
      ],
      "source": [
        "#@title Calcule o conjunto de átomos de uma fórmula\n",
        "#@markdown Execute essa célula para gerar o seu exercício.\n",
        "verify_formula_function_set(get_atoms, input_text_question='Considere a fórmula abaixo e retorne o conjunto de átomos', input_formula='(C|(A->(~A)))',placeholder_result='Digite o conjunto de átomos da fórmula ao lado')"
      ]
    },
    {
      "cell_type": "markdown",
      "metadata": {
        "id": "UyZxyns1mEGd"
      },
      "source": [
        "### **Exercício 8:**\n",
        "Demonstre que, para todas as fórmulas, o número de ocorrências de um dado átomo é sempre menor ou igual ao número de átomos da fórmula."
      ]
    },
    {
      "cell_type": "markdown",
      "metadata": {
        "id": "WZ0_UW6umIiq"
      },
      "source": [
        "**Resposta:** Adicione nessa célula a resposta do exercício"
      ]
    },
    {
      "cell_type": "markdown",
      "metadata": {
        "id": "L3SUMEW6mO0i"
      },
      "source": [
        "### **Exercício 9:**\n",
        "Sejam $\\varphi$ um fórmula, $c_\\Box$ o número de ocorrências de conectivos binários ($\\land,\\lor,\\rightarrow,\\leftrightarrow$) em $\\varphi$, e $s$ o número de ocorrências de átomos em $\\varphi$. Por exemplo, se $\\varphi$ é $(A\\rightarrow(\\lnot A))$ então $c_\\Box(\\varphi)=1$ e $s(\\varphi)=2$. Mostre usando indução que $s(\\varphi)=c_\\Box(\\varphi)+1$ para toda fórmula."
      ]
    },
    {
      "cell_type": "markdown",
      "metadata": {
        "id": "_Fx7AyTemq1d"
      },
      "source": [
        "**Resposta:** Adicione nessa célula a resposta do exercício"
      ]
    },
    {
      "cell_type": "markdown",
      "metadata": {
        "id": "PYDGQnqRmq4c"
      },
      "source": [
        "### **Exercício 10:**\n",
        "Seja $\\varphi$ um fórmula que não contenha o símbolo $\\lnot$. Mostre que o tamanho de $\\varphi$ é ímpar."
      ]
    },
    {
      "cell_type": "markdown",
      "metadata": {
        "id": "gD7jXVLBm_C0"
      },
      "source": [
        "**Resposta:** Adicione nessa célula a resposta do exercício"
      ]
    },
    {
      "cell_type": "markdown",
      "metadata": {
        "id": "pKmq5P2cVOpY"
      },
      "source": [
        "<!--NAVIGATION-->\n",
        "[< Introdução da Lógica Proposicional](./Cap%C3%ADtulo%2001%20-%20Introdu%C3%A7%C3%A3o%20%C3%A0%20L%C3%B3gica%20para%20Computa%C3%A7%C3%A3o.ipynb) | [Índice](./Index.ipynb) |  [Especificação de Problemas em Lógica Proposicional >](./Cap%C3%ADtulo%2003%20-%20Especifica%C3%A7%C3%A3o%20de%20Problemas%20em%20L%C3%B3gica%20Proposicional.ipynb)"
      ]
    },
    {
      "cell_type": "markdown",
      "metadata": {
        "id": "b0HJOIQknGRc"
      },
      "source": [
        "<!--NAVIGATION\n",
        "< [Introdução à Lógica para Computação](https://colab.research.google.com/drive/1CUBkASn5ww3D83aaXjx-qkcisLNGjz4n?usp=sharing) | [Índice](https://colab.research.google.com/drive/1Y9amjPuhY80z5rJcGC72GyfZ23TEEwUO?usp=sharing) | [Especificação de Problemas em Lógica](https://colab.research.google.com/drive/1O64NQfPLdGs1O_DGY5Ml7TUqWzSgqlIh?usp=sharing) >-->"
      ]
    }
  ],
  "metadata": {
    "colab": {
      "provenance": []
    },
    "kernelspec": {
      "display_name": "base",
      "language": "python",
      "name": "python3"
    },
    "language_info": {
      "codemirror_mode": {
        "name": "ipython",
        "version": 3
      },
      "file_extension": ".py",
      "mimetype": "text/x-python",
      "name": "python",
      "nbconvert_exporter": "python",
      "pygments_lexer": "ipython3",
      "version": "3.9.7"
    },
    "vscode": {
      "interpreter": {
        "hash": "40d3a090f54c6569ab1632332b64b2c03c39dcf918b08424e98f38b5ae0af88f"
      }
    },
    "widgets": {
      "application/vnd.jupyter.widget-state+json": {
        "48f98af1d7814be9a840cb51f00b26b4": {
          "model_module": "@jupyter-widgets/controls",
          "model_name": "TextModel",
          "model_module_version": "1.5.0",
          "state": {
            "_dom_classes": [],
            "_model_module": "@jupyter-widgets/controls",
            "_model_module_version": "1.5.0",
            "_model_name": "TextModel",
            "_view_count": null,
            "_view_module": "@jupyter-widgets/controls",
            "_view_module_version": "1.5.0",
            "_view_name": "TextView",
            "continuous_update": true,
            "description": "",
            "description_tooltip": null,
            "disabled": false,
            "layout": "IPY_MODEL_4e398264298b4c8dad21133c14bc06f2",
            "placeholder": "Digite sua fórmula:",
            "style": "IPY_MODEL_c6675971b3334ef190555871524cc997",
            "value": "~A&B->C"
          }
        },
        "4e398264298b4c8dad21133c14bc06f2": {
          "model_module": "@jupyter-widgets/base",
          "model_name": "LayoutModel",
          "model_module_version": "1.2.0",
          "state": {
            "_model_module": "@jupyter-widgets/base",
            "_model_module_version": "1.2.0",
            "_model_name": "LayoutModel",
            "_view_count": null,
            "_view_module": "@jupyter-widgets/base",
            "_view_module_version": "1.2.0",
            "_view_name": "LayoutView",
            "align_content": null,
            "align_items": null,
            "align_self": null,
            "border": null,
            "bottom": null,
            "display": null,
            "flex": null,
            "flex_flow": null,
            "grid_area": null,
            "grid_auto_columns": null,
            "grid_auto_flow": null,
            "grid_auto_rows": null,
            "grid_column": null,
            "grid_gap": null,
            "grid_row": null,
            "grid_template_areas": null,
            "grid_template_columns": null,
            "grid_template_rows": null,
            "height": null,
            "justify_content": null,
            "justify_items": null,
            "left": null,
            "margin": null,
            "max_height": null,
            "max_width": null,
            "min_height": null,
            "min_width": null,
            "object_fit": null,
            "object_position": null,
            "order": null,
            "overflow": null,
            "overflow_x": null,
            "overflow_y": null,
            "padding": null,
            "right": null,
            "top": null,
            "visibility": null,
            "width": "90%"
          }
        },
        "c6675971b3334ef190555871524cc997": {
          "model_module": "@jupyter-widgets/controls",
          "model_name": "DescriptionStyleModel",
          "model_module_version": "1.5.0",
          "state": {
            "_model_module": "@jupyter-widgets/controls",
            "_model_module_version": "1.5.0",
            "_model_name": "DescriptionStyleModel",
            "_view_count": null,
            "_view_module": "@jupyter-widgets/base",
            "_view_module_version": "1.2.0",
            "_view_name": "StyleView",
            "description_width": ""
          }
        },
        "890949a1f1534cc5972030bcd27629a5": {
          "model_module": "@jupyter-widgets/controls",
          "model_name": "HBoxModel",
          "model_module_version": "1.5.0",
          "state": {
            "_dom_classes": [],
            "_model_module": "@jupyter-widgets/controls",
            "_model_module_version": "1.5.0",
            "_model_name": "HBoxModel",
            "_view_count": null,
            "_view_module": "@jupyter-widgets/controls",
            "_view_module_version": "1.5.0",
            "_view_name": "HBoxView",
            "box_style": "",
            "children": [
              "IPY_MODEL_e44ac256a4a44d099f488878fd6d64bc",
              "IPY_MODEL_b58b872608794f1e88365a200b9342bf",
              "IPY_MODEL_159a7b9af8ea496aaefcb750178347c5"
            ],
            "layout": "IPY_MODEL_6f03771a198d4008bc5225ba7db7d056"
          }
        },
        "e44ac256a4a44d099f488878fd6d64bc": {
          "model_module": "@jupyter-widgets/controls",
          "model_name": "ButtonModel",
          "model_module_version": "1.5.0",
          "state": {
            "_dom_classes": [],
            "_model_module": "@jupyter-widgets/controls",
            "_model_module_version": "1.5.0",
            "_model_name": "ButtonModel",
            "_view_count": null,
            "_view_module": "@jupyter-widgets/controls",
            "_view_module_version": "1.5.0",
            "_view_name": "ButtonView",
            "button_style": "",
            "description": "Verificar",
            "disabled": false,
            "icon": "",
            "layout": "IPY_MODEL_b120019917314dd7b9c78c1201812013",
            "style": "IPY_MODEL_71cb6c4921244d46b7fe95eaa705cd23",
            "tooltip": ""
          }
        },
        "b58b872608794f1e88365a200b9342bf": {
          "model_module": "@jupyter-widgets/controls",
          "model_name": "CheckboxModel",
          "model_module_version": "1.5.0",
          "state": {
            "_dom_classes": [],
            "_model_module": "@jupyter-widgets/controls",
            "_model_module_version": "1.5.0",
            "_model_name": "CheckboxModel",
            "_view_count": null,
            "_view_module": "@jupyter-widgets/controls",
            "_view_module_version": "1.5.0",
            "_view_name": "CheckboxView",
            "description": "Exibir Fórmula com Parênteses",
            "description_tooltip": null,
            "disabled": false,
            "indent": true,
            "layout": "IPY_MODEL_e153ae7d078443fc8e6ea0c1e3d46767",
            "style": "IPY_MODEL_2da2586404e04dd68ea80fb1be458282",
            "value": false
          }
        },
        "159a7b9af8ea496aaefcb750178347c5": {
          "model_module": "@jupyter-widgets/controls",
          "model_name": "CheckboxModel",
          "model_module_version": "1.5.0",
          "state": {
            "_dom_classes": [],
            "_model_module": "@jupyter-widgets/controls",
            "_model_module_version": "1.5.0",
            "_model_name": "CheckboxModel",
            "_view_count": null,
            "_view_module": "@jupyter-widgets/controls",
            "_view_module_version": "1.5.0",
            "_view_name": "CheckboxView",
            "description": "Exibir Fórmula em Latex",
            "description_tooltip": null,
            "disabled": false,
            "indent": true,
            "layout": "IPY_MODEL_cf13f3f15ef548baaa4198e7a15fd1fb",
            "style": "IPY_MODEL_4663051f6b9e4e9589cf8eaa267f8d6e",
            "value": false
          }
        },
        "6f03771a198d4008bc5225ba7db7d056": {
          "model_module": "@jupyter-widgets/base",
          "model_name": "LayoutModel",
          "model_module_version": "1.2.0",
          "state": {
            "_model_module": "@jupyter-widgets/base",
            "_model_module_version": "1.2.0",
            "_model_name": "LayoutModel",
            "_view_count": null,
            "_view_module": "@jupyter-widgets/base",
            "_view_module_version": "1.2.0",
            "_view_name": "LayoutView",
            "align_content": null,
            "align_items": null,
            "align_self": null,
            "border": null,
            "bottom": null,
            "display": null,
            "flex": null,
            "flex_flow": null,
            "grid_area": null,
            "grid_auto_columns": null,
            "grid_auto_flow": null,
            "grid_auto_rows": null,
            "grid_column": null,
            "grid_gap": null,
            "grid_row": null,
            "grid_template_areas": null,
            "grid_template_columns": null,
            "grid_template_rows": null,
            "height": null,
            "justify_content": null,
            "justify_items": null,
            "left": null,
            "margin": null,
            "max_height": null,
            "max_width": null,
            "min_height": null,
            "min_width": null,
            "object_fit": null,
            "object_position": null,
            "order": null,
            "overflow": null,
            "overflow_x": null,
            "overflow_y": null,
            "padding": null,
            "right": null,
            "top": null,
            "visibility": null,
            "width": null
          }
        },
        "b120019917314dd7b9c78c1201812013": {
          "model_module": "@jupyter-widgets/base",
          "model_name": "LayoutModel",
          "model_module_version": "1.2.0",
          "state": {
            "_model_module": "@jupyter-widgets/base",
            "_model_module_version": "1.2.0",
            "_model_name": "LayoutModel",
            "_view_count": null,
            "_view_module": "@jupyter-widgets/base",
            "_view_module_version": "1.2.0",
            "_view_name": "LayoutView",
            "align_content": null,
            "align_items": null,
            "align_self": null,
            "border": null,
            "bottom": null,
            "display": null,
            "flex": null,
            "flex_flow": null,
            "grid_area": null,
            "grid_auto_columns": null,
            "grid_auto_flow": null,
            "grid_auto_rows": null,
            "grid_column": null,
            "grid_gap": null,
            "grid_row": null,
            "grid_template_areas": null,
            "grid_template_columns": null,
            "grid_template_rows": null,
            "height": null,
            "justify_content": null,
            "justify_items": null,
            "left": null,
            "margin": null,
            "max_height": null,
            "max_width": null,
            "min_height": null,
            "min_width": null,
            "object_fit": null,
            "object_position": null,
            "order": null,
            "overflow": null,
            "overflow_x": null,
            "overflow_y": null,
            "padding": null,
            "right": null,
            "top": null,
            "visibility": null,
            "width": null
          }
        },
        "71cb6c4921244d46b7fe95eaa705cd23": {
          "model_module": "@jupyter-widgets/controls",
          "model_name": "ButtonStyleModel",
          "model_module_version": "1.5.0",
          "state": {
            "_model_module": "@jupyter-widgets/controls",
            "_model_module_version": "1.5.0",
            "_model_name": "ButtonStyleModel",
            "_view_count": null,
            "_view_module": "@jupyter-widgets/base",
            "_view_module_version": "1.2.0",
            "_view_name": "StyleView",
            "button_color": null,
            "font_weight": ""
          }
        },
        "e153ae7d078443fc8e6ea0c1e3d46767": {
          "model_module": "@jupyter-widgets/base",
          "model_name": "LayoutModel",
          "model_module_version": "1.2.0",
          "state": {
            "_model_module": "@jupyter-widgets/base",
            "_model_module_version": "1.2.0",
            "_model_name": "LayoutModel",
            "_view_count": null,
            "_view_module": "@jupyter-widgets/base",
            "_view_module_version": "1.2.0",
            "_view_name": "LayoutView",
            "align_content": null,
            "align_items": null,
            "align_self": null,
            "border": null,
            "bottom": null,
            "display": null,
            "flex": null,
            "flex_flow": null,
            "grid_area": null,
            "grid_auto_columns": null,
            "grid_auto_flow": null,
            "grid_auto_rows": null,
            "grid_column": null,
            "grid_gap": null,
            "grid_row": null,
            "grid_template_areas": null,
            "grid_template_columns": null,
            "grid_template_rows": null,
            "height": null,
            "justify_content": null,
            "justify_items": null,
            "left": null,
            "margin": null,
            "max_height": null,
            "max_width": null,
            "min_height": null,
            "min_width": null,
            "object_fit": null,
            "object_position": null,
            "order": null,
            "overflow": null,
            "overflow_x": null,
            "overflow_y": null,
            "padding": null,
            "right": null,
            "top": null,
            "visibility": null,
            "width": null
          }
        },
        "2da2586404e04dd68ea80fb1be458282": {
          "model_module": "@jupyter-widgets/controls",
          "model_name": "DescriptionStyleModel",
          "model_module_version": "1.5.0",
          "state": {
            "_model_module": "@jupyter-widgets/controls",
            "_model_module_version": "1.5.0",
            "_model_name": "DescriptionStyleModel",
            "_view_count": null,
            "_view_module": "@jupyter-widgets/base",
            "_view_module_version": "1.2.0",
            "_view_name": "StyleView",
            "description_width": ""
          }
        },
        "cf13f3f15ef548baaa4198e7a15fd1fb": {
          "model_module": "@jupyter-widgets/base",
          "model_name": "LayoutModel",
          "model_module_version": "1.2.0",
          "state": {
            "_model_module": "@jupyter-widgets/base",
            "_model_module_version": "1.2.0",
            "_model_name": "LayoutModel",
            "_view_count": null,
            "_view_module": "@jupyter-widgets/base",
            "_view_module_version": "1.2.0",
            "_view_name": "LayoutView",
            "align_content": null,
            "align_items": null,
            "align_self": null,
            "border": null,
            "bottom": null,
            "display": null,
            "flex": null,
            "flex_flow": null,
            "grid_area": null,
            "grid_auto_columns": null,
            "grid_auto_flow": null,
            "grid_auto_rows": null,
            "grid_column": null,
            "grid_gap": null,
            "grid_row": null,
            "grid_template_areas": null,
            "grid_template_columns": null,
            "grid_template_rows": null,
            "height": null,
            "justify_content": null,
            "justify_items": null,
            "left": null,
            "margin": null,
            "max_height": null,
            "max_width": null,
            "min_height": null,
            "min_width": null,
            "object_fit": null,
            "object_position": null,
            "order": null,
            "overflow": null,
            "overflow_x": null,
            "overflow_y": null,
            "padding": null,
            "right": null,
            "top": null,
            "visibility": null,
            "width": null
          }
        },
        "4663051f6b9e4e9589cf8eaa267f8d6e": {
          "model_module": "@jupyter-widgets/controls",
          "model_name": "DescriptionStyleModel",
          "model_module_version": "1.5.0",
          "state": {
            "_model_module": "@jupyter-widgets/controls",
            "_model_module_version": "1.5.0",
            "_model_name": "DescriptionStyleModel",
            "_view_count": null,
            "_view_module": "@jupyter-widgets/base",
            "_view_module_version": "1.2.0",
            "_view_name": "StyleView",
            "description_width": ""
          }
        },
        "dbe9dbb58fad4a699662349a34d6d4a9": {
          "model_module": "@jupyter-widgets/output",
          "model_name": "OutputModel",
          "model_module_version": "1.0.0",
          "state": {
            "_dom_classes": [],
            "_model_module": "@jupyter-widgets/output",
            "_model_module_version": "1.0.0",
            "_model_name": "OutputModel",
            "_view_count": null,
            "_view_module": "@jupyter-widgets/output",
            "_view_module_version": "1.0.0",
            "_view_name": "OutputView",
            "layout": "IPY_MODEL_2ab062cd309940dca775cb2f27be27c5",
            "msg_id": "",
            "outputs": []
          }
        },
        "2ab062cd309940dca775cb2f27be27c5": {
          "model_module": "@jupyter-widgets/base",
          "model_name": "LayoutModel",
          "model_module_version": "1.2.0",
          "state": {
            "_model_module": "@jupyter-widgets/base",
            "_model_module_version": "1.2.0",
            "_model_name": "LayoutModel",
            "_view_count": null,
            "_view_module": "@jupyter-widgets/base",
            "_view_module_version": "1.2.0",
            "_view_name": "LayoutView",
            "align_content": null,
            "align_items": null,
            "align_self": null,
            "border": null,
            "bottom": null,
            "display": null,
            "flex": null,
            "flex_flow": null,
            "grid_area": null,
            "grid_auto_columns": null,
            "grid_auto_flow": null,
            "grid_auto_rows": null,
            "grid_column": null,
            "grid_gap": null,
            "grid_row": null,
            "grid_template_areas": null,
            "grid_template_columns": null,
            "grid_template_rows": null,
            "height": null,
            "justify_content": null,
            "justify_items": null,
            "left": null,
            "margin": null,
            "max_height": null,
            "max_width": null,
            "min_height": null,
            "min_width": null,
            "object_fit": null,
            "object_position": null,
            "order": null,
            "overflow": null,
            "overflow_x": null,
            "overflow_y": null,
            "padding": null,
            "right": null,
            "top": null,
            "visibility": null,
            "width": null
          }
        },
        "4a35c868f3a6474494b2c9f4f771c8f9": {
          "model_module": "@jupyter-widgets/controls",
          "model_name": "HBoxModel",
          "model_module_version": "1.5.0",
          "state": {
            "_dom_classes": [],
            "_model_module": "@jupyter-widgets/controls",
            "_model_module_version": "1.5.0",
            "_model_name": "HBoxModel",
            "_view_count": null,
            "_view_module": "@jupyter-widgets/controls",
            "_view_module_version": "1.5.0",
            "_view_name": "HBoxView",
            "box_style": "",
            "children": [
              "IPY_MODEL_f71fe76a2d0945e2a3212a76a7b73369",
              "IPY_MODEL_2fa3c5d3bf5e4cc8b3b8e45779f536e7"
            ],
            "layout": "IPY_MODEL_f22e981ca478459eb2f613b25b43b667"
          }
        },
        "f71fe76a2d0945e2a3212a76a7b73369": {
          "model_module": "@jupyter-widgets/controls",
          "model_name": "TextModel",
          "model_module_version": "1.5.0",
          "state": {
            "_dom_classes": [],
            "_model_module": "@jupyter-widgets/controls",
            "_model_module_version": "1.5.0",
            "_model_name": "TextModel",
            "_view_count": null,
            "_view_module": "@jupyter-widgets/controls",
            "_view_module_version": "1.5.0",
            "_view_name": "TextView",
            "continuous_update": true,
            "description": "",
            "description_tooltip": null,
            "disabled": false,
            "layout": "IPY_MODEL_8eec4b0be94f4874a32978bad3d9e385",
            "placeholder": "Digite sua fórmula:",
            "style": "IPY_MODEL_d164c64b17e140d3b9953a7593fe4601",
            "value": "(((P&(~Q)|R)->(~P)))"
          }
        },
        "2fa3c5d3bf5e4cc8b3b8e45779f536e7": {
          "model_module": "@jupyter-widgets/controls",
          "model_name": "TextModel",
          "model_module_version": "1.5.0",
          "state": {
            "_dom_classes": [],
            "_model_module": "@jupyter-widgets/controls",
            "_model_module_version": "1.5.0",
            "_model_name": "TextModel",
            "_view_count": null,
            "_view_module": "@jupyter-widgets/controls",
            "_view_module_version": "1.5.0",
            "_view_name": "TextView",
            "continuous_update": true,
            "description": "",
            "description_tooltip": null,
            "disabled": false,
            "layout": "IPY_MODEL_8eec4b0be94f4874a32978bad3d9e385",
            "placeholder": "Digite o número de parênteses da fórmula ao lado",
            "style": "IPY_MODEL_39b5a1612d9d4f0491e378c3c1be27cd",
            "value": "10"
          }
        },
        "f22e981ca478459eb2f613b25b43b667": {
          "model_module": "@jupyter-widgets/base",
          "model_name": "LayoutModel",
          "model_module_version": "1.2.0",
          "state": {
            "_model_module": "@jupyter-widgets/base",
            "_model_module_version": "1.2.0",
            "_model_name": "LayoutModel",
            "_view_count": null,
            "_view_module": "@jupyter-widgets/base",
            "_view_module_version": "1.2.0",
            "_view_name": "LayoutView",
            "align_content": null,
            "align_items": null,
            "align_self": null,
            "border": null,
            "bottom": null,
            "display": null,
            "flex": null,
            "flex_flow": null,
            "grid_area": null,
            "grid_auto_columns": null,
            "grid_auto_flow": null,
            "grid_auto_rows": null,
            "grid_column": null,
            "grid_gap": null,
            "grid_row": null,
            "grid_template_areas": null,
            "grid_template_columns": null,
            "grid_template_rows": null,
            "height": null,
            "justify_content": null,
            "justify_items": null,
            "left": null,
            "margin": null,
            "max_height": null,
            "max_width": null,
            "min_height": null,
            "min_width": null,
            "object_fit": null,
            "object_position": null,
            "order": null,
            "overflow": null,
            "overflow_x": null,
            "overflow_y": null,
            "padding": null,
            "right": null,
            "top": null,
            "visibility": null,
            "width": null
          }
        },
        "8eec4b0be94f4874a32978bad3d9e385": {
          "model_module": "@jupyter-widgets/base",
          "model_name": "LayoutModel",
          "model_module_version": "1.2.0",
          "state": {
            "_model_module": "@jupyter-widgets/base",
            "_model_module_version": "1.2.0",
            "_model_name": "LayoutModel",
            "_view_count": null,
            "_view_module": "@jupyter-widgets/base",
            "_view_module_version": "1.2.0",
            "_view_name": "LayoutView",
            "align_content": null,
            "align_items": null,
            "align_self": null,
            "border": null,
            "bottom": null,
            "display": null,
            "flex": null,
            "flex_flow": null,
            "grid_area": null,
            "grid_auto_columns": null,
            "grid_auto_flow": null,
            "grid_auto_rows": null,
            "grid_column": null,
            "grid_gap": null,
            "grid_row": null,
            "grid_template_areas": null,
            "grid_template_columns": null,
            "grid_template_rows": null,
            "height": null,
            "justify_content": null,
            "justify_items": null,
            "left": null,
            "margin": null,
            "max_height": null,
            "max_width": null,
            "min_height": null,
            "min_width": null,
            "object_fit": null,
            "object_position": null,
            "order": null,
            "overflow": null,
            "overflow_x": null,
            "overflow_y": null,
            "padding": null,
            "right": null,
            "top": null,
            "visibility": null,
            "width": "40%"
          }
        },
        "d164c64b17e140d3b9953a7593fe4601": {
          "model_module": "@jupyter-widgets/controls",
          "model_name": "DescriptionStyleModel",
          "model_module_version": "1.5.0",
          "state": {
            "_model_module": "@jupyter-widgets/controls",
            "_model_module_version": "1.5.0",
            "_model_name": "DescriptionStyleModel",
            "_view_count": null,
            "_view_module": "@jupyter-widgets/base",
            "_view_module_version": "1.2.0",
            "_view_name": "StyleView",
            "description_width": ""
          }
        },
        "39b5a1612d9d4f0491e378c3c1be27cd": {
          "model_module": "@jupyter-widgets/controls",
          "model_name": "DescriptionStyleModel",
          "model_module_version": "1.5.0",
          "state": {
            "_model_module": "@jupyter-widgets/controls",
            "_model_module_version": "1.5.0",
            "_model_name": "DescriptionStyleModel",
            "_view_count": null,
            "_view_module": "@jupyter-widgets/base",
            "_view_module_version": "1.2.0",
            "_view_name": "StyleView",
            "description_width": ""
          }
        },
        "773fb43703324690b0568ba834bf30dd": {
          "model_module": "@jupyter-widgets/controls",
          "model_name": "HBoxModel",
          "model_module_version": "1.5.0",
          "state": {
            "_dom_classes": [],
            "_model_module": "@jupyter-widgets/controls",
            "_model_module_version": "1.5.0",
            "_model_name": "HBoxModel",
            "_view_count": null,
            "_view_module": "@jupyter-widgets/controls",
            "_view_module_version": "1.5.0",
            "_view_name": "HBoxView",
            "box_style": "",
            "children": [
              "IPY_MODEL_f032c52f8e484080be0bd3f7bd3340d3"
            ],
            "layout": "IPY_MODEL_732abed8fe90407bb66773842e3ddc71"
          }
        },
        "f032c52f8e484080be0bd3f7bd3340d3": {
          "model_module": "@jupyter-widgets/controls",
          "model_name": "ButtonModel",
          "model_module_version": "1.5.0",
          "state": {
            "_dom_classes": [],
            "_model_module": "@jupyter-widgets/controls",
            "_model_module_version": "1.5.0",
            "_model_name": "ButtonModel",
            "_view_count": null,
            "_view_module": "@jupyter-widgets/controls",
            "_view_module_version": "1.5.0",
            "_view_name": "ButtonView",
            "button_style": "",
            "description": "Executar",
            "disabled": false,
            "icon": "",
            "layout": "IPY_MODEL_ae3bd556d9db42ef85644c3120245778",
            "style": "IPY_MODEL_dbc72f24e7cd43dd839e2aefca6134cd",
            "tooltip": ""
          }
        },
        "732abed8fe90407bb66773842e3ddc71": {
          "model_module": "@jupyter-widgets/base",
          "model_name": "LayoutModel",
          "model_module_version": "1.2.0",
          "state": {
            "_model_module": "@jupyter-widgets/base",
            "_model_module_version": "1.2.0",
            "_model_name": "LayoutModel",
            "_view_count": null,
            "_view_module": "@jupyter-widgets/base",
            "_view_module_version": "1.2.0",
            "_view_name": "LayoutView",
            "align_content": null,
            "align_items": null,
            "align_self": null,
            "border": null,
            "bottom": null,
            "display": null,
            "flex": null,
            "flex_flow": null,
            "grid_area": null,
            "grid_auto_columns": null,
            "grid_auto_flow": null,
            "grid_auto_rows": null,
            "grid_column": null,
            "grid_gap": null,
            "grid_row": null,
            "grid_template_areas": null,
            "grid_template_columns": null,
            "grid_template_rows": null,
            "height": null,
            "justify_content": null,
            "justify_items": null,
            "left": null,
            "margin": null,
            "max_height": null,
            "max_width": null,
            "min_height": null,
            "min_width": null,
            "object_fit": null,
            "object_position": null,
            "order": null,
            "overflow": null,
            "overflow_x": null,
            "overflow_y": null,
            "padding": null,
            "right": null,
            "top": null,
            "visibility": null,
            "width": null
          }
        },
        "ae3bd556d9db42ef85644c3120245778": {
          "model_module": "@jupyter-widgets/base",
          "model_name": "LayoutModel",
          "model_module_version": "1.2.0",
          "state": {
            "_model_module": "@jupyter-widgets/base",
            "_model_module_version": "1.2.0",
            "_model_name": "LayoutModel",
            "_view_count": null,
            "_view_module": "@jupyter-widgets/base",
            "_view_module_version": "1.2.0",
            "_view_name": "LayoutView",
            "align_content": null,
            "align_items": null,
            "align_self": null,
            "border": null,
            "bottom": null,
            "display": null,
            "flex": null,
            "flex_flow": null,
            "grid_area": null,
            "grid_auto_columns": null,
            "grid_auto_flow": null,
            "grid_auto_rows": null,
            "grid_column": null,
            "grid_gap": null,
            "grid_row": null,
            "grid_template_areas": null,
            "grid_template_columns": null,
            "grid_template_rows": null,
            "height": null,
            "justify_content": null,
            "justify_items": null,
            "left": null,
            "margin": null,
            "max_height": null,
            "max_width": null,
            "min_height": null,
            "min_width": null,
            "object_fit": null,
            "object_position": null,
            "order": null,
            "overflow": null,
            "overflow_x": null,
            "overflow_y": null,
            "padding": null,
            "right": null,
            "top": null,
            "visibility": null,
            "width": null
          }
        },
        "dbc72f24e7cd43dd839e2aefca6134cd": {
          "model_module": "@jupyter-widgets/controls",
          "model_name": "ButtonStyleModel",
          "model_module_version": "1.5.0",
          "state": {
            "_model_module": "@jupyter-widgets/controls",
            "_model_module_version": "1.5.0",
            "_model_name": "ButtonStyleModel",
            "_view_count": null,
            "_view_module": "@jupyter-widgets/base",
            "_view_module_version": "1.2.0",
            "_view_name": "StyleView",
            "button_color": null,
            "font_weight": ""
          }
        },
        "69fdd6bae5d74d59a85bedb1600f6175": {
          "model_module": "@jupyter-widgets/output",
          "model_name": "OutputModel",
          "model_module_version": "1.0.0",
          "state": {
            "_dom_classes": [],
            "_model_module": "@jupyter-widgets/output",
            "_model_module_version": "1.0.0",
            "_model_name": "OutputModel",
            "_view_count": null,
            "_view_module": "@jupyter-widgets/output",
            "_view_module_version": "1.0.0",
            "_view_name": "OutputView",
            "layout": "IPY_MODEL_0de423a5adbd4db68a0c12de29deaa75",
            "msg_id": "",
            "outputs": [
              {
                "output_type": "display_data",
                "data": {
                  "text/plain": "<IPython.core.display.HTML object>",
                  "text/html": "<b><font color=\"blue\">Parabéns, você acertou a questão.</font>"
                },
                "metadata": {}
              }
            ]
          }
        },
        "0de423a5adbd4db68a0c12de29deaa75": {
          "model_module": "@jupyter-widgets/base",
          "model_name": "LayoutModel",
          "model_module_version": "1.2.0",
          "state": {
            "_model_module": "@jupyter-widgets/base",
            "_model_module_version": "1.2.0",
            "_model_name": "LayoutModel",
            "_view_count": null,
            "_view_module": "@jupyter-widgets/base",
            "_view_module_version": "1.2.0",
            "_view_name": "LayoutView",
            "align_content": null,
            "align_items": null,
            "align_self": null,
            "border": null,
            "bottom": null,
            "display": null,
            "flex": null,
            "flex_flow": null,
            "grid_area": null,
            "grid_auto_columns": null,
            "grid_auto_flow": null,
            "grid_auto_rows": null,
            "grid_column": null,
            "grid_gap": null,
            "grid_row": null,
            "grid_template_areas": null,
            "grid_template_columns": null,
            "grid_template_rows": null,
            "height": null,
            "justify_content": null,
            "justify_items": null,
            "left": null,
            "margin": null,
            "max_height": null,
            "max_width": null,
            "min_height": null,
            "min_width": null,
            "object_fit": null,
            "object_position": null,
            "order": null,
            "overflow": null,
            "overflow_x": null,
            "overflow_y": null,
            "padding": null,
            "right": null,
            "top": null,
            "visibility": null,
            "width": null
          }
        },
        "7b8ecfb23a804497a9af0b9a93508def": {
          "model_module": "@jupyter-widgets/controls",
          "model_name": "HTMLModel",
          "model_module_version": "1.5.0",
          "state": {
            "_dom_classes": [],
            "_model_module": "@jupyter-widgets/controls",
            "_model_module_version": "1.5.0",
            "_model_name": "HTMLModel",
            "_view_count": null,
            "_view_module": "@jupyter-widgets/controls",
            "_view_module_version": "1.5.0",
            "_view_name": "HTMLView",
            "description": "",
            "description_tooltip": null,
            "layout": "IPY_MODEL_3a427d8c4cc34247aaee17804061f070",
            "placeholder": "​",
            "style": "IPY_MODEL_316a0c389a8f4da484b140ad639baf33",
            "value": "<h3>Digite sua demonstração de que uma fórmula pertence a linguagem da lógica:</h3>"
          }
        },
        "3a427d8c4cc34247aaee17804061f070": {
          "model_module": "@jupyter-widgets/base",
          "model_name": "LayoutModel",
          "model_module_version": "1.2.0",
          "state": {
            "_model_module": "@jupyter-widgets/base",
            "_model_module_version": "1.2.0",
            "_model_name": "LayoutModel",
            "_view_count": null,
            "_view_module": "@jupyter-widgets/base",
            "_view_module_version": "1.2.0",
            "_view_name": "LayoutView",
            "align_content": null,
            "align_items": null,
            "align_self": null,
            "border": null,
            "bottom": null,
            "display": null,
            "flex": null,
            "flex_flow": null,
            "grid_area": null,
            "grid_auto_columns": null,
            "grid_auto_flow": null,
            "grid_auto_rows": null,
            "grid_column": null,
            "grid_gap": null,
            "grid_row": null,
            "grid_template_areas": null,
            "grid_template_columns": null,
            "grid_template_rows": null,
            "height": null,
            "justify_content": null,
            "justify_items": null,
            "left": null,
            "margin": null,
            "max_height": null,
            "max_width": null,
            "min_height": null,
            "min_width": null,
            "object_fit": null,
            "object_position": null,
            "order": null,
            "overflow": null,
            "overflow_x": null,
            "overflow_y": null,
            "padding": null,
            "right": null,
            "top": null,
            "visibility": null,
            "width": null
          }
        },
        "316a0c389a8f4da484b140ad639baf33": {
          "model_module": "@jupyter-widgets/controls",
          "model_name": "DescriptionStyleModel",
          "model_module_version": "1.5.0",
          "state": {
            "_model_module": "@jupyter-widgets/controls",
            "_model_module_version": "1.5.0",
            "_model_name": "DescriptionStyleModel",
            "_view_count": null,
            "_view_module": "@jupyter-widgets/base",
            "_view_module_version": "1.2.0",
            "_view_name": "StyleView",
            "description_width": ""
          }
        },
        "fa8e6a21db98428ca3f26fecd985fac0": {
          "model_module": "@jupyter-widgets/controls",
          "model_name": "TextareaModel",
          "model_module_version": "1.5.0",
          "state": {
            "_dom_classes": [],
            "_model_module": "@jupyter-widgets/controls",
            "_model_module_version": "1.5.0",
            "_model_name": "TextareaModel",
            "_view_count": null,
            "_view_module": "@jupyter-widgets/controls",
            "_view_module_version": "1.5.0",
            "_view_name": "TextareaView",
            "continuous_update": true,
            "description": "",
            "description_tooltip": null,
            "disabled": false,
            "layout": "IPY_MODEL_b03e4e24bce04756bc81ee4e04e43eda",
            "placeholder": "Digite sua demonstração:",
            "rows": null,
            "style": "IPY_MODEL_2954ca1c276d489a9358b5b8b0e4d8af",
            "value": "1. P,Q,R defAtomos\n2. (~ P) def~ 1\n3. ((~ P) & Q) def& 2,1\n4. (((~ P) & Q) -> R) def-> 3,1"
          }
        },
        "b03e4e24bce04756bc81ee4e04e43eda": {
          "model_module": "@jupyter-widgets/base",
          "model_name": "LayoutModel",
          "model_module_version": "1.2.0",
          "state": {
            "_model_module": "@jupyter-widgets/base",
            "_model_module_version": "1.2.0",
            "_model_name": "LayoutModel",
            "_view_count": null,
            "_view_module": "@jupyter-widgets/base",
            "_view_module_version": "1.2.0",
            "_view_name": "LayoutView",
            "align_content": null,
            "align_items": null,
            "align_self": null,
            "border": null,
            "bottom": null,
            "display": null,
            "flex": null,
            "flex_flow": null,
            "grid_area": null,
            "grid_auto_columns": null,
            "grid_auto_flow": null,
            "grid_auto_rows": null,
            "grid_column": null,
            "grid_gap": null,
            "grid_row": null,
            "grid_template_areas": null,
            "grid_template_columns": null,
            "grid_template_rows": null,
            "height": "300px",
            "justify_content": null,
            "justify_items": null,
            "left": null,
            "margin": null,
            "max_height": null,
            "max_width": null,
            "min_height": null,
            "min_width": null,
            "object_fit": null,
            "object_position": null,
            "order": null,
            "overflow": null,
            "overflow_x": null,
            "overflow_y": null,
            "padding": null,
            "right": null,
            "top": null,
            "visibility": null,
            "width": "90%"
          }
        },
        "2954ca1c276d489a9358b5b8b0e4d8af": {
          "model_module": "@jupyter-widgets/controls",
          "model_name": "DescriptionStyleModel",
          "model_module_version": "1.5.0",
          "state": {
            "_model_module": "@jupyter-widgets/controls",
            "_model_module_version": "1.5.0",
            "_model_name": "DescriptionStyleModel",
            "_view_count": null,
            "_view_module": "@jupyter-widgets/base",
            "_view_module_version": "1.2.0",
            "_view_name": "StyleView",
            "description_width": ""
          }
        },
        "ef71e0f94cdb42ae885496d303e96bb5": {
          "model_module": "@jupyter-widgets/controls",
          "model_name": "HBoxModel",
          "model_module_version": "1.5.0",
          "state": {
            "_dom_classes": [],
            "_model_module": "@jupyter-widgets/controls",
            "_model_module_version": "1.5.0",
            "_model_name": "HBoxModel",
            "_view_count": null,
            "_view_module": "@jupyter-widgets/controls",
            "_view_module_version": "1.5.0",
            "_view_name": "HBoxView",
            "box_style": "",
            "children": [
              "IPY_MODEL_76627885a5a2400c9a2432178a3af984"
            ],
            "layout": "IPY_MODEL_d2ef6abe067a46f785c23583f02f2845"
          }
        },
        "76627885a5a2400c9a2432178a3af984": {
          "model_module": "@jupyter-widgets/controls",
          "model_name": "ButtonModel",
          "model_module_version": "1.5.0",
          "state": {
            "_dom_classes": [],
            "_model_module": "@jupyter-widgets/controls",
            "_model_module_version": "1.5.0",
            "_model_name": "ButtonModel",
            "_view_count": null,
            "_view_module": "@jupyter-widgets/controls",
            "_view_module_version": "1.5.0",
            "_view_name": "ButtonView",
            "button_style": "",
            "description": "Verificar",
            "disabled": false,
            "icon": "",
            "layout": "IPY_MODEL_c19a30d5f5cd42fe910093cdc4b62628",
            "style": "IPY_MODEL_4d476b2932ae49b8ad5fdcc1578fc355",
            "tooltip": ""
          }
        },
        "d2ef6abe067a46f785c23583f02f2845": {
          "model_module": "@jupyter-widgets/base",
          "model_name": "LayoutModel",
          "model_module_version": "1.2.0",
          "state": {
            "_model_module": "@jupyter-widgets/base",
            "_model_module_version": "1.2.0",
            "_model_name": "LayoutModel",
            "_view_count": null,
            "_view_module": "@jupyter-widgets/base",
            "_view_module_version": "1.2.0",
            "_view_name": "LayoutView",
            "align_content": null,
            "align_items": null,
            "align_self": null,
            "border": null,
            "bottom": null,
            "display": null,
            "flex": null,
            "flex_flow": null,
            "grid_area": null,
            "grid_auto_columns": null,
            "grid_auto_flow": null,
            "grid_auto_rows": null,
            "grid_column": null,
            "grid_gap": null,
            "grid_row": null,
            "grid_template_areas": null,
            "grid_template_columns": null,
            "grid_template_rows": null,
            "height": null,
            "justify_content": null,
            "justify_items": null,
            "left": null,
            "margin": null,
            "max_height": null,
            "max_width": null,
            "min_height": null,
            "min_width": null,
            "object_fit": null,
            "object_position": null,
            "order": null,
            "overflow": null,
            "overflow_x": null,
            "overflow_y": null,
            "padding": null,
            "right": null,
            "top": null,
            "visibility": null,
            "width": null
          }
        },
        "c19a30d5f5cd42fe910093cdc4b62628": {
          "model_module": "@jupyter-widgets/base",
          "model_name": "LayoutModel",
          "model_module_version": "1.2.0",
          "state": {
            "_model_module": "@jupyter-widgets/base",
            "_model_module_version": "1.2.0",
            "_model_name": "LayoutModel",
            "_view_count": null,
            "_view_module": "@jupyter-widgets/base",
            "_view_module_version": "1.2.0",
            "_view_name": "LayoutView",
            "align_content": null,
            "align_items": null,
            "align_self": null,
            "border": null,
            "bottom": null,
            "display": null,
            "flex": null,
            "flex_flow": null,
            "grid_area": null,
            "grid_auto_columns": null,
            "grid_auto_flow": null,
            "grid_auto_rows": null,
            "grid_column": null,
            "grid_gap": null,
            "grid_row": null,
            "grid_template_areas": null,
            "grid_template_columns": null,
            "grid_template_rows": null,
            "height": null,
            "justify_content": null,
            "justify_items": null,
            "left": null,
            "margin": null,
            "max_height": null,
            "max_width": null,
            "min_height": null,
            "min_width": null,
            "object_fit": null,
            "object_position": null,
            "order": null,
            "overflow": null,
            "overflow_x": null,
            "overflow_y": null,
            "padding": null,
            "right": null,
            "top": null,
            "visibility": null,
            "width": null
          }
        },
        "4d476b2932ae49b8ad5fdcc1578fc355": {
          "model_module": "@jupyter-widgets/controls",
          "model_name": "ButtonStyleModel",
          "model_module_version": "1.5.0",
          "state": {
            "_model_module": "@jupyter-widgets/controls",
            "_model_module_version": "1.5.0",
            "_model_name": "ButtonStyleModel",
            "_view_count": null,
            "_view_module": "@jupyter-widgets/base",
            "_view_module_version": "1.2.0",
            "_view_name": "StyleView",
            "button_color": null,
            "font_weight": ""
          }
        },
        "bd0c0cbc27ce4b71aaf29929e91077e1": {
          "model_module": "@jupyter-widgets/output",
          "model_name": "OutputModel",
          "model_module_version": "1.0.0",
          "state": {
            "_dom_classes": [],
            "_model_module": "@jupyter-widgets/output",
            "_model_module_version": "1.0.0",
            "_model_name": "OutputModel",
            "_view_count": null,
            "_view_module": "@jupyter-widgets/output",
            "_view_module_version": "1.0.0",
            "_view_name": "OutputView",
            "layout": "IPY_MODEL_c1b0a590b76e4ed8905f9159ecde4013",
            "msg_id": "",
            "outputs": [
              {
                "output_type": "display_data",
                "data": {
                  "text/plain": "<IPython.core.display.HTML object>",
                  "text/html": "<b><font color=\"blue\">A demonstração da fórmula (((~P)&Q)->R) está correta</font>"
                },
                "metadata": {}
              }
            ]
          }
        },
        "c1b0a590b76e4ed8905f9159ecde4013": {
          "model_module": "@jupyter-widgets/base",
          "model_name": "LayoutModel",
          "model_module_version": "1.2.0",
          "state": {
            "_model_module": "@jupyter-widgets/base",
            "_model_module_version": "1.2.0",
            "_model_name": "LayoutModel",
            "_view_count": null,
            "_view_module": "@jupyter-widgets/base",
            "_view_module_version": "1.2.0",
            "_view_name": "LayoutView",
            "align_content": null,
            "align_items": null,
            "align_self": null,
            "border": null,
            "bottom": null,
            "display": null,
            "flex": null,
            "flex_flow": null,
            "grid_area": null,
            "grid_auto_columns": null,
            "grid_auto_flow": null,
            "grid_auto_rows": null,
            "grid_column": null,
            "grid_gap": null,
            "grid_row": null,
            "grid_template_areas": null,
            "grid_template_columns": null,
            "grid_template_rows": null,
            "height": null,
            "justify_content": null,
            "justify_items": null,
            "left": null,
            "margin": null,
            "max_height": null,
            "max_width": null,
            "min_height": null,
            "min_width": null,
            "object_fit": null,
            "object_position": null,
            "order": null,
            "overflow": null,
            "overflow_x": null,
            "overflow_y": null,
            "padding": null,
            "right": null,
            "top": null,
            "visibility": null,
            "width": null
          }
        },
        "23b63a5d151c45d787fb76a399778092": {
          "model_module": "@jupyter-widgets/controls",
          "model_name": "HBoxModel",
          "model_module_version": "1.5.0",
          "state": {
            "_dom_classes": [],
            "_model_module": "@jupyter-widgets/controls",
            "_model_module_version": "1.5.0",
            "_model_name": "HBoxModel",
            "_view_count": null,
            "_view_module": "@jupyter-widgets/controls",
            "_view_module_version": "1.5.0",
            "_view_name": "HBoxView",
            "box_style": "",
            "children": [
              "IPY_MODEL_677a86b013644aaf9e77ebcf48cdc547",
              "IPY_MODEL_637a348f295545ccae8d0264cc14100e"
            ],
            "layout": "IPY_MODEL_544626903690459ab115403822561af9"
          }
        },
        "677a86b013644aaf9e77ebcf48cdc547": {
          "model_module": "@jupyter-widgets/controls",
          "model_name": "TextModel",
          "model_module_version": "1.5.0",
          "state": {
            "_dom_classes": [],
            "_model_module": "@jupyter-widgets/controls",
            "_model_module_version": "1.5.0",
            "_model_name": "TextModel",
            "_view_count": null,
            "_view_module": "@jupyter-widgets/controls",
            "_view_module_version": "1.5.0",
            "_view_name": "TextView",
            "continuous_update": true,
            "description": "",
            "description_tooltip": null,
            "disabled": false,
            "layout": "IPY_MODEL_216f759f71954aef8c5e3683e53e4bb8",
            "placeholder": "Digite sua fórmula:",
            "style": "IPY_MODEL_41f5aac7b7d84516bbd52e83075e0906",
            "value": "A&B->C"
          }
        },
        "637a348f295545ccae8d0264cc14100e": {
          "model_module": "@jupyter-widgets/controls",
          "model_name": "TextModel",
          "model_module_version": "1.5.0",
          "state": {
            "_dom_classes": [],
            "_model_module": "@jupyter-widgets/controls",
            "_model_module_version": "1.5.0",
            "_model_name": "TextModel",
            "_view_count": null,
            "_view_module": "@jupyter-widgets/controls",
            "_view_module_version": "1.5.0",
            "_view_name": "TextView",
            "continuous_update": true,
            "description": "",
            "description_tooltip": null,
            "disabled": false,
            "layout": "IPY_MODEL_216f759f71954aef8c5e3683e53e4bb8",
            "placeholder": "Digite o conjunto de subfórmulas da fórmula ao lado",
            "style": "IPY_MODEL_5fe1be51b02c46749950c8310a09a833",
            "value": "A; B; B->C; A&B->C"
          }
        },
        "544626903690459ab115403822561af9": {
          "model_module": "@jupyter-widgets/base",
          "model_name": "LayoutModel",
          "model_module_version": "1.2.0",
          "state": {
            "_model_module": "@jupyter-widgets/base",
            "_model_module_version": "1.2.0",
            "_model_name": "LayoutModel",
            "_view_count": null,
            "_view_module": "@jupyter-widgets/base",
            "_view_module_version": "1.2.0",
            "_view_name": "LayoutView",
            "align_content": null,
            "align_items": null,
            "align_self": null,
            "border": null,
            "bottom": null,
            "display": null,
            "flex": null,
            "flex_flow": null,
            "grid_area": null,
            "grid_auto_columns": null,
            "grid_auto_flow": null,
            "grid_auto_rows": null,
            "grid_column": null,
            "grid_gap": null,
            "grid_row": null,
            "grid_template_areas": null,
            "grid_template_columns": null,
            "grid_template_rows": null,
            "height": null,
            "justify_content": null,
            "justify_items": null,
            "left": null,
            "margin": null,
            "max_height": null,
            "max_width": null,
            "min_height": null,
            "min_width": null,
            "object_fit": null,
            "object_position": null,
            "order": null,
            "overflow": null,
            "overflow_x": null,
            "overflow_y": null,
            "padding": null,
            "right": null,
            "top": null,
            "visibility": null,
            "width": null
          }
        },
        "216f759f71954aef8c5e3683e53e4bb8": {
          "model_module": "@jupyter-widgets/base",
          "model_name": "LayoutModel",
          "model_module_version": "1.2.0",
          "state": {
            "_model_module": "@jupyter-widgets/base",
            "_model_module_version": "1.2.0",
            "_model_name": "LayoutModel",
            "_view_count": null,
            "_view_module": "@jupyter-widgets/base",
            "_view_module_version": "1.2.0",
            "_view_name": "LayoutView",
            "align_content": null,
            "align_items": null,
            "align_self": null,
            "border": null,
            "bottom": null,
            "display": null,
            "flex": null,
            "flex_flow": null,
            "grid_area": null,
            "grid_auto_columns": null,
            "grid_auto_flow": null,
            "grid_auto_rows": null,
            "grid_column": null,
            "grid_gap": null,
            "grid_row": null,
            "grid_template_areas": null,
            "grid_template_columns": null,
            "grid_template_rows": null,
            "height": null,
            "justify_content": null,
            "justify_items": null,
            "left": null,
            "margin": null,
            "max_height": null,
            "max_width": null,
            "min_height": null,
            "min_width": null,
            "object_fit": null,
            "object_position": null,
            "order": null,
            "overflow": null,
            "overflow_x": null,
            "overflow_y": null,
            "padding": null,
            "right": null,
            "top": null,
            "visibility": null,
            "width": "40%"
          }
        },
        "41f5aac7b7d84516bbd52e83075e0906": {
          "model_module": "@jupyter-widgets/controls",
          "model_name": "DescriptionStyleModel",
          "model_module_version": "1.5.0",
          "state": {
            "_model_module": "@jupyter-widgets/controls",
            "_model_module_version": "1.5.0",
            "_model_name": "DescriptionStyleModel",
            "_view_count": null,
            "_view_module": "@jupyter-widgets/base",
            "_view_module_version": "1.2.0",
            "_view_name": "StyleView",
            "description_width": ""
          }
        },
        "5fe1be51b02c46749950c8310a09a833": {
          "model_module": "@jupyter-widgets/controls",
          "model_name": "DescriptionStyleModel",
          "model_module_version": "1.5.0",
          "state": {
            "_model_module": "@jupyter-widgets/controls",
            "_model_module_version": "1.5.0",
            "_model_name": "DescriptionStyleModel",
            "_view_count": null,
            "_view_module": "@jupyter-widgets/base",
            "_view_module_version": "1.2.0",
            "_view_name": "StyleView",
            "description_width": ""
          }
        },
        "ac0f91fbd4d4472f904d8cdd6d226f25": {
          "model_module": "@jupyter-widgets/controls",
          "model_name": "HBoxModel",
          "model_module_version": "1.5.0",
          "state": {
            "_dom_classes": [],
            "_model_module": "@jupyter-widgets/controls",
            "_model_module_version": "1.5.0",
            "_model_name": "HBoxModel",
            "_view_count": null,
            "_view_module": "@jupyter-widgets/controls",
            "_view_module_version": "1.5.0",
            "_view_name": "HBoxView",
            "box_style": "",
            "children": [
              "IPY_MODEL_5fe69eda3fe0428bbdd922c392d57d57"
            ],
            "layout": "IPY_MODEL_1793ade2865f4ed8a0b066a193ea6cdc"
          }
        },
        "5fe69eda3fe0428bbdd922c392d57d57": {
          "model_module": "@jupyter-widgets/controls",
          "model_name": "ButtonModel",
          "model_module_version": "1.5.0",
          "state": {
            "_dom_classes": [],
            "_model_module": "@jupyter-widgets/controls",
            "_model_module_version": "1.5.0",
            "_model_name": "ButtonModel",
            "_view_count": null,
            "_view_module": "@jupyter-widgets/controls",
            "_view_module_version": "1.5.0",
            "_view_name": "ButtonView",
            "button_style": "",
            "description": "Executar",
            "disabled": false,
            "icon": "",
            "layout": "IPY_MODEL_f818b47b0df8402f9c144735c8bcbeaf",
            "style": "IPY_MODEL_b94b2a165f914aec8900f8a3b0194c68",
            "tooltip": ""
          }
        },
        "1793ade2865f4ed8a0b066a193ea6cdc": {
          "model_module": "@jupyter-widgets/base",
          "model_name": "LayoutModel",
          "model_module_version": "1.2.0",
          "state": {
            "_model_module": "@jupyter-widgets/base",
            "_model_module_version": "1.2.0",
            "_model_name": "LayoutModel",
            "_view_count": null,
            "_view_module": "@jupyter-widgets/base",
            "_view_module_version": "1.2.0",
            "_view_name": "LayoutView",
            "align_content": null,
            "align_items": null,
            "align_self": null,
            "border": null,
            "bottom": null,
            "display": null,
            "flex": null,
            "flex_flow": null,
            "grid_area": null,
            "grid_auto_columns": null,
            "grid_auto_flow": null,
            "grid_auto_rows": null,
            "grid_column": null,
            "grid_gap": null,
            "grid_row": null,
            "grid_template_areas": null,
            "grid_template_columns": null,
            "grid_template_rows": null,
            "height": null,
            "justify_content": null,
            "justify_items": null,
            "left": null,
            "margin": null,
            "max_height": null,
            "max_width": null,
            "min_height": null,
            "min_width": null,
            "object_fit": null,
            "object_position": null,
            "order": null,
            "overflow": null,
            "overflow_x": null,
            "overflow_y": null,
            "padding": null,
            "right": null,
            "top": null,
            "visibility": null,
            "width": null
          }
        },
        "f818b47b0df8402f9c144735c8bcbeaf": {
          "model_module": "@jupyter-widgets/base",
          "model_name": "LayoutModel",
          "model_module_version": "1.2.0",
          "state": {
            "_model_module": "@jupyter-widgets/base",
            "_model_module_version": "1.2.0",
            "_model_name": "LayoutModel",
            "_view_count": null,
            "_view_module": "@jupyter-widgets/base",
            "_view_module_version": "1.2.0",
            "_view_name": "LayoutView",
            "align_content": null,
            "align_items": null,
            "align_self": null,
            "border": null,
            "bottom": null,
            "display": null,
            "flex": null,
            "flex_flow": null,
            "grid_area": null,
            "grid_auto_columns": null,
            "grid_auto_flow": null,
            "grid_auto_rows": null,
            "grid_column": null,
            "grid_gap": null,
            "grid_row": null,
            "grid_template_areas": null,
            "grid_template_columns": null,
            "grid_template_rows": null,
            "height": null,
            "justify_content": null,
            "justify_items": null,
            "left": null,
            "margin": null,
            "max_height": null,
            "max_width": null,
            "min_height": null,
            "min_width": null,
            "object_fit": null,
            "object_position": null,
            "order": null,
            "overflow": null,
            "overflow_x": null,
            "overflow_y": null,
            "padding": null,
            "right": null,
            "top": null,
            "visibility": null,
            "width": null
          }
        },
        "b94b2a165f914aec8900f8a3b0194c68": {
          "model_module": "@jupyter-widgets/controls",
          "model_name": "ButtonStyleModel",
          "model_module_version": "1.5.0",
          "state": {
            "_model_module": "@jupyter-widgets/controls",
            "_model_module_version": "1.5.0",
            "_model_name": "ButtonStyleModel",
            "_view_count": null,
            "_view_module": "@jupyter-widgets/base",
            "_view_module_version": "1.2.0",
            "_view_name": "StyleView",
            "button_color": null,
            "font_weight": ""
          }
        },
        "6fc92a9bf4374fe6a710c2a7f6d9002f": {
          "model_module": "@jupyter-widgets/output",
          "model_name": "OutputModel",
          "model_module_version": "1.0.0",
          "state": {
            "_dom_classes": [],
            "_model_module": "@jupyter-widgets/output",
            "_model_module_version": "1.0.0",
            "_model_name": "OutputModel",
            "_view_count": null,
            "_view_module": "@jupyter-widgets/output",
            "_view_module_version": "1.0.0",
            "_view_name": "OutputView",
            "layout": "IPY_MODEL_a6232968ae47481ab2739c3347d314e8",
            "msg_id": "",
            "outputs": [
              {
                "output_type": "display_data",
                "data": {
                  "text/plain": "<IPython.core.display.HTML object>",
                  "text/html": "<b><font color=\"red\">Seu resultado não está correto. Tente novamente!</font>"
                },
                "metadata": {}
              }
            ]
          }
        },
        "a6232968ae47481ab2739c3347d314e8": {
          "model_module": "@jupyter-widgets/base",
          "model_name": "LayoutModel",
          "model_module_version": "1.2.0",
          "state": {
            "_model_module": "@jupyter-widgets/base",
            "_model_module_version": "1.2.0",
            "_model_name": "LayoutModel",
            "_view_count": null,
            "_view_module": "@jupyter-widgets/base",
            "_view_module_version": "1.2.0",
            "_view_name": "LayoutView",
            "align_content": null,
            "align_items": null,
            "align_self": null,
            "border": null,
            "bottom": null,
            "display": null,
            "flex": null,
            "flex_flow": null,
            "grid_area": null,
            "grid_auto_columns": null,
            "grid_auto_flow": null,
            "grid_auto_rows": null,
            "grid_column": null,
            "grid_gap": null,
            "grid_row": null,
            "grid_template_areas": null,
            "grid_template_columns": null,
            "grid_template_rows": null,
            "height": null,
            "justify_content": null,
            "justify_items": null,
            "left": null,
            "margin": null,
            "max_height": null,
            "max_width": null,
            "min_height": null,
            "min_width": null,
            "object_fit": null,
            "object_position": null,
            "order": null,
            "overflow": null,
            "overflow_x": null,
            "overflow_y": null,
            "padding": null,
            "right": null,
            "top": null,
            "visibility": null,
            "width": null
          }
        },
        "2eb43be67b764ef681247ab0f86585d6": {
          "model_module": "@jupyter-widgets/controls",
          "model_name": "HTMLModel",
          "model_module_version": "1.5.0",
          "state": {
            "_dom_classes": [],
            "_model_module": "@jupyter-widgets/controls",
            "_model_module_version": "1.5.0",
            "_model_name": "HTMLModel",
            "_view_count": null,
            "_view_module": "@jupyter-widgets/controls",
            "_view_module_version": "1.5.0",
            "_view_name": "HTMLView",
            "description": "",
            "description_tooltip": null,
            "layout": "IPY_MODEL_b5aaf38f93dc4862864b464f37f2c883",
            "placeholder": "​",
            "style": "IPY_MODEL_e74adf8ac1924342be40c70e2ffd3d84",
            "value": "<h3>Digite sua demonstração de que uma fórmula pertence a linguagem da lógica:</h3>"
          }
        },
        "b5aaf38f93dc4862864b464f37f2c883": {
          "model_module": "@jupyter-widgets/base",
          "model_name": "LayoutModel",
          "model_module_version": "1.2.0",
          "state": {
            "_model_module": "@jupyter-widgets/base",
            "_model_module_version": "1.2.0",
            "_model_name": "LayoutModel",
            "_view_count": null,
            "_view_module": "@jupyter-widgets/base",
            "_view_module_version": "1.2.0",
            "_view_name": "LayoutView",
            "align_content": null,
            "align_items": null,
            "align_self": null,
            "border": null,
            "bottom": null,
            "display": null,
            "flex": null,
            "flex_flow": null,
            "grid_area": null,
            "grid_auto_columns": null,
            "grid_auto_flow": null,
            "grid_auto_rows": null,
            "grid_column": null,
            "grid_gap": null,
            "grid_row": null,
            "grid_template_areas": null,
            "grid_template_columns": null,
            "grid_template_rows": null,
            "height": null,
            "justify_content": null,
            "justify_items": null,
            "left": null,
            "margin": null,
            "max_height": null,
            "max_width": null,
            "min_height": null,
            "min_width": null,
            "object_fit": null,
            "object_position": null,
            "order": null,
            "overflow": null,
            "overflow_x": null,
            "overflow_y": null,
            "padding": null,
            "right": null,
            "top": null,
            "visibility": null,
            "width": null
          }
        },
        "e74adf8ac1924342be40c70e2ffd3d84": {
          "model_module": "@jupyter-widgets/controls",
          "model_name": "DescriptionStyleModel",
          "model_module_version": "1.5.0",
          "state": {
            "_model_module": "@jupyter-widgets/controls",
            "_model_module_version": "1.5.0",
            "_model_name": "DescriptionStyleModel",
            "_view_count": null,
            "_view_module": "@jupyter-widgets/base",
            "_view_module_version": "1.2.0",
            "_view_name": "StyleView",
            "description_width": ""
          }
        },
        "149cabb44e61496aa40b5e4047860ea2": {
          "model_module": "@jupyter-widgets/controls",
          "model_name": "TextareaModel",
          "model_module_version": "1.5.0",
          "state": {
            "_dom_classes": [],
            "_model_module": "@jupyter-widgets/controls",
            "_model_module_version": "1.5.0",
            "_model_name": "TextareaModel",
            "_view_count": null,
            "_view_module": "@jupyter-widgets/controls",
            "_view_module_version": "1.5.0",
            "_view_name": "TextareaView",
            "continuous_update": true,
            "description": "",
            "description_tooltip": null,
            "disabled": false,
            "layout": "IPY_MODEL_e63de1b8c20b413885e3b7ddcf7bfa09",
            "placeholder": "Digite sua demonstração:",
            "rows": null,
            "style": "IPY_MODEL_c02b559d80004ff482a3c5f0ee77f087",
            "value": "1. P,Q,R defAtomos\n2. (P&) def& 1\n3. (P&(~Q)) def~ 2,1\n4. ((P&(~Q))|R) def| 3,1\n5. ((P&(~Q))|R)->(~P) def-> 4,1\n6. ((P&(~Q))|R)->(~P) def~ 5,1"
          }
        },
        "e63de1b8c20b413885e3b7ddcf7bfa09": {
          "model_module": "@jupyter-widgets/base",
          "model_name": "LayoutModel",
          "model_module_version": "1.2.0",
          "state": {
            "_model_module": "@jupyter-widgets/base",
            "_model_module_version": "1.2.0",
            "_model_name": "LayoutModel",
            "_view_count": null,
            "_view_module": "@jupyter-widgets/base",
            "_view_module_version": "1.2.0",
            "_view_name": "LayoutView",
            "align_content": null,
            "align_items": null,
            "align_self": null,
            "border": null,
            "bottom": null,
            "display": null,
            "flex": null,
            "flex_flow": null,
            "grid_area": null,
            "grid_auto_columns": null,
            "grid_auto_flow": null,
            "grid_auto_rows": null,
            "grid_column": null,
            "grid_gap": null,
            "grid_row": null,
            "grid_template_areas": null,
            "grid_template_columns": null,
            "grid_template_rows": null,
            "height": "300px",
            "justify_content": null,
            "justify_items": null,
            "left": null,
            "margin": null,
            "max_height": null,
            "max_width": null,
            "min_height": null,
            "min_width": null,
            "object_fit": null,
            "object_position": null,
            "order": null,
            "overflow": null,
            "overflow_x": null,
            "overflow_y": null,
            "padding": null,
            "right": null,
            "top": null,
            "visibility": null,
            "width": "90%"
          }
        },
        "c02b559d80004ff482a3c5f0ee77f087": {
          "model_module": "@jupyter-widgets/controls",
          "model_name": "DescriptionStyleModel",
          "model_module_version": "1.5.0",
          "state": {
            "_model_module": "@jupyter-widgets/controls",
            "_model_module_version": "1.5.0",
            "_model_name": "DescriptionStyleModel",
            "_view_count": null,
            "_view_module": "@jupyter-widgets/base",
            "_view_module_version": "1.2.0",
            "_view_name": "StyleView",
            "description_width": ""
          }
        },
        "fe5be820746048708dfc6c134d1052a7": {
          "model_module": "@jupyter-widgets/controls",
          "model_name": "HBoxModel",
          "model_module_version": "1.5.0",
          "state": {
            "_dom_classes": [],
            "_model_module": "@jupyter-widgets/controls",
            "_model_module_version": "1.5.0",
            "_model_name": "HBoxModel",
            "_view_count": null,
            "_view_module": "@jupyter-widgets/controls",
            "_view_module_version": "1.5.0",
            "_view_name": "HBoxView",
            "box_style": "",
            "children": [
              "IPY_MODEL_9985a54c674a479ba15cd6b519893a84"
            ],
            "layout": "IPY_MODEL_ac6f60790f2145e7a7368059127ae31a"
          }
        },
        "9985a54c674a479ba15cd6b519893a84": {
          "model_module": "@jupyter-widgets/controls",
          "model_name": "ButtonModel",
          "model_module_version": "1.5.0",
          "state": {
            "_dom_classes": [],
            "_model_module": "@jupyter-widgets/controls",
            "_model_module_version": "1.5.0",
            "_model_name": "ButtonModel",
            "_view_count": null,
            "_view_module": "@jupyter-widgets/controls",
            "_view_module_version": "1.5.0",
            "_view_name": "ButtonView",
            "button_style": "",
            "description": "Verificar",
            "disabled": false,
            "icon": "",
            "layout": "IPY_MODEL_f396f2eed0204fb7957bfa9d8285d45f",
            "style": "IPY_MODEL_c226851968f74f859fa2ad91f1ed3d18",
            "tooltip": ""
          }
        },
        "ac6f60790f2145e7a7368059127ae31a": {
          "model_module": "@jupyter-widgets/base",
          "model_name": "LayoutModel",
          "model_module_version": "1.2.0",
          "state": {
            "_model_module": "@jupyter-widgets/base",
            "_model_module_version": "1.2.0",
            "_model_name": "LayoutModel",
            "_view_count": null,
            "_view_module": "@jupyter-widgets/base",
            "_view_module_version": "1.2.0",
            "_view_name": "LayoutView",
            "align_content": null,
            "align_items": null,
            "align_self": null,
            "border": null,
            "bottom": null,
            "display": null,
            "flex": null,
            "flex_flow": null,
            "grid_area": null,
            "grid_auto_columns": null,
            "grid_auto_flow": null,
            "grid_auto_rows": null,
            "grid_column": null,
            "grid_gap": null,
            "grid_row": null,
            "grid_template_areas": null,
            "grid_template_columns": null,
            "grid_template_rows": null,
            "height": null,
            "justify_content": null,
            "justify_items": null,
            "left": null,
            "margin": null,
            "max_height": null,
            "max_width": null,
            "min_height": null,
            "min_width": null,
            "object_fit": null,
            "object_position": null,
            "order": null,
            "overflow": null,
            "overflow_x": null,
            "overflow_y": null,
            "padding": null,
            "right": null,
            "top": null,
            "visibility": null,
            "width": null
          }
        },
        "f396f2eed0204fb7957bfa9d8285d45f": {
          "model_module": "@jupyter-widgets/base",
          "model_name": "LayoutModel",
          "model_module_version": "1.2.0",
          "state": {
            "_model_module": "@jupyter-widgets/base",
            "_model_module_version": "1.2.0",
            "_model_name": "LayoutModel",
            "_view_count": null,
            "_view_module": "@jupyter-widgets/base",
            "_view_module_version": "1.2.0",
            "_view_name": "LayoutView",
            "align_content": null,
            "align_items": null,
            "align_self": null,
            "border": null,
            "bottom": null,
            "display": null,
            "flex": null,
            "flex_flow": null,
            "grid_area": null,
            "grid_auto_columns": null,
            "grid_auto_flow": null,
            "grid_auto_rows": null,
            "grid_column": null,
            "grid_gap": null,
            "grid_row": null,
            "grid_template_areas": null,
            "grid_template_columns": null,
            "grid_template_rows": null,
            "height": null,
            "justify_content": null,
            "justify_items": null,
            "left": null,
            "margin": null,
            "max_height": null,
            "max_width": null,
            "min_height": null,
            "min_width": null,
            "object_fit": null,
            "object_position": null,
            "order": null,
            "overflow": null,
            "overflow_x": null,
            "overflow_y": null,
            "padding": null,
            "right": null,
            "top": null,
            "visibility": null,
            "width": null
          }
        },
        "c226851968f74f859fa2ad91f1ed3d18": {
          "model_module": "@jupyter-widgets/controls",
          "model_name": "ButtonStyleModel",
          "model_module_version": "1.5.0",
          "state": {
            "_model_module": "@jupyter-widgets/controls",
            "_model_module_version": "1.5.0",
            "_model_name": "ButtonStyleModel",
            "_view_count": null,
            "_view_module": "@jupyter-widgets/base",
            "_view_module_version": "1.2.0",
            "_view_name": "StyleView",
            "button_color": null,
            "font_weight": ""
          }
        },
        "94ac54ced7334446817c60127fdc298c": {
          "model_module": "@jupyter-widgets/output",
          "model_name": "OutputModel",
          "model_module_version": "1.0.0",
          "state": {
            "_dom_classes": [],
            "_model_module": "@jupyter-widgets/output",
            "_model_module_version": "1.0.0",
            "_model_name": "OutputModel",
            "_view_count": null,
            "_view_module": "@jupyter-widgets/output",
            "_view_module_version": "1.0.0",
            "_view_name": "OutputView",
            "layout": "IPY_MODEL_9250da9ebcb5455f92086d1593c9d9ac",
            "msg_id": "",
            "outputs": [
              {
                "output_type": "display_data",
                "data": {
                  "text/plain": "<IPython.core.display.HTML object>",
                  "text/html": "<b><font color=\"blue\">None</font>"
                },
                "metadata": {}
              }
            ]
          }
        },
        "9250da9ebcb5455f92086d1593c9d9ac": {
          "model_module": "@jupyter-widgets/base",
          "model_name": "LayoutModel",
          "model_module_version": "1.2.0",
          "state": {
            "_model_module": "@jupyter-widgets/base",
            "_model_module_version": "1.2.0",
            "_model_name": "LayoutModel",
            "_view_count": null,
            "_view_module": "@jupyter-widgets/base",
            "_view_module_version": "1.2.0",
            "_view_name": "LayoutView",
            "align_content": null,
            "align_items": null,
            "align_self": null,
            "border": null,
            "bottom": null,
            "display": null,
            "flex": null,
            "flex_flow": null,
            "grid_area": null,
            "grid_auto_columns": null,
            "grid_auto_flow": null,
            "grid_auto_rows": null,
            "grid_column": null,
            "grid_gap": null,
            "grid_row": null,
            "grid_template_areas": null,
            "grid_template_columns": null,
            "grid_template_rows": null,
            "height": null,
            "justify_content": null,
            "justify_items": null,
            "left": null,
            "margin": null,
            "max_height": null,
            "max_width": null,
            "min_height": null,
            "min_width": null,
            "object_fit": null,
            "object_position": null,
            "order": null,
            "overflow": null,
            "overflow_x": null,
            "overflow_y": null,
            "padding": null,
            "right": null,
            "top": null,
            "visibility": null,
            "width": null
          }
        },
        "276f80ad99734a4096f3fdb69719103d": {
          "model_module": "@jupyter-widgets/controls",
          "model_name": "HBoxModel",
          "model_module_version": "1.5.0",
          "state": {
            "_dom_classes": [],
            "_model_module": "@jupyter-widgets/controls",
            "_model_module_version": "1.5.0",
            "_model_name": "HBoxModel",
            "_view_count": null,
            "_view_module": "@jupyter-widgets/controls",
            "_view_module_version": "1.5.0",
            "_view_name": "HBoxView",
            "box_style": "",
            "children": [
              "IPY_MODEL_bc9d9a0a55fe43ad8299c47e86d1e992",
              "IPY_MODEL_b147d8258ed64ae2a901bc281ad129c7"
            ],
            "layout": "IPY_MODEL_bb9c3dfc93f4496cb6384e60c3b79855"
          }
        },
        "bc9d9a0a55fe43ad8299c47e86d1e992": {
          "model_module": "@jupyter-widgets/controls",
          "model_name": "TextModel",
          "model_module_version": "1.5.0",
          "state": {
            "_dom_classes": [],
            "_model_module": "@jupyter-widgets/controls",
            "_model_module_version": "1.5.0",
            "_model_name": "TextModel",
            "_view_count": null,
            "_view_module": "@jupyter-widgets/controls",
            "_view_module_version": "1.5.0",
            "_view_name": "TextView",
            "continuous_update": true,
            "description": "",
            "description_tooltip": null,
            "disabled": false,
            "layout": "IPY_MODEL_66e09190c7854a6aa2278be7aaba608d",
            "placeholder": "Digite sua fórmula:",
            "style": "IPY_MODEL_7813b9b445a84a4fa9c9bdd724b42bb3",
            "value": "(~(A->(~B)))"
          }
        },
        "b147d8258ed64ae2a901bc281ad129c7": {
          "model_module": "@jupyter-widgets/controls",
          "model_name": "TextModel",
          "model_module_version": "1.5.0",
          "state": {
            "_dom_classes": [],
            "_model_module": "@jupyter-widgets/controls",
            "_model_module_version": "1.5.0",
            "_model_name": "TextModel",
            "_view_count": null,
            "_view_module": "@jupyter-widgets/controls",
            "_view_module_version": "1.5.0",
            "_view_name": "TextView",
            "continuous_update": true,
            "description": "",
            "description_tooltip": null,
            "disabled": false,
            "layout": "IPY_MODEL_66e09190c7854a6aa2278be7aaba608d",
            "placeholder": "Digite o número de símbolos negação da fórmula ao lado",
            "style": "IPY_MODEL_ed922ef235cd434e89385edd381180ca",
            "value": "2"
          }
        },
        "bb9c3dfc93f4496cb6384e60c3b79855": {
          "model_module": "@jupyter-widgets/base",
          "model_name": "LayoutModel",
          "model_module_version": "1.2.0",
          "state": {
            "_model_module": "@jupyter-widgets/base",
            "_model_module_version": "1.2.0",
            "_model_name": "LayoutModel",
            "_view_count": null,
            "_view_module": "@jupyter-widgets/base",
            "_view_module_version": "1.2.0",
            "_view_name": "LayoutView",
            "align_content": null,
            "align_items": null,
            "align_self": null,
            "border": null,
            "bottom": null,
            "display": null,
            "flex": null,
            "flex_flow": null,
            "grid_area": null,
            "grid_auto_columns": null,
            "grid_auto_flow": null,
            "grid_auto_rows": null,
            "grid_column": null,
            "grid_gap": null,
            "grid_row": null,
            "grid_template_areas": null,
            "grid_template_columns": null,
            "grid_template_rows": null,
            "height": null,
            "justify_content": null,
            "justify_items": null,
            "left": null,
            "margin": null,
            "max_height": null,
            "max_width": null,
            "min_height": null,
            "min_width": null,
            "object_fit": null,
            "object_position": null,
            "order": null,
            "overflow": null,
            "overflow_x": null,
            "overflow_y": null,
            "padding": null,
            "right": null,
            "top": null,
            "visibility": null,
            "width": null
          }
        },
        "66e09190c7854a6aa2278be7aaba608d": {
          "model_module": "@jupyter-widgets/base",
          "model_name": "LayoutModel",
          "model_module_version": "1.2.0",
          "state": {
            "_model_module": "@jupyter-widgets/base",
            "_model_module_version": "1.2.0",
            "_model_name": "LayoutModel",
            "_view_count": null,
            "_view_module": "@jupyter-widgets/base",
            "_view_module_version": "1.2.0",
            "_view_name": "LayoutView",
            "align_content": null,
            "align_items": null,
            "align_self": null,
            "border": null,
            "bottom": null,
            "display": null,
            "flex": null,
            "flex_flow": null,
            "grid_area": null,
            "grid_auto_columns": null,
            "grid_auto_flow": null,
            "grid_auto_rows": null,
            "grid_column": null,
            "grid_gap": null,
            "grid_row": null,
            "grid_template_areas": null,
            "grid_template_columns": null,
            "grid_template_rows": null,
            "height": null,
            "justify_content": null,
            "justify_items": null,
            "left": null,
            "margin": null,
            "max_height": null,
            "max_width": null,
            "min_height": null,
            "min_width": null,
            "object_fit": null,
            "object_position": null,
            "order": null,
            "overflow": null,
            "overflow_x": null,
            "overflow_y": null,
            "padding": null,
            "right": null,
            "top": null,
            "visibility": null,
            "width": "40%"
          }
        },
        "7813b9b445a84a4fa9c9bdd724b42bb3": {
          "model_module": "@jupyter-widgets/controls",
          "model_name": "DescriptionStyleModel",
          "model_module_version": "1.5.0",
          "state": {
            "_model_module": "@jupyter-widgets/controls",
            "_model_module_version": "1.5.0",
            "_model_name": "DescriptionStyleModel",
            "_view_count": null,
            "_view_module": "@jupyter-widgets/base",
            "_view_module_version": "1.2.0",
            "_view_name": "StyleView",
            "description_width": ""
          }
        },
        "ed922ef235cd434e89385edd381180ca": {
          "model_module": "@jupyter-widgets/controls",
          "model_name": "DescriptionStyleModel",
          "model_module_version": "1.5.0",
          "state": {
            "_model_module": "@jupyter-widgets/controls",
            "_model_module_version": "1.5.0",
            "_model_name": "DescriptionStyleModel",
            "_view_count": null,
            "_view_module": "@jupyter-widgets/base",
            "_view_module_version": "1.2.0",
            "_view_name": "StyleView",
            "description_width": ""
          }
        },
        "d052b38008b3429cb21f88c3764c6e71": {
          "model_module": "@jupyter-widgets/controls",
          "model_name": "HBoxModel",
          "model_module_version": "1.5.0",
          "state": {
            "_dom_classes": [],
            "_model_module": "@jupyter-widgets/controls",
            "_model_module_version": "1.5.0",
            "_model_name": "HBoxModel",
            "_view_count": null,
            "_view_module": "@jupyter-widgets/controls",
            "_view_module_version": "1.5.0",
            "_view_name": "HBoxView",
            "box_style": "",
            "children": [
              "IPY_MODEL_ebd1294208d64f5bbde002f28cc09f9d"
            ],
            "layout": "IPY_MODEL_911022826fd44e3799432e70962fb046"
          }
        },
        "ebd1294208d64f5bbde002f28cc09f9d": {
          "model_module": "@jupyter-widgets/controls",
          "model_name": "ButtonModel",
          "model_module_version": "1.5.0",
          "state": {
            "_dom_classes": [],
            "_model_module": "@jupyter-widgets/controls",
            "_model_module_version": "1.5.0",
            "_model_name": "ButtonModel",
            "_view_count": null,
            "_view_module": "@jupyter-widgets/controls",
            "_view_module_version": "1.5.0",
            "_view_name": "ButtonView",
            "button_style": "",
            "description": "Executar",
            "disabled": false,
            "icon": "",
            "layout": "IPY_MODEL_bd073d6cee31418fa63bf05dc1f31d9d",
            "style": "IPY_MODEL_1a1b2e29ae4040ab97d336fb5143e60e",
            "tooltip": ""
          }
        },
        "911022826fd44e3799432e70962fb046": {
          "model_module": "@jupyter-widgets/base",
          "model_name": "LayoutModel",
          "model_module_version": "1.2.0",
          "state": {
            "_model_module": "@jupyter-widgets/base",
            "_model_module_version": "1.2.0",
            "_model_name": "LayoutModel",
            "_view_count": null,
            "_view_module": "@jupyter-widgets/base",
            "_view_module_version": "1.2.0",
            "_view_name": "LayoutView",
            "align_content": null,
            "align_items": null,
            "align_self": null,
            "border": null,
            "bottom": null,
            "display": null,
            "flex": null,
            "flex_flow": null,
            "grid_area": null,
            "grid_auto_columns": null,
            "grid_auto_flow": null,
            "grid_auto_rows": null,
            "grid_column": null,
            "grid_gap": null,
            "grid_row": null,
            "grid_template_areas": null,
            "grid_template_columns": null,
            "grid_template_rows": null,
            "height": null,
            "justify_content": null,
            "justify_items": null,
            "left": null,
            "margin": null,
            "max_height": null,
            "max_width": null,
            "min_height": null,
            "min_width": null,
            "object_fit": null,
            "object_position": null,
            "order": null,
            "overflow": null,
            "overflow_x": null,
            "overflow_y": null,
            "padding": null,
            "right": null,
            "top": null,
            "visibility": null,
            "width": null
          }
        },
        "bd073d6cee31418fa63bf05dc1f31d9d": {
          "model_module": "@jupyter-widgets/base",
          "model_name": "LayoutModel",
          "model_module_version": "1.2.0",
          "state": {
            "_model_module": "@jupyter-widgets/base",
            "_model_module_version": "1.2.0",
            "_model_name": "LayoutModel",
            "_view_count": null,
            "_view_module": "@jupyter-widgets/base",
            "_view_module_version": "1.2.0",
            "_view_name": "LayoutView",
            "align_content": null,
            "align_items": null,
            "align_self": null,
            "border": null,
            "bottom": null,
            "display": null,
            "flex": null,
            "flex_flow": null,
            "grid_area": null,
            "grid_auto_columns": null,
            "grid_auto_flow": null,
            "grid_auto_rows": null,
            "grid_column": null,
            "grid_gap": null,
            "grid_row": null,
            "grid_template_areas": null,
            "grid_template_columns": null,
            "grid_template_rows": null,
            "height": null,
            "justify_content": null,
            "justify_items": null,
            "left": null,
            "margin": null,
            "max_height": null,
            "max_width": null,
            "min_height": null,
            "min_width": null,
            "object_fit": null,
            "object_position": null,
            "order": null,
            "overflow": null,
            "overflow_x": null,
            "overflow_y": null,
            "padding": null,
            "right": null,
            "top": null,
            "visibility": null,
            "width": null
          }
        },
        "1a1b2e29ae4040ab97d336fb5143e60e": {
          "model_module": "@jupyter-widgets/controls",
          "model_name": "ButtonStyleModel",
          "model_module_version": "1.5.0",
          "state": {
            "_model_module": "@jupyter-widgets/controls",
            "_model_module_version": "1.5.0",
            "_model_name": "ButtonStyleModel",
            "_view_count": null,
            "_view_module": "@jupyter-widgets/base",
            "_view_module_version": "1.2.0",
            "_view_name": "StyleView",
            "button_color": null,
            "font_weight": ""
          }
        },
        "97a1d904fba04de3895a78f462a13cbb": {
          "model_module": "@jupyter-widgets/output",
          "model_name": "OutputModel",
          "model_module_version": "1.0.0",
          "state": {
            "_dom_classes": [],
            "_model_module": "@jupyter-widgets/output",
            "_model_module_version": "1.0.0",
            "_model_name": "OutputModel",
            "_view_count": null,
            "_view_module": "@jupyter-widgets/output",
            "_view_module_version": "1.0.0",
            "_view_name": "OutputView",
            "layout": "IPY_MODEL_6889bc24c4e9431bb3497263aa9d54f6",
            "msg_id": "",
            "outputs": [
              {
                "output_type": "display_data",
                "data": {
                  "text/plain": "<IPython.core.display.HTML object>",
                  "text/html": "<b><font color=\"blue\">Parabéns, você acertou a questão.</font>"
                },
                "metadata": {}
              }
            ]
          }
        },
        "6889bc24c4e9431bb3497263aa9d54f6": {
          "model_module": "@jupyter-widgets/base",
          "model_name": "LayoutModel",
          "model_module_version": "1.2.0",
          "state": {
            "_model_module": "@jupyter-widgets/base",
            "_model_module_version": "1.2.0",
            "_model_name": "LayoutModel",
            "_view_count": null,
            "_view_module": "@jupyter-widgets/base",
            "_view_module_version": "1.2.0",
            "_view_name": "LayoutView",
            "align_content": null,
            "align_items": null,
            "align_self": null,
            "border": null,
            "bottom": null,
            "display": null,
            "flex": null,
            "flex_flow": null,
            "grid_area": null,
            "grid_auto_columns": null,
            "grid_auto_flow": null,
            "grid_auto_rows": null,
            "grid_column": null,
            "grid_gap": null,
            "grid_row": null,
            "grid_template_areas": null,
            "grid_template_columns": null,
            "grid_template_rows": null,
            "height": null,
            "justify_content": null,
            "justify_items": null,
            "left": null,
            "margin": null,
            "max_height": null,
            "max_width": null,
            "min_height": null,
            "min_width": null,
            "object_fit": null,
            "object_position": null,
            "order": null,
            "overflow": null,
            "overflow_x": null,
            "overflow_y": null,
            "padding": null,
            "right": null,
            "top": null,
            "visibility": null,
            "width": null
          }
        },
        "20262f293f8e400493f5c6adf8d91d0a": {
          "model_module": "@jupyter-widgets/controls",
          "model_name": "HBoxModel",
          "model_module_version": "1.5.0",
          "state": {
            "_dom_classes": [],
            "_model_module": "@jupyter-widgets/controls",
            "_model_module_version": "1.5.0",
            "_model_name": "HBoxModel",
            "_view_count": null,
            "_view_module": "@jupyter-widgets/controls",
            "_view_module_version": "1.5.0",
            "_view_name": "HBoxView",
            "box_style": "",
            "children": [
              "IPY_MODEL_0b91d03057744abd9af3eb204795c243",
              "IPY_MODEL_d073206a6a5244ddb32671ca273b21ad"
            ],
            "layout": "IPY_MODEL_fc3ea5793d964f4f962f81db9c74fedb"
          }
        },
        "0b91d03057744abd9af3eb204795c243": {
          "model_module": "@jupyter-widgets/controls",
          "model_name": "TextModel",
          "model_module_version": "1.5.0",
          "state": {
            "_dom_classes": [],
            "_model_module": "@jupyter-widgets/controls",
            "_model_module_version": "1.5.0",
            "_model_name": "TextModel",
            "_view_count": null,
            "_view_module": "@jupyter-widgets/controls",
            "_view_module_version": "1.5.0",
            "_view_name": "TextView",
            "continuous_update": true,
            "description": "",
            "description_tooltip": null,
            "disabled": false,
            "layout": "IPY_MODEL_e3f3800588a4410f830e7ca9826134e4",
            "placeholder": "Digite sua fórmula:",
            "style": "IPY_MODEL_716d4cba55674d83876eba816c3ac295",
            "value": "(C|(A->(~A)))"
          }
        },
        "d073206a6a5244ddb32671ca273b21ad": {
          "model_module": "@jupyter-widgets/controls",
          "model_name": "TextModel",
          "model_module_version": "1.5.0",
          "state": {
            "_dom_classes": [],
            "_model_module": "@jupyter-widgets/controls",
            "_model_module_version": "1.5.0",
            "_model_name": "TextModel",
            "_view_count": null,
            "_view_module": "@jupyter-widgets/controls",
            "_view_module_version": "1.5.0",
            "_view_name": "TextView",
            "continuous_update": true,
            "description": "",
            "description_tooltip": null,
            "disabled": false,
            "layout": "IPY_MODEL_e3f3800588a4410f830e7ca9826134e4",
            "placeholder": "Digite o número de conectivos binários da fórmula ao lado",
            "style": "IPY_MODEL_1eaf5422bc834697b67ed3c28021aab4",
            "value": "2"
          }
        },
        "fc3ea5793d964f4f962f81db9c74fedb": {
          "model_module": "@jupyter-widgets/base",
          "model_name": "LayoutModel",
          "model_module_version": "1.2.0",
          "state": {
            "_model_module": "@jupyter-widgets/base",
            "_model_module_version": "1.2.0",
            "_model_name": "LayoutModel",
            "_view_count": null,
            "_view_module": "@jupyter-widgets/base",
            "_view_module_version": "1.2.0",
            "_view_name": "LayoutView",
            "align_content": null,
            "align_items": null,
            "align_self": null,
            "border": null,
            "bottom": null,
            "display": null,
            "flex": null,
            "flex_flow": null,
            "grid_area": null,
            "grid_auto_columns": null,
            "grid_auto_flow": null,
            "grid_auto_rows": null,
            "grid_column": null,
            "grid_gap": null,
            "grid_row": null,
            "grid_template_areas": null,
            "grid_template_columns": null,
            "grid_template_rows": null,
            "height": null,
            "justify_content": null,
            "justify_items": null,
            "left": null,
            "margin": null,
            "max_height": null,
            "max_width": null,
            "min_height": null,
            "min_width": null,
            "object_fit": null,
            "object_position": null,
            "order": null,
            "overflow": null,
            "overflow_x": null,
            "overflow_y": null,
            "padding": null,
            "right": null,
            "top": null,
            "visibility": null,
            "width": null
          }
        },
        "e3f3800588a4410f830e7ca9826134e4": {
          "model_module": "@jupyter-widgets/base",
          "model_name": "LayoutModel",
          "model_module_version": "1.2.0",
          "state": {
            "_model_module": "@jupyter-widgets/base",
            "_model_module_version": "1.2.0",
            "_model_name": "LayoutModel",
            "_view_count": null,
            "_view_module": "@jupyter-widgets/base",
            "_view_module_version": "1.2.0",
            "_view_name": "LayoutView",
            "align_content": null,
            "align_items": null,
            "align_self": null,
            "border": null,
            "bottom": null,
            "display": null,
            "flex": null,
            "flex_flow": null,
            "grid_area": null,
            "grid_auto_columns": null,
            "grid_auto_flow": null,
            "grid_auto_rows": null,
            "grid_column": null,
            "grid_gap": null,
            "grid_row": null,
            "grid_template_areas": null,
            "grid_template_columns": null,
            "grid_template_rows": null,
            "height": null,
            "justify_content": null,
            "justify_items": null,
            "left": null,
            "margin": null,
            "max_height": null,
            "max_width": null,
            "min_height": null,
            "min_width": null,
            "object_fit": null,
            "object_position": null,
            "order": null,
            "overflow": null,
            "overflow_x": null,
            "overflow_y": null,
            "padding": null,
            "right": null,
            "top": null,
            "visibility": null,
            "width": "40%"
          }
        },
        "716d4cba55674d83876eba816c3ac295": {
          "model_module": "@jupyter-widgets/controls",
          "model_name": "DescriptionStyleModel",
          "model_module_version": "1.5.0",
          "state": {
            "_model_module": "@jupyter-widgets/controls",
            "_model_module_version": "1.5.0",
            "_model_name": "DescriptionStyleModel",
            "_view_count": null,
            "_view_module": "@jupyter-widgets/base",
            "_view_module_version": "1.2.0",
            "_view_name": "StyleView",
            "description_width": ""
          }
        },
        "1eaf5422bc834697b67ed3c28021aab4": {
          "model_module": "@jupyter-widgets/controls",
          "model_name": "DescriptionStyleModel",
          "model_module_version": "1.5.0",
          "state": {
            "_model_module": "@jupyter-widgets/controls",
            "_model_module_version": "1.5.0",
            "_model_name": "DescriptionStyleModel",
            "_view_count": null,
            "_view_module": "@jupyter-widgets/base",
            "_view_module_version": "1.2.0",
            "_view_name": "StyleView",
            "description_width": ""
          }
        },
        "dc730ffad8534a3987501ce19ee5d545": {
          "model_module": "@jupyter-widgets/controls",
          "model_name": "HBoxModel",
          "model_module_version": "1.5.0",
          "state": {
            "_dom_classes": [],
            "_model_module": "@jupyter-widgets/controls",
            "_model_module_version": "1.5.0",
            "_model_name": "HBoxModel",
            "_view_count": null,
            "_view_module": "@jupyter-widgets/controls",
            "_view_module_version": "1.5.0",
            "_view_name": "HBoxView",
            "box_style": "",
            "children": [
              "IPY_MODEL_e7a2fb55a4b045a99c17b145e859c5b8"
            ],
            "layout": "IPY_MODEL_394cfefb19754c4d980bd0e931a15f35"
          }
        },
        "e7a2fb55a4b045a99c17b145e859c5b8": {
          "model_module": "@jupyter-widgets/controls",
          "model_name": "ButtonModel",
          "model_module_version": "1.5.0",
          "state": {
            "_dom_classes": [],
            "_model_module": "@jupyter-widgets/controls",
            "_model_module_version": "1.5.0",
            "_model_name": "ButtonModel",
            "_view_count": null,
            "_view_module": "@jupyter-widgets/controls",
            "_view_module_version": "1.5.0",
            "_view_name": "ButtonView",
            "button_style": "",
            "description": "Executar",
            "disabled": false,
            "icon": "",
            "layout": "IPY_MODEL_7e12e3e88e854bb7b349361bc1e2b54f",
            "style": "IPY_MODEL_8a2a20a22d014c67998a1e3aef91628a",
            "tooltip": ""
          }
        },
        "394cfefb19754c4d980bd0e931a15f35": {
          "model_module": "@jupyter-widgets/base",
          "model_name": "LayoutModel",
          "model_module_version": "1.2.0",
          "state": {
            "_model_module": "@jupyter-widgets/base",
            "_model_module_version": "1.2.0",
            "_model_name": "LayoutModel",
            "_view_count": null,
            "_view_module": "@jupyter-widgets/base",
            "_view_module_version": "1.2.0",
            "_view_name": "LayoutView",
            "align_content": null,
            "align_items": null,
            "align_self": null,
            "border": null,
            "bottom": null,
            "display": null,
            "flex": null,
            "flex_flow": null,
            "grid_area": null,
            "grid_auto_columns": null,
            "grid_auto_flow": null,
            "grid_auto_rows": null,
            "grid_column": null,
            "grid_gap": null,
            "grid_row": null,
            "grid_template_areas": null,
            "grid_template_columns": null,
            "grid_template_rows": null,
            "height": null,
            "justify_content": null,
            "justify_items": null,
            "left": null,
            "margin": null,
            "max_height": null,
            "max_width": null,
            "min_height": null,
            "min_width": null,
            "object_fit": null,
            "object_position": null,
            "order": null,
            "overflow": null,
            "overflow_x": null,
            "overflow_y": null,
            "padding": null,
            "right": null,
            "top": null,
            "visibility": null,
            "width": null
          }
        },
        "7e12e3e88e854bb7b349361bc1e2b54f": {
          "model_module": "@jupyter-widgets/base",
          "model_name": "LayoutModel",
          "model_module_version": "1.2.0",
          "state": {
            "_model_module": "@jupyter-widgets/base",
            "_model_module_version": "1.2.0",
            "_model_name": "LayoutModel",
            "_view_count": null,
            "_view_module": "@jupyter-widgets/base",
            "_view_module_version": "1.2.0",
            "_view_name": "LayoutView",
            "align_content": null,
            "align_items": null,
            "align_self": null,
            "border": null,
            "bottom": null,
            "display": null,
            "flex": null,
            "flex_flow": null,
            "grid_area": null,
            "grid_auto_columns": null,
            "grid_auto_flow": null,
            "grid_auto_rows": null,
            "grid_column": null,
            "grid_gap": null,
            "grid_row": null,
            "grid_template_areas": null,
            "grid_template_columns": null,
            "grid_template_rows": null,
            "height": null,
            "justify_content": null,
            "justify_items": null,
            "left": null,
            "margin": null,
            "max_height": null,
            "max_width": null,
            "min_height": null,
            "min_width": null,
            "object_fit": null,
            "object_position": null,
            "order": null,
            "overflow": null,
            "overflow_x": null,
            "overflow_y": null,
            "padding": null,
            "right": null,
            "top": null,
            "visibility": null,
            "width": null
          }
        },
        "8a2a20a22d014c67998a1e3aef91628a": {
          "model_module": "@jupyter-widgets/controls",
          "model_name": "ButtonStyleModel",
          "model_module_version": "1.5.0",
          "state": {
            "_model_module": "@jupyter-widgets/controls",
            "_model_module_version": "1.5.0",
            "_model_name": "ButtonStyleModel",
            "_view_count": null,
            "_view_module": "@jupyter-widgets/base",
            "_view_module_version": "1.2.0",
            "_view_name": "StyleView",
            "button_color": null,
            "font_weight": ""
          }
        },
        "67753b9051fc4836b50cd49e79e0a10f": {
          "model_module": "@jupyter-widgets/output",
          "model_name": "OutputModel",
          "model_module_version": "1.0.0",
          "state": {
            "_dom_classes": [],
            "_model_module": "@jupyter-widgets/output",
            "_model_module_version": "1.0.0",
            "_model_name": "OutputModel",
            "_view_count": null,
            "_view_module": "@jupyter-widgets/output",
            "_view_module_version": "1.0.0",
            "_view_name": "OutputView",
            "layout": "IPY_MODEL_cb87436633c74d2a9452a706646d0f59",
            "msg_id": "",
            "outputs": [
              {
                "output_type": "display_data",
                "data": {
                  "text/plain": "<IPython.core.display.HTML object>",
                  "text/html": "<b><font color=\"blue\">Parabéns, você acertou a questão.</font>"
                },
                "metadata": {}
              }
            ]
          }
        },
        "cb87436633c74d2a9452a706646d0f59": {
          "model_module": "@jupyter-widgets/base",
          "model_name": "LayoutModel",
          "model_module_version": "1.2.0",
          "state": {
            "_model_module": "@jupyter-widgets/base",
            "_model_module_version": "1.2.0",
            "_model_name": "LayoutModel",
            "_view_count": null,
            "_view_module": "@jupyter-widgets/base",
            "_view_module_version": "1.2.0",
            "_view_name": "LayoutView",
            "align_content": null,
            "align_items": null,
            "align_self": null,
            "border": null,
            "bottom": null,
            "display": null,
            "flex": null,
            "flex_flow": null,
            "grid_area": null,
            "grid_auto_columns": null,
            "grid_auto_flow": null,
            "grid_auto_rows": null,
            "grid_column": null,
            "grid_gap": null,
            "grid_row": null,
            "grid_template_areas": null,
            "grid_template_columns": null,
            "grid_template_rows": null,
            "height": null,
            "justify_content": null,
            "justify_items": null,
            "left": null,
            "margin": null,
            "max_height": null,
            "max_width": null,
            "min_height": null,
            "min_width": null,
            "object_fit": null,
            "object_position": null,
            "order": null,
            "overflow": null,
            "overflow_x": null,
            "overflow_y": null,
            "padding": null,
            "right": null,
            "top": null,
            "visibility": null,
            "width": null
          }
        },
        "40231e1592644a728f54c96b00bd2ba8": {
          "model_module": "@jupyter-widgets/controls",
          "model_name": "HBoxModel",
          "model_module_version": "1.5.0",
          "state": {
            "_dom_classes": [],
            "_model_module": "@jupyter-widgets/controls",
            "_model_module_version": "1.5.0",
            "_model_name": "HBoxModel",
            "_view_count": null,
            "_view_module": "@jupyter-widgets/controls",
            "_view_module_version": "1.5.0",
            "_view_name": "HBoxView",
            "box_style": "",
            "children": [
              "IPY_MODEL_c7f1b0dcd8d940ffb3414d8baa777868",
              "IPY_MODEL_5ba21b70a7094fc39a1dfee3c94f892c"
            ],
            "layout": "IPY_MODEL_162a596b6c22489896e7b0f089a68270"
          }
        },
        "c7f1b0dcd8d940ffb3414d8baa777868": {
          "model_module": "@jupyter-widgets/controls",
          "model_name": "TextModel",
          "model_module_version": "1.5.0",
          "state": {
            "_dom_classes": [],
            "_model_module": "@jupyter-widgets/controls",
            "_model_module_version": "1.5.0",
            "_model_name": "TextModel",
            "_view_count": null,
            "_view_module": "@jupyter-widgets/controls",
            "_view_module_version": "1.5.0",
            "_view_name": "TextView",
            "continuous_update": true,
            "description": "",
            "description_tooltip": null,
            "disabled": false,
            "layout": "IPY_MODEL_72c46f38b43b4cc0995ec46047b4a2bb",
            "placeholder": "Digite sua fórmula:",
            "style": "IPY_MODEL_e4263cd610c747fa9bf28a05a3b2422b",
            "value": "(C|(A->(~A)))"
          }
        },
        "5ba21b70a7094fc39a1dfee3c94f892c": {
          "model_module": "@jupyter-widgets/controls",
          "model_name": "TextModel",
          "model_module_version": "1.5.0",
          "state": {
            "_dom_classes": [],
            "_model_module": "@jupyter-widgets/controls",
            "_model_module_version": "1.5.0",
            "_model_name": "TextModel",
            "_view_count": null,
            "_view_module": "@jupyter-widgets/controls",
            "_view_module_version": "1.5.0",
            "_view_name": "TextView",
            "continuous_update": true,
            "description": "",
            "description_tooltip": null,
            "disabled": false,
            "layout": "IPY_MODEL_72c46f38b43b4cc0995ec46047b4a2bb",
            "placeholder": "Digite o número de conectivos da fórmula ao lado",
            "style": "IPY_MODEL_e86fde4428f1460ca9c9b058313da81e",
            "value": "3"
          }
        },
        "162a596b6c22489896e7b0f089a68270": {
          "model_module": "@jupyter-widgets/base",
          "model_name": "LayoutModel",
          "model_module_version": "1.2.0",
          "state": {
            "_model_module": "@jupyter-widgets/base",
            "_model_module_version": "1.2.0",
            "_model_name": "LayoutModel",
            "_view_count": null,
            "_view_module": "@jupyter-widgets/base",
            "_view_module_version": "1.2.0",
            "_view_name": "LayoutView",
            "align_content": null,
            "align_items": null,
            "align_self": null,
            "border": null,
            "bottom": null,
            "display": null,
            "flex": null,
            "flex_flow": null,
            "grid_area": null,
            "grid_auto_columns": null,
            "grid_auto_flow": null,
            "grid_auto_rows": null,
            "grid_column": null,
            "grid_gap": null,
            "grid_row": null,
            "grid_template_areas": null,
            "grid_template_columns": null,
            "grid_template_rows": null,
            "height": null,
            "justify_content": null,
            "justify_items": null,
            "left": null,
            "margin": null,
            "max_height": null,
            "max_width": null,
            "min_height": null,
            "min_width": null,
            "object_fit": null,
            "object_position": null,
            "order": null,
            "overflow": null,
            "overflow_x": null,
            "overflow_y": null,
            "padding": null,
            "right": null,
            "top": null,
            "visibility": null,
            "width": null
          }
        },
        "72c46f38b43b4cc0995ec46047b4a2bb": {
          "model_module": "@jupyter-widgets/base",
          "model_name": "LayoutModel",
          "model_module_version": "1.2.0",
          "state": {
            "_model_module": "@jupyter-widgets/base",
            "_model_module_version": "1.2.0",
            "_model_name": "LayoutModel",
            "_view_count": null,
            "_view_module": "@jupyter-widgets/base",
            "_view_module_version": "1.2.0",
            "_view_name": "LayoutView",
            "align_content": null,
            "align_items": null,
            "align_self": null,
            "border": null,
            "bottom": null,
            "display": null,
            "flex": null,
            "flex_flow": null,
            "grid_area": null,
            "grid_auto_columns": null,
            "grid_auto_flow": null,
            "grid_auto_rows": null,
            "grid_column": null,
            "grid_gap": null,
            "grid_row": null,
            "grid_template_areas": null,
            "grid_template_columns": null,
            "grid_template_rows": null,
            "height": null,
            "justify_content": null,
            "justify_items": null,
            "left": null,
            "margin": null,
            "max_height": null,
            "max_width": null,
            "min_height": null,
            "min_width": null,
            "object_fit": null,
            "object_position": null,
            "order": null,
            "overflow": null,
            "overflow_x": null,
            "overflow_y": null,
            "padding": null,
            "right": null,
            "top": null,
            "visibility": null,
            "width": "40%"
          }
        },
        "e4263cd610c747fa9bf28a05a3b2422b": {
          "model_module": "@jupyter-widgets/controls",
          "model_name": "DescriptionStyleModel",
          "model_module_version": "1.5.0",
          "state": {
            "_model_module": "@jupyter-widgets/controls",
            "_model_module_version": "1.5.0",
            "_model_name": "DescriptionStyleModel",
            "_view_count": null,
            "_view_module": "@jupyter-widgets/base",
            "_view_module_version": "1.2.0",
            "_view_name": "StyleView",
            "description_width": ""
          }
        },
        "e86fde4428f1460ca9c9b058313da81e": {
          "model_module": "@jupyter-widgets/controls",
          "model_name": "DescriptionStyleModel",
          "model_module_version": "1.5.0",
          "state": {
            "_model_module": "@jupyter-widgets/controls",
            "_model_module_version": "1.5.0",
            "_model_name": "DescriptionStyleModel",
            "_view_count": null,
            "_view_module": "@jupyter-widgets/base",
            "_view_module_version": "1.2.0",
            "_view_name": "StyleView",
            "description_width": ""
          }
        },
        "f8690e8b8445447bae1b3d697104d790": {
          "model_module": "@jupyter-widgets/controls",
          "model_name": "HBoxModel",
          "model_module_version": "1.5.0",
          "state": {
            "_dom_classes": [],
            "_model_module": "@jupyter-widgets/controls",
            "_model_module_version": "1.5.0",
            "_model_name": "HBoxModel",
            "_view_count": null,
            "_view_module": "@jupyter-widgets/controls",
            "_view_module_version": "1.5.0",
            "_view_name": "HBoxView",
            "box_style": "",
            "children": [
              "IPY_MODEL_d14323402b874209823bf0a87f2be90b"
            ],
            "layout": "IPY_MODEL_574cf42e86e84aab9f6c89e4e06d9b09"
          }
        },
        "d14323402b874209823bf0a87f2be90b": {
          "model_module": "@jupyter-widgets/controls",
          "model_name": "ButtonModel",
          "model_module_version": "1.5.0",
          "state": {
            "_dom_classes": [],
            "_model_module": "@jupyter-widgets/controls",
            "_model_module_version": "1.5.0",
            "_model_name": "ButtonModel",
            "_view_count": null,
            "_view_module": "@jupyter-widgets/controls",
            "_view_module_version": "1.5.0",
            "_view_name": "ButtonView",
            "button_style": "",
            "description": "Executar",
            "disabled": false,
            "icon": "",
            "layout": "IPY_MODEL_1b77469046d24433817e95c8dff48c15",
            "style": "IPY_MODEL_3fb3ebf241e9409ca4efb5452a5e4d40",
            "tooltip": ""
          }
        },
        "574cf42e86e84aab9f6c89e4e06d9b09": {
          "model_module": "@jupyter-widgets/base",
          "model_name": "LayoutModel",
          "model_module_version": "1.2.0",
          "state": {
            "_model_module": "@jupyter-widgets/base",
            "_model_module_version": "1.2.0",
            "_model_name": "LayoutModel",
            "_view_count": null,
            "_view_module": "@jupyter-widgets/base",
            "_view_module_version": "1.2.0",
            "_view_name": "LayoutView",
            "align_content": null,
            "align_items": null,
            "align_self": null,
            "border": null,
            "bottom": null,
            "display": null,
            "flex": null,
            "flex_flow": null,
            "grid_area": null,
            "grid_auto_columns": null,
            "grid_auto_flow": null,
            "grid_auto_rows": null,
            "grid_column": null,
            "grid_gap": null,
            "grid_row": null,
            "grid_template_areas": null,
            "grid_template_columns": null,
            "grid_template_rows": null,
            "height": null,
            "justify_content": null,
            "justify_items": null,
            "left": null,
            "margin": null,
            "max_height": null,
            "max_width": null,
            "min_height": null,
            "min_width": null,
            "object_fit": null,
            "object_position": null,
            "order": null,
            "overflow": null,
            "overflow_x": null,
            "overflow_y": null,
            "padding": null,
            "right": null,
            "top": null,
            "visibility": null,
            "width": null
          }
        },
        "1b77469046d24433817e95c8dff48c15": {
          "model_module": "@jupyter-widgets/base",
          "model_name": "LayoutModel",
          "model_module_version": "1.2.0",
          "state": {
            "_model_module": "@jupyter-widgets/base",
            "_model_module_version": "1.2.0",
            "_model_name": "LayoutModel",
            "_view_count": null,
            "_view_module": "@jupyter-widgets/base",
            "_view_module_version": "1.2.0",
            "_view_name": "LayoutView",
            "align_content": null,
            "align_items": null,
            "align_self": null,
            "border": null,
            "bottom": null,
            "display": null,
            "flex": null,
            "flex_flow": null,
            "grid_area": null,
            "grid_auto_columns": null,
            "grid_auto_flow": null,
            "grid_auto_rows": null,
            "grid_column": null,
            "grid_gap": null,
            "grid_row": null,
            "grid_template_areas": null,
            "grid_template_columns": null,
            "grid_template_rows": null,
            "height": null,
            "justify_content": null,
            "justify_items": null,
            "left": null,
            "margin": null,
            "max_height": null,
            "max_width": null,
            "min_height": null,
            "min_width": null,
            "object_fit": null,
            "object_position": null,
            "order": null,
            "overflow": null,
            "overflow_x": null,
            "overflow_y": null,
            "padding": null,
            "right": null,
            "top": null,
            "visibility": null,
            "width": null
          }
        },
        "3fb3ebf241e9409ca4efb5452a5e4d40": {
          "model_module": "@jupyter-widgets/controls",
          "model_name": "ButtonStyleModel",
          "model_module_version": "1.5.0",
          "state": {
            "_model_module": "@jupyter-widgets/controls",
            "_model_module_version": "1.5.0",
            "_model_name": "ButtonStyleModel",
            "_view_count": null,
            "_view_module": "@jupyter-widgets/base",
            "_view_module_version": "1.2.0",
            "_view_name": "StyleView",
            "button_color": null,
            "font_weight": ""
          }
        },
        "65a96ec1c9f74631b298597c3951ab70": {
          "model_module": "@jupyter-widgets/output",
          "model_name": "OutputModel",
          "model_module_version": "1.0.0",
          "state": {
            "_dom_classes": [],
            "_model_module": "@jupyter-widgets/output",
            "_model_module_version": "1.0.0",
            "_model_name": "OutputModel",
            "_view_count": null,
            "_view_module": "@jupyter-widgets/output",
            "_view_module_version": "1.0.0",
            "_view_name": "OutputView",
            "layout": "IPY_MODEL_c8f8238279c9471880a5dfa57b483419",
            "msg_id": "",
            "outputs": [
              {
                "output_type": "display_data",
                "data": {
                  "text/plain": "<IPython.core.display.HTML object>",
                  "text/html": "<b><font color=\"blue\">Parabéns, você acertou a questão.</font>"
                },
                "metadata": {}
              }
            ]
          }
        },
        "c8f8238279c9471880a5dfa57b483419": {
          "model_module": "@jupyter-widgets/base",
          "model_name": "LayoutModel",
          "model_module_version": "1.2.0",
          "state": {
            "_model_module": "@jupyter-widgets/base",
            "_model_module_version": "1.2.0",
            "_model_name": "LayoutModel",
            "_view_count": null,
            "_view_module": "@jupyter-widgets/base",
            "_view_module_version": "1.2.0",
            "_view_name": "LayoutView",
            "align_content": null,
            "align_items": null,
            "align_self": null,
            "border": null,
            "bottom": null,
            "display": null,
            "flex": null,
            "flex_flow": null,
            "grid_area": null,
            "grid_auto_columns": null,
            "grid_auto_flow": null,
            "grid_auto_rows": null,
            "grid_column": null,
            "grid_gap": null,
            "grid_row": null,
            "grid_template_areas": null,
            "grid_template_columns": null,
            "grid_template_rows": null,
            "height": null,
            "justify_content": null,
            "justify_items": null,
            "left": null,
            "margin": null,
            "max_height": null,
            "max_width": null,
            "min_height": null,
            "min_width": null,
            "object_fit": null,
            "object_position": null,
            "order": null,
            "overflow": null,
            "overflow_x": null,
            "overflow_y": null,
            "padding": null,
            "right": null,
            "top": null,
            "visibility": null,
            "width": null
          }
        },
        "371924e15f504fb7bc1823f1a45a29a4": {
          "model_module": "@jupyter-widgets/controls",
          "model_name": "HBoxModel",
          "model_module_version": "1.5.0",
          "state": {
            "_dom_classes": [],
            "_model_module": "@jupyter-widgets/controls",
            "_model_module_version": "1.5.0",
            "_model_name": "HBoxModel",
            "_view_count": null,
            "_view_module": "@jupyter-widgets/controls",
            "_view_module_version": "1.5.0",
            "_view_name": "HBoxView",
            "box_style": "",
            "children": [
              "IPY_MODEL_066a5470ead64401956e31f45366c7a1",
              "IPY_MODEL_02b7bf41e7fe49e6a267bb8acb71a7f4"
            ],
            "layout": "IPY_MODEL_01c6d5167afb4ba6a925ed95f671ebd6"
          }
        },
        "066a5470ead64401956e31f45366c7a1": {
          "model_module": "@jupyter-widgets/controls",
          "model_name": "TextModel",
          "model_module_version": "1.5.0",
          "state": {
            "_dom_classes": [],
            "_model_module": "@jupyter-widgets/controls",
            "_model_module_version": "1.5.0",
            "_model_name": "TextModel",
            "_view_count": null,
            "_view_module": "@jupyter-widgets/controls",
            "_view_module_version": "1.5.0",
            "_view_name": "TextView",
            "continuous_update": true,
            "description": "",
            "description_tooltip": null,
            "disabled": false,
            "layout": "IPY_MODEL_f84bd749b9cf44cc97cb87e5ca047dc8",
            "placeholder": "Digite sua fórmula:",
            "style": "IPY_MODEL_68bb8098d24a47f68686dc95183a0273",
            "value": "(C|(A->(~A)))"
          }
        },
        "02b7bf41e7fe49e6a267bb8acb71a7f4": {
          "model_module": "@jupyter-widgets/controls",
          "model_name": "TextModel",
          "model_module_version": "1.5.0",
          "state": {
            "_dom_classes": [],
            "_model_module": "@jupyter-widgets/controls",
            "_model_module_version": "1.5.0",
            "_model_name": "TextModel",
            "_view_count": null,
            "_view_module": "@jupyter-widgets/controls",
            "_view_module_version": "1.5.0",
            "_view_name": "TextView",
            "continuous_update": true,
            "description": "",
            "description_tooltip": null,
            "disabled": false,
            "layout": "IPY_MODEL_f84bd749b9cf44cc97cb87e5ca047dc8",
            "placeholder": "Digite o número de átomos da fórmula ao lado",
            "style": "IPY_MODEL_d6e1189ce6c34d44ae166f79960ba129",
            "value": "3"
          }
        },
        "01c6d5167afb4ba6a925ed95f671ebd6": {
          "model_module": "@jupyter-widgets/base",
          "model_name": "LayoutModel",
          "model_module_version": "1.2.0",
          "state": {
            "_model_module": "@jupyter-widgets/base",
            "_model_module_version": "1.2.0",
            "_model_name": "LayoutModel",
            "_view_count": null,
            "_view_module": "@jupyter-widgets/base",
            "_view_module_version": "1.2.0",
            "_view_name": "LayoutView",
            "align_content": null,
            "align_items": null,
            "align_self": null,
            "border": null,
            "bottom": null,
            "display": null,
            "flex": null,
            "flex_flow": null,
            "grid_area": null,
            "grid_auto_columns": null,
            "grid_auto_flow": null,
            "grid_auto_rows": null,
            "grid_column": null,
            "grid_gap": null,
            "grid_row": null,
            "grid_template_areas": null,
            "grid_template_columns": null,
            "grid_template_rows": null,
            "height": null,
            "justify_content": null,
            "justify_items": null,
            "left": null,
            "margin": null,
            "max_height": null,
            "max_width": null,
            "min_height": null,
            "min_width": null,
            "object_fit": null,
            "object_position": null,
            "order": null,
            "overflow": null,
            "overflow_x": null,
            "overflow_y": null,
            "padding": null,
            "right": null,
            "top": null,
            "visibility": null,
            "width": null
          }
        },
        "f84bd749b9cf44cc97cb87e5ca047dc8": {
          "model_module": "@jupyter-widgets/base",
          "model_name": "LayoutModel",
          "model_module_version": "1.2.0",
          "state": {
            "_model_module": "@jupyter-widgets/base",
            "_model_module_version": "1.2.0",
            "_model_name": "LayoutModel",
            "_view_count": null,
            "_view_module": "@jupyter-widgets/base",
            "_view_module_version": "1.2.0",
            "_view_name": "LayoutView",
            "align_content": null,
            "align_items": null,
            "align_self": null,
            "border": null,
            "bottom": null,
            "display": null,
            "flex": null,
            "flex_flow": null,
            "grid_area": null,
            "grid_auto_columns": null,
            "grid_auto_flow": null,
            "grid_auto_rows": null,
            "grid_column": null,
            "grid_gap": null,
            "grid_row": null,
            "grid_template_areas": null,
            "grid_template_columns": null,
            "grid_template_rows": null,
            "height": null,
            "justify_content": null,
            "justify_items": null,
            "left": null,
            "margin": null,
            "max_height": null,
            "max_width": null,
            "min_height": null,
            "min_width": null,
            "object_fit": null,
            "object_position": null,
            "order": null,
            "overflow": null,
            "overflow_x": null,
            "overflow_y": null,
            "padding": null,
            "right": null,
            "top": null,
            "visibility": null,
            "width": "40%"
          }
        },
        "68bb8098d24a47f68686dc95183a0273": {
          "model_module": "@jupyter-widgets/controls",
          "model_name": "DescriptionStyleModel",
          "model_module_version": "1.5.0",
          "state": {
            "_model_module": "@jupyter-widgets/controls",
            "_model_module_version": "1.5.0",
            "_model_name": "DescriptionStyleModel",
            "_view_count": null,
            "_view_module": "@jupyter-widgets/base",
            "_view_module_version": "1.2.0",
            "_view_name": "StyleView",
            "description_width": ""
          }
        },
        "d6e1189ce6c34d44ae166f79960ba129": {
          "model_module": "@jupyter-widgets/controls",
          "model_name": "DescriptionStyleModel",
          "model_module_version": "1.5.0",
          "state": {
            "_model_module": "@jupyter-widgets/controls",
            "_model_module_version": "1.5.0",
            "_model_name": "DescriptionStyleModel",
            "_view_count": null,
            "_view_module": "@jupyter-widgets/base",
            "_view_module_version": "1.2.0",
            "_view_name": "StyleView",
            "description_width": ""
          }
        },
        "39df05763b244e5581ec4090e3be4644": {
          "model_module": "@jupyter-widgets/controls",
          "model_name": "HBoxModel",
          "model_module_version": "1.5.0",
          "state": {
            "_dom_classes": [],
            "_model_module": "@jupyter-widgets/controls",
            "_model_module_version": "1.5.0",
            "_model_name": "HBoxModel",
            "_view_count": null,
            "_view_module": "@jupyter-widgets/controls",
            "_view_module_version": "1.5.0",
            "_view_name": "HBoxView",
            "box_style": "",
            "children": [
              "IPY_MODEL_a44f423afb8a4252b86df2bf35903253"
            ],
            "layout": "IPY_MODEL_1cf6a5623a434ad2a6f89e52885d9b0a"
          }
        },
        "a44f423afb8a4252b86df2bf35903253": {
          "model_module": "@jupyter-widgets/controls",
          "model_name": "ButtonModel",
          "model_module_version": "1.5.0",
          "state": {
            "_dom_classes": [],
            "_model_module": "@jupyter-widgets/controls",
            "_model_module_version": "1.5.0",
            "_model_name": "ButtonModel",
            "_view_count": null,
            "_view_module": "@jupyter-widgets/controls",
            "_view_module_version": "1.5.0",
            "_view_name": "ButtonView",
            "button_style": "",
            "description": "Executar",
            "disabled": false,
            "icon": "",
            "layout": "IPY_MODEL_2ee8ccb4965148068b7e8bcbe8494ec1",
            "style": "IPY_MODEL_0aecdacb9e514dc09cd4b5bcd5ef3576",
            "tooltip": ""
          }
        },
        "1cf6a5623a434ad2a6f89e52885d9b0a": {
          "model_module": "@jupyter-widgets/base",
          "model_name": "LayoutModel",
          "model_module_version": "1.2.0",
          "state": {
            "_model_module": "@jupyter-widgets/base",
            "_model_module_version": "1.2.0",
            "_model_name": "LayoutModel",
            "_view_count": null,
            "_view_module": "@jupyter-widgets/base",
            "_view_module_version": "1.2.0",
            "_view_name": "LayoutView",
            "align_content": null,
            "align_items": null,
            "align_self": null,
            "border": null,
            "bottom": null,
            "display": null,
            "flex": null,
            "flex_flow": null,
            "grid_area": null,
            "grid_auto_columns": null,
            "grid_auto_flow": null,
            "grid_auto_rows": null,
            "grid_column": null,
            "grid_gap": null,
            "grid_row": null,
            "grid_template_areas": null,
            "grid_template_columns": null,
            "grid_template_rows": null,
            "height": null,
            "justify_content": null,
            "justify_items": null,
            "left": null,
            "margin": null,
            "max_height": null,
            "max_width": null,
            "min_height": null,
            "min_width": null,
            "object_fit": null,
            "object_position": null,
            "order": null,
            "overflow": null,
            "overflow_x": null,
            "overflow_y": null,
            "padding": null,
            "right": null,
            "top": null,
            "visibility": null,
            "width": null
          }
        },
        "2ee8ccb4965148068b7e8bcbe8494ec1": {
          "model_module": "@jupyter-widgets/base",
          "model_name": "LayoutModel",
          "model_module_version": "1.2.0",
          "state": {
            "_model_module": "@jupyter-widgets/base",
            "_model_module_version": "1.2.0",
            "_model_name": "LayoutModel",
            "_view_count": null,
            "_view_module": "@jupyter-widgets/base",
            "_view_module_version": "1.2.0",
            "_view_name": "LayoutView",
            "align_content": null,
            "align_items": null,
            "align_self": null,
            "border": null,
            "bottom": null,
            "display": null,
            "flex": null,
            "flex_flow": null,
            "grid_area": null,
            "grid_auto_columns": null,
            "grid_auto_flow": null,
            "grid_auto_rows": null,
            "grid_column": null,
            "grid_gap": null,
            "grid_row": null,
            "grid_template_areas": null,
            "grid_template_columns": null,
            "grid_template_rows": null,
            "height": null,
            "justify_content": null,
            "justify_items": null,
            "left": null,
            "margin": null,
            "max_height": null,
            "max_width": null,
            "min_height": null,
            "min_width": null,
            "object_fit": null,
            "object_position": null,
            "order": null,
            "overflow": null,
            "overflow_x": null,
            "overflow_y": null,
            "padding": null,
            "right": null,
            "top": null,
            "visibility": null,
            "width": null
          }
        },
        "0aecdacb9e514dc09cd4b5bcd5ef3576": {
          "model_module": "@jupyter-widgets/controls",
          "model_name": "ButtonStyleModel",
          "model_module_version": "1.5.0",
          "state": {
            "_model_module": "@jupyter-widgets/controls",
            "_model_module_version": "1.5.0",
            "_model_name": "ButtonStyleModel",
            "_view_count": null,
            "_view_module": "@jupyter-widgets/base",
            "_view_module_version": "1.2.0",
            "_view_name": "StyleView",
            "button_color": null,
            "font_weight": ""
          }
        },
        "790b05732a6f4a2b9caee8289ee63bdd": {
          "model_module": "@jupyter-widgets/output",
          "model_name": "OutputModel",
          "model_module_version": "1.0.0",
          "state": {
            "_dom_classes": [],
            "_model_module": "@jupyter-widgets/output",
            "_model_module_version": "1.0.0",
            "_model_name": "OutputModel",
            "_view_count": null,
            "_view_module": "@jupyter-widgets/output",
            "_view_module_version": "1.0.0",
            "_view_name": "OutputView",
            "layout": "IPY_MODEL_9d7c49ee79214fd8b9f7b74884a5e524",
            "msg_id": "",
            "outputs": [
              {
                "output_type": "display_data",
                "data": {
                  "text/plain": "<IPython.core.display.HTML object>",
                  "text/html": "<b><font color=\"blue\">Parabéns, você acertou a questão.</font>"
                },
                "metadata": {}
              }
            ]
          }
        },
        "9d7c49ee79214fd8b9f7b74884a5e524": {
          "model_module": "@jupyter-widgets/base",
          "model_name": "LayoutModel",
          "model_module_version": "1.2.0",
          "state": {
            "_model_module": "@jupyter-widgets/base",
            "_model_module_version": "1.2.0",
            "_model_name": "LayoutModel",
            "_view_count": null,
            "_view_module": "@jupyter-widgets/base",
            "_view_module_version": "1.2.0",
            "_view_name": "LayoutView",
            "align_content": null,
            "align_items": null,
            "align_self": null,
            "border": null,
            "bottom": null,
            "display": null,
            "flex": null,
            "flex_flow": null,
            "grid_area": null,
            "grid_auto_columns": null,
            "grid_auto_flow": null,
            "grid_auto_rows": null,
            "grid_column": null,
            "grid_gap": null,
            "grid_row": null,
            "grid_template_areas": null,
            "grid_template_columns": null,
            "grid_template_rows": null,
            "height": null,
            "justify_content": null,
            "justify_items": null,
            "left": null,
            "margin": null,
            "max_height": null,
            "max_width": null,
            "min_height": null,
            "min_width": null,
            "object_fit": null,
            "object_position": null,
            "order": null,
            "overflow": null,
            "overflow_x": null,
            "overflow_y": null,
            "padding": null,
            "right": null,
            "top": null,
            "visibility": null,
            "width": null
          }
        },
        "b3b26d1fbcfb4ec890498974e26d1b36": {
          "model_module": "@jupyter-widgets/controls",
          "model_name": "HBoxModel",
          "model_module_version": "1.5.0",
          "state": {
            "_dom_classes": [],
            "_model_module": "@jupyter-widgets/controls",
            "_model_module_version": "1.5.0",
            "_model_name": "HBoxModel",
            "_view_count": null,
            "_view_module": "@jupyter-widgets/controls",
            "_view_module_version": "1.5.0",
            "_view_name": "HBoxView",
            "box_style": "",
            "children": [
              "IPY_MODEL_c398302db8dd4c78ab247dfe13da69db",
              "IPY_MODEL_868ef1320dac4b4abd0fee9d0c7ac2a7",
              "IPY_MODEL_9c35a7f16157466daf18d8a128b5cea8"
            ],
            "layout": "IPY_MODEL_74c83af685624112b80cd5057aa9a232"
          }
        },
        "c398302db8dd4c78ab247dfe13da69db": {
          "model_module": "@jupyter-widgets/controls",
          "model_name": "TextModel",
          "model_module_version": "1.5.0",
          "state": {
            "_dom_classes": [],
            "_model_module": "@jupyter-widgets/controls",
            "_model_module_version": "1.5.0",
            "_model_name": "TextModel",
            "_view_count": null,
            "_view_module": "@jupyter-widgets/controls",
            "_view_module_version": "1.5.0",
            "_view_name": "TextView",
            "continuous_update": true,
            "description": "",
            "description_tooltip": null,
            "disabled": false,
            "layout": "IPY_MODEL_56dc6ab9a7f64de8acc3f654c09e390d",
            "placeholder": "Digite sua fórmula",
            "style": "IPY_MODEL_25d178bd15e546dfb038a95d5646305d",
            "value": "(C|(A->(~A)))"
          }
        },
        "868ef1320dac4b4abd0fee9d0c7ac2a7": {
          "model_module": "@jupyter-widgets/controls",
          "model_name": "TextModel",
          "model_module_version": "1.5.0",
          "state": {
            "_dom_classes": [],
            "_model_module": "@jupyter-widgets/controls",
            "_model_module_version": "1.5.0",
            "_model_name": "TextModel",
            "_view_count": null,
            "_view_module": "@jupyter-widgets/controls",
            "_view_module_version": "1.5.0",
            "_view_name": "TextView",
            "continuous_update": true,
            "description": "",
            "description_tooltip": null,
            "disabled": false,
            "layout": "IPY_MODEL_56dc6ab9a7f64de8acc3f654c09e390d",
            "placeholder": "Digite o átomo",
            "style": "IPY_MODEL_31cc718e961044dda92ab888b7ec40d8",
            "value": "A"
          }
        },
        "9c35a7f16157466daf18d8a128b5cea8": {
          "model_module": "@jupyter-widgets/controls",
          "model_name": "TextModel",
          "model_module_version": "1.5.0",
          "state": {
            "_dom_classes": [],
            "_model_module": "@jupyter-widgets/controls",
            "_model_module_version": "1.5.0",
            "_model_name": "TextModel",
            "_view_count": null,
            "_view_module": "@jupyter-widgets/controls",
            "_view_module_version": "1.5.0",
            "_view_name": "TextView",
            "continuous_update": true,
            "description": "",
            "description_tooltip": null,
            "disabled": false,
            "layout": "IPY_MODEL_56dc6ab9a7f64de8acc3f654c09e390d",
            "placeholder": "Digite o número de átomos do atómo e da fórmula ao lado",
            "style": "IPY_MODEL_3a597560fd3047699b7940a42e4587cf",
            "value": "2"
          }
        },
        "74c83af685624112b80cd5057aa9a232": {
          "model_module": "@jupyter-widgets/base",
          "model_name": "LayoutModel",
          "model_module_version": "1.2.0",
          "state": {
            "_model_module": "@jupyter-widgets/base",
            "_model_module_version": "1.2.0",
            "_model_name": "LayoutModel",
            "_view_count": null,
            "_view_module": "@jupyter-widgets/base",
            "_view_module_version": "1.2.0",
            "_view_name": "LayoutView",
            "align_content": null,
            "align_items": null,
            "align_self": null,
            "border": null,
            "bottom": null,
            "display": null,
            "flex": null,
            "flex_flow": null,
            "grid_area": null,
            "grid_auto_columns": null,
            "grid_auto_flow": null,
            "grid_auto_rows": null,
            "grid_column": null,
            "grid_gap": null,
            "grid_row": null,
            "grid_template_areas": null,
            "grid_template_columns": null,
            "grid_template_rows": null,
            "height": null,
            "justify_content": null,
            "justify_items": null,
            "left": null,
            "margin": null,
            "max_height": null,
            "max_width": null,
            "min_height": null,
            "min_width": null,
            "object_fit": null,
            "object_position": null,
            "order": null,
            "overflow": null,
            "overflow_x": null,
            "overflow_y": null,
            "padding": null,
            "right": null,
            "top": null,
            "visibility": null,
            "width": null
          }
        },
        "56dc6ab9a7f64de8acc3f654c09e390d": {
          "model_module": "@jupyter-widgets/base",
          "model_name": "LayoutModel",
          "model_module_version": "1.2.0",
          "state": {
            "_model_module": "@jupyter-widgets/base",
            "_model_module_version": "1.2.0",
            "_model_name": "LayoutModel",
            "_view_count": null,
            "_view_module": "@jupyter-widgets/base",
            "_view_module_version": "1.2.0",
            "_view_name": "LayoutView",
            "align_content": null,
            "align_items": null,
            "align_self": null,
            "border": null,
            "bottom": null,
            "display": null,
            "flex": null,
            "flex_flow": null,
            "grid_area": null,
            "grid_auto_columns": null,
            "grid_auto_flow": null,
            "grid_auto_rows": null,
            "grid_column": null,
            "grid_gap": null,
            "grid_row": null,
            "grid_template_areas": null,
            "grid_template_columns": null,
            "grid_template_rows": null,
            "height": null,
            "justify_content": null,
            "justify_items": null,
            "left": null,
            "margin": null,
            "max_height": null,
            "max_width": null,
            "min_height": null,
            "min_width": null,
            "object_fit": null,
            "object_position": null,
            "order": null,
            "overflow": null,
            "overflow_x": null,
            "overflow_y": null,
            "padding": null,
            "right": null,
            "top": null,
            "visibility": null,
            "width": "33.3%"
          }
        },
        "25d178bd15e546dfb038a95d5646305d": {
          "model_module": "@jupyter-widgets/controls",
          "model_name": "DescriptionStyleModel",
          "model_module_version": "1.5.0",
          "state": {
            "_model_module": "@jupyter-widgets/controls",
            "_model_module_version": "1.5.0",
            "_model_name": "DescriptionStyleModel",
            "_view_count": null,
            "_view_module": "@jupyter-widgets/base",
            "_view_module_version": "1.2.0",
            "_view_name": "StyleView",
            "description_width": ""
          }
        },
        "31cc718e961044dda92ab888b7ec40d8": {
          "model_module": "@jupyter-widgets/controls",
          "model_name": "DescriptionStyleModel",
          "model_module_version": "1.5.0",
          "state": {
            "_model_module": "@jupyter-widgets/controls",
            "_model_module_version": "1.5.0",
            "_model_name": "DescriptionStyleModel",
            "_view_count": null,
            "_view_module": "@jupyter-widgets/base",
            "_view_module_version": "1.2.0",
            "_view_name": "StyleView",
            "description_width": ""
          }
        },
        "3a597560fd3047699b7940a42e4587cf": {
          "model_module": "@jupyter-widgets/controls",
          "model_name": "DescriptionStyleModel",
          "model_module_version": "1.5.0",
          "state": {
            "_model_module": "@jupyter-widgets/controls",
            "_model_module_version": "1.5.0",
            "_model_name": "DescriptionStyleModel",
            "_view_count": null,
            "_view_module": "@jupyter-widgets/base",
            "_view_module_version": "1.2.0",
            "_view_name": "StyleView",
            "description_width": ""
          }
        },
        "f4e948abbc134228a93148411da0a770": {
          "model_module": "@jupyter-widgets/controls",
          "model_name": "HBoxModel",
          "model_module_version": "1.5.0",
          "state": {
            "_dom_classes": [],
            "_model_module": "@jupyter-widgets/controls",
            "_model_module_version": "1.5.0",
            "_model_name": "HBoxModel",
            "_view_count": null,
            "_view_module": "@jupyter-widgets/controls",
            "_view_module_version": "1.5.0",
            "_view_name": "HBoxView",
            "box_style": "",
            "children": [
              "IPY_MODEL_d18c04f2cb4f47068c8a47282ecc4ab8"
            ],
            "layout": "IPY_MODEL_3ab66b856ebf411d936127217be05c45"
          }
        },
        "d18c04f2cb4f47068c8a47282ecc4ab8": {
          "model_module": "@jupyter-widgets/controls",
          "model_name": "ButtonModel",
          "model_module_version": "1.5.0",
          "state": {
            "_dom_classes": [],
            "_model_module": "@jupyter-widgets/controls",
            "_model_module_version": "1.5.0",
            "_model_name": "ButtonModel",
            "_view_count": null,
            "_view_module": "@jupyter-widgets/controls",
            "_view_module_version": "1.5.0",
            "_view_name": "ButtonView",
            "button_style": "",
            "description": "Executar",
            "disabled": false,
            "icon": "",
            "layout": "IPY_MODEL_edb4f70012cc44f895e114a1fec07d98",
            "style": "IPY_MODEL_b9118d53a1d549e68357269f8098510a",
            "tooltip": ""
          }
        },
        "3ab66b856ebf411d936127217be05c45": {
          "model_module": "@jupyter-widgets/base",
          "model_name": "LayoutModel",
          "model_module_version": "1.2.0",
          "state": {
            "_model_module": "@jupyter-widgets/base",
            "_model_module_version": "1.2.0",
            "_model_name": "LayoutModel",
            "_view_count": null,
            "_view_module": "@jupyter-widgets/base",
            "_view_module_version": "1.2.0",
            "_view_name": "LayoutView",
            "align_content": null,
            "align_items": null,
            "align_self": null,
            "border": null,
            "bottom": null,
            "display": null,
            "flex": null,
            "flex_flow": null,
            "grid_area": null,
            "grid_auto_columns": null,
            "grid_auto_flow": null,
            "grid_auto_rows": null,
            "grid_column": null,
            "grid_gap": null,
            "grid_row": null,
            "grid_template_areas": null,
            "grid_template_columns": null,
            "grid_template_rows": null,
            "height": null,
            "justify_content": null,
            "justify_items": null,
            "left": null,
            "margin": null,
            "max_height": null,
            "max_width": null,
            "min_height": null,
            "min_width": null,
            "object_fit": null,
            "object_position": null,
            "order": null,
            "overflow": null,
            "overflow_x": null,
            "overflow_y": null,
            "padding": null,
            "right": null,
            "top": null,
            "visibility": null,
            "width": null
          }
        },
        "edb4f70012cc44f895e114a1fec07d98": {
          "model_module": "@jupyter-widgets/base",
          "model_name": "LayoutModel",
          "model_module_version": "1.2.0",
          "state": {
            "_model_module": "@jupyter-widgets/base",
            "_model_module_version": "1.2.0",
            "_model_name": "LayoutModel",
            "_view_count": null,
            "_view_module": "@jupyter-widgets/base",
            "_view_module_version": "1.2.0",
            "_view_name": "LayoutView",
            "align_content": null,
            "align_items": null,
            "align_self": null,
            "border": null,
            "bottom": null,
            "display": null,
            "flex": null,
            "flex_flow": null,
            "grid_area": null,
            "grid_auto_columns": null,
            "grid_auto_flow": null,
            "grid_auto_rows": null,
            "grid_column": null,
            "grid_gap": null,
            "grid_row": null,
            "grid_template_areas": null,
            "grid_template_columns": null,
            "grid_template_rows": null,
            "height": null,
            "justify_content": null,
            "justify_items": null,
            "left": null,
            "margin": null,
            "max_height": null,
            "max_width": null,
            "min_height": null,
            "min_width": null,
            "object_fit": null,
            "object_position": null,
            "order": null,
            "overflow": null,
            "overflow_x": null,
            "overflow_y": null,
            "padding": null,
            "right": null,
            "top": null,
            "visibility": null,
            "width": null
          }
        },
        "b9118d53a1d549e68357269f8098510a": {
          "model_module": "@jupyter-widgets/controls",
          "model_name": "ButtonStyleModel",
          "model_module_version": "1.5.0",
          "state": {
            "_model_module": "@jupyter-widgets/controls",
            "_model_module_version": "1.5.0",
            "_model_name": "ButtonStyleModel",
            "_view_count": null,
            "_view_module": "@jupyter-widgets/base",
            "_view_module_version": "1.2.0",
            "_view_name": "StyleView",
            "button_color": null,
            "font_weight": ""
          }
        },
        "7980cd0a59e341f8a825acb57de1daee": {
          "model_module": "@jupyter-widgets/output",
          "model_name": "OutputModel",
          "model_module_version": "1.0.0",
          "state": {
            "_dom_classes": [],
            "_model_module": "@jupyter-widgets/output",
            "_model_module_version": "1.0.0",
            "_model_name": "OutputModel",
            "_view_count": null,
            "_view_module": "@jupyter-widgets/output",
            "_view_module_version": "1.0.0",
            "_view_name": "OutputView",
            "layout": "IPY_MODEL_5410fd2acba74d64a976c6a9dff5f78b",
            "msg_id": "",
            "outputs": [
              {
                "output_type": "display_data",
                "data": {
                  "text/plain": "<IPython.core.display.HTML object>",
                  "text/html": "<b><font color=\"blue\">Parabéns, você acertou a questão.</font>"
                },
                "metadata": {}
              }
            ]
          }
        },
        "5410fd2acba74d64a976c6a9dff5f78b": {
          "model_module": "@jupyter-widgets/base",
          "model_name": "LayoutModel",
          "model_module_version": "1.2.0",
          "state": {
            "_model_module": "@jupyter-widgets/base",
            "_model_module_version": "1.2.0",
            "_model_name": "LayoutModel",
            "_view_count": null,
            "_view_module": "@jupyter-widgets/base",
            "_view_module_version": "1.2.0",
            "_view_name": "LayoutView",
            "align_content": null,
            "align_items": null,
            "align_self": null,
            "border": null,
            "bottom": null,
            "display": null,
            "flex": null,
            "flex_flow": null,
            "grid_area": null,
            "grid_auto_columns": null,
            "grid_auto_flow": null,
            "grid_auto_rows": null,
            "grid_column": null,
            "grid_gap": null,
            "grid_row": null,
            "grid_template_areas": null,
            "grid_template_columns": null,
            "grid_template_rows": null,
            "height": null,
            "justify_content": null,
            "justify_items": null,
            "left": null,
            "margin": null,
            "max_height": null,
            "max_width": null,
            "min_height": null,
            "min_width": null,
            "object_fit": null,
            "object_position": null,
            "order": null,
            "overflow": null,
            "overflow_x": null,
            "overflow_y": null,
            "padding": null,
            "right": null,
            "top": null,
            "visibility": null,
            "width": null
          }
        },
        "b963764ce62b4a4686c9a73eef52f2ba": {
          "model_module": "@jupyter-widgets/controls",
          "model_name": "HBoxModel",
          "model_module_version": "1.5.0",
          "state": {
            "_dom_classes": [],
            "_model_module": "@jupyter-widgets/controls",
            "_model_module_version": "1.5.0",
            "_model_name": "HBoxModel",
            "_view_count": null,
            "_view_module": "@jupyter-widgets/controls",
            "_view_module_version": "1.5.0",
            "_view_name": "HBoxView",
            "box_style": "",
            "children": [
              "IPY_MODEL_e0283fd19fd94684a73d06110d158629",
              "IPY_MODEL_a1ecdcd9135c4062a8be6c91dcbbe2bc"
            ],
            "layout": "IPY_MODEL_7c1b42d5f8aa42cdb5b1ffa98d772521"
          }
        },
        "e0283fd19fd94684a73d06110d158629": {
          "model_module": "@jupyter-widgets/controls",
          "model_name": "TextModel",
          "model_module_version": "1.5.0",
          "state": {
            "_dom_classes": [],
            "_model_module": "@jupyter-widgets/controls",
            "_model_module_version": "1.5.0",
            "_model_name": "TextModel",
            "_view_count": null,
            "_view_module": "@jupyter-widgets/controls",
            "_view_module_version": "1.5.0",
            "_view_name": "TextView",
            "continuous_update": true,
            "description": "",
            "description_tooltip": null,
            "disabled": false,
            "layout": "IPY_MODEL_8517d0c495b54ef489e93087ae8d8332",
            "placeholder": "Digite sua fórmula:",
            "style": "IPY_MODEL_487d8d3b9498451e91e7d315aba0e802",
            "value": "(C|(A->(~A)))"
          }
        },
        "a1ecdcd9135c4062a8be6c91dcbbe2bc": {
          "model_module": "@jupyter-widgets/controls",
          "model_name": "TextModel",
          "model_module_version": "1.5.0",
          "state": {
            "_dom_classes": [],
            "_model_module": "@jupyter-widgets/controls",
            "_model_module_version": "1.5.0",
            "_model_name": "TextModel",
            "_view_count": null,
            "_view_module": "@jupyter-widgets/controls",
            "_view_module_version": "1.5.0",
            "_view_name": "TextView",
            "continuous_update": true,
            "description": "",
            "description_tooltip": null,
            "disabled": false,
            "layout": "IPY_MODEL_8517d0c495b54ef489e93087ae8d8332",
            "placeholder": "Digite o conjunto de átomos da fórmula ao lado",
            "style": "IPY_MODEL_8385cbacf71f48a298911a1912177f29",
            "value": "C;A"
          }
        },
        "7c1b42d5f8aa42cdb5b1ffa98d772521": {
          "model_module": "@jupyter-widgets/base",
          "model_name": "LayoutModel",
          "model_module_version": "1.2.0",
          "state": {
            "_model_module": "@jupyter-widgets/base",
            "_model_module_version": "1.2.0",
            "_model_name": "LayoutModel",
            "_view_count": null,
            "_view_module": "@jupyter-widgets/base",
            "_view_module_version": "1.2.0",
            "_view_name": "LayoutView",
            "align_content": null,
            "align_items": null,
            "align_self": null,
            "border": null,
            "bottom": null,
            "display": null,
            "flex": null,
            "flex_flow": null,
            "grid_area": null,
            "grid_auto_columns": null,
            "grid_auto_flow": null,
            "grid_auto_rows": null,
            "grid_column": null,
            "grid_gap": null,
            "grid_row": null,
            "grid_template_areas": null,
            "grid_template_columns": null,
            "grid_template_rows": null,
            "height": null,
            "justify_content": null,
            "justify_items": null,
            "left": null,
            "margin": null,
            "max_height": null,
            "max_width": null,
            "min_height": null,
            "min_width": null,
            "object_fit": null,
            "object_position": null,
            "order": null,
            "overflow": null,
            "overflow_x": null,
            "overflow_y": null,
            "padding": null,
            "right": null,
            "top": null,
            "visibility": null,
            "width": null
          }
        },
        "8517d0c495b54ef489e93087ae8d8332": {
          "model_module": "@jupyter-widgets/base",
          "model_name": "LayoutModel",
          "model_module_version": "1.2.0",
          "state": {
            "_model_module": "@jupyter-widgets/base",
            "_model_module_version": "1.2.0",
            "_model_name": "LayoutModel",
            "_view_count": null,
            "_view_module": "@jupyter-widgets/base",
            "_view_module_version": "1.2.0",
            "_view_name": "LayoutView",
            "align_content": null,
            "align_items": null,
            "align_self": null,
            "border": null,
            "bottom": null,
            "display": null,
            "flex": null,
            "flex_flow": null,
            "grid_area": null,
            "grid_auto_columns": null,
            "grid_auto_flow": null,
            "grid_auto_rows": null,
            "grid_column": null,
            "grid_gap": null,
            "grid_row": null,
            "grid_template_areas": null,
            "grid_template_columns": null,
            "grid_template_rows": null,
            "height": null,
            "justify_content": null,
            "justify_items": null,
            "left": null,
            "margin": null,
            "max_height": null,
            "max_width": null,
            "min_height": null,
            "min_width": null,
            "object_fit": null,
            "object_position": null,
            "order": null,
            "overflow": null,
            "overflow_x": null,
            "overflow_y": null,
            "padding": null,
            "right": null,
            "top": null,
            "visibility": null,
            "width": "40%"
          }
        },
        "487d8d3b9498451e91e7d315aba0e802": {
          "model_module": "@jupyter-widgets/controls",
          "model_name": "DescriptionStyleModel",
          "model_module_version": "1.5.0",
          "state": {
            "_model_module": "@jupyter-widgets/controls",
            "_model_module_version": "1.5.0",
            "_model_name": "DescriptionStyleModel",
            "_view_count": null,
            "_view_module": "@jupyter-widgets/base",
            "_view_module_version": "1.2.0",
            "_view_name": "StyleView",
            "description_width": ""
          }
        },
        "8385cbacf71f48a298911a1912177f29": {
          "model_module": "@jupyter-widgets/controls",
          "model_name": "DescriptionStyleModel",
          "model_module_version": "1.5.0",
          "state": {
            "_model_module": "@jupyter-widgets/controls",
            "_model_module_version": "1.5.0",
            "_model_name": "DescriptionStyleModel",
            "_view_count": null,
            "_view_module": "@jupyter-widgets/base",
            "_view_module_version": "1.2.0",
            "_view_name": "StyleView",
            "description_width": ""
          }
        },
        "472440098e834387bed65a261c4dc250": {
          "model_module": "@jupyter-widgets/controls",
          "model_name": "HBoxModel",
          "model_module_version": "1.5.0",
          "state": {
            "_dom_classes": [],
            "_model_module": "@jupyter-widgets/controls",
            "_model_module_version": "1.5.0",
            "_model_name": "HBoxModel",
            "_view_count": null,
            "_view_module": "@jupyter-widgets/controls",
            "_view_module_version": "1.5.0",
            "_view_name": "HBoxView",
            "box_style": "",
            "children": [
              "IPY_MODEL_b68e75d86a684fd6951580a5139173bd"
            ],
            "layout": "IPY_MODEL_300b6aae3aba4c49b11e6e729bd2753f"
          }
        },
        "b68e75d86a684fd6951580a5139173bd": {
          "model_module": "@jupyter-widgets/controls",
          "model_name": "ButtonModel",
          "model_module_version": "1.5.0",
          "state": {
            "_dom_classes": [],
            "_model_module": "@jupyter-widgets/controls",
            "_model_module_version": "1.5.0",
            "_model_name": "ButtonModel",
            "_view_count": null,
            "_view_module": "@jupyter-widgets/controls",
            "_view_module_version": "1.5.0",
            "_view_name": "ButtonView",
            "button_style": "",
            "description": "Executar",
            "disabled": false,
            "icon": "",
            "layout": "IPY_MODEL_ffb565a84f5b4ccb98a653fad5c60f1a",
            "style": "IPY_MODEL_258d26fe825e412882db4c78060c5d10",
            "tooltip": ""
          }
        },
        "300b6aae3aba4c49b11e6e729bd2753f": {
          "model_module": "@jupyter-widgets/base",
          "model_name": "LayoutModel",
          "model_module_version": "1.2.0",
          "state": {
            "_model_module": "@jupyter-widgets/base",
            "_model_module_version": "1.2.0",
            "_model_name": "LayoutModel",
            "_view_count": null,
            "_view_module": "@jupyter-widgets/base",
            "_view_module_version": "1.2.0",
            "_view_name": "LayoutView",
            "align_content": null,
            "align_items": null,
            "align_self": null,
            "border": null,
            "bottom": null,
            "display": null,
            "flex": null,
            "flex_flow": null,
            "grid_area": null,
            "grid_auto_columns": null,
            "grid_auto_flow": null,
            "grid_auto_rows": null,
            "grid_column": null,
            "grid_gap": null,
            "grid_row": null,
            "grid_template_areas": null,
            "grid_template_columns": null,
            "grid_template_rows": null,
            "height": null,
            "justify_content": null,
            "justify_items": null,
            "left": null,
            "margin": null,
            "max_height": null,
            "max_width": null,
            "min_height": null,
            "min_width": null,
            "object_fit": null,
            "object_position": null,
            "order": null,
            "overflow": null,
            "overflow_x": null,
            "overflow_y": null,
            "padding": null,
            "right": null,
            "top": null,
            "visibility": null,
            "width": null
          }
        },
        "ffb565a84f5b4ccb98a653fad5c60f1a": {
          "model_module": "@jupyter-widgets/base",
          "model_name": "LayoutModel",
          "model_module_version": "1.2.0",
          "state": {
            "_model_module": "@jupyter-widgets/base",
            "_model_module_version": "1.2.0",
            "_model_name": "LayoutModel",
            "_view_count": null,
            "_view_module": "@jupyter-widgets/base",
            "_view_module_version": "1.2.0",
            "_view_name": "LayoutView",
            "align_content": null,
            "align_items": null,
            "align_self": null,
            "border": null,
            "bottom": null,
            "display": null,
            "flex": null,
            "flex_flow": null,
            "grid_area": null,
            "grid_auto_columns": null,
            "grid_auto_flow": null,
            "grid_auto_rows": null,
            "grid_column": null,
            "grid_gap": null,
            "grid_row": null,
            "grid_template_areas": null,
            "grid_template_columns": null,
            "grid_template_rows": null,
            "height": null,
            "justify_content": null,
            "justify_items": null,
            "left": null,
            "margin": null,
            "max_height": null,
            "max_width": null,
            "min_height": null,
            "min_width": null,
            "object_fit": null,
            "object_position": null,
            "order": null,
            "overflow": null,
            "overflow_x": null,
            "overflow_y": null,
            "padding": null,
            "right": null,
            "top": null,
            "visibility": null,
            "width": null
          }
        },
        "258d26fe825e412882db4c78060c5d10": {
          "model_module": "@jupyter-widgets/controls",
          "model_name": "ButtonStyleModel",
          "model_module_version": "1.5.0",
          "state": {
            "_model_module": "@jupyter-widgets/controls",
            "_model_module_version": "1.5.0",
            "_model_name": "ButtonStyleModel",
            "_view_count": null,
            "_view_module": "@jupyter-widgets/base",
            "_view_module_version": "1.2.0",
            "_view_name": "StyleView",
            "button_color": null,
            "font_weight": ""
          }
        },
        "884dcb787caf40f7a0630cdbf5102c77": {
          "model_module": "@jupyter-widgets/output",
          "model_name": "OutputModel",
          "model_module_version": "1.0.0",
          "state": {
            "_dom_classes": [],
            "_model_module": "@jupyter-widgets/output",
            "_model_module_version": "1.0.0",
            "_model_name": "OutputModel",
            "_view_count": null,
            "_view_module": "@jupyter-widgets/output",
            "_view_module_version": "1.0.0",
            "_view_name": "OutputView",
            "layout": "IPY_MODEL_a2d4afaf3ced4aa5ad88a7fb5378bd19",
            "msg_id": "",
            "outputs": [
              {
                "output_type": "display_data",
                "data": {
                  "text/plain": "<IPython.core.display.HTML object>",
                  "text/html": "<b><font color=\"blue\">Parabéns, você acertou a questão.</font>"
                },
                "metadata": {}
              }
            ]
          }
        },
        "a2d4afaf3ced4aa5ad88a7fb5378bd19": {
          "model_module": "@jupyter-widgets/base",
          "model_name": "LayoutModel",
          "model_module_version": "1.2.0",
          "state": {
            "_model_module": "@jupyter-widgets/base",
            "_model_module_version": "1.2.0",
            "_model_name": "LayoutModel",
            "_view_count": null,
            "_view_module": "@jupyter-widgets/base",
            "_view_module_version": "1.2.0",
            "_view_name": "LayoutView",
            "align_content": null,
            "align_items": null,
            "align_self": null,
            "border": null,
            "bottom": null,
            "display": null,
            "flex": null,
            "flex_flow": null,
            "grid_area": null,
            "grid_auto_columns": null,
            "grid_auto_flow": null,
            "grid_auto_rows": null,
            "grid_column": null,
            "grid_gap": null,
            "grid_row": null,
            "grid_template_areas": null,
            "grid_template_columns": null,
            "grid_template_rows": null,
            "height": null,
            "justify_content": null,
            "justify_items": null,
            "left": null,
            "margin": null,
            "max_height": null,
            "max_width": null,
            "min_height": null,
            "min_width": null,
            "object_fit": null,
            "object_position": null,
            "order": null,
            "overflow": null,
            "overflow_x": null,
            "overflow_y": null,
            "padding": null,
            "right": null,
            "top": null,
            "visibility": null,
            "width": null
          }
        }
      }
    }
  },
  "nbformat": 4,
  "nbformat_minor": 0
}