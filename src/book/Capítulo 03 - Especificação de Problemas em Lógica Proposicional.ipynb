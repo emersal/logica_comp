{
  "cells": [
    {
      "cell_type": "markdown",
      "metadata": {
        "id": "fcbGPQLa3VqH"
      },
      "source": [
        "# Lógica para Computação: Especificação de Problemas em Lógica\n",
        "> *Autor: Davi Romero de Vasconcelos, daviromero@ufc.br, Universidade Federal do Ceará, Campus de Quixadá, Março de 2022*.\n",
        "> *(Última atualização 15/03/2022)*\n",
        "\n",
        "Este material foi preparado para a disciplina de Lógica para Computação com a finalidade de apresentar os conceitos básicos de Lógica, utilizando a Linguagem de Programação Python para auxiliar no ensino-aprendizagem da disciplina. Para cada seção é apresentado um link (no título da seção) com um vídeo explicando o conteúdo a ser abordado. Uma Playlist com todo o conteúdo de Lógica para Computação está disponível no [YouTube](https://youtube.com/playlist?list=PLfOnKvd6pFiq_BUI-llPhDeGR55P6nHfr)."
      ]
    },
    {
      "cell_type": "code",
      "execution_count": 2,
      "metadata": {
        "cellView": "form",
        "id": "KRbAmatIeYlx",
        "colab": {
          "base_uri": "https://localhost:8080/"
        },
        "outputId": "d53deb39-10b3-462b-a105-129a5994a36b"
      },
      "outputs": [
        {
          "output_type": "stream",
          "name": "stdout",
          "text": [
            "  Preparing metadata (setup.py) ... \u001b[?25l\u001b[?25hdone\n"
          ]
        }
      ],
      "source": [
        "#@title Implementação em Python dos conceitos sobre a Linguagem da Lógica Proposicional\n",
        "#@markdown Não é necessário conhecer o código aqui implementado ou mesmo ter um conhecimento profundo da linguagem Python. Basta acompanhar os exemplos e experimentar construir suas próprias demonstrações.\n",
        "#@markdown >*Execute esta célula (`ctrl+enter` ou clicando no botão ao lado) para que o ambiente seja carregado com as classes implementadas.*\n",
        "\n",
        "#!pip install logic4py -q\n",
        "!pip install git+https://github.com/daviromero/logic4py.git -q\n",
        "from logic4py.logic_gui import verify_reasoning_example"
      ]
    },
    {
      "cell_type": "markdown",
      "metadata": {
        "id": "3J8GKueYxOiy"
      },
      "source": [
        "# [Especificação de Problemas em Lógica](https://youtu.be/SBH5w4-Wy9g)\n",
        "\n",
        "A lógica pode ser utilizada para representar (parte) do mundo, ou seja, podemos especificar fatos acerca do mundo na linguagem lógica. Podemos utilizar a lógica para \"raciocinar\" através de sua relação de consequência lógica ($\\models$)\n",
        "\n",
        "![image.png](data:image/png;base64,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)\n",
        "\n",
        "Na lógica proposicional, utilizamos os símbolos proposicionais para representar as sentenças declarativas, tais como:\n",
        "- A sentença \"está chovendo\" pode ser representada pelo átomo $P$\n",
        "- A sentença \"a rua está molhada\" pode ser representada pelo átomo $Q$\n",
        "\n",
        "Na lógica podemos utilizar os conectivos lógicos para formar sentenças mais complexas, a exemplo:\n",
        "- A sentença \"Se está chovendo, então a rua está molhada\" é representada pela fórmula $(P\\rightarrow Q)$\n",
        "\n",
        "Abaixo, apresentamos a representação usual para expressões em linguagem natural (português) na linguagem lógica, que serão respresentados por meio das fórmulas da lógica proposicional.\n",
        "\n",
        "Expressão em Português   | Conectivo           | Representação em Lógica (Fórmula)\n",
        "-------------------------|---------------------|-----------------------------\n",
        "e; mas; também; alem disso | $\\wedge$ | $(A\\wedge B)$\n",
        "ou | $\\vee$ | $(A\\vee B)$\n",
        "ou ... ou (Ou-Exclusivo) | $\\vee$ | $(A\\wedge \\lnot B)\\vee(\\lnot A\\wedge B) $\n",
        "Se A, então B | $\\rightarrow$ | $(A\\rightarrow B)$\n",
        "A implica B | $\\rightarrow$ | $(A\\rightarrow B)$\n",
        "A, logo B | $\\rightarrow$ | $(A\\rightarrow B)$  \n",
        "A só se B; A somente se B  | $\\rightarrow$ | $(A\\rightarrow B)$  \n",
        "B segue de A | $\\rightarrow$ | $(A\\rightarrow B)$  \n",
        "A é uma condição suficiente para B; basta A para B  | $\\rightarrow$ | $(A\\rightarrow B)$  \n",
        "B é uma condição necessária para A  | $\\rightarrow$ | $(A\\rightarrow B)$  \n",
        "A se e somente se B  |$\\leftrightarrow$  | $(A\\leftrightarrow B)$\n",
        "A é condição necessária e suficiente para B  |  $\\leftrightarrow$  | $(A\\leftrightarrow B)$\n",
        "não A | $\\lnot$ | $(\\lnot A)$\n",
        "É falso que A | $\\lnot$ | $(\\lnot A)$\n",
        "Não é verdade que A | $\\lnot$ | $(\\lnot A)$\n",
        "\n",
        "\n",
        "Vejamos a seguir apresentar alguns exemplos.\n",
        "\n",
        "1. O Corinthians é o melhor time e ele tem a maior torcida\n",
        "  - \"O Corinthians é o melhor time\" representado por $P$\n",
        "  - \"O Corinthians tem a maior torcida\" representado por $Q$\n",
        "  - Portanto, a afirmação será representada por $(P\\wedge Q)$\n",
        "1. O Corinthians tem a maior torcida e ele é o melhor time do Brasil\n",
        "  - \"O Corinthians tem a maior torcida\" representado por $Q$\n",
        "  - \"O Corinthians é o melhor time\" representado por $P$\n",
        "  - Portanto, a afirmação será representada por $(Q\\wedge P)$\n",
        "1. O processador é rápido, mas a impressora é lenta\n",
        "  - \"O processador é rápido\" representado por $P$\n",
        "  - \"A impressora é lenta\" representado por $Q$\n",
        "  - Portanto, a afirmação será representada por $(P\\wedge Q)$\n",
        "1. O processador é rápido ou a impressora é lenta\n",
        "  - \"O processador é rápido\" representado por $P$\n",
        "  - \"A impressora é lenta\" representado por $Q$\n",
        "  - Portanto, a afirmação será representada por $(P\\vee Q)$\n",
        "1. Uma condição suficiente para a falha de uma rede elétrica é que a chave central desligue\n",
        "  - \"Chave central deligue\" representado por $P$\n",
        "  - \"Falha de uma rede elétrica\" representado por $Q$\n",
        "  - Portanto, a afirmação será representada por $(P\\rightarrow Q)$\n",
        "1. É falso que João seja alto\n",
        "  - \"João é alto\" representado por $P$\n",
        "  - Portanto, a afirmação será representada por $(\\lnot P)$\n",
        "1. A negação de João é alto e magro pode ser expressa da seguinte forma:\n",
        "  1. É falso que João seja alto e magro\n",
        "    -  \"João é alto\" representado por $P$\n",
        "    - \"João é magro\" representado por $Q$\n",
        "    - Portanto, a afirmação será representada por $\\lnot(P\\wedge Q)$\n",
        "  1. João não é alto ou não é magro\n",
        "    - \"João é alto\" representado por $P$\n",
        "    - \"João é magro\" representado por $Q$\n",
        "    - Portanto, a afirmação será representada por $((\\lnot P)\\vee (\\lnot Q))$\n",
        "\n",
        "## Conectivos em Linguagem Natural versus em Lógica Proposicional\n",
        "\n",
        "Os Conectivos podem ter mais de um significado em linguagem natural\n",
        "1. João dirigiu e atropelou um pedestre  $\\rightsquigarrow$ $(JD\\wedge JAP)$\n",
        "1. João atropelou um pedestre e dirigiu $\\rightsquigarrow$  $(JAP\\wedge JD)$\n",
        "1. Se eu abrir a janela, então teremos ar fresco $\\rightsquigarrow$  $(AJ\\rightarrow AF)$\n",
        "1. Se eu abrir a janela, então $1+3=4$ $\\rightsquigarrow$  $(AJ\\rightarrow E)$\n",
        "1. João está trabalhando ou ele está em casa $\\rightsquigarrow$  $(JT\\vee JC)$\n",
        "1. Euclides era um Grego ou um matemático $\\rightsquigarrow$  $(EG\\vee EM)$"
      ]
    },
    {
      "cell_type": "markdown",
      "metadata": {
        "id": "nKP59YHtqjX9"
      },
      "source": [
        "## [Especificação do Problema do Vestido](https://youtu.be/7wxTNMYNu3I)\n",
        "\n",
        "**(Problema do Vestido)** Três irmãs - Ana, Maria e Cláudia - foram a uma festa com vestidos de cores diferentes. Uma vestia azul, a outra branco e a terceira preto. Chegando à festa, o anfitrião perguntou quem era cada uma delas. A resposta foi como segue:\n",
        "- A de azul respondeu: \"Ana é que está de branco\"\n",
        "- A de branco falou: \"Eu sou Maria\"\n",
        "- A de preto disse: \"Cláudia é quem está de branco\"\n",
        "\n",
        "O anfitrião foi capaz de identificar corretamente quem era cada pessoa considerando que:\n",
        "- Ana sempre diz a verdade\n",
        "- Maria às vezes diz a verdade\n",
        "- Cláudia nunca diz a verdade\n",
        "\n"
      ]
    },
    {
      "cell_type": "markdown",
      "metadata": {
        "id": "7V_G2saTt7XX"
      },
      "source": [
        "> **Resposta:**\n",
        ">\n",
        "> - Para cada irmã, temos que\n",
        ">   - por exemplo, a Maria veste algum vestido: $MA\\vee MB\\vee MP$\n",
        ">   - E somente um deles:\n",
        "> $$(MA\\rightarrow(\\lnot MB\\wedge\\lnot MP))$$\n",
        "> $$(MB\\rightarrow(\\lnot MA\\wedge\\lnot MP))$$\n",
        "> $$(MP\\rightarrow(\\lnot MA\\wedge\\lnot MB))$$\n",
        ">\n",
        "> - Para cada vestido, temos que\n",
        ">   - por exemplo, o Azul será usado por alguma irmã: $$MA\\vee AA\\vee CA$$\n",
        ">   - E somente um deles:\n",
        "> $$(MA\\rightarrow(\\lnot AA\\wedge\\lnot CA))$$\n",
        "> $$(AA\\rightarrow(\\lnot MA\\wedge\\lnot CA))$$\n",
        "> $$(CA\\rightarrow(\\lnot AA\\wedge\\lnot MA))$$\n",
        ">\n",
        "> - Como Ana sempre diz a verdade, temos que\n",
        ">   - Se Ana está de Azul: $AA\\rightarrow AB$\n",
        ">   - Se Ana está de Branco: $\\lnot AB$\n",
        ">   - Se Ana está de Preto: $AP\\rightarrow CB$\n",
        ">\n",
        "> - De Maria dizer às vezes a verdade, não podemos inferir nada.\n",
        ">\n",
        "> - Como Cláudia nunca diz a verdade, temos que\n",
        ">   - Se Cláudia está de Azul: $CA\\rightarrow \\lnot AB$\n",
        ">   - Se Cláudia está de Branco: Não acrescenta informação\n",
        ">   - Se Cláudia está de Preto: $CP\\rightarrow \\lnot CB$ (já foi definido)"
      ]
    },
    {
      "cell_type": "code",
      "execution_count": 3,
      "metadata": {
        "cellView": "form",
        "colab": {
          "base_uri": "https://localhost:8080/",
          "height": 247,
          "referenced_widgets": [
            "fd43ce93b91646699641af9dfdfe24a8",
            "0851120207f84608bbd82630cc58359c",
            "d02c16626d0649799353c954a9d9dcf4",
            "5c481bf17ab04f38abdf56c55d53959b",
            "347f67ca050c49758cf68b1f5f6260d6",
            "1dde94f8c2b2406f8da1c917954ed6e9",
            "7eda6186a0044ee9b625baef3d7d5858",
            "7caa9bd1314146f5bca62c85d5971091",
            "e59e9290f291405786188d1419cc0b26",
            "41f9b9a5c5334c66be1560bb424a4fee",
            "3289550b5b184906a347a81989720174",
            "9179343ce0604bf49e4a41ed65930523"
          ]
        },
        "id": "ADLroptI9F6R",
        "outputId": "8c364b15-d53e-4b6b-baed-5243647ed263"
      },
      "outputs": [
        {
          "output_type": "display_data",
          "data": {
            "text/plain": [
              "<IPython.core.display.Markdown object>"
            ],
            "text/markdown": "<b>Considere as seguintes afirmações:</b>\n1. Se está chovendo, então a rua está molhada.\n1. Está chovendo."
          },
          "metadata": {}
        },
        {
          "output_type": "display_data",
          "data": {
            "text/plain": [
              "<IPython.core.display.Markdown object>"
            ],
            "text/markdown": "<b>Podemos concluir que a afirmação abaixo segue logicamente das afirmações acima?"
          },
          "metadata": {}
        },
        {
          "output_type": "display_data",
          "data": {
            "text/plain": [
              "<IPython.core.display.Markdown object>"
            ],
            "text/markdown": "\n3. A rua está molhada."
          },
          "metadata": {}
        },
        {
          "output_type": "display_data",
          "data": {
            "text/plain": [
              "HBox(children=(RadioButtons(description='Resposta:', options=('Sim', 'Não'), value=None), HBox(children=(Butto…"
            ],
            "application/vnd.jupyter.widget-view+json": {
              "version_major": 2,
              "version_minor": 0,
              "model_id": "fd43ce93b91646699641af9dfdfe24a8"
            }
          },
          "metadata": {}
        },
        {
          "output_type": "display_data",
          "data": {
            "text/plain": [
              "Output()"
            ],
            "application/vnd.jupyter.widget-view+json": {
              "version_major": 2,
              "version_minor": 0,
              "model_id": "3289550b5b184906a347a81989720174"
            }
          },
          "metadata": {}
        }
      ],
      "source": [
        "#@title Exemplo 1: Raciocínio em Lógica Proposicional\n",
        "#@markdown Execute essa célula para gerar o seu exemplo.\n",
        "verify_reasoning_example('q1_ex')"
      ]
    },
    {
      "cell_type": "markdown",
      "metadata": {
        "id": "CisfdhZQtE_6"
      },
      "source": [
        "**Exercício: Represente o raciocínio da questão acima na Linguagem Lógica**\n",
        "\n",
        "**Resposta:**\n",
        "> Considere os seguintes átomos:\n",
        "> 1. $C$ para \"está chovendo\".\n",
        "> 1. $M$ para \"a rua está molhada\".\n",
        ">\n",
        "> Representemos as afirmações através das seguintes fórmulas:\n",
        "> 1. $C\\rightarrow M$ para \"Se está chovendo, então a rua está molhada\".\n",
        "> 1. $C$ para \"Está chovendo\".\n",
        "> 1. $M$ para \"A rua está molhada\".\n",
        ">\n",
        "> Assim, devemos verificar se o raciocínio abaixo é válido:\n",
        "> $$C\\rightarrow M, C\\models M$$"
      ]
    },
    {
      "cell_type": "code",
      "execution_count": 4,
      "metadata": {
        "cellView": "form",
        "id": "rCJLRxJNBhly",
        "colab": {
          "base_uri": "https://localhost:8080/",
          "height": 265,
          "referenced_widgets": [
            "4af241527399426390137a557244590e",
            "c7912462d546442bbac95cf3fecc4c38",
            "cf3edb4e87d14503a2d4f30f91d9df19",
            "3df27b68c9484ae9bb6cdb1b77dd52da",
            "0d2d1bce1b2c453d9c73444f5379ae96",
            "4d1d85a232544e27929b33ca82a00f89",
            "6f49f7f75f18496ebe5c51cf3be01624",
            "9009c4c7f2c4490cb257d71ef333ad11",
            "12fb6216262f4960814ff8296f7b1278",
            "2816fdd540024b82be957b65ff1c656a",
            "35c5f3c46be94c3782ec611597f56cff",
            "ce8b9b790d5f443e870970cc6f76bea2"
          ]
        },
        "outputId": "8b2e21cc-a14c-4ebe-db4d-ae764854ea3c"
      },
      "outputs": [
        {
          "output_type": "display_data",
          "data": {
            "text/plain": [
              "<IPython.core.display.Markdown object>"
            ],
            "text/markdown": "<b>Considere as seguintes afirmações:</b>\n1. Se o trem tivesse chegado atrasado e não houvesse táxi na estação, então John se atrasaria para seu compromisso.\n1. John não se atrasou para seu compromisso.\n1. O trem chegou atrasado."
          },
          "metadata": {}
        },
        {
          "output_type": "display_data",
          "data": {
            "text/plain": [
              "<IPython.core.display.Markdown object>"
            ],
            "text/markdown": "<b>Podemos concluir que a afirmação abaixo segue logicamente das afirmações acima?"
          },
          "metadata": {}
        },
        {
          "output_type": "display_data",
          "data": {
            "text/plain": [
              "<IPython.core.display.Markdown object>"
            ],
            "text/markdown": "\n4. Havia táxis na estação."
          },
          "metadata": {}
        },
        {
          "output_type": "display_data",
          "data": {
            "text/plain": [
              "HBox(children=(RadioButtons(description='Resposta:', options=('Sim', 'Não'), value=None), HBox(children=(Butto…"
            ],
            "application/vnd.jupyter.widget-view+json": {
              "version_major": 2,
              "version_minor": 0,
              "model_id": "4af241527399426390137a557244590e"
            }
          },
          "metadata": {}
        },
        {
          "output_type": "display_data",
          "data": {
            "text/plain": [
              "Output()"
            ],
            "application/vnd.jupyter.widget-view+json": {
              "version_major": 2,
              "version_minor": 0,
              "model_id": "35c5f3c46be94c3782ec611597f56cff"
            }
          },
          "metadata": {}
        }
      ],
      "source": [
        "#@title Exemplo 4: Raciocínio em Lógica Proposicional\n",
        "#@markdown Execute essa célula para gerar o seu exemplo.\n",
        "verify_reasoning_example('q4_ex')"
      ]
    },
    {
      "cell_type": "markdown",
      "metadata": {
        "id": "nk0K-T2nvOyR"
      },
      "source": [
        "**Exercício: Represente o raciocínio da questão acima na Linguagem Lógica**\n",
        "\n",
        "**Resposta:**\n",
        "> Considere os seguintes átomos:\n",
        "> 1. $P$ para \"o trem tivesse chegado atrasado\".\n",
        "> 1. $Q$ para \"houvesse táxi na estação\".\n",
        "> 1. $R$ para \"John se atrasaria para seu compromisso\".\n",
        ">\n",
        "> Representemos as afirmações através das seguintes fórmulas:\n",
        "> 1. $(P\\land \\lnot Q)\\rightarrow R$ para \"Se o trem tivesse chegado atrasado e não houvesse táxi na estação, então John se atrasaria para seu compromisso\".\n",
        "> 1. $\\lnot R$ para \"John não se atrasou para seu compromisso\".\n",
        "> 1. $P$ para \"O trem chegou atrasado\".\n",
        "> 1. $Q$ para \"Havia táxis na estação\".\n",
        ">\n",
        "> Assim, devemos verificar se o raciocínio abaixo é válido:\n",
        "> $$(P\\land \\lnot Q)\\rightarrow R, \\lnot R, P\\models Q$$\n"
      ]
    },
    {
      "cell_type": "code",
      "execution_count": 5,
      "metadata": {
        "cellView": "form",
        "id": "fd_wzTCCB4lZ",
        "colab": {
          "base_uri": "https://localhost:8080/",
          "height": 265,
          "referenced_widgets": [
            "25de57a2d52143068416c69dd01e3750",
            "62cd16b57d5542088efe02c1cd028e3d",
            "bbd2251dc4c8426388d777bd46059bd3",
            "07456069f1594ac5a2b91e5f3d786626",
            "4fe1e352b7c04420bb3b4fa4702950df",
            "ae17da732c0745db931c968c2dcb8354",
            "f18967da713141b59f1eaba2d554470f",
            "3053dc44896f450bba539721df03414f",
            "6d47f2af17a94114bba2bfb82247974c",
            "49b3663f3dca4fa1bdad7f65ff48d160",
            "84c78ce8945e41c4828c5ec79a429cf6",
            "680f8d035b854e998d66e5a5c277ae59"
          ]
        },
        "outputId": "8f0698ae-490e-44d9-b49c-492534087691"
      },
      "outputs": [
        {
          "output_type": "display_data",
          "data": {
            "text/plain": [
              "<IPython.core.display.Markdown object>"
            ],
            "text/markdown": "<b>Considere as seguintes afirmações:</b>\n1. Se tivesse chovendo e Jane não estivesse com seu guarda-chuva, então ela se molharia.\n1. Jane não está molhada.\n1. Está chovendo."
          },
          "metadata": {}
        },
        {
          "output_type": "display_data",
          "data": {
            "text/plain": [
              "<IPython.core.display.Markdown object>"
            ],
            "text/markdown": "<b>Podemos concluir que a afirmação abaixo segue logicamente das afirmações acima?"
          },
          "metadata": {}
        },
        {
          "output_type": "display_data",
          "data": {
            "text/plain": [
              "<IPython.core.display.Markdown object>"
            ],
            "text/markdown": "\n4. Jane está com seu guarda-chuva."
          },
          "metadata": {}
        },
        {
          "output_type": "display_data",
          "data": {
            "text/plain": [
              "HBox(children=(RadioButtons(description='Resposta:', options=('Sim', 'Não'), value=None), HBox(children=(Butto…"
            ],
            "application/vnd.jupyter.widget-view+json": {
              "version_major": 2,
              "version_minor": 0,
              "model_id": "25de57a2d52143068416c69dd01e3750"
            }
          },
          "metadata": {}
        },
        {
          "output_type": "display_data",
          "data": {
            "text/plain": [
              "Output()"
            ],
            "application/vnd.jupyter.widget-view+json": {
              "version_major": 2,
              "version_minor": 0,
              "model_id": "84c78ce8945e41c4828c5ec79a429cf6"
            }
          },
          "metadata": {}
        }
      ],
      "source": [
        "#@title Exemplo 5: Raciocínio em Lógica Proposicional\n",
        "#@markdown Execute essa célula para gerar o seu exemplo.\n",
        "verify_reasoning_example('q5_ex')"
      ]
    },
    {
      "cell_type": "markdown",
      "metadata": {
        "id": "1Kam3WgNyE7A"
      },
      "source": [
        "**Exercício: Represente o raciocínio da questão acima na Linguagem Lógica**\n",
        "\n",
        "**Resposta:**\n",
        "> Considere os seguintes átomos:\n",
        "> 1. $P$ para \"tivesse chovendo\".\n",
        "> 1. $Q$ para \"Jane estivesse com seu guarda-chuva\".\n",
        "> 1. $R$ para \"Jane se molharia\".\n",
        ">\n",
        "> Representemos as afirmações através das seguintes fórmulas:\n",
        "> 1. $(P\\land \\lnot Q)\\rightarrow R$ para \"Se tivesse chovendo e Jane não estivesse com seu guarda-chuva, então ela se molharia\".\n",
        "> 1. $\\lnot R$ para \"Jane não está molhada\".\n",
        "> 1. $P$ para \"Está chovendo\".\n",
        "> 1. $Q$ para \"Jane está com seu guarda-chuva\".\n",
        ">\n",
        "> Assim, devemos verificar se o raciocínio abaixo é válido:\n",
        "> $$(P\\land \\lnot Q)\\rightarrow R, \\lnot R, P\\models Q$$\n"
      ]
    },
    {
      "cell_type": "markdown",
      "metadata": {
        "id": "Mq9Gh4kFVI8i"
      },
      "source": [
        "## Exercícios\n"
      ]
    },
    {
      "cell_type": "code",
      "execution_count": 6,
      "metadata": {
        "id": "xzUyAHQ-Wd2I",
        "colab": {
          "base_uri": "https://localhost:8080/",
          "height": 247,
          "referenced_widgets": [
            "519a9f1a6034440694e21cae3fc2ce9b",
            "39350d61faf5425394dd210e84c9cce5",
            "4868206b5b94488da9fd9256a4caf0c4",
            "66cc0c4b37fc46c39927f840708c017e",
            "087265d2bc1f47619427e280ef20427f",
            "4ad7b17d279b48eca70972aeab3277d2",
            "53948a212c59479fb3eab1ec00b60079",
            "b1f98200ae0a436aa1d3a2b4548cbad9",
            "e863440d429e4dd0b5302d4e5fd5d2a4",
            "fc65566980b24bfbb605fa563954325a",
            "90b7be54a05a40f68ec83ffe95a49779",
            "d8b3a13fa9914e1198c676c4ed1da661"
          ]
        },
        "outputId": "3eefb59c-b376-44cb-8c55-d9bd6b8d2bbd"
      },
      "outputs": [
        {
          "output_type": "display_data",
          "data": {
            "text/plain": [
              "<IPython.core.display.Markdown object>"
            ],
            "text/markdown": "<b>Considere as seguintes afirmações:</b>\n1. Se o dólar sobe, então os produtos ficam mais caros.\n1. Os produtos não ficaram mais caros."
          },
          "metadata": {}
        },
        {
          "output_type": "display_data",
          "data": {
            "text/plain": [
              "<IPython.core.display.Markdown object>"
            ],
            "text/markdown": "<b>Podemos concluir que a afirmação abaixo segue logicamente das afirmações acima?"
          },
          "metadata": {}
        },
        {
          "output_type": "display_data",
          "data": {
            "text/plain": [
              "<IPython.core.display.Markdown object>"
            ],
            "text/markdown": "\n3. dólar não subiu."
          },
          "metadata": {}
        },
        {
          "output_type": "display_data",
          "data": {
            "text/plain": [
              "HBox(children=(RadioButtons(description='Resposta:', options=('Sim', 'Não'), value=None), HBox(children=(Butto…"
            ],
            "application/vnd.jupyter.widget-view+json": {
              "version_major": 2,
              "version_minor": 0,
              "model_id": "519a9f1a6034440694e21cae3fc2ce9b"
            }
          },
          "metadata": {}
        },
        {
          "output_type": "display_data",
          "data": {
            "text/plain": [
              "Output()"
            ],
            "application/vnd.jupyter.widget-view+json": {
              "version_major": 2,
              "version_minor": 0,
              "model_id": "90b7be54a05a40f68ec83ffe95a49779"
            }
          },
          "metadata": {}
        }
      ],
      "source": [
        "#@title Exercício 1: Raciocínio em Lógica Proposicional\n",
        "#@markdown Execute essa célula para gerar o seu exercício.\n",
        "verify_reasoning_example('q1')"
      ]
    },
    {
      "cell_type": "markdown",
      "metadata": {
        "id": "dNZ3L_QKy1Sw"
      },
      "source": [
        "**Exercício: Represente o raciocínio da questão acima na Linguagem Lógica**\n",
        "\n",
        "**Resposta:**\n",
        "> Considere os seguintes átomos:\n",
        "> 1. $D$ para \"dólar subiu\"\n",
        "> 1. $P$ para \"produtos ficam mais caros\"\n",
        ">\n",
        "> Representemos as afirmações através das seguintes fórmulas:\n",
        "> 1. $D$ → $P$\n",
        "> 1. $\\lnot P$\n",
        "> 1. $\\lnot D$\n",
        ">\n",
        "> Assim, devemos verificar se o raciocínio abaixo é válido:\n",
        "> $$...$$\n"
      ]
    },
    {
      "cell_type": "code",
      "execution_count": 7,
      "metadata": {
        "cellView": "form",
        "id": "HDBNgPRaWz28",
        "colab": {
          "base_uri": "https://localhost:8080/",
          "height": 230,
          "referenced_widgets": [
            "976c95b938d5451b9d4130583d91d14b",
            "ab6e842b5545485daffdfdbe4b359e77",
            "0b2459b03ab74511990be3db21048b8a",
            "6b3fe0a5b62a40469ded3f3100f3cf88",
            "3da4327f3c6746a681431bc8e0bdb86b",
            "eb368bac865a40569374148a6b1df0e1",
            "92992ef5e81a4eddbfcfe5190d91450d",
            "15f74201a0284c8aa034eb02352259c4",
            "dc8bb199fde0451ca826fd42ec056dc9",
            "50c122f2d8574ede8d8af8196e575c86",
            "62da9dd95b0c488b960c1cefea7c6582",
            "bee4a8fdd74b43ce85ff561d27388d50"
          ]
        },
        "outputId": "d833b981-a45b-4ccb-8760-34f1935792ea"
      },
      "outputs": [
        {
          "output_type": "display_data",
          "data": {
            "text/plain": [
              "<IPython.core.display.Markdown object>"
            ],
            "text/markdown": "<b>Considere as seguintes afirmações:</b>\n1. Se o dólar sobe, então os produtos ficam mais caros.\n1. Os produtos ficaram mais caros."
          },
          "metadata": {}
        },
        {
          "output_type": "display_data",
          "data": {
            "text/plain": [
              "<IPython.core.display.Markdown object>"
            ],
            "text/markdown": "<b>Podemos concluir que a afirmação abaixo segue logicamente das afirmações acima?"
          },
          "metadata": {}
        },
        {
          "output_type": "display_data",
          "data": {
            "text/plain": [
              "<IPython.core.display.Markdown object>"
            ],
            "text/markdown": "\n3. O dólar não subiu."
          },
          "metadata": {}
        },
        {
          "output_type": "display_data",
          "data": {
            "text/plain": [
              "HBox(children=(RadioButtons(description='Resposta:', options=('Sim', 'Não'), value=None), HBox(children=(Butto…"
            ],
            "application/vnd.jupyter.widget-view+json": {
              "version_major": 2,
              "version_minor": 0,
              "model_id": "976c95b938d5451b9d4130583d91d14b"
            }
          },
          "metadata": {}
        },
        {
          "output_type": "display_data",
          "data": {
            "text/plain": [
              "Output()"
            ],
            "application/vnd.jupyter.widget-view+json": {
              "version_major": 2,
              "version_minor": 0,
              "model_id": "62da9dd95b0c488b960c1cefea7c6582"
            }
          },
          "metadata": {}
        }
      ],
      "source": [
        "#@title Exercício 2: Raciocínio em Lógica Proposicional\n",
        "#@markdown Execute essa célula para gerar o seu exercício.\n",
        "verify_reasoning_example('q2')"
      ]
    },
    {
      "cell_type": "markdown",
      "metadata": {
        "id": "E3Scbk6ez4rj"
      },
      "source": [
        "**Exercício: Represente o raciocínio da questão acima na Linguagem Lógica**\n",
        "\n",
        "**Resposta:**\n",
        "> Considere os seguintes átomos:\n",
        "> 1. ...\n",
        "> 1. ...\n",
        ">\n",
        "> Representemos as afirmações através das seguintes fórmulas:\n",
        "> 1. ...\n",
        "> 1. ...\n",
        "> 1. ...\n",
        ">\n",
        "> Assim, devemos verificar se o raciocínio abaixo é válido:\n",
        "> $$...$$\n"
      ]
    },
    {
      "cell_type": "code",
      "execution_count": 8,
      "metadata": {
        "cellView": "form",
        "id": "Tuv-M99AW7_G",
        "colab": {
          "base_uri": "https://localhost:8080/",
          "height": 230,
          "referenced_widgets": [
            "b3bd644d797e4078b107c1d328a5ebcc",
            "5578d5b2897d4a1288681045d5dac538",
            "7cf5634d5e964efe945e6de01ab40890",
            "fad4cedfa819494ea07f5b96a4bcb600",
            "21d6e7f0dc934e4590c6bc00765095d4",
            "c3132c022c4f437b8d2cd6b5819d5124",
            "08b64079095a4fb38c7f39213d15cd24",
            "a3bbdcc980824dc3a0d35f7147bce1b9",
            "770a9c4f3d454e258a9d3e2a64006d82",
            "0248fd1f0cac4dd49afcd3ef30e72192",
            "3a0c22bbf0b24dd79e2acaea22102481",
            "ed32b4b549744221a6697c4cae4c8b8e"
          ]
        },
        "outputId": "d686a1ab-8300-41d1-88cc-c60ba9e74a0c"
      },
      "outputs": [
        {
          "output_type": "display_data",
          "data": {
            "text/plain": [
              "<IPython.core.display.Markdown object>"
            ],
            "text/markdown": "<b>Considere as seguintes afirmações:</b>\n1. Se o dólar sobe, então os produtos ficam mais caros.\n1. Os produtos ficaram mais caros."
          },
          "metadata": {}
        },
        {
          "output_type": "display_data",
          "data": {
            "text/plain": [
              "<IPython.core.display.Markdown object>"
            ],
            "text/markdown": "<b>Podemos concluir que a afirmação abaixo segue logicamente das afirmações acima?"
          },
          "metadata": {}
        },
        {
          "output_type": "display_data",
          "data": {
            "text/plain": [
              "<IPython.core.display.Markdown object>"
            ],
            "text/markdown": "\n3. O dólar subiu."
          },
          "metadata": {}
        },
        {
          "output_type": "display_data",
          "data": {
            "text/plain": [
              "HBox(children=(RadioButtons(description='Resposta:', options=('Sim', 'Não'), value=None), HBox(children=(Butto…"
            ],
            "application/vnd.jupyter.widget-view+json": {
              "version_major": 2,
              "version_minor": 0,
              "model_id": "b3bd644d797e4078b107c1d328a5ebcc"
            }
          },
          "metadata": {}
        },
        {
          "output_type": "display_data",
          "data": {
            "text/plain": [
              "Output()"
            ],
            "application/vnd.jupyter.widget-view+json": {
              "version_major": 2,
              "version_minor": 0,
              "model_id": "3a0c22bbf0b24dd79e2acaea22102481"
            }
          },
          "metadata": {}
        }
      ],
      "source": [
        "#@title Exercício 3: Raciocínio em Lógica Proposicional\n",
        "#@markdown Execute essa célula para gerar o seu exercício.\n",
        "verify_reasoning_example('q3')"
      ]
    },
    {
      "cell_type": "markdown",
      "metadata": {
        "id": "G9mVTJvh0KbQ"
      },
      "source": [
        "**Exercício: Represente o raciocínio da questão acima na Linguagem Lógica**\n",
        "\n",
        "**Resposta:**\n",
        "> Considere os seguintes átomos:\n",
        "> 1. ...\n",
        "> 1. ...\n",
        ">\n",
        "> Representemos as afirmações através das seguintes fórmulas:\n",
        "> 1. ...\n",
        "> 1. ...\n",
        "> 1. ...\n",
        ">\n",
        "> Assim, devemos verificar se o raciocínio abaixo é válido:\n",
        "> $$...$$\n"
      ]
    },
    {
      "cell_type": "code",
      "execution_count": 9,
      "metadata": {
        "cellView": "form",
        "id": "D6GbvcbHYupJ",
        "colab": {
          "base_uri": "https://localhost:8080/",
          "height": 230,
          "referenced_widgets": [
            "23648e9ef4d6466988826336b4cb987f",
            "e7baf3499d274d449596b6397870c831",
            "35663639b2e547e8828d4b9e7eda29a3",
            "b21d4cc2dcab4ef79d4cfc44b41be395",
            "4648a19071284954850bcd561e7359a1",
            "0ec543cc332642caacb976f51c532ab3",
            "228ba6eefbbc41439350a6c3d37baf31",
            "6e033659ea7147e1bccb4894f8ad94e4",
            "1445acaebe804a5a9c1c0dae303b47f1",
            "0692777f92064f5d86f8d34eed20482d",
            "170b46e0957946a5bee6e337cf3da722",
            "8a8299c9b57b439a9a4c23a4061d4600"
          ]
        },
        "outputId": "d29a67b8-abe0-41e8-dbaa-0ce3ea3aeac2"
      },
      "outputs": [
        {
          "output_type": "display_data",
          "data": {
            "text/plain": [
              "<IPython.core.display.Markdown object>"
            ],
            "text/markdown": "<b>Considere as seguintes afirmações:</b>\n1. Se o dólar sobe, então os produtos ficam mais caros.\n1. O dólar não subiu."
          },
          "metadata": {}
        },
        {
          "output_type": "display_data",
          "data": {
            "text/plain": [
              "<IPython.core.display.Markdown object>"
            ],
            "text/markdown": "<b>Podemos concluir que a afirmação abaixo segue logicamente das afirmações acima?"
          },
          "metadata": {}
        },
        {
          "output_type": "display_data",
          "data": {
            "text/plain": [
              "<IPython.core.display.Markdown object>"
            ],
            "text/markdown": "\n3. Os produtos não ficaram mais caros."
          },
          "metadata": {}
        },
        {
          "output_type": "display_data",
          "data": {
            "text/plain": [
              "HBox(children=(RadioButtons(description='Resposta:', options=('Sim', 'Não'), value=None), HBox(children=(Butto…"
            ],
            "application/vnd.jupyter.widget-view+json": {
              "version_major": 2,
              "version_minor": 0,
              "model_id": "23648e9ef4d6466988826336b4cb987f"
            }
          },
          "metadata": {}
        },
        {
          "output_type": "display_data",
          "data": {
            "text/plain": [
              "Output()"
            ],
            "application/vnd.jupyter.widget-view+json": {
              "version_major": 2,
              "version_minor": 0,
              "model_id": "170b46e0957946a5bee6e337cf3da722"
            }
          },
          "metadata": {}
        }
      ],
      "source": [
        "#@title Exercício 4: Raciocínio em Lógica Proposicional\n",
        "#@markdown Execute essa célula para gerar o seu exercício.\n",
        "verify_reasoning_example('q4')"
      ]
    },
    {
      "cell_type": "markdown",
      "metadata": {
        "id": "nAwl3f0s0YDU"
      },
      "source": [
        "**Exercício: Represente o raciocínio da questão acima na Linguagem Lógica**\n",
        "\n",
        "**Resposta:**\n",
        "> Considere os seguintes átomos:\n",
        "> 1. ...\n",
        "> 1. ...\n",
        ">\n",
        "> Representemos as afirmações através das seguintes fórmulas:\n",
        "> 1. ...\n",
        "> 1. ...\n",
        "> 1. ...\n",
        ">\n",
        "> Assim, devemos verificar se o raciocínio abaixo é válido:\n",
        "> $$...$$\n"
      ]
    },
    {
      "cell_type": "code",
      "execution_count": 10,
      "metadata": {
        "cellView": "form",
        "id": "dnAuiOTwZPBV",
        "colab": {
          "base_uri": "https://localhost:8080/",
          "height": 230,
          "referenced_widgets": [
            "b6ae35e8f0284894b17d82622b881cbe",
            "f674a805b8e54344af46159a3de2ad1c",
            "56bee82b2e454e6082d896138247f94d",
            "28eb3b6d2cff44d4958c6c200c2498d3",
            "fa83950d80674265b4283f5a692a5fc4",
            "2d2f52e81c784e50ace9acfa9ddc8cf0",
            "66198fde82f94316bcff251026f4514d",
            "ef0cf0fe9dc04fe98ab8f3f4f0241ccc",
            "a69b9cbf667a422bab6bb99f15292261",
            "7237466ee2ac4fd29dc456f434a43411",
            "42478bb230314615bb10d63ec9cf10bd",
            "826411545a0f4b83b9b8e95eb6863bd0"
          ]
        },
        "outputId": "227f5fb5-d851-4c3d-9d66-bb22ac12c4c2"
      },
      "outputs": [
        {
          "output_type": "display_data",
          "data": {
            "text/plain": [
              "<IPython.core.display.Markdown object>"
            ],
            "text/markdown": "<b>Considere as seguintes afirmações:</b>\n1. Se o dólar sobe, então os produtos ficam mais caros.\n1. O dólar não subiu."
          },
          "metadata": {}
        },
        {
          "output_type": "display_data",
          "data": {
            "text/plain": [
              "<IPython.core.display.Markdown object>"
            ],
            "text/markdown": "<b>Podemos concluir que a afirmação abaixo segue logicamente das afirmações acima?"
          },
          "metadata": {}
        },
        {
          "output_type": "display_data",
          "data": {
            "text/plain": [
              "<IPython.core.display.Markdown object>"
            ],
            "text/markdown": "\n3. Os produtos ficaram mais caros."
          },
          "metadata": {}
        },
        {
          "output_type": "display_data",
          "data": {
            "text/plain": [
              "HBox(children=(RadioButtons(description='Resposta:', options=('Sim', 'Não'), value=None), HBox(children=(Butto…"
            ],
            "application/vnd.jupyter.widget-view+json": {
              "version_major": 2,
              "version_minor": 0,
              "model_id": "b6ae35e8f0284894b17d82622b881cbe"
            }
          },
          "metadata": {}
        },
        {
          "output_type": "display_data",
          "data": {
            "text/plain": [
              "Output()"
            ],
            "application/vnd.jupyter.widget-view+json": {
              "version_major": 2,
              "version_minor": 0,
              "model_id": "42478bb230314615bb10d63ec9cf10bd"
            }
          },
          "metadata": {}
        }
      ],
      "source": [
        "#@title Exercício 5: Raciocínio em Lógica Proposicional\n",
        "#@markdown Execute essa célula para gerar o seu exercício.\n",
        "verify_reasoning_example('q5')"
      ]
    },
    {
      "cell_type": "markdown",
      "metadata": {
        "id": "7hFj1h6V01eu"
      },
      "source": [
        "**Exercício: Represente o raciocínio da questão acima na Linguagem Lógica**\n",
        "\n",
        "**Resposta:**\n",
        "> Considere os seguintes átomos:\n",
        "> 1. ...\n",
        "> 1. ...\n",
        ">\n",
        "> Representemos as afirmações através das seguintes fórmulas:\n",
        "> 1. ...\n",
        "> 1. ...\n",
        "> 1. ...\n",
        ">\n",
        "> Assim, devemos verificar se o raciocínio abaixo é válido:\n",
        "> $$...$$\n"
      ]
    },
    {
      "cell_type": "code",
      "execution_count": 11,
      "metadata": {
        "cellView": "form",
        "id": "vdEJpeAKX7OF",
        "colab": {
          "base_uri": "https://localhost:8080/",
          "height": 230,
          "referenced_widgets": [
            "e48c2e103e934b18aa9088219100399a",
            "8c79502e71234492b67db8be7c7bac10",
            "66ede352b48244079a628c424060e641",
            "7ae186646bef45f398d99e0f92ff46bf",
            "d4838fef14ad4f6aa8f781881fbadc50",
            "5bafbe60e7f54af99428ee65e20fe8aa",
            "398626f442954572bc51d47b0f92f073",
            "dd5508c2fe10463fabb9df954fc160b2",
            "3b849f4426fd4826af3c9d60b3af228d",
            "9e5f29006d464ec4b93f88ca4d3f6ac7",
            "1c4406e89215482e8b2e53aeba8fbd94",
            "cdeef3334de64605b1924d995c30870d"
          ]
        },
        "outputId": "cb30546e-c8dd-46da-8cb7-07361577af64"
      },
      "outputs": [
        {
          "output_type": "display_data",
          "data": {
            "text/plain": [
              "<IPython.core.display.Markdown object>"
            ],
            "text/markdown": "<b>Considere as seguintes afirmações:</b>\n1. O dólar sobe ou o petróleo sobe.\n1. O dólar não subiu."
          },
          "metadata": {}
        },
        {
          "output_type": "display_data",
          "data": {
            "text/plain": [
              "<IPython.core.display.Markdown object>"
            ],
            "text/markdown": "<b>Podemos concluir que a afirmação abaixo segue logicamente das afirmações acima?"
          },
          "metadata": {}
        },
        {
          "output_type": "display_data",
          "data": {
            "text/plain": [
              "<IPython.core.display.Markdown object>"
            ],
            "text/markdown": "\n3. O petróleo subiu."
          },
          "metadata": {}
        },
        {
          "output_type": "display_data",
          "data": {
            "text/plain": [
              "HBox(children=(RadioButtons(description='Resposta:', options=('Sim', 'Não'), value=None), HBox(children=(Butto…"
            ],
            "application/vnd.jupyter.widget-view+json": {
              "version_major": 2,
              "version_minor": 0,
              "model_id": "e48c2e103e934b18aa9088219100399a"
            }
          },
          "metadata": {}
        },
        {
          "output_type": "display_data",
          "data": {
            "text/plain": [
              "Output()"
            ],
            "application/vnd.jupyter.widget-view+json": {
              "version_major": 2,
              "version_minor": 0,
              "model_id": "1c4406e89215482e8b2e53aeba8fbd94"
            }
          },
          "metadata": {}
        }
      ],
      "source": [
        "#@title Exercício 6: Raciocínio em Lógica Proposicional\n",
        "#@markdown Execute essa célula para gerar o seu exercício.\n",
        "verify_reasoning_example('q6')"
      ]
    },
    {
      "cell_type": "markdown",
      "metadata": {
        "id": "7A8eIQxM148K"
      },
      "source": [
        "**Exercício: Represente o raciocínio da questão acima na Linguagem Lógica**\n",
        "\n",
        "**Resposta:**\n",
        "> Considere os seguintes átomos:\n",
        "1. ...\n",
        "1. ...\n",
        ">\n",
        "> Representemos as afirmações através das seguintes fórmulas:\n",
        "1. ...\n",
        "1. ...\n",
        "1. ...\n",
        ">\n",
        "> Assim, devemos verificar se o raciocínio abaixo é válido:\n",
        "$$...$$\n"
      ]
    },
    {
      "cell_type": "code",
      "execution_count": 12,
      "metadata": {
        "cellView": "form",
        "id": "CB2rPSopatvn",
        "colab": {
          "base_uri": "https://localhost:8080/",
          "height": 247,
          "referenced_widgets": [
            "be92607da3624915a4750c4d9be26642",
            "8db2277df4784a65a5f8dff97b418b47",
            "ff4a58d2162a4f1798d9d96d592fff16",
            "61974ee3c5be47dca2d51f9247812833",
            "5dd379c3183e481985f2fe1379fb9922",
            "40a65641331c49f4aea5427f31ca40a6",
            "dc3c3651e43d487daa60226567ddd12b",
            "bbc4389c055c4fa19a62f1407194a06c",
            "246a6ad6dc2f4fdba2a1febf1b4e4989",
            "d7b9c0629cca4335a0a4bbeaf0e1bc92",
            "9f09306a55f649cb87225c88f525e434",
            "458b9d48b28144809231be8fd483e5b7"
          ]
        },
        "outputId": "8ebba54b-f546-4116-a751-70a580088087"
      },
      "outputs": [
        {
          "output_type": "display_data",
          "data": {
            "text/plain": [
              "<IPython.core.display.Markdown object>"
            ],
            "text/markdown": "<b>Considere as seguintes afirmações:</b>\n1. O dólar sobe ou o petróleo sobe.\n1. Se o dólar sobe, então aumenta a inflação.\n1. Se o petróleo sobe, então aumenta a inflação."
          },
          "metadata": {}
        },
        {
          "output_type": "display_data",
          "data": {
            "text/plain": [
              "<IPython.core.display.Markdown object>"
            ],
            "text/markdown": "<b>Podemos concluir que a afirmação abaixo segue logicamente das afirmações acima?"
          },
          "metadata": {}
        },
        {
          "output_type": "display_data",
          "data": {
            "text/plain": [
              "<IPython.core.display.Markdown object>"
            ],
            "text/markdown": "\n4. Aumentou a inflação."
          },
          "metadata": {}
        },
        {
          "output_type": "display_data",
          "data": {
            "text/plain": [
              "HBox(children=(RadioButtons(description='Resposta:', options=('Sim', 'Não'), value=None), HBox(children=(Butto…"
            ],
            "application/vnd.jupyter.widget-view+json": {
              "version_major": 2,
              "version_minor": 0,
              "model_id": "be92607da3624915a4750c4d9be26642"
            }
          },
          "metadata": {}
        },
        {
          "output_type": "display_data",
          "data": {
            "text/plain": [
              "Output()"
            ],
            "application/vnd.jupyter.widget-view+json": {
              "version_major": 2,
              "version_minor": 0,
              "model_id": "9f09306a55f649cb87225c88f525e434"
            }
          },
          "metadata": {}
        }
      ],
      "source": [
        "#@title Exercício 7: Raciocínio em Lógica Proposicional\n",
        "#@markdown Execute essa célula para gerar o seu exercício.\n",
        "verify_reasoning_example('q7')"
      ]
    },
    {
      "cell_type": "markdown",
      "metadata": {
        "id": "O_oF6Puz2_Rs"
      },
      "source": [
        "**Exercício: Represente o raciocínio da questão acima na Linguagem Lógica**\n",
        "\n",
        "**Resposta:**\n",
        "> Considere os seguintes átomos:\n",
        "> 1. ...\n",
        "> 1. ...\n",
        "> 1. ...\n",
        ">\n",
        "> Representemos as afirmações através das seguintes fórmulas:\n",
        "> 1. ...\n",
        "> 1. ...\n",
        "> 1. ...\n",
        "> 1. ...\n",
        ">\n",
        "> Assim, devemos verificar se o raciocínio abaixo é válido:\n",
        "> $$...$$\n"
      ]
    },
    {
      "cell_type": "code",
      "execution_count": 13,
      "metadata": {
        "cellView": "form",
        "id": "XZNKJl34dddV",
        "colab": {
          "base_uri": "https://localhost:8080/",
          "height": 247,
          "referenced_widgets": [
            "d078ded4cc8348bba2442c28a4f94b95",
            "d10fe9ae2c424d629612de34d5dd88f7",
            "f5adeb9009b14b8cb76ab0babc05c0d2",
            "ae3e42f364b540739ed39c1aca6eba6b",
            "6ebf44b143a24098b957acd46f8d27ff",
            "1bc1d16682f543deaec63200029944a9",
            "2352ef4043864f32b203309af09ba4da",
            "fa2f4a152f244ff480e0212c797b5bb1",
            "8028f563ad9a4c45ac838d394f1ec700",
            "036c76dbcd1b45af9af4a0684b4551fc",
            "98814513bbee4d59a65eb0770c36d498",
            "95b38ca135da472a8e41148233b1ac1f"
          ]
        },
        "outputId": "eab3af2a-7c05-43ff-950b-b7731e0b1a72"
      },
      "outputs": [
        {
          "output_type": "display_data",
          "data": {
            "text/plain": [
              "<IPython.core.display.Markdown object>"
            ],
            "text/markdown": "<b>Considere as seguintes afirmações:</b>\n1. Se o dólar sobe ou o petróleo sobe, então aumenta a inflação.\n1. O dólar não subiu.\n1. O petróleo não subiu."
          },
          "metadata": {}
        },
        {
          "output_type": "display_data",
          "data": {
            "text/plain": [
              "<IPython.core.display.Markdown object>"
            ],
            "text/markdown": "<b>Podemos concluir que a afirmação abaixo segue logicamente das afirmações acima?"
          },
          "metadata": {}
        },
        {
          "output_type": "display_data",
          "data": {
            "text/plain": [
              "<IPython.core.display.Markdown object>"
            ],
            "text/markdown": "\n4. Aumentou a inflação."
          },
          "metadata": {}
        },
        {
          "output_type": "display_data",
          "data": {
            "text/plain": [
              "HBox(children=(RadioButtons(description='Resposta:', options=('Sim', 'Não'), value=None), HBox(children=(Butto…"
            ],
            "application/vnd.jupyter.widget-view+json": {
              "version_major": 2,
              "version_minor": 0,
              "model_id": "d078ded4cc8348bba2442c28a4f94b95"
            }
          },
          "metadata": {}
        },
        {
          "output_type": "display_data",
          "data": {
            "text/plain": [
              "Output()"
            ],
            "application/vnd.jupyter.widget-view+json": {
              "version_major": 2,
              "version_minor": 0,
              "model_id": "98814513bbee4d59a65eb0770c36d498"
            }
          },
          "metadata": {}
        }
      ],
      "source": [
        "#@title Exercício 8: Raciocínio em Lógica Proposicional\n",
        "#@markdown Execute essa célula para gerar o seu exercício.\n",
        "verify_reasoning_example('q8')"
      ]
    },
    {
      "cell_type": "markdown",
      "metadata": {
        "id": "4FriKto94cYF"
      },
      "source": [
        "**Exercício: Represente o raciocínio da questão acima na Linguagem Lógica**\n",
        "\n",
        "**Resposta:**\n",
        "> Considere os seguintes átomos:\n",
        "> 1. ...\n",
        "> 1. ...\n",
        "> 1. ...\n",
        ">\n",
        "> Representemos as afirmações através das seguintes fórmulas:\n",
        "> 1. ...\n",
        "> 1. ...\n",
        "> 1. ...\n",
        "> 1. ...\n",
        ">\n",
        "> Assim, devemos verificar se o raciocínio abaixo é válido:\n",
        "> $$...$$\n"
      ]
    },
    {
      "cell_type": "code",
      "execution_count": 14,
      "metadata": {
        "cellView": "form",
        "id": "V7OH4mVrd1MX",
        "colab": {
          "base_uri": "https://localhost:8080/",
          "height": 247,
          "referenced_widgets": [
            "4e4f31fdb3894f1ead14b6d52f67fd83",
            "5d6e8a6db1d9487a8ceb22b053f5310a",
            "a1f8531e516c481cb1172002bb2a6b11",
            "76eb06ecc569455b9cfd26129bf9af7a",
            "203fbc9f95834c1f8a7d4e676798b1e0",
            "8ee4a0bea03c48809df99b5379ad6569",
            "9e8b51217d6e44db9d4874d0782173c2",
            "196465b7a6844a79876a430d1a9cbf5c",
            "cf7d768efc5e46fe82192fb1b3998d48",
            "a0e368ec78bb41a995c9d802a34605d5",
            "761373cf57c042e88443fe8bf31c0c41",
            "d924d0de2fa64176a479833a1348623b"
          ]
        },
        "outputId": "de92ed6a-e444-4ce2-a02c-866a06b8c14a"
      },
      "outputs": [
        {
          "output_type": "display_data",
          "data": {
            "text/plain": [
              "<IPython.core.display.Markdown object>"
            ],
            "text/markdown": "<b>Considere as seguintes afirmações:</b>\n1. Se o dólar sobe ou o petróleo sobe, então aumenta a inflação.\n1. O dólar não subiu.\n1. O petróleo não subiu."
          },
          "metadata": {}
        },
        {
          "output_type": "display_data",
          "data": {
            "text/plain": [
              "<IPython.core.display.Markdown object>"
            ],
            "text/markdown": "<b>Podemos concluir que a afirmação abaixo segue logicamente das afirmações acima?"
          },
          "metadata": {}
        },
        {
          "output_type": "display_data",
          "data": {
            "text/plain": [
              "<IPython.core.display.Markdown object>"
            ],
            "text/markdown": "\n4. Não aumentou a inflação."
          },
          "metadata": {}
        },
        {
          "output_type": "display_data",
          "data": {
            "text/plain": [
              "HBox(children=(RadioButtons(description='Resposta:', options=('Sim', 'Não'), value=None), HBox(children=(Butto…"
            ],
            "application/vnd.jupyter.widget-view+json": {
              "version_major": 2,
              "version_minor": 0,
              "model_id": "4e4f31fdb3894f1ead14b6d52f67fd83"
            }
          },
          "metadata": {}
        },
        {
          "output_type": "display_data",
          "data": {
            "text/plain": [
              "Output()"
            ],
            "application/vnd.jupyter.widget-view+json": {
              "version_major": 2,
              "version_minor": 0,
              "model_id": "761373cf57c042e88443fe8bf31c0c41"
            }
          },
          "metadata": {}
        }
      ],
      "source": [
        "#@title Exercício 9: Raciocínio em Lógica Proposicional\n",
        "#@markdown Execute essa célula para gerar o seu exercício.\n",
        "verify_reasoning_example('q9')"
      ]
    },
    {
      "cell_type": "markdown",
      "metadata": {
        "id": "_1jl35bz5vPE"
      },
      "source": [
        "**Exercício: Represente o raciocínio da questão acima na Linguagem Lógica**\n",
        "\n",
        "**Resposta:**\n",
        "> Considere os seguintes átomos:\n",
        "> 1. ...\n",
        "> 1. ...\n",
        "> 1. ...\n",
        ">\n",
        "> Representemos as afirmações através das seguintes fórmulas:\n",
        "> 1. ...\n",
        "> 1. ...\n",
        "> 1. ...\n",
        "> 1. ...\n",
        ">\n",
        "> Assim, devemos verificar se o raciocínio abaixo é válido:\n",
        "> $$...$$\n"
      ]
    },
    {
      "cell_type": "code",
      "execution_count": 15,
      "metadata": {
        "cellView": "form",
        "id": "V7QAv0a1VNYX",
        "colab": {
          "base_uri": "https://localhost:8080/",
          "height": 247,
          "referenced_widgets": [
            "7ea25d7b2883450fb7f65fcc2842946b",
            "e81429e1a49240e3803e98d7b6eada42",
            "6e8e546a296d4ca9a00edb7a6068fe84",
            "ceea14f13237417fa45b960ef7845533",
            "ecaeac3ef0f64a1187f7f6646aea3f42",
            "07fd8465e55f45ceaf072c81e0d2f2be",
            "28c90a21d1204d06bc0b270e9b03c376",
            "572c8a68febc42488bc99ce57044754d",
            "2e9e89b2b96044cca2c41ae804ab09b5",
            "a40a3a0450fc4a80b81589e698020983",
            "a5250d099a8a4307b2e375bf43e5a866",
            "ad524503de11404cb0dcfb6242a6e8fa"
          ]
        },
        "outputId": "25e2e46d-f3d9-40e4-d404-ea899dd5ee10"
      },
      "outputs": [
        {
          "output_type": "display_data",
          "data": {
            "text/plain": [
              "<IPython.core.display.Markdown object>"
            ],
            "text/markdown": "<b>Considere as seguintes afirmações:</b>\n1. Se o dólar sobe, então os produtos ficam mais caros.\n1. Se o dólar não sobe, então compro mais comida.\n1. Os produtos não ficaram mais caro."
          },
          "metadata": {}
        },
        {
          "output_type": "display_data",
          "data": {
            "text/plain": [
              "<IPython.core.display.Markdown object>"
            ],
            "text/markdown": "<b>Podemos concluir que a afirmação abaixo segue logicamente das afirmações acima?"
          },
          "metadata": {}
        },
        {
          "output_type": "display_data",
          "data": {
            "text/plain": [
              "<IPython.core.display.Markdown object>"
            ],
            "text/markdown": "\n4. Comprei mais comida."
          },
          "metadata": {}
        },
        {
          "output_type": "display_data",
          "data": {
            "text/plain": [
              "HBox(children=(RadioButtons(description='Resposta:', options=('Sim', 'Não'), value=None), HBox(children=(Butto…"
            ],
            "application/vnd.jupyter.widget-view+json": {
              "version_major": 2,
              "version_minor": 0,
              "model_id": "7ea25d7b2883450fb7f65fcc2842946b"
            }
          },
          "metadata": {}
        },
        {
          "output_type": "display_data",
          "data": {
            "text/plain": [
              "Output()"
            ],
            "application/vnd.jupyter.widget-view+json": {
              "version_major": 2,
              "version_minor": 0,
              "model_id": "a5250d099a8a4307b2e375bf43e5a866"
            }
          },
          "metadata": {}
        }
      ],
      "source": [
        "#@title Exercício 10: Raciocínio em Lógica Proposicional\n",
        "#@markdown Execute essa célula para gerar o seu exercício.\n",
        "verify_reasoning_example('q10')"
      ]
    },
    {
      "cell_type": "markdown",
      "metadata": {
        "id": "kit9hcKPM4Vr"
      },
      "source": [
        "**Exercício: Represente o raciocínio da questão acima na Linguagem Lógica**\n",
        "\n",
        "**Resposta:**\n",
        "> Considere os seguintes átomos:\n",
        "> 1. ...\n",
        "> 1. ...\n",
        "> 1. ...\n",
        ">\n",
        "> Representemos as afirmações através das seguintes fórmulas:\n",
        "> 1. ...\n",
        "> 1. ...\n",
        "> 1. ...\n",
        "> 1. ...\n",
        ">\n",
        "> Assim, devemos verificar se o raciocínio abaixo é válido:\n",
        "> $$...$$"
      ]
    },
    {
      "cell_type": "code",
      "execution_count": 16,
      "metadata": {
        "cellView": "form",
        "id": "URM5lIu6Vz8P",
        "colab": {
          "base_uri": "https://localhost:8080/",
          "height": 247,
          "referenced_widgets": [
            "35af112c92bc41c8ad70fef76923eb74",
            "7878bdd6bc0b4a40b222514845753dad",
            "f54e364ffe4e4a06a70e059ba270c884",
            "7ba71a73bbed47a5a845ec63891dc3b7",
            "6a930236c4864d329e79fac3f7d1789d",
            "9181ca30d1c7425888bab350862eeabf",
            "4f3503a99fff4fb39c27226f0668dbd2",
            "00f96fa76e4846f385d69e22c6b600df",
            "05b8cb05474848c497a7bc62059ce1d1",
            "871ec616faa449768c7ca18cd5772c28",
            "19ab81b9d064444eb7bfe43e9db1c244",
            "7393f58df4824d7bae3564c1179e8e03"
          ]
        },
        "outputId": "9ae39296-1ac5-4337-e501-6dacf08d6a3f"
      },
      "outputs": [
        {
          "output_type": "display_data",
          "data": {
            "text/plain": [
              "<IPython.core.display.Markdown object>"
            ],
            "text/markdown": "<b>Considere as seguintes afirmações:</b>\n1. Se o dólar sobe, então os produtos ficam mais caros.\n1. Se o dólar não sobe, então compro mais comida.\n1. Os produtos ficaram mais caro."
          },
          "metadata": {}
        },
        {
          "output_type": "display_data",
          "data": {
            "text/plain": [
              "<IPython.core.display.Markdown object>"
            ],
            "text/markdown": "<b>Podemos concluir que a afirmação abaixo segue logicamente das afirmações acima?"
          },
          "metadata": {}
        },
        {
          "output_type": "display_data",
          "data": {
            "text/plain": [
              "<IPython.core.display.Markdown object>"
            ],
            "text/markdown": "\n4. Comprei mais comida."
          },
          "metadata": {}
        },
        {
          "output_type": "display_data",
          "data": {
            "text/plain": [
              "HBox(children=(RadioButtons(description='Resposta:', options=('Sim', 'Não'), value=None), HBox(children=(Butto…"
            ],
            "application/vnd.jupyter.widget-view+json": {
              "version_major": 2,
              "version_minor": 0,
              "model_id": "35af112c92bc41c8ad70fef76923eb74"
            }
          },
          "metadata": {}
        },
        {
          "output_type": "display_data",
          "data": {
            "text/plain": [
              "Output()"
            ],
            "application/vnd.jupyter.widget-view+json": {
              "version_major": 2,
              "version_minor": 0,
              "model_id": "19ab81b9d064444eb7bfe43e9db1c244"
            }
          },
          "metadata": {}
        }
      ],
      "source": [
        "#@title Exercício 11: Raciocínio em Lógica Proposicional\n",
        "#@markdown Execute essa célula para gerar o seu exercício.\n",
        "verify_reasoning_example('q11')"
      ]
    },
    {
      "cell_type": "markdown",
      "metadata": {
        "id": "fOfrhVy3Rbyw"
      },
      "source": [
        "**Exercício: Represente o raciocínio da questão acima na Linguagem Lógica**\n",
        "\n",
        "**Resposta:**\n",
        "> Considere os seguintes átomos:\n",
        "> 1. ...\n",
        "> 1. ...\n",
        "> 1. ...\n",
        ">\n",
        "> Representemos as afirmações através das seguintes fórmulas:\n",
        "> 1. ...\n",
        "> 1. ...\n",
        "> 1. ...\n",
        "> 1. ...\n",
        ">\n",
        "> Assim, devemos verificar se o raciocínio abaixo é válido:\n",
        "> $$...$$"
      ]
    },
    {
      "cell_type": "code",
      "execution_count": 17,
      "metadata": {
        "cellView": "form",
        "id": "TSt4O3Y3WFbe",
        "colab": {
          "base_uri": "https://localhost:8080/",
          "height": 247,
          "referenced_widgets": [
            "2f70b16927b3408dbf5b1d6db4c0032b",
            "593ad786688a4fb7b5a4a1f645dbe62d",
            "ed0ee0c2ca9d4d5796bb662754e96147",
            "990f13a3b4de46469669f18e6bcbe31d",
            "5cf4ca81b4934001bf73925219466f4f",
            "bfcc1b81fa0e4a409aa793b260a1da5e",
            "df781b72c06a4f7682c2443adb16791a",
            "85130674a7384d81a5c6c64fb79417a4",
            "24e5ccf028474d828602c4e8d2f55d6f",
            "ecb39de721314c79a6c33b438211e0e1",
            "6eecf3c23a484c0792030f675372336d",
            "a031d940e579434095dfb9f506b04073"
          ]
        },
        "outputId": "7d3392f0-4708-4bd5-cb59-63c5d692ef50"
      },
      "outputs": [
        {
          "output_type": "display_data",
          "data": {
            "text/plain": [
              "<IPython.core.display.Markdown object>"
            ],
            "text/markdown": "<b>Considere as seguintes afirmações:</b>\n1. Se o dólar sobe, então os produtos ficam mais caros.\n1. Se o dólar não sobe, então compro mais comida.\n1. Os produtos ficaram mais caro."
          },
          "metadata": {}
        },
        {
          "output_type": "display_data",
          "data": {
            "text/plain": [
              "<IPython.core.display.Markdown object>"
            ],
            "text/markdown": "<b>Podemos concluir que a afirmação abaixo segue logicamente das afirmações acima?"
          },
          "metadata": {}
        },
        {
          "output_type": "display_data",
          "data": {
            "text/plain": [
              "<IPython.core.display.Markdown object>"
            ],
            "text/markdown": "\n4. Não comprei mais comida."
          },
          "metadata": {}
        },
        {
          "output_type": "display_data",
          "data": {
            "text/plain": [
              "HBox(children=(RadioButtons(description='Resposta:', options=('Sim', 'Não'), value=None), HBox(children=(Butto…"
            ],
            "application/vnd.jupyter.widget-view+json": {
              "version_major": 2,
              "version_minor": 0,
              "model_id": "2f70b16927b3408dbf5b1d6db4c0032b"
            }
          },
          "metadata": {}
        },
        {
          "output_type": "display_data",
          "data": {
            "text/plain": [
              "Output()"
            ],
            "application/vnd.jupyter.widget-view+json": {
              "version_major": 2,
              "version_minor": 0,
              "model_id": "6eecf3c23a484c0792030f675372336d"
            }
          },
          "metadata": {}
        }
      ],
      "source": [
        "#@title Exercício 12: Raciocínio em Lógica Proposicional\n",
        "#@markdown Execute essa célula para gerar o seu exercício.\n",
        "verify_reasoning_example('q12')"
      ]
    },
    {
      "cell_type": "markdown",
      "metadata": {
        "id": "EvkX5xc_RmFF"
      },
      "source": [
        "**Exercício: Represente o raciocínio da questão acima na Linguagem Lógica**\n",
        "\n",
        "**Resposta:**\n",
        "> Considere os seguintes átomos:\n",
        "> 1. ...\n",
        "> 1. ...\n",
        "> 1. ...\n",
        ">\n",
        "> Representemos as afirmações através das seguintes fórmulas:\n",
        "> 1. ...\n",
        "> 1. ...\n",
        "> 1. ...\n",
        "> 1. ...\n",
        ">\n",
        "> Assim, devemos verificar se o raciocínio abaixo é válido:\n",
        "> $$...$$"
      ]
    },
    {
      "cell_type": "markdown",
      "metadata": {
        "id": "mHxDoYbORVWT"
      },
      "source": [
        "<!--NAVIGATION-->\n",
        "[< A Linguaagem da Lógica Proposicional](./Cap%C3%ADtulo%2002%20-%20A%20Linguagem%20da%20L%C3%B3gica%20Proposicional.ipynb)| [Índice](./Index.ipynb) | [Semântica da Lógica Proposicional >](./Cap%C3%ADtulo%2004%20-%20Sem%C3%A2ntica%20da%20L%C3%B3gica%20Proposicional.ipynb)"
      ]
    },
    {
      "cell_type": "markdown",
      "metadata": {
        "id": "xrdyxlTTxO6h"
      },
      "source": [
        "<!--NAVIGATION\n",
        "< [A Lógica Proposicional](https://colab.research.google.com/drive/1qCL3pVJtNMDiegvk1jLKb3QwmurBImyb?usp=sharing) | [Índice](https://colab.research.google.com/drive/1Y9amjPuhY80z5rJcGC72GyfZ23TEEwUO?usp=sharing) | [Especificação de Problemas em Lógica](https://colab.research.google.com/drive/1O64NQfPLdGs1O_DGY5Ml7TUqWzSgqlIh?usp=sharing) >-->"
      ]
    }
  ],
  "metadata": {
    "colab": {
      "name": "Capítulo 03 - Especificação de Problemas em Lógica Proposicional.ipynb",
      "provenance": []
    },
    "kernelspec": {
      "display_name": "base",
      "language": "python",
      "name": "python3"
    },
    "language_info": {
      "codemirror_mode": {
        "name": "ipython",
        "version": 3
      },
      "file_extension": ".py",
      "mimetype": "text/x-python",
      "name": "python",
      "nbconvert_exporter": "python",
      "pygments_lexer": "ipython3",
      "version": "3.9.7"
    },
    "vscode": {
      "interpreter": {
        "hash": "40d3a090f54c6569ab1632332b64b2c03c39dcf918b08424e98f38b5ae0af88f"
      }
    },
    "widgets": {
      "application/vnd.jupyter.widget-state+json": {
        "fd43ce93b91646699641af9dfdfe24a8": {
          "model_module": "@jupyter-widgets/controls",
          "model_name": "HBoxModel",
          "model_module_version": "1.5.0",
          "state": {
            "_dom_classes": [],
            "_model_module": "@jupyter-widgets/controls",
            "_model_module_version": "1.5.0",
            "_model_name": "HBoxModel",
            "_view_count": null,
            "_view_module": "@jupyter-widgets/controls",
            "_view_module_version": "1.5.0",
            "_view_name": "HBoxView",
            "box_style": "",
            "children": [
              "IPY_MODEL_0851120207f84608bbd82630cc58359c",
              "IPY_MODEL_d02c16626d0649799353c954a9d9dcf4"
            ],
            "layout": "IPY_MODEL_5c481bf17ab04f38abdf56c55d53959b"
          }
        },
        "0851120207f84608bbd82630cc58359c": {
          "model_module": "@jupyter-widgets/controls",
          "model_name": "RadioButtonsModel",
          "model_module_version": "1.5.0",
          "state": {
            "_dom_classes": [],
            "_model_module": "@jupyter-widgets/controls",
            "_model_module_version": "1.5.0",
            "_model_name": "RadioButtonsModel",
            "_options_labels": [
              "Sim",
              "Não"
            ],
            "_view_count": null,
            "_view_module": "@jupyter-widgets/controls",
            "_view_module_version": "1.5.0",
            "_view_name": "RadioButtonsView",
            "description": "Resposta:",
            "description_tooltip": null,
            "disabled": true,
            "index": 0,
            "layout": "IPY_MODEL_347f67ca050c49758cf68b1f5f6260d6",
            "style": "IPY_MODEL_1dde94f8c2b2406f8da1c917954ed6e9"
          }
        },
        "d02c16626d0649799353c954a9d9dcf4": {
          "model_module": "@jupyter-widgets/controls",
          "model_name": "HBoxModel",
          "model_module_version": "1.5.0",
          "state": {
            "_dom_classes": [],
            "_model_module": "@jupyter-widgets/controls",
            "_model_module_version": "1.5.0",
            "_model_name": "HBoxModel",
            "_view_count": null,
            "_view_module": "@jupyter-widgets/controls",
            "_view_module_version": "1.5.0",
            "_view_name": "HBoxView",
            "box_style": "",
            "children": [
              "IPY_MODEL_7eda6186a0044ee9b625baef3d7d5858"
            ],
            "layout": "IPY_MODEL_7caa9bd1314146f5bca62c85d5971091"
          }
        },
        "5c481bf17ab04f38abdf56c55d53959b": {
          "model_module": "@jupyter-widgets/base",
          "model_name": "LayoutModel",
          "model_module_version": "1.2.0",
          "state": {
            "_model_module": "@jupyter-widgets/base",
            "_model_module_version": "1.2.0",
            "_model_name": "LayoutModel",
            "_view_count": null,
            "_view_module": "@jupyter-widgets/base",
            "_view_module_version": "1.2.0",
            "_view_name": "LayoutView",
            "align_content": null,
            "align_items": null,
            "align_self": null,
            "border": null,
            "bottom": null,
            "display": null,
            "flex": null,
            "flex_flow": null,
            "grid_area": null,
            "grid_auto_columns": null,
            "grid_auto_flow": null,
            "grid_auto_rows": null,
            "grid_column": null,
            "grid_gap": null,
            "grid_row": null,
            "grid_template_areas": null,
            "grid_template_columns": null,
            "grid_template_rows": null,
            "height": null,
            "justify_content": null,
            "justify_items": null,
            "left": null,
            "margin": null,
            "max_height": null,
            "max_width": null,
            "min_height": null,
            "min_width": null,
            "object_fit": null,
            "object_position": null,
            "order": null,
            "overflow": null,
            "overflow_x": null,
            "overflow_y": null,
            "padding": null,
            "right": null,
            "top": null,
            "visibility": null,
            "width": null
          }
        },
        "347f67ca050c49758cf68b1f5f6260d6": {
          "model_module": "@jupyter-widgets/base",
          "model_name": "LayoutModel",
          "model_module_version": "1.2.0",
          "state": {
            "_model_module": "@jupyter-widgets/base",
            "_model_module_version": "1.2.0",
            "_model_name": "LayoutModel",
            "_view_count": null,
            "_view_module": "@jupyter-widgets/base",
            "_view_module_version": "1.2.0",
            "_view_name": "LayoutView",
            "align_content": null,
            "align_items": null,
            "align_self": null,
            "border": null,
            "bottom": null,
            "display": null,
            "flex": null,
            "flex_flow": null,
            "grid_area": null,
            "grid_auto_columns": null,
            "grid_auto_flow": null,
            "grid_auto_rows": null,
            "grid_column": null,
            "grid_gap": null,
            "grid_row": null,
            "grid_template_areas": null,
            "grid_template_columns": null,
            "grid_template_rows": null,
            "height": null,
            "justify_content": null,
            "justify_items": null,
            "left": null,
            "margin": null,
            "max_height": null,
            "max_width": null,
            "min_height": null,
            "min_width": null,
            "object_fit": null,
            "object_position": null,
            "order": null,
            "overflow": null,
            "overflow_x": null,
            "overflow_y": null,
            "padding": null,
            "right": null,
            "top": null,
            "visibility": null,
            "width": null
          }
        },
        "1dde94f8c2b2406f8da1c917954ed6e9": {
          "model_module": "@jupyter-widgets/controls",
          "model_name": "DescriptionStyleModel",
          "model_module_version": "1.5.0",
          "state": {
            "_model_module": "@jupyter-widgets/controls",
            "_model_module_version": "1.5.0",
            "_model_name": "DescriptionStyleModel",
            "_view_count": null,
            "_view_module": "@jupyter-widgets/base",
            "_view_module_version": "1.2.0",
            "_view_name": "StyleView",
            "description_width": ""
          }
        },
        "7eda6186a0044ee9b625baef3d7d5858": {
          "model_module": "@jupyter-widgets/controls",
          "model_name": "ButtonModel",
          "model_module_version": "1.5.0",
          "state": {
            "_dom_classes": [],
            "_model_module": "@jupyter-widgets/controls",
            "_model_module_version": "1.5.0",
            "_model_name": "ButtonModel",
            "_view_count": null,
            "_view_module": "@jupyter-widgets/controls",
            "_view_module_version": "1.5.0",
            "_view_name": "ButtonView",
            "button_style": "",
            "description": "Verificar",
            "disabled": true,
            "icon": "",
            "layout": "IPY_MODEL_e59e9290f291405786188d1419cc0b26",
            "style": "IPY_MODEL_41f9b9a5c5334c66be1560bb424a4fee",
            "tooltip": ""
          }
        },
        "7caa9bd1314146f5bca62c85d5971091": {
          "model_module": "@jupyter-widgets/base",
          "model_name": "LayoutModel",
          "model_module_version": "1.2.0",
          "state": {
            "_model_module": "@jupyter-widgets/base",
            "_model_module_version": "1.2.0",
            "_model_name": "LayoutModel",
            "_view_count": null,
            "_view_module": "@jupyter-widgets/base",
            "_view_module_version": "1.2.0",
            "_view_name": "LayoutView",
            "align_content": null,
            "align_items": null,
            "align_self": null,
            "border": null,
            "bottom": null,
            "display": null,
            "flex": null,
            "flex_flow": null,
            "grid_area": null,
            "grid_auto_columns": null,
            "grid_auto_flow": null,
            "grid_auto_rows": null,
            "grid_column": null,
            "grid_gap": null,
            "grid_row": null,
            "grid_template_areas": null,
            "grid_template_columns": null,
            "grid_template_rows": null,
            "height": null,
            "justify_content": null,
            "justify_items": null,
            "left": null,
            "margin": null,
            "max_height": null,
            "max_width": null,
            "min_height": null,
            "min_width": null,
            "object_fit": null,
            "object_position": null,
            "order": null,
            "overflow": null,
            "overflow_x": null,
            "overflow_y": null,
            "padding": null,
            "right": null,
            "top": null,
            "visibility": null,
            "width": null
          }
        },
        "e59e9290f291405786188d1419cc0b26": {
          "model_module": "@jupyter-widgets/base",
          "model_name": "LayoutModel",
          "model_module_version": "1.2.0",
          "state": {
            "_model_module": "@jupyter-widgets/base",
            "_model_module_version": "1.2.0",
            "_model_name": "LayoutModel",
            "_view_count": null,
            "_view_module": "@jupyter-widgets/base",
            "_view_module_version": "1.2.0",
            "_view_name": "LayoutView",
            "align_content": null,
            "align_items": null,
            "align_self": null,
            "border": null,
            "bottom": null,
            "display": null,
            "flex": null,
            "flex_flow": null,
            "grid_area": null,
            "grid_auto_columns": null,
            "grid_auto_flow": null,
            "grid_auto_rows": null,
            "grid_column": null,
            "grid_gap": null,
            "grid_row": null,
            "grid_template_areas": null,
            "grid_template_columns": null,
            "grid_template_rows": null,
            "height": null,
            "justify_content": null,
            "justify_items": null,
            "left": null,
            "margin": null,
            "max_height": null,
            "max_width": null,
            "min_height": null,
            "min_width": null,
            "object_fit": null,
            "object_position": null,
            "order": null,
            "overflow": null,
            "overflow_x": null,
            "overflow_y": null,
            "padding": null,
            "right": null,
            "top": null,
            "visibility": null,
            "width": null
          }
        },
        "41f9b9a5c5334c66be1560bb424a4fee": {
          "model_module": "@jupyter-widgets/controls",
          "model_name": "ButtonStyleModel",
          "model_module_version": "1.5.0",
          "state": {
            "_model_module": "@jupyter-widgets/controls",
            "_model_module_version": "1.5.0",
            "_model_name": "ButtonStyleModel",
            "_view_count": null,
            "_view_module": "@jupyter-widgets/base",
            "_view_module_version": "1.2.0",
            "_view_name": "StyleView",
            "button_color": null,
            "font_weight": ""
          }
        },
        "3289550b5b184906a347a81989720174": {
          "model_module": "@jupyter-widgets/output",
          "model_name": "OutputModel",
          "model_module_version": "1.0.0",
          "state": {
            "_dom_classes": [],
            "_model_module": "@jupyter-widgets/output",
            "_model_module_version": "1.0.0",
            "_model_name": "OutputModel",
            "_view_count": null,
            "_view_module": "@jupyter-widgets/output",
            "_view_module_version": "1.0.0",
            "_view_name": "OutputView",
            "layout": "IPY_MODEL_9179343ce0604bf49e4a41ed65930523",
            "msg_id": "",
            "outputs": [
              {
                "output_type": "display_data",
                "data": {
                  "text/plain": "<IPython.core.display.HTML object>",
                  "text/html": "<b><font color=\"blue\">Parabéns, você acertou a questão.</font>"
                },
                "metadata": {}
              }
            ]
          }
        },
        "9179343ce0604bf49e4a41ed65930523": {
          "model_module": "@jupyter-widgets/base",
          "model_name": "LayoutModel",
          "model_module_version": "1.2.0",
          "state": {
            "_model_module": "@jupyter-widgets/base",
            "_model_module_version": "1.2.0",
            "_model_name": "LayoutModel",
            "_view_count": null,
            "_view_module": "@jupyter-widgets/base",
            "_view_module_version": "1.2.0",
            "_view_name": "LayoutView",
            "align_content": null,
            "align_items": null,
            "align_self": null,
            "border": null,
            "bottom": null,
            "display": null,
            "flex": null,
            "flex_flow": null,
            "grid_area": null,
            "grid_auto_columns": null,
            "grid_auto_flow": null,
            "grid_auto_rows": null,
            "grid_column": null,
            "grid_gap": null,
            "grid_row": null,
            "grid_template_areas": null,
            "grid_template_columns": null,
            "grid_template_rows": null,
            "height": null,
            "justify_content": null,
            "justify_items": null,
            "left": null,
            "margin": null,
            "max_height": null,
            "max_width": null,
            "min_height": null,
            "min_width": null,
            "object_fit": null,
            "object_position": null,
            "order": null,
            "overflow": null,
            "overflow_x": null,
            "overflow_y": null,
            "padding": null,
            "right": null,
            "top": null,
            "visibility": null,
            "width": null
          }
        },
        "4af241527399426390137a557244590e": {
          "model_module": "@jupyter-widgets/controls",
          "model_name": "HBoxModel",
          "model_module_version": "1.5.0",
          "state": {
            "_dom_classes": [],
            "_model_module": "@jupyter-widgets/controls",
            "_model_module_version": "1.5.0",
            "_model_name": "HBoxModel",
            "_view_count": null,
            "_view_module": "@jupyter-widgets/controls",
            "_view_module_version": "1.5.0",
            "_view_name": "HBoxView",
            "box_style": "",
            "children": [
              "IPY_MODEL_c7912462d546442bbac95cf3fecc4c38",
              "IPY_MODEL_cf3edb4e87d14503a2d4f30f91d9df19"
            ],
            "layout": "IPY_MODEL_3df27b68c9484ae9bb6cdb1b77dd52da"
          }
        },
        "c7912462d546442bbac95cf3fecc4c38": {
          "model_module": "@jupyter-widgets/controls",
          "model_name": "RadioButtonsModel",
          "model_module_version": "1.5.0",
          "state": {
            "_dom_classes": [],
            "_model_module": "@jupyter-widgets/controls",
            "_model_module_version": "1.5.0",
            "_model_name": "RadioButtonsModel",
            "_options_labels": [
              "Sim",
              "Não"
            ],
            "_view_count": null,
            "_view_module": "@jupyter-widgets/controls",
            "_view_module_version": "1.5.0",
            "_view_name": "RadioButtonsView",
            "description": "Resposta:",
            "description_tooltip": null,
            "disabled": true,
            "index": 0,
            "layout": "IPY_MODEL_0d2d1bce1b2c453d9c73444f5379ae96",
            "style": "IPY_MODEL_4d1d85a232544e27929b33ca82a00f89"
          }
        },
        "cf3edb4e87d14503a2d4f30f91d9df19": {
          "model_module": "@jupyter-widgets/controls",
          "model_name": "HBoxModel",
          "model_module_version": "1.5.0",
          "state": {
            "_dom_classes": [],
            "_model_module": "@jupyter-widgets/controls",
            "_model_module_version": "1.5.0",
            "_model_name": "HBoxModel",
            "_view_count": null,
            "_view_module": "@jupyter-widgets/controls",
            "_view_module_version": "1.5.0",
            "_view_name": "HBoxView",
            "box_style": "",
            "children": [
              "IPY_MODEL_6f49f7f75f18496ebe5c51cf3be01624"
            ],
            "layout": "IPY_MODEL_9009c4c7f2c4490cb257d71ef333ad11"
          }
        },
        "3df27b68c9484ae9bb6cdb1b77dd52da": {
          "model_module": "@jupyter-widgets/base",
          "model_name": "LayoutModel",
          "model_module_version": "1.2.0",
          "state": {
            "_model_module": "@jupyter-widgets/base",
            "_model_module_version": "1.2.0",
            "_model_name": "LayoutModel",
            "_view_count": null,
            "_view_module": "@jupyter-widgets/base",
            "_view_module_version": "1.2.0",
            "_view_name": "LayoutView",
            "align_content": null,
            "align_items": null,
            "align_self": null,
            "border": null,
            "bottom": null,
            "display": null,
            "flex": null,
            "flex_flow": null,
            "grid_area": null,
            "grid_auto_columns": null,
            "grid_auto_flow": null,
            "grid_auto_rows": null,
            "grid_column": null,
            "grid_gap": null,
            "grid_row": null,
            "grid_template_areas": null,
            "grid_template_columns": null,
            "grid_template_rows": null,
            "height": null,
            "justify_content": null,
            "justify_items": null,
            "left": null,
            "margin": null,
            "max_height": null,
            "max_width": null,
            "min_height": null,
            "min_width": null,
            "object_fit": null,
            "object_position": null,
            "order": null,
            "overflow": null,
            "overflow_x": null,
            "overflow_y": null,
            "padding": null,
            "right": null,
            "top": null,
            "visibility": null,
            "width": null
          }
        },
        "0d2d1bce1b2c453d9c73444f5379ae96": {
          "model_module": "@jupyter-widgets/base",
          "model_name": "LayoutModel",
          "model_module_version": "1.2.0",
          "state": {
            "_model_module": "@jupyter-widgets/base",
            "_model_module_version": "1.2.0",
            "_model_name": "LayoutModel",
            "_view_count": null,
            "_view_module": "@jupyter-widgets/base",
            "_view_module_version": "1.2.0",
            "_view_name": "LayoutView",
            "align_content": null,
            "align_items": null,
            "align_self": null,
            "border": null,
            "bottom": null,
            "display": null,
            "flex": null,
            "flex_flow": null,
            "grid_area": null,
            "grid_auto_columns": null,
            "grid_auto_flow": null,
            "grid_auto_rows": null,
            "grid_column": null,
            "grid_gap": null,
            "grid_row": null,
            "grid_template_areas": null,
            "grid_template_columns": null,
            "grid_template_rows": null,
            "height": null,
            "justify_content": null,
            "justify_items": null,
            "left": null,
            "margin": null,
            "max_height": null,
            "max_width": null,
            "min_height": null,
            "min_width": null,
            "object_fit": null,
            "object_position": null,
            "order": null,
            "overflow": null,
            "overflow_x": null,
            "overflow_y": null,
            "padding": null,
            "right": null,
            "top": null,
            "visibility": null,
            "width": null
          }
        },
        "4d1d85a232544e27929b33ca82a00f89": {
          "model_module": "@jupyter-widgets/controls",
          "model_name": "DescriptionStyleModel",
          "model_module_version": "1.5.0",
          "state": {
            "_model_module": "@jupyter-widgets/controls",
            "_model_module_version": "1.5.0",
            "_model_name": "DescriptionStyleModel",
            "_view_count": null,
            "_view_module": "@jupyter-widgets/base",
            "_view_module_version": "1.2.0",
            "_view_name": "StyleView",
            "description_width": ""
          }
        },
        "6f49f7f75f18496ebe5c51cf3be01624": {
          "model_module": "@jupyter-widgets/controls",
          "model_name": "ButtonModel",
          "model_module_version": "1.5.0",
          "state": {
            "_dom_classes": [],
            "_model_module": "@jupyter-widgets/controls",
            "_model_module_version": "1.5.0",
            "_model_name": "ButtonModel",
            "_view_count": null,
            "_view_module": "@jupyter-widgets/controls",
            "_view_module_version": "1.5.0",
            "_view_name": "ButtonView",
            "button_style": "",
            "description": "Verificar",
            "disabled": true,
            "icon": "",
            "layout": "IPY_MODEL_12fb6216262f4960814ff8296f7b1278",
            "style": "IPY_MODEL_2816fdd540024b82be957b65ff1c656a",
            "tooltip": ""
          }
        },
        "9009c4c7f2c4490cb257d71ef333ad11": {
          "model_module": "@jupyter-widgets/base",
          "model_name": "LayoutModel",
          "model_module_version": "1.2.0",
          "state": {
            "_model_module": "@jupyter-widgets/base",
            "_model_module_version": "1.2.0",
            "_model_name": "LayoutModel",
            "_view_count": null,
            "_view_module": "@jupyter-widgets/base",
            "_view_module_version": "1.2.0",
            "_view_name": "LayoutView",
            "align_content": null,
            "align_items": null,
            "align_self": null,
            "border": null,
            "bottom": null,
            "display": null,
            "flex": null,
            "flex_flow": null,
            "grid_area": null,
            "grid_auto_columns": null,
            "grid_auto_flow": null,
            "grid_auto_rows": null,
            "grid_column": null,
            "grid_gap": null,
            "grid_row": null,
            "grid_template_areas": null,
            "grid_template_columns": null,
            "grid_template_rows": null,
            "height": null,
            "justify_content": null,
            "justify_items": null,
            "left": null,
            "margin": null,
            "max_height": null,
            "max_width": null,
            "min_height": null,
            "min_width": null,
            "object_fit": null,
            "object_position": null,
            "order": null,
            "overflow": null,
            "overflow_x": null,
            "overflow_y": null,
            "padding": null,
            "right": null,
            "top": null,
            "visibility": null,
            "width": null
          }
        },
        "12fb6216262f4960814ff8296f7b1278": {
          "model_module": "@jupyter-widgets/base",
          "model_name": "LayoutModel",
          "model_module_version": "1.2.0",
          "state": {
            "_model_module": "@jupyter-widgets/base",
            "_model_module_version": "1.2.0",
            "_model_name": "LayoutModel",
            "_view_count": null,
            "_view_module": "@jupyter-widgets/base",
            "_view_module_version": "1.2.0",
            "_view_name": "LayoutView",
            "align_content": null,
            "align_items": null,
            "align_self": null,
            "border": null,
            "bottom": null,
            "display": null,
            "flex": null,
            "flex_flow": null,
            "grid_area": null,
            "grid_auto_columns": null,
            "grid_auto_flow": null,
            "grid_auto_rows": null,
            "grid_column": null,
            "grid_gap": null,
            "grid_row": null,
            "grid_template_areas": null,
            "grid_template_columns": null,
            "grid_template_rows": null,
            "height": null,
            "justify_content": null,
            "justify_items": null,
            "left": null,
            "margin": null,
            "max_height": null,
            "max_width": null,
            "min_height": null,
            "min_width": null,
            "object_fit": null,
            "object_position": null,
            "order": null,
            "overflow": null,
            "overflow_x": null,
            "overflow_y": null,
            "padding": null,
            "right": null,
            "top": null,
            "visibility": null,
            "width": null
          }
        },
        "2816fdd540024b82be957b65ff1c656a": {
          "model_module": "@jupyter-widgets/controls",
          "model_name": "ButtonStyleModel",
          "model_module_version": "1.5.0",
          "state": {
            "_model_module": "@jupyter-widgets/controls",
            "_model_module_version": "1.5.0",
            "_model_name": "ButtonStyleModel",
            "_view_count": null,
            "_view_module": "@jupyter-widgets/base",
            "_view_module_version": "1.2.0",
            "_view_name": "StyleView",
            "button_color": null,
            "font_weight": ""
          }
        },
        "35c5f3c46be94c3782ec611597f56cff": {
          "model_module": "@jupyter-widgets/output",
          "model_name": "OutputModel",
          "model_module_version": "1.0.0",
          "state": {
            "_dom_classes": [],
            "_model_module": "@jupyter-widgets/output",
            "_model_module_version": "1.0.0",
            "_model_name": "OutputModel",
            "_view_count": null,
            "_view_module": "@jupyter-widgets/output",
            "_view_module_version": "1.0.0",
            "_view_name": "OutputView",
            "layout": "IPY_MODEL_ce8b9b790d5f443e870970cc6f76bea2",
            "msg_id": "",
            "outputs": [
              {
                "output_type": "display_data",
                "data": {
                  "text/plain": "<IPython.core.display.HTML object>",
                  "text/html": "<b><font color=\"blue\">Parabéns, você acertou a questão.</font>"
                },
                "metadata": {}
              }
            ]
          }
        },
        "ce8b9b790d5f443e870970cc6f76bea2": {
          "model_module": "@jupyter-widgets/base",
          "model_name": "LayoutModel",
          "model_module_version": "1.2.0",
          "state": {
            "_model_module": "@jupyter-widgets/base",
            "_model_module_version": "1.2.0",
            "_model_name": "LayoutModel",
            "_view_count": null,
            "_view_module": "@jupyter-widgets/base",
            "_view_module_version": "1.2.0",
            "_view_name": "LayoutView",
            "align_content": null,
            "align_items": null,
            "align_self": null,
            "border": null,
            "bottom": null,
            "display": null,
            "flex": null,
            "flex_flow": null,
            "grid_area": null,
            "grid_auto_columns": null,
            "grid_auto_flow": null,
            "grid_auto_rows": null,
            "grid_column": null,
            "grid_gap": null,
            "grid_row": null,
            "grid_template_areas": null,
            "grid_template_columns": null,
            "grid_template_rows": null,
            "height": null,
            "justify_content": null,
            "justify_items": null,
            "left": null,
            "margin": null,
            "max_height": null,
            "max_width": null,
            "min_height": null,
            "min_width": null,
            "object_fit": null,
            "object_position": null,
            "order": null,
            "overflow": null,
            "overflow_x": null,
            "overflow_y": null,
            "padding": null,
            "right": null,
            "top": null,
            "visibility": null,
            "width": null
          }
        },
        "25de57a2d52143068416c69dd01e3750": {
          "model_module": "@jupyter-widgets/controls",
          "model_name": "HBoxModel",
          "model_module_version": "1.5.0",
          "state": {
            "_dom_classes": [],
            "_model_module": "@jupyter-widgets/controls",
            "_model_module_version": "1.5.0",
            "_model_name": "HBoxModel",
            "_view_count": null,
            "_view_module": "@jupyter-widgets/controls",
            "_view_module_version": "1.5.0",
            "_view_name": "HBoxView",
            "box_style": "",
            "children": [
              "IPY_MODEL_62cd16b57d5542088efe02c1cd028e3d",
              "IPY_MODEL_bbd2251dc4c8426388d777bd46059bd3"
            ],
            "layout": "IPY_MODEL_07456069f1594ac5a2b91e5f3d786626"
          }
        },
        "62cd16b57d5542088efe02c1cd028e3d": {
          "model_module": "@jupyter-widgets/controls",
          "model_name": "RadioButtonsModel",
          "model_module_version": "1.5.0",
          "state": {
            "_dom_classes": [],
            "_model_module": "@jupyter-widgets/controls",
            "_model_module_version": "1.5.0",
            "_model_name": "RadioButtonsModel",
            "_options_labels": [
              "Sim",
              "Não"
            ],
            "_view_count": null,
            "_view_module": "@jupyter-widgets/controls",
            "_view_module_version": "1.5.0",
            "_view_name": "RadioButtonsView",
            "description": "Resposta:",
            "description_tooltip": null,
            "disabled": true,
            "index": 0,
            "layout": "IPY_MODEL_4fe1e352b7c04420bb3b4fa4702950df",
            "style": "IPY_MODEL_ae17da732c0745db931c968c2dcb8354"
          }
        },
        "bbd2251dc4c8426388d777bd46059bd3": {
          "model_module": "@jupyter-widgets/controls",
          "model_name": "HBoxModel",
          "model_module_version": "1.5.0",
          "state": {
            "_dom_classes": [],
            "_model_module": "@jupyter-widgets/controls",
            "_model_module_version": "1.5.0",
            "_model_name": "HBoxModel",
            "_view_count": null,
            "_view_module": "@jupyter-widgets/controls",
            "_view_module_version": "1.5.0",
            "_view_name": "HBoxView",
            "box_style": "",
            "children": [
              "IPY_MODEL_f18967da713141b59f1eaba2d554470f"
            ],
            "layout": "IPY_MODEL_3053dc44896f450bba539721df03414f"
          }
        },
        "07456069f1594ac5a2b91e5f3d786626": {
          "model_module": "@jupyter-widgets/base",
          "model_name": "LayoutModel",
          "model_module_version": "1.2.0",
          "state": {
            "_model_module": "@jupyter-widgets/base",
            "_model_module_version": "1.2.0",
            "_model_name": "LayoutModel",
            "_view_count": null,
            "_view_module": "@jupyter-widgets/base",
            "_view_module_version": "1.2.0",
            "_view_name": "LayoutView",
            "align_content": null,
            "align_items": null,
            "align_self": null,
            "border": null,
            "bottom": null,
            "display": null,
            "flex": null,
            "flex_flow": null,
            "grid_area": null,
            "grid_auto_columns": null,
            "grid_auto_flow": null,
            "grid_auto_rows": null,
            "grid_column": null,
            "grid_gap": null,
            "grid_row": null,
            "grid_template_areas": null,
            "grid_template_columns": null,
            "grid_template_rows": null,
            "height": null,
            "justify_content": null,
            "justify_items": null,
            "left": null,
            "margin": null,
            "max_height": null,
            "max_width": null,
            "min_height": null,
            "min_width": null,
            "object_fit": null,
            "object_position": null,
            "order": null,
            "overflow": null,
            "overflow_x": null,
            "overflow_y": null,
            "padding": null,
            "right": null,
            "top": null,
            "visibility": null,
            "width": null
          }
        },
        "4fe1e352b7c04420bb3b4fa4702950df": {
          "model_module": "@jupyter-widgets/base",
          "model_name": "LayoutModel",
          "model_module_version": "1.2.0",
          "state": {
            "_model_module": "@jupyter-widgets/base",
            "_model_module_version": "1.2.0",
            "_model_name": "LayoutModel",
            "_view_count": null,
            "_view_module": "@jupyter-widgets/base",
            "_view_module_version": "1.2.0",
            "_view_name": "LayoutView",
            "align_content": null,
            "align_items": null,
            "align_self": null,
            "border": null,
            "bottom": null,
            "display": null,
            "flex": null,
            "flex_flow": null,
            "grid_area": null,
            "grid_auto_columns": null,
            "grid_auto_flow": null,
            "grid_auto_rows": null,
            "grid_column": null,
            "grid_gap": null,
            "grid_row": null,
            "grid_template_areas": null,
            "grid_template_columns": null,
            "grid_template_rows": null,
            "height": null,
            "justify_content": null,
            "justify_items": null,
            "left": null,
            "margin": null,
            "max_height": null,
            "max_width": null,
            "min_height": null,
            "min_width": null,
            "object_fit": null,
            "object_position": null,
            "order": null,
            "overflow": null,
            "overflow_x": null,
            "overflow_y": null,
            "padding": null,
            "right": null,
            "top": null,
            "visibility": null,
            "width": null
          }
        },
        "ae17da732c0745db931c968c2dcb8354": {
          "model_module": "@jupyter-widgets/controls",
          "model_name": "DescriptionStyleModel",
          "model_module_version": "1.5.0",
          "state": {
            "_model_module": "@jupyter-widgets/controls",
            "_model_module_version": "1.5.0",
            "_model_name": "DescriptionStyleModel",
            "_view_count": null,
            "_view_module": "@jupyter-widgets/base",
            "_view_module_version": "1.2.0",
            "_view_name": "StyleView",
            "description_width": ""
          }
        },
        "f18967da713141b59f1eaba2d554470f": {
          "model_module": "@jupyter-widgets/controls",
          "model_name": "ButtonModel",
          "model_module_version": "1.5.0",
          "state": {
            "_dom_classes": [],
            "_model_module": "@jupyter-widgets/controls",
            "_model_module_version": "1.5.0",
            "_model_name": "ButtonModel",
            "_view_count": null,
            "_view_module": "@jupyter-widgets/controls",
            "_view_module_version": "1.5.0",
            "_view_name": "ButtonView",
            "button_style": "",
            "description": "Verificar",
            "disabled": true,
            "icon": "",
            "layout": "IPY_MODEL_6d47f2af17a94114bba2bfb82247974c",
            "style": "IPY_MODEL_49b3663f3dca4fa1bdad7f65ff48d160",
            "tooltip": ""
          }
        },
        "3053dc44896f450bba539721df03414f": {
          "model_module": "@jupyter-widgets/base",
          "model_name": "LayoutModel",
          "model_module_version": "1.2.0",
          "state": {
            "_model_module": "@jupyter-widgets/base",
            "_model_module_version": "1.2.0",
            "_model_name": "LayoutModel",
            "_view_count": null,
            "_view_module": "@jupyter-widgets/base",
            "_view_module_version": "1.2.0",
            "_view_name": "LayoutView",
            "align_content": null,
            "align_items": null,
            "align_self": null,
            "border": null,
            "bottom": null,
            "display": null,
            "flex": null,
            "flex_flow": null,
            "grid_area": null,
            "grid_auto_columns": null,
            "grid_auto_flow": null,
            "grid_auto_rows": null,
            "grid_column": null,
            "grid_gap": null,
            "grid_row": null,
            "grid_template_areas": null,
            "grid_template_columns": null,
            "grid_template_rows": null,
            "height": null,
            "justify_content": null,
            "justify_items": null,
            "left": null,
            "margin": null,
            "max_height": null,
            "max_width": null,
            "min_height": null,
            "min_width": null,
            "object_fit": null,
            "object_position": null,
            "order": null,
            "overflow": null,
            "overflow_x": null,
            "overflow_y": null,
            "padding": null,
            "right": null,
            "top": null,
            "visibility": null,
            "width": null
          }
        },
        "6d47f2af17a94114bba2bfb82247974c": {
          "model_module": "@jupyter-widgets/base",
          "model_name": "LayoutModel",
          "model_module_version": "1.2.0",
          "state": {
            "_model_module": "@jupyter-widgets/base",
            "_model_module_version": "1.2.0",
            "_model_name": "LayoutModel",
            "_view_count": null,
            "_view_module": "@jupyter-widgets/base",
            "_view_module_version": "1.2.0",
            "_view_name": "LayoutView",
            "align_content": null,
            "align_items": null,
            "align_self": null,
            "border": null,
            "bottom": null,
            "display": null,
            "flex": null,
            "flex_flow": null,
            "grid_area": null,
            "grid_auto_columns": null,
            "grid_auto_flow": null,
            "grid_auto_rows": null,
            "grid_column": null,
            "grid_gap": null,
            "grid_row": null,
            "grid_template_areas": null,
            "grid_template_columns": null,
            "grid_template_rows": null,
            "height": null,
            "justify_content": null,
            "justify_items": null,
            "left": null,
            "margin": null,
            "max_height": null,
            "max_width": null,
            "min_height": null,
            "min_width": null,
            "object_fit": null,
            "object_position": null,
            "order": null,
            "overflow": null,
            "overflow_x": null,
            "overflow_y": null,
            "padding": null,
            "right": null,
            "top": null,
            "visibility": null,
            "width": null
          }
        },
        "49b3663f3dca4fa1bdad7f65ff48d160": {
          "model_module": "@jupyter-widgets/controls",
          "model_name": "ButtonStyleModel",
          "model_module_version": "1.5.0",
          "state": {
            "_model_module": "@jupyter-widgets/controls",
            "_model_module_version": "1.5.0",
            "_model_name": "ButtonStyleModel",
            "_view_count": null,
            "_view_module": "@jupyter-widgets/base",
            "_view_module_version": "1.2.0",
            "_view_name": "StyleView",
            "button_color": null,
            "font_weight": ""
          }
        },
        "84c78ce8945e41c4828c5ec79a429cf6": {
          "model_module": "@jupyter-widgets/output",
          "model_name": "OutputModel",
          "model_module_version": "1.0.0",
          "state": {
            "_dom_classes": [],
            "_model_module": "@jupyter-widgets/output",
            "_model_module_version": "1.0.0",
            "_model_name": "OutputModel",
            "_view_count": null,
            "_view_module": "@jupyter-widgets/output",
            "_view_module_version": "1.0.0",
            "_view_name": "OutputView",
            "layout": "IPY_MODEL_680f8d035b854e998d66e5a5c277ae59",
            "msg_id": "",
            "outputs": [
              {
                "output_type": "display_data",
                "data": {
                  "text/plain": "<IPython.core.display.HTML object>",
                  "text/html": "<b><font color=\"blue\">Parabéns, você acertou a questão.</font>"
                },
                "metadata": {}
              }
            ]
          }
        },
        "680f8d035b854e998d66e5a5c277ae59": {
          "model_module": "@jupyter-widgets/base",
          "model_name": "LayoutModel",
          "model_module_version": "1.2.0",
          "state": {
            "_model_module": "@jupyter-widgets/base",
            "_model_module_version": "1.2.0",
            "_model_name": "LayoutModel",
            "_view_count": null,
            "_view_module": "@jupyter-widgets/base",
            "_view_module_version": "1.2.0",
            "_view_name": "LayoutView",
            "align_content": null,
            "align_items": null,
            "align_self": null,
            "border": null,
            "bottom": null,
            "display": null,
            "flex": null,
            "flex_flow": null,
            "grid_area": null,
            "grid_auto_columns": null,
            "grid_auto_flow": null,
            "grid_auto_rows": null,
            "grid_column": null,
            "grid_gap": null,
            "grid_row": null,
            "grid_template_areas": null,
            "grid_template_columns": null,
            "grid_template_rows": null,
            "height": null,
            "justify_content": null,
            "justify_items": null,
            "left": null,
            "margin": null,
            "max_height": null,
            "max_width": null,
            "min_height": null,
            "min_width": null,
            "object_fit": null,
            "object_position": null,
            "order": null,
            "overflow": null,
            "overflow_x": null,
            "overflow_y": null,
            "padding": null,
            "right": null,
            "top": null,
            "visibility": null,
            "width": null
          }
        },
        "519a9f1a6034440694e21cae3fc2ce9b": {
          "model_module": "@jupyter-widgets/controls",
          "model_name": "HBoxModel",
          "model_module_version": "1.5.0",
          "state": {
            "_dom_classes": [],
            "_model_module": "@jupyter-widgets/controls",
            "_model_module_version": "1.5.0",
            "_model_name": "HBoxModel",
            "_view_count": null,
            "_view_module": "@jupyter-widgets/controls",
            "_view_module_version": "1.5.0",
            "_view_name": "HBoxView",
            "box_style": "",
            "children": [
              "IPY_MODEL_39350d61faf5425394dd210e84c9cce5",
              "IPY_MODEL_4868206b5b94488da9fd9256a4caf0c4"
            ],
            "layout": "IPY_MODEL_66cc0c4b37fc46c39927f840708c017e"
          }
        },
        "39350d61faf5425394dd210e84c9cce5": {
          "model_module": "@jupyter-widgets/controls",
          "model_name": "RadioButtonsModel",
          "model_module_version": "1.5.0",
          "state": {
            "_dom_classes": [],
            "_model_module": "@jupyter-widgets/controls",
            "_model_module_version": "1.5.0",
            "_model_name": "RadioButtonsModel",
            "_options_labels": [
              "Sim",
              "Não"
            ],
            "_view_count": null,
            "_view_module": "@jupyter-widgets/controls",
            "_view_module_version": "1.5.0",
            "_view_name": "RadioButtonsView",
            "description": "Resposta:",
            "description_tooltip": null,
            "disabled": true,
            "index": 0,
            "layout": "IPY_MODEL_087265d2bc1f47619427e280ef20427f",
            "style": "IPY_MODEL_4ad7b17d279b48eca70972aeab3277d2"
          }
        },
        "4868206b5b94488da9fd9256a4caf0c4": {
          "model_module": "@jupyter-widgets/controls",
          "model_name": "HBoxModel",
          "model_module_version": "1.5.0",
          "state": {
            "_dom_classes": [],
            "_model_module": "@jupyter-widgets/controls",
            "_model_module_version": "1.5.0",
            "_model_name": "HBoxModel",
            "_view_count": null,
            "_view_module": "@jupyter-widgets/controls",
            "_view_module_version": "1.5.0",
            "_view_name": "HBoxView",
            "box_style": "",
            "children": [
              "IPY_MODEL_53948a212c59479fb3eab1ec00b60079"
            ],
            "layout": "IPY_MODEL_b1f98200ae0a436aa1d3a2b4548cbad9"
          }
        },
        "66cc0c4b37fc46c39927f840708c017e": {
          "model_module": "@jupyter-widgets/base",
          "model_name": "LayoutModel",
          "model_module_version": "1.2.0",
          "state": {
            "_model_module": "@jupyter-widgets/base",
            "_model_module_version": "1.2.0",
            "_model_name": "LayoutModel",
            "_view_count": null,
            "_view_module": "@jupyter-widgets/base",
            "_view_module_version": "1.2.0",
            "_view_name": "LayoutView",
            "align_content": null,
            "align_items": null,
            "align_self": null,
            "border": null,
            "bottom": null,
            "display": null,
            "flex": null,
            "flex_flow": null,
            "grid_area": null,
            "grid_auto_columns": null,
            "grid_auto_flow": null,
            "grid_auto_rows": null,
            "grid_column": null,
            "grid_gap": null,
            "grid_row": null,
            "grid_template_areas": null,
            "grid_template_columns": null,
            "grid_template_rows": null,
            "height": null,
            "justify_content": null,
            "justify_items": null,
            "left": null,
            "margin": null,
            "max_height": null,
            "max_width": null,
            "min_height": null,
            "min_width": null,
            "object_fit": null,
            "object_position": null,
            "order": null,
            "overflow": null,
            "overflow_x": null,
            "overflow_y": null,
            "padding": null,
            "right": null,
            "top": null,
            "visibility": null,
            "width": null
          }
        },
        "087265d2bc1f47619427e280ef20427f": {
          "model_module": "@jupyter-widgets/base",
          "model_name": "LayoutModel",
          "model_module_version": "1.2.0",
          "state": {
            "_model_module": "@jupyter-widgets/base",
            "_model_module_version": "1.2.0",
            "_model_name": "LayoutModel",
            "_view_count": null,
            "_view_module": "@jupyter-widgets/base",
            "_view_module_version": "1.2.0",
            "_view_name": "LayoutView",
            "align_content": null,
            "align_items": null,
            "align_self": null,
            "border": null,
            "bottom": null,
            "display": null,
            "flex": null,
            "flex_flow": null,
            "grid_area": null,
            "grid_auto_columns": null,
            "grid_auto_flow": null,
            "grid_auto_rows": null,
            "grid_column": null,
            "grid_gap": null,
            "grid_row": null,
            "grid_template_areas": null,
            "grid_template_columns": null,
            "grid_template_rows": null,
            "height": null,
            "justify_content": null,
            "justify_items": null,
            "left": null,
            "margin": null,
            "max_height": null,
            "max_width": null,
            "min_height": null,
            "min_width": null,
            "object_fit": null,
            "object_position": null,
            "order": null,
            "overflow": null,
            "overflow_x": null,
            "overflow_y": null,
            "padding": null,
            "right": null,
            "top": null,
            "visibility": null,
            "width": null
          }
        },
        "4ad7b17d279b48eca70972aeab3277d2": {
          "model_module": "@jupyter-widgets/controls",
          "model_name": "DescriptionStyleModel",
          "model_module_version": "1.5.0",
          "state": {
            "_model_module": "@jupyter-widgets/controls",
            "_model_module_version": "1.5.0",
            "_model_name": "DescriptionStyleModel",
            "_view_count": null,
            "_view_module": "@jupyter-widgets/base",
            "_view_module_version": "1.2.0",
            "_view_name": "StyleView",
            "description_width": ""
          }
        },
        "53948a212c59479fb3eab1ec00b60079": {
          "model_module": "@jupyter-widgets/controls",
          "model_name": "ButtonModel",
          "model_module_version": "1.5.0",
          "state": {
            "_dom_classes": [],
            "_model_module": "@jupyter-widgets/controls",
            "_model_module_version": "1.5.0",
            "_model_name": "ButtonModel",
            "_view_count": null,
            "_view_module": "@jupyter-widgets/controls",
            "_view_module_version": "1.5.0",
            "_view_name": "ButtonView",
            "button_style": "",
            "description": "Verificar",
            "disabled": true,
            "icon": "",
            "layout": "IPY_MODEL_e863440d429e4dd0b5302d4e5fd5d2a4",
            "style": "IPY_MODEL_fc65566980b24bfbb605fa563954325a",
            "tooltip": ""
          }
        },
        "b1f98200ae0a436aa1d3a2b4548cbad9": {
          "model_module": "@jupyter-widgets/base",
          "model_name": "LayoutModel",
          "model_module_version": "1.2.0",
          "state": {
            "_model_module": "@jupyter-widgets/base",
            "_model_module_version": "1.2.0",
            "_model_name": "LayoutModel",
            "_view_count": null,
            "_view_module": "@jupyter-widgets/base",
            "_view_module_version": "1.2.0",
            "_view_name": "LayoutView",
            "align_content": null,
            "align_items": null,
            "align_self": null,
            "border": null,
            "bottom": null,
            "display": null,
            "flex": null,
            "flex_flow": null,
            "grid_area": null,
            "grid_auto_columns": null,
            "grid_auto_flow": null,
            "grid_auto_rows": null,
            "grid_column": null,
            "grid_gap": null,
            "grid_row": null,
            "grid_template_areas": null,
            "grid_template_columns": null,
            "grid_template_rows": null,
            "height": null,
            "justify_content": null,
            "justify_items": null,
            "left": null,
            "margin": null,
            "max_height": null,
            "max_width": null,
            "min_height": null,
            "min_width": null,
            "object_fit": null,
            "object_position": null,
            "order": null,
            "overflow": null,
            "overflow_x": null,
            "overflow_y": null,
            "padding": null,
            "right": null,
            "top": null,
            "visibility": null,
            "width": null
          }
        },
        "e863440d429e4dd0b5302d4e5fd5d2a4": {
          "model_module": "@jupyter-widgets/base",
          "model_name": "LayoutModel",
          "model_module_version": "1.2.0",
          "state": {
            "_model_module": "@jupyter-widgets/base",
            "_model_module_version": "1.2.0",
            "_model_name": "LayoutModel",
            "_view_count": null,
            "_view_module": "@jupyter-widgets/base",
            "_view_module_version": "1.2.0",
            "_view_name": "LayoutView",
            "align_content": null,
            "align_items": null,
            "align_self": null,
            "border": null,
            "bottom": null,
            "display": null,
            "flex": null,
            "flex_flow": null,
            "grid_area": null,
            "grid_auto_columns": null,
            "grid_auto_flow": null,
            "grid_auto_rows": null,
            "grid_column": null,
            "grid_gap": null,
            "grid_row": null,
            "grid_template_areas": null,
            "grid_template_columns": null,
            "grid_template_rows": null,
            "height": null,
            "justify_content": null,
            "justify_items": null,
            "left": null,
            "margin": null,
            "max_height": null,
            "max_width": null,
            "min_height": null,
            "min_width": null,
            "object_fit": null,
            "object_position": null,
            "order": null,
            "overflow": null,
            "overflow_x": null,
            "overflow_y": null,
            "padding": null,
            "right": null,
            "top": null,
            "visibility": null,
            "width": null
          }
        },
        "fc65566980b24bfbb605fa563954325a": {
          "model_module": "@jupyter-widgets/controls",
          "model_name": "ButtonStyleModel",
          "model_module_version": "1.5.0",
          "state": {
            "_model_module": "@jupyter-widgets/controls",
            "_model_module_version": "1.5.0",
            "_model_name": "ButtonStyleModel",
            "_view_count": null,
            "_view_module": "@jupyter-widgets/base",
            "_view_module_version": "1.2.0",
            "_view_name": "StyleView",
            "button_color": null,
            "font_weight": ""
          }
        },
        "90b7be54a05a40f68ec83ffe95a49779": {
          "model_module": "@jupyter-widgets/output",
          "model_name": "OutputModel",
          "model_module_version": "1.0.0",
          "state": {
            "_dom_classes": [],
            "_model_module": "@jupyter-widgets/output",
            "_model_module_version": "1.0.0",
            "_model_name": "OutputModel",
            "_view_count": null,
            "_view_module": "@jupyter-widgets/output",
            "_view_module_version": "1.0.0",
            "_view_name": "OutputView",
            "layout": "IPY_MODEL_d8b3a13fa9914e1198c676c4ed1da661",
            "msg_id": "",
            "outputs": [
              {
                "output_type": "display_data",
                "data": {
                  "text/plain": "<IPython.core.display.HTML object>",
                  "text/html": "<b><font color=\"blue\">Parabéns, você acertou a questão.</font>"
                },
                "metadata": {}
              }
            ]
          }
        },
        "d8b3a13fa9914e1198c676c4ed1da661": {
          "model_module": "@jupyter-widgets/base",
          "model_name": "LayoutModel",
          "model_module_version": "1.2.0",
          "state": {
            "_model_module": "@jupyter-widgets/base",
            "_model_module_version": "1.2.0",
            "_model_name": "LayoutModel",
            "_view_count": null,
            "_view_module": "@jupyter-widgets/base",
            "_view_module_version": "1.2.0",
            "_view_name": "LayoutView",
            "align_content": null,
            "align_items": null,
            "align_self": null,
            "border": null,
            "bottom": null,
            "display": null,
            "flex": null,
            "flex_flow": null,
            "grid_area": null,
            "grid_auto_columns": null,
            "grid_auto_flow": null,
            "grid_auto_rows": null,
            "grid_column": null,
            "grid_gap": null,
            "grid_row": null,
            "grid_template_areas": null,
            "grid_template_columns": null,
            "grid_template_rows": null,
            "height": null,
            "justify_content": null,
            "justify_items": null,
            "left": null,
            "margin": null,
            "max_height": null,
            "max_width": null,
            "min_height": null,
            "min_width": null,
            "object_fit": null,
            "object_position": null,
            "order": null,
            "overflow": null,
            "overflow_x": null,
            "overflow_y": null,
            "padding": null,
            "right": null,
            "top": null,
            "visibility": null,
            "width": null
          }
        },
        "976c95b938d5451b9d4130583d91d14b": {
          "model_module": "@jupyter-widgets/controls",
          "model_name": "HBoxModel",
          "model_module_version": "1.5.0",
          "state": {
            "_dom_classes": [],
            "_model_module": "@jupyter-widgets/controls",
            "_model_module_version": "1.5.0",
            "_model_name": "HBoxModel",
            "_view_count": null,
            "_view_module": "@jupyter-widgets/controls",
            "_view_module_version": "1.5.0",
            "_view_name": "HBoxView",
            "box_style": "",
            "children": [
              "IPY_MODEL_ab6e842b5545485daffdfdbe4b359e77",
              "IPY_MODEL_0b2459b03ab74511990be3db21048b8a"
            ],
            "layout": "IPY_MODEL_6b3fe0a5b62a40469ded3f3100f3cf88"
          }
        },
        "ab6e842b5545485daffdfdbe4b359e77": {
          "model_module": "@jupyter-widgets/controls",
          "model_name": "RadioButtonsModel",
          "model_module_version": "1.5.0",
          "state": {
            "_dom_classes": [],
            "_model_module": "@jupyter-widgets/controls",
            "_model_module_version": "1.5.0",
            "_model_name": "RadioButtonsModel",
            "_options_labels": [
              "Sim",
              "Não"
            ],
            "_view_count": null,
            "_view_module": "@jupyter-widgets/controls",
            "_view_module_version": "1.5.0",
            "_view_name": "RadioButtonsView",
            "description": "Resposta:",
            "description_tooltip": null,
            "disabled": false,
            "index": null,
            "layout": "IPY_MODEL_3da4327f3c6746a681431bc8e0bdb86b",
            "style": "IPY_MODEL_eb368bac865a40569374148a6b1df0e1"
          }
        },
        "0b2459b03ab74511990be3db21048b8a": {
          "model_module": "@jupyter-widgets/controls",
          "model_name": "HBoxModel",
          "model_module_version": "1.5.0",
          "state": {
            "_dom_classes": [],
            "_model_module": "@jupyter-widgets/controls",
            "_model_module_version": "1.5.0",
            "_model_name": "HBoxModel",
            "_view_count": null,
            "_view_module": "@jupyter-widgets/controls",
            "_view_module_version": "1.5.0",
            "_view_name": "HBoxView",
            "box_style": "",
            "children": [
              "IPY_MODEL_92992ef5e81a4eddbfcfe5190d91450d"
            ],
            "layout": "IPY_MODEL_15f74201a0284c8aa034eb02352259c4"
          }
        },
        "6b3fe0a5b62a40469ded3f3100f3cf88": {
          "model_module": "@jupyter-widgets/base",
          "model_name": "LayoutModel",
          "model_module_version": "1.2.0",
          "state": {
            "_model_module": "@jupyter-widgets/base",
            "_model_module_version": "1.2.0",
            "_model_name": "LayoutModel",
            "_view_count": null,
            "_view_module": "@jupyter-widgets/base",
            "_view_module_version": "1.2.0",
            "_view_name": "LayoutView",
            "align_content": null,
            "align_items": null,
            "align_self": null,
            "border": null,
            "bottom": null,
            "display": null,
            "flex": null,
            "flex_flow": null,
            "grid_area": null,
            "grid_auto_columns": null,
            "grid_auto_flow": null,
            "grid_auto_rows": null,
            "grid_column": null,
            "grid_gap": null,
            "grid_row": null,
            "grid_template_areas": null,
            "grid_template_columns": null,
            "grid_template_rows": null,
            "height": null,
            "justify_content": null,
            "justify_items": null,
            "left": null,
            "margin": null,
            "max_height": null,
            "max_width": null,
            "min_height": null,
            "min_width": null,
            "object_fit": null,
            "object_position": null,
            "order": null,
            "overflow": null,
            "overflow_x": null,
            "overflow_y": null,
            "padding": null,
            "right": null,
            "top": null,
            "visibility": null,
            "width": null
          }
        },
        "3da4327f3c6746a681431bc8e0bdb86b": {
          "model_module": "@jupyter-widgets/base",
          "model_name": "LayoutModel",
          "model_module_version": "1.2.0",
          "state": {
            "_model_module": "@jupyter-widgets/base",
            "_model_module_version": "1.2.0",
            "_model_name": "LayoutModel",
            "_view_count": null,
            "_view_module": "@jupyter-widgets/base",
            "_view_module_version": "1.2.0",
            "_view_name": "LayoutView",
            "align_content": null,
            "align_items": null,
            "align_self": null,
            "border": null,
            "bottom": null,
            "display": null,
            "flex": null,
            "flex_flow": null,
            "grid_area": null,
            "grid_auto_columns": null,
            "grid_auto_flow": null,
            "grid_auto_rows": null,
            "grid_column": null,
            "grid_gap": null,
            "grid_row": null,
            "grid_template_areas": null,
            "grid_template_columns": null,
            "grid_template_rows": null,
            "height": null,
            "justify_content": null,
            "justify_items": null,
            "left": null,
            "margin": null,
            "max_height": null,
            "max_width": null,
            "min_height": null,
            "min_width": null,
            "object_fit": null,
            "object_position": null,
            "order": null,
            "overflow": null,
            "overflow_x": null,
            "overflow_y": null,
            "padding": null,
            "right": null,
            "top": null,
            "visibility": null,
            "width": null
          }
        },
        "eb368bac865a40569374148a6b1df0e1": {
          "model_module": "@jupyter-widgets/controls",
          "model_name": "DescriptionStyleModel",
          "model_module_version": "1.5.0",
          "state": {
            "_model_module": "@jupyter-widgets/controls",
            "_model_module_version": "1.5.0",
            "_model_name": "DescriptionStyleModel",
            "_view_count": null,
            "_view_module": "@jupyter-widgets/base",
            "_view_module_version": "1.2.0",
            "_view_name": "StyleView",
            "description_width": ""
          }
        },
        "92992ef5e81a4eddbfcfe5190d91450d": {
          "model_module": "@jupyter-widgets/controls",
          "model_name": "ButtonModel",
          "model_module_version": "1.5.0",
          "state": {
            "_dom_classes": [],
            "_model_module": "@jupyter-widgets/controls",
            "_model_module_version": "1.5.0",
            "_model_name": "ButtonModel",
            "_view_count": null,
            "_view_module": "@jupyter-widgets/controls",
            "_view_module_version": "1.5.0",
            "_view_name": "ButtonView",
            "button_style": "",
            "description": "Verificar",
            "disabled": false,
            "icon": "",
            "layout": "IPY_MODEL_dc8bb199fde0451ca826fd42ec056dc9",
            "style": "IPY_MODEL_50c122f2d8574ede8d8af8196e575c86",
            "tooltip": ""
          }
        },
        "15f74201a0284c8aa034eb02352259c4": {
          "model_module": "@jupyter-widgets/base",
          "model_name": "LayoutModel",
          "model_module_version": "1.2.0",
          "state": {
            "_model_module": "@jupyter-widgets/base",
            "_model_module_version": "1.2.0",
            "_model_name": "LayoutModel",
            "_view_count": null,
            "_view_module": "@jupyter-widgets/base",
            "_view_module_version": "1.2.0",
            "_view_name": "LayoutView",
            "align_content": null,
            "align_items": null,
            "align_self": null,
            "border": null,
            "bottom": null,
            "display": null,
            "flex": null,
            "flex_flow": null,
            "grid_area": null,
            "grid_auto_columns": null,
            "grid_auto_flow": null,
            "grid_auto_rows": null,
            "grid_column": null,
            "grid_gap": null,
            "grid_row": null,
            "grid_template_areas": null,
            "grid_template_columns": null,
            "grid_template_rows": null,
            "height": null,
            "justify_content": null,
            "justify_items": null,
            "left": null,
            "margin": null,
            "max_height": null,
            "max_width": null,
            "min_height": null,
            "min_width": null,
            "object_fit": null,
            "object_position": null,
            "order": null,
            "overflow": null,
            "overflow_x": null,
            "overflow_y": null,
            "padding": null,
            "right": null,
            "top": null,
            "visibility": null,
            "width": null
          }
        },
        "dc8bb199fde0451ca826fd42ec056dc9": {
          "model_module": "@jupyter-widgets/base",
          "model_name": "LayoutModel",
          "model_module_version": "1.2.0",
          "state": {
            "_model_module": "@jupyter-widgets/base",
            "_model_module_version": "1.2.0",
            "_model_name": "LayoutModel",
            "_view_count": null,
            "_view_module": "@jupyter-widgets/base",
            "_view_module_version": "1.2.0",
            "_view_name": "LayoutView",
            "align_content": null,
            "align_items": null,
            "align_self": null,
            "border": null,
            "bottom": null,
            "display": null,
            "flex": null,
            "flex_flow": null,
            "grid_area": null,
            "grid_auto_columns": null,
            "grid_auto_flow": null,
            "grid_auto_rows": null,
            "grid_column": null,
            "grid_gap": null,
            "grid_row": null,
            "grid_template_areas": null,
            "grid_template_columns": null,
            "grid_template_rows": null,
            "height": null,
            "justify_content": null,
            "justify_items": null,
            "left": null,
            "margin": null,
            "max_height": null,
            "max_width": null,
            "min_height": null,
            "min_width": null,
            "object_fit": null,
            "object_position": null,
            "order": null,
            "overflow": null,
            "overflow_x": null,
            "overflow_y": null,
            "padding": null,
            "right": null,
            "top": null,
            "visibility": null,
            "width": null
          }
        },
        "50c122f2d8574ede8d8af8196e575c86": {
          "model_module": "@jupyter-widgets/controls",
          "model_name": "ButtonStyleModel",
          "model_module_version": "1.5.0",
          "state": {
            "_model_module": "@jupyter-widgets/controls",
            "_model_module_version": "1.5.0",
            "_model_name": "ButtonStyleModel",
            "_view_count": null,
            "_view_module": "@jupyter-widgets/base",
            "_view_module_version": "1.2.0",
            "_view_name": "StyleView",
            "button_color": null,
            "font_weight": ""
          }
        },
        "62da9dd95b0c488b960c1cefea7c6582": {
          "model_module": "@jupyter-widgets/output",
          "model_name": "OutputModel",
          "model_module_version": "1.0.0",
          "state": {
            "_dom_classes": [],
            "_model_module": "@jupyter-widgets/output",
            "_model_module_version": "1.0.0",
            "_model_name": "OutputModel",
            "_view_count": null,
            "_view_module": "@jupyter-widgets/output",
            "_view_module_version": "1.0.0",
            "_view_name": "OutputView",
            "layout": "IPY_MODEL_bee4a8fdd74b43ce85ff561d27388d50",
            "msg_id": "",
            "outputs": []
          }
        },
        "bee4a8fdd74b43ce85ff561d27388d50": {
          "model_module": "@jupyter-widgets/base",
          "model_name": "LayoutModel",
          "model_module_version": "1.2.0",
          "state": {
            "_model_module": "@jupyter-widgets/base",
            "_model_module_version": "1.2.0",
            "_model_name": "LayoutModel",
            "_view_count": null,
            "_view_module": "@jupyter-widgets/base",
            "_view_module_version": "1.2.0",
            "_view_name": "LayoutView",
            "align_content": null,
            "align_items": null,
            "align_self": null,
            "border": null,
            "bottom": null,
            "display": null,
            "flex": null,
            "flex_flow": null,
            "grid_area": null,
            "grid_auto_columns": null,
            "grid_auto_flow": null,
            "grid_auto_rows": null,
            "grid_column": null,
            "grid_gap": null,
            "grid_row": null,
            "grid_template_areas": null,
            "grid_template_columns": null,
            "grid_template_rows": null,
            "height": null,
            "justify_content": null,
            "justify_items": null,
            "left": null,
            "margin": null,
            "max_height": null,
            "max_width": null,
            "min_height": null,
            "min_width": null,
            "object_fit": null,
            "object_position": null,
            "order": null,
            "overflow": null,
            "overflow_x": null,
            "overflow_y": null,
            "padding": null,
            "right": null,
            "top": null,
            "visibility": null,
            "width": null
          }
        },
        "b3bd644d797e4078b107c1d328a5ebcc": {
          "model_module": "@jupyter-widgets/controls",
          "model_name": "HBoxModel",
          "model_module_version": "1.5.0",
          "state": {
            "_dom_classes": [],
            "_model_module": "@jupyter-widgets/controls",
            "_model_module_version": "1.5.0",
            "_model_name": "HBoxModel",
            "_view_count": null,
            "_view_module": "@jupyter-widgets/controls",
            "_view_module_version": "1.5.0",
            "_view_name": "HBoxView",
            "box_style": "",
            "children": [
              "IPY_MODEL_5578d5b2897d4a1288681045d5dac538",
              "IPY_MODEL_7cf5634d5e964efe945e6de01ab40890"
            ],
            "layout": "IPY_MODEL_fad4cedfa819494ea07f5b96a4bcb600"
          }
        },
        "5578d5b2897d4a1288681045d5dac538": {
          "model_module": "@jupyter-widgets/controls",
          "model_name": "RadioButtonsModel",
          "model_module_version": "1.5.0",
          "state": {
            "_dom_classes": [],
            "_model_module": "@jupyter-widgets/controls",
            "_model_module_version": "1.5.0",
            "_model_name": "RadioButtonsModel",
            "_options_labels": [
              "Sim",
              "Não"
            ],
            "_view_count": null,
            "_view_module": "@jupyter-widgets/controls",
            "_view_module_version": "1.5.0",
            "_view_name": "RadioButtonsView",
            "description": "Resposta:",
            "description_tooltip": null,
            "disabled": false,
            "index": null,
            "layout": "IPY_MODEL_21d6e7f0dc934e4590c6bc00765095d4",
            "style": "IPY_MODEL_c3132c022c4f437b8d2cd6b5819d5124"
          }
        },
        "7cf5634d5e964efe945e6de01ab40890": {
          "model_module": "@jupyter-widgets/controls",
          "model_name": "HBoxModel",
          "model_module_version": "1.5.0",
          "state": {
            "_dom_classes": [],
            "_model_module": "@jupyter-widgets/controls",
            "_model_module_version": "1.5.0",
            "_model_name": "HBoxModel",
            "_view_count": null,
            "_view_module": "@jupyter-widgets/controls",
            "_view_module_version": "1.5.0",
            "_view_name": "HBoxView",
            "box_style": "",
            "children": [
              "IPY_MODEL_08b64079095a4fb38c7f39213d15cd24"
            ],
            "layout": "IPY_MODEL_a3bbdcc980824dc3a0d35f7147bce1b9"
          }
        },
        "fad4cedfa819494ea07f5b96a4bcb600": {
          "model_module": "@jupyter-widgets/base",
          "model_name": "LayoutModel",
          "model_module_version": "1.2.0",
          "state": {
            "_model_module": "@jupyter-widgets/base",
            "_model_module_version": "1.2.0",
            "_model_name": "LayoutModel",
            "_view_count": null,
            "_view_module": "@jupyter-widgets/base",
            "_view_module_version": "1.2.0",
            "_view_name": "LayoutView",
            "align_content": null,
            "align_items": null,
            "align_self": null,
            "border": null,
            "bottom": null,
            "display": null,
            "flex": null,
            "flex_flow": null,
            "grid_area": null,
            "grid_auto_columns": null,
            "grid_auto_flow": null,
            "grid_auto_rows": null,
            "grid_column": null,
            "grid_gap": null,
            "grid_row": null,
            "grid_template_areas": null,
            "grid_template_columns": null,
            "grid_template_rows": null,
            "height": null,
            "justify_content": null,
            "justify_items": null,
            "left": null,
            "margin": null,
            "max_height": null,
            "max_width": null,
            "min_height": null,
            "min_width": null,
            "object_fit": null,
            "object_position": null,
            "order": null,
            "overflow": null,
            "overflow_x": null,
            "overflow_y": null,
            "padding": null,
            "right": null,
            "top": null,
            "visibility": null,
            "width": null
          }
        },
        "21d6e7f0dc934e4590c6bc00765095d4": {
          "model_module": "@jupyter-widgets/base",
          "model_name": "LayoutModel",
          "model_module_version": "1.2.0",
          "state": {
            "_model_module": "@jupyter-widgets/base",
            "_model_module_version": "1.2.0",
            "_model_name": "LayoutModel",
            "_view_count": null,
            "_view_module": "@jupyter-widgets/base",
            "_view_module_version": "1.2.0",
            "_view_name": "LayoutView",
            "align_content": null,
            "align_items": null,
            "align_self": null,
            "border": null,
            "bottom": null,
            "display": null,
            "flex": null,
            "flex_flow": null,
            "grid_area": null,
            "grid_auto_columns": null,
            "grid_auto_flow": null,
            "grid_auto_rows": null,
            "grid_column": null,
            "grid_gap": null,
            "grid_row": null,
            "grid_template_areas": null,
            "grid_template_columns": null,
            "grid_template_rows": null,
            "height": null,
            "justify_content": null,
            "justify_items": null,
            "left": null,
            "margin": null,
            "max_height": null,
            "max_width": null,
            "min_height": null,
            "min_width": null,
            "object_fit": null,
            "object_position": null,
            "order": null,
            "overflow": null,
            "overflow_x": null,
            "overflow_y": null,
            "padding": null,
            "right": null,
            "top": null,
            "visibility": null,
            "width": null
          }
        },
        "c3132c022c4f437b8d2cd6b5819d5124": {
          "model_module": "@jupyter-widgets/controls",
          "model_name": "DescriptionStyleModel",
          "model_module_version": "1.5.0",
          "state": {
            "_model_module": "@jupyter-widgets/controls",
            "_model_module_version": "1.5.0",
            "_model_name": "DescriptionStyleModel",
            "_view_count": null,
            "_view_module": "@jupyter-widgets/base",
            "_view_module_version": "1.2.0",
            "_view_name": "StyleView",
            "description_width": ""
          }
        },
        "08b64079095a4fb38c7f39213d15cd24": {
          "model_module": "@jupyter-widgets/controls",
          "model_name": "ButtonModel",
          "model_module_version": "1.5.0",
          "state": {
            "_dom_classes": [],
            "_model_module": "@jupyter-widgets/controls",
            "_model_module_version": "1.5.0",
            "_model_name": "ButtonModel",
            "_view_count": null,
            "_view_module": "@jupyter-widgets/controls",
            "_view_module_version": "1.5.0",
            "_view_name": "ButtonView",
            "button_style": "",
            "description": "Verificar",
            "disabled": false,
            "icon": "",
            "layout": "IPY_MODEL_770a9c4f3d454e258a9d3e2a64006d82",
            "style": "IPY_MODEL_0248fd1f0cac4dd49afcd3ef30e72192",
            "tooltip": ""
          }
        },
        "a3bbdcc980824dc3a0d35f7147bce1b9": {
          "model_module": "@jupyter-widgets/base",
          "model_name": "LayoutModel",
          "model_module_version": "1.2.0",
          "state": {
            "_model_module": "@jupyter-widgets/base",
            "_model_module_version": "1.2.0",
            "_model_name": "LayoutModel",
            "_view_count": null,
            "_view_module": "@jupyter-widgets/base",
            "_view_module_version": "1.2.0",
            "_view_name": "LayoutView",
            "align_content": null,
            "align_items": null,
            "align_self": null,
            "border": null,
            "bottom": null,
            "display": null,
            "flex": null,
            "flex_flow": null,
            "grid_area": null,
            "grid_auto_columns": null,
            "grid_auto_flow": null,
            "grid_auto_rows": null,
            "grid_column": null,
            "grid_gap": null,
            "grid_row": null,
            "grid_template_areas": null,
            "grid_template_columns": null,
            "grid_template_rows": null,
            "height": null,
            "justify_content": null,
            "justify_items": null,
            "left": null,
            "margin": null,
            "max_height": null,
            "max_width": null,
            "min_height": null,
            "min_width": null,
            "object_fit": null,
            "object_position": null,
            "order": null,
            "overflow": null,
            "overflow_x": null,
            "overflow_y": null,
            "padding": null,
            "right": null,
            "top": null,
            "visibility": null,
            "width": null
          }
        },
        "770a9c4f3d454e258a9d3e2a64006d82": {
          "model_module": "@jupyter-widgets/base",
          "model_name": "LayoutModel",
          "model_module_version": "1.2.0",
          "state": {
            "_model_module": "@jupyter-widgets/base",
            "_model_module_version": "1.2.0",
            "_model_name": "LayoutModel",
            "_view_count": null,
            "_view_module": "@jupyter-widgets/base",
            "_view_module_version": "1.2.0",
            "_view_name": "LayoutView",
            "align_content": null,
            "align_items": null,
            "align_self": null,
            "border": null,
            "bottom": null,
            "display": null,
            "flex": null,
            "flex_flow": null,
            "grid_area": null,
            "grid_auto_columns": null,
            "grid_auto_flow": null,
            "grid_auto_rows": null,
            "grid_column": null,
            "grid_gap": null,
            "grid_row": null,
            "grid_template_areas": null,
            "grid_template_columns": null,
            "grid_template_rows": null,
            "height": null,
            "justify_content": null,
            "justify_items": null,
            "left": null,
            "margin": null,
            "max_height": null,
            "max_width": null,
            "min_height": null,
            "min_width": null,
            "object_fit": null,
            "object_position": null,
            "order": null,
            "overflow": null,
            "overflow_x": null,
            "overflow_y": null,
            "padding": null,
            "right": null,
            "top": null,
            "visibility": null,
            "width": null
          }
        },
        "0248fd1f0cac4dd49afcd3ef30e72192": {
          "model_module": "@jupyter-widgets/controls",
          "model_name": "ButtonStyleModel",
          "model_module_version": "1.5.0",
          "state": {
            "_model_module": "@jupyter-widgets/controls",
            "_model_module_version": "1.5.0",
            "_model_name": "ButtonStyleModel",
            "_view_count": null,
            "_view_module": "@jupyter-widgets/base",
            "_view_module_version": "1.2.0",
            "_view_name": "StyleView",
            "button_color": null,
            "font_weight": ""
          }
        },
        "3a0c22bbf0b24dd79e2acaea22102481": {
          "model_module": "@jupyter-widgets/output",
          "model_name": "OutputModel",
          "model_module_version": "1.0.0",
          "state": {
            "_dom_classes": [],
            "_model_module": "@jupyter-widgets/output",
            "_model_module_version": "1.0.0",
            "_model_name": "OutputModel",
            "_view_count": null,
            "_view_module": "@jupyter-widgets/output",
            "_view_module_version": "1.0.0",
            "_view_name": "OutputView",
            "layout": "IPY_MODEL_ed32b4b549744221a6697c4cae4c8b8e",
            "msg_id": "",
            "outputs": []
          }
        },
        "ed32b4b549744221a6697c4cae4c8b8e": {
          "model_module": "@jupyter-widgets/base",
          "model_name": "LayoutModel",
          "model_module_version": "1.2.0",
          "state": {
            "_model_module": "@jupyter-widgets/base",
            "_model_module_version": "1.2.0",
            "_model_name": "LayoutModel",
            "_view_count": null,
            "_view_module": "@jupyter-widgets/base",
            "_view_module_version": "1.2.0",
            "_view_name": "LayoutView",
            "align_content": null,
            "align_items": null,
            "align_self": null,
            "border": null,
            "bottom": null,
            "display": null,
            "flex": null,
            "flex_flow": null,
            "grid_area": null,
            "grid_auto_columns": null,
            "grid_auto_flow": null,
            "grid_auto_rows": null,
            "grid_column": null,
            "grid_gap": null,
            "grid_row": null,
            "grid_template_areas": null,
            "grid_template_columns": null,
            "grid_template_rows": null,
            "height": null,
            "justify_content": null,
            "justify_items": null,
            "left": null,
            "margin": null,
            "max_height": null,
            "max_width": null,
            "min_height": null,
            "min_width": null,
            "object_fit": null,
            "object_position": null,
            "order": null,
            "overflow": null,
            "overflow_x": null,
            "overflow_y": null,
            "padding": null,
            "right": null,
            "top": null,
            "visibility": null,
            "width": null
          }
        },
        "23648e9ef4d6466988826336b4cb987f": {
          "model_module": "@jupyter-widgets/controls",
          "model_name": "HBoxModel",
          "model_module_version": "1.5.0",
          "state": {
            "_dom_classes": [],
            "_model_module": "@jupyter-widgets/controls",
            "_model_module_version": "1.5.0",
            "_model_name": "HBoxModel",
            "_view_count": null,
            "_view_module": "@jupyter-widgets/controls",
            "_view_module_version": "1.5.0",
            "_view_name": "HBoxView",
            "box_style": "",
            "children": [
              "IPY_MODEL_e7baf3499d274d449596b6397870c831",
              "IPY_MODEL_35663639b2e547e8828d4b9e7eda29a3"
            ],
            "layout": "IPY_MODEL_b21d4cc2dcab4ef79d4cfc44b41be395"
          }
        },
        "e7baf3499d274d449596b6397870c831": {
          "model_module": "@jupyter-widgets/controls",
          "model_name": "RadioButtonsModel",
          "model_module_version": "1.5.0",
          "state": {
            "_dom_classes": [],
            "_model_module": "@jupyter-widgets/controls",
            "_model_module_version": "1.5.0",
            "_model_name": "RadioButtonsModel",
            "_options_labels": [
              "Sim",
              "Não"
            ],
            "_view_count": null,
            "_view_module": "@jupyter-widgets/controls",
            "_view_module_version": "1.5.0",
            "_view_name": "RadioButtonsView",
            "description": "Resposta:",
            "description_tooltip": null,
            "disabled": false,
            "index": null,
            "layout": "IPY_MODEL_4648a19071284954850bcd561e7359a1",
            "style": "IPY_MODEL_0ec543cc332642caacb976f51c532ab3"
          }
        },
        "35663639b2e547e8828d4b9e7eda29a3": {
          "model_module": "@jupyter-widgets/controls",
          "model_name": "HBoxModel",
          "model_module_version": "1.5.0",
          "state": {
            "_dom_classes": [],
            "_model_module": "@jupyter-widgets/controls",
            "_model_module_version": "1.5.0",
            "_model_name": "HBoxModel",
            "_view_count": null,
            "_view_module": "@jupyter-widgets/controls",
            "_view_module_version": "1.5.0",
            "_view_name": "HBoxView",
            "box_style": "",
            "children": [
              "IPY_MODEL_228ba6eefbbc41439350a6c3d37baf31"
            ],
            "layout": "IPY_MODEL_6e033659ea7147e1bccb4894f8ad94e4"
          }
        },
        "b21d4cc2dcab4ef79d4cfc44b41be395": {
          "model_module": "@jupyter-widgets/base",
          "model_name": "LayoutModel",
          "model_module_version": "1.2.0",
          "state": {
            "_model_module": "@jupyter-widgets/base",
            "_model_module_version": "1.2.0",
            "_model_name": "LayoutModel",
            "_view_count": null,
            "_view_module": "@jupyter-widgets/base",
            "_view_module_version": "1.2.0",
            "_view_name": "LayoutView",
            "align_content": null,
            "align_items": null,
            "align_self": null,
            "border": null,
            "bottom": null,
            "display": null,
            "flex": null,
            "flex_flow": null,
            "grid_area": null,
            "grid_auto_columns": null,
            "grid_auto_flow": null,
            "grid_auto_rows": null,
            "grid_column": null,
            "grid_gap": null,
            "grid_row": null,
            "grid_template_areas": null,
            "grid_template_columns": null,
            "grid_template_rows": null,
            "height": null,
            "justify_content": null,
            "justify_items": null,
            "left": null,
            "margin": null,
            "max_height": null,
            "max_width": null,
            "min_height": null,
            "min_width": null,
            "object_fit": null,
            "object_position": null,
            "order": null,
            "overflow": null,
            "overflow_x": null,
            "overflow_y": null,
            "padding": null,
            "right": null,
            "top": null,
            "visibility": null,
            "width": null
          }
        },
        "4648a19071284954850bcd561e7359a1": {
          "model_module": "@jupyter-widgets/base",
          "model_name": "LayoutModel",
          "model_module_version": "1.2.0",
          "state": {
            "_model_module": "@jupyter-widgets/base",
            "_model_module_version": "1.2.0",
            "_model_name": "LayoutModel",
            "_view_count": null,
            "_view_module": "@jupyter-widgets/base",
            "_view_module_version": "1.2.0",
            "_view_name": "LayoutView",
            "align_content": null,
            "align_items": null,
            "align_self": null,
            "border": null,
            "bottom": null,
            "display": null,
            "flex": null,
            "flex_flow": null,
            "grid_area": null,
            "grid_auto_columns": null,
            "grid_auto_flow": null,
            "grid_auto_rows": null,
            "grid_column": null,
            "grid_gap": null,
            "grid_row": null,
            "grid_template_areas": null,
            "grid_template_columns": null,
            "grid_template_rows": null,
            "height": null,
            "justify_content": null,
            "justify_items": null,
            "left": null,
            "margin": null,
            "max_height": null,
            "max_width": null,
            "min_height": null,
            "min_width": null,
            "object_fit": null,
            "object_position": null,
            "order": null,
            "overflow": null,
            "overflow_x": null,
            "overflow_y": null,
            "padding": null,
            "right": null,
            "top": null,
            "visibility": null,
            "width": null
          }
        },
        "0ec543cc332642caacb976f51c532ab3": {
          "model_module": "@jupyter-widgets/controls",
          "model_name": "DescriptionStyleModel",
          "model_module_version": "1.5.0",
          "state": {
            "_model_module": "@jupyter-widgets/controls",
            "_model_module_version": "1.5.0",
            "_model_name": "DescriptionStyleModel",
            "_view_count": null,
            "_view_module": "@jupyter-widgets/base",
            "_view_module_version": "1.2.0",
            "_view_name": "StyleView",
            "description_width": ""
          }
        },
        "228ba6eefbbc41439350a6c3d37baf31": {
          "model_module": "@jupyter-widgets/controls",
          "model_name": "ButtonModel",
          "model_module_version": "1.5.0",
          "state": {
            "_dom_classes": [],
            "_model_module": "@jupyter-widgets/controls",
            "_model_module_version": "1.5.0",
            "_model_name": "ButtonModel",
            "_view_count": null,
            "_view_module": "@jupyter-widgets/controls",
            "_view_module_version": "1.5.0",
            "_view_name": "ButtonView",
            "button_style": "",
            "description": "Verificar",
            "disabled": false,
            "icon": "",
            "layout": "IPY_MODEL_1445acaebe804a5a9c1c0dae303b47f1",
            "style": "IPY_MODEL_0692777f92064f5d86f8d34eed20482d",
            "tooltip": ""
          }
        },
        "6e033659ea7147e1bccb4894f8ad94e4": {
          "model_module": "@jupyter-widgets/base",
          "model_name": "LayoutModel",
          "model_module_version": "1.2.0",
          "state": {
            "_model_module": "@jupyter-widgets/base",
            "_model_module_version": "1.2.0",
            "_model_name": "LayoutModel",
            "_view_count": null,
            "_view_module": "@jupyter-widgets/base",
            "_view_module_version": "1.2.0",
            "_view_name": "LayoutView",
            "align_content": null,
            "align_items": null,
            "align_self": null,
            "border": null,
            "bottom": null,
            "display": null,
            "flex": null,
            "flex_flow": null,
            "grid_area": null,
            "grid_auto_columns": null,
            "grid_auto_flow": null,
            "grid_auto_rows": null,
            "grid_column": null,
            "grid_gap": null,
            "grid_row": null,
            "grid_template_areas": null,
            "grid_template_columns": null,
            "grid_template_rows": null,
            "height": null,
            "justify_content": null,
            "justify_items": null,
            "left": null,
            "margin": null,
            "max_height": null,
            "max_width": null,
            "min_height": null,
            "min_width": null,
            "object_fit": null,
            "object_position": null,
            "order": null,
            "overflow": null,
            "overflow_x": null,
            "overflow_y": null,
            "padding": null,
            "right": null,
            "top": null,
            "visibility": null,
            "width": null
          }
        },
        "1445acaebe804a5a9c1c0dae303b47f1": {
          "model_module": "@jupyter-widgets/base",
          "model_name": "LayoutModel",
          "model_module_version": "1.2.0",
          "state": {
            "_model_module": "@jupyter-widgets/base",
            "_model_module_version": "1.2.0",
            "_model_name": "LayoutModel",
            "_view_count": null,
            "_view_module": "@jupyter-widgets/base",
            "_view_module_version": "1.2.0",
            "_view_name": "LayoutView",
            "align_content": null,
            "align_items": null,
            "align_self": null,
            "border": null,
            "bottom": null,
            "display": null,
            "flex": null,
            "flex_flow": null,
            "grid_area": null,
            "grid_auto_columns": null,
            "grid_auto_flow": null,
            "grid_auto_rows": null,
            "grid_column": null,
            "grid_gap": null,
            "grid_row": null,
            "grid_template_areas": null,
            "grid_template_columns": null,
            "grid_template_rows": null,
            "height": null,
            "justify_content": null,
            "justify_items": null,
            "left": null,
            "margin": null,
            "max_height": null,
            "max_width": null,
            "min_height": null,
            "min_width": null,
            "object_fit": null,
            "object_position": null,
            "order": null,
            "overflow": null,
            "overflow_x": null,
            "overflow_y": null,
            "padding": null,
            "right": null,
            "top": null,
            "visibility": null,
            "width": null
          }
        },
        "0692777f92064f5d86f8d34eed20482d": {
          "model_module": "@jupyter-widgets/controls",
          "model_name": "ButtonStyleModel",
          "model_module_version": "1.5.0",
          "state": {
            "_model_module": "@jupyter-widgets/controls",
            "_model_module_version": "1.5.0",
            "_model_name": "ButtonStyleModel",
            "_view_count": null,
            "_view_module": "@jupyter-widgets/base",
            "_view_module_version": "1.2.0",
            "_view_name": "StyleView",
            "button_color": null,
            "font_weight": ""
          }
        },
        "170b46e0957946a5bee6e337cf3da722": {
          "model_module": "@jupyter-widgets/output",
          "model_name": "OutputModel",
          "model_module_version": "1.0.0",
          "state": {
            "_dom_classes": [],
            "_model_module": "@jupyter-widgets/output",
            "_model_module_version": "1.0.0",
            "_model_name": "OutputModel",
            "_view_count": null,
            "_view_module": "@jupyter-widgets/output",
            "_view_module_version": "1.0.0",
            "_view_name": "OutputView",
            "layout": "IPY_MODEL_8a8299c9b57b439a9a4c23a4061d4600",
            "msg_id": "",
            "outputs": []
          }
        },
        "8a8299c9b57b439a9a4c23a4061d4600": {
          "model_module": "@jupyter-widgets/base",
          "model_name": "LayoutModel",
          "model_module_version": "1.2.0",
          "state": {
            "_model_module": "@jupyter-widgets/base",
            "_model_module_version": "1.2.0",
            "_model_name": "LayoutModel",
            "_view_count": null,
            "_view_module": "@jupyter-widgets/base",
            "_view_module_version": "1.2.0",
            "_view_name": "LayoutView",
            "align_content": null,
            "align_items": null,
            "align_self": null,
            "border": null,
            "bottom": null,
            "display": null,
            "flex": null,
            "flex_flow": null,
            "grid_area": null,
            "grid_auto_columns": null,
            "grid_auto_flow": null,
            "grid_auto_rows": null,
            "grid_column": null,
            "grid_gap": null,
            "grid_row": null,
            "grid_template_areas": null,
            "grid_template_columns": null,
            "grid_template_rows": null,
            "height": null,
            "justify_content": null,
            "justify_items": null,
            "left": null,
            "margin": null,
            "max_height": null,
            "max_width": null,
            "min_height": null,
            "min_width": null,
            "object_fit": null,
            "object_position": null,
            "order": null,
            "overflow": null,
            "overflow_x": null,
            "overflow_y": null,
            "padding": null,
            "right": null,
            "top": null,
            "visibility": null,
            "width": null
          }
        },
        "b6ae35e8f0284894b17d82622b881cbe": {
          "model_module": "@jupyter-widgets/controls",
          "model_name": "HBoxModel",
          "model_module_version": "1.5.0",
          "state": {
            "_dom_classes": [],
            "_model_module": "@jupyter-widgets/controls",
            "_model_module_version": "1.5.0",
            "_model_name": "HBoxModel",
            "_view_count": null,
            "_view_module": "@jupyter-widgets/controls",
            "_view_module_version": "1.5.0",
            "_view_name": "HBoxView",
            "box_style": "",
            "children": [
              "IPY_MODEL_f674a805b8e54344af46159a3de2ad1c",
              "IPY_MODEL_56bee82b2e454e6082d896138247f94d"
            ],
            "layout": "IPY_MODEL_28eb3b6d2cff44d4958c6c200c2498d3"
          }
        },
        "f674a805b8e54344af46159a3de2ad1c": {
          "model_module": "@jupyter-widgets/controls",
          "model_name": "RadioButtonsModel",
          "model_module_version": "1.5.0",
          "state": {
            "_dom_classes": [],
            "_model_module": "@jupyter-widgets/controls",
            "_model_module_version": "1.5.0",
            "_model_name": "RadioButtonsModel",
            "_options_labels": [
              "Sim",
              "Não"
            ],
            "_view_count": null,
            "_view_module": "@jupyter-widgets/controls",
            "_view_module_version": "1.5.0",
            "_view_name": "RadioButtonsView",
            "description": "Resposta:",
            "description_tooltip": null,
            "disabled": false,
            "index": null,
            "layout": "IPY_MODEL_fa83950d80674265b4283f5a692a5fc4",
            "style": "IPY_MODEL_2d2f52e81c784e50ace9acfa9ddc8cf0"
          }
        },
        "56bee82b2e454e6082d896138247f94d": {
          "model_module": "@jupyter-widgets/controls",
          "model_name": "HBoxModel",
          "model_module_version": "1.5.0",
          "state": {
            "_dom_classes": [],
            "_model_module": "@jupyter-widgets/controls",
            "_model_module_version": "1.5.0",
            "_model_name": "HBoxModel",
            "_view_count": null,
            "_view_module": "@jupyter-widgets/controls",
            "_view_module_version": "1.5.0",
            "_view_name": "HBoxView",
            "box_style": "",
            "children": [
              "IPY_MODEL_66198fde82f94316bcff251026f4514d"
            ],
            "layout": "IPY_MODEL_ef0cf0fe9dc04fe98ab8f3f4f0241ccc"
          }
        },
        "28eb3b6d2cff44d4958c6c200c2498d3": {
          "model_module": "@jupyter-widgets/base",
          "model_name": "LayoutModel",
          "model_module_version": "1.2.0",
          "state": {
            "_model_module": "@jupyter-widgets/base",
            "_model_module_version": "1.2.0",
            "_model_name": "LayoutModel",
            "_view_count": null,
            "_view_module": "@jupyter-widgets/base",
            "_view_module_version": "1.2.0",
            "_view_name": "LayoutView",
            "align_content": null,
            "align_items": null,
            "align_self": null,
            "border": null,
            "bottom": null,
            "display": null,
            "flex": null,
            "flex_flow": null,
            "grid_area": null,
            "grid_auto_columns": null,
            "grid_auto_flow": null,
            "grid_auto_rows": null,
            "grid_column": null,
            "grid_gap": null,
            "grid_row": null,
            "grid_template_areas": null,
            "grid_template_columns": null,
            "grid_template_rows": null,
            "height": null,
            "justify_content": null,
            "justify_items": null,
            "left": null,
            "margin": null,
            "max_height": null,
            "max_width": null,
            "min_height": null,
            "min_width": null,
            "object_fit": null,
            "object_position": null,
            "order": null,
            "overflow": null,
            "overflow_x": null,
            "overflow_y": null,
            "padding": null,
            "right": null,
            "top": null,
            "visibility": null,
            "width": null
          }
        },
        "fa83950d80674265b4283f5a692a5fc4": {
          "model_module": "@jupyter-widgets/base",
          "model_name": "LayoutModel",
          "model_module_version": "1.2.0",
          "state": {
            "_model_module": "@jupyter-widgets/base",
            "_model_module_version": "1.2.0",
            "_model_name": "LayoutModel",
            "_view_count": null,
            "_view_module": "@jupyter-widgets/base",
            "_view_module_version": "1.2.0",
            "_view_name": "LayoutView",
            "align_content": null,
            "align_items": null,
            "align_self": null,
            "border": null,
            "bottom": null,
            "display": null,
            "flex": null,
            "flex_flow": null,
            "grid_area": null,
            "grid_auto_columns": null,
            "grid_auto_flow": null,
            "grid_auto_rows": null,
            "grid_column": null,
            "grid_gap": null,
            "grid_row": null,
            "grid_template_areas": null,
            "grid_template_columns": null,
            "grid_template_rows": null,
            "height": null,
            "justify_content": null,
            "justify_items": null,
            "left": null,
            "margin": null,
            "max_height": null,
            "max_width": null,
            "min_height": null,
            "min_width": null,
            "object_fit": null,
            "object_position": null,
            "order": null,
            "overflow": null,
            "overflow_x": null,
            "overflow_y": null,
            "padding": null,
            "right": null,
            "top": null,
            "visibility": null,
            "width": null
          }
        },
        "2d2f52e81c784e50ace9acfa9ddc8cf0": {
          "model_module": "@jupyter-widgets/controls",
          "model_name": "DescriptionStyleModel",
          "model_module_version": "1.5.0",
          "state": {
            "_model_module": "@jupyter-widgets/controls",
            "_model_module_version": "1.5.0",
            "_model_name": "DescriptionStyleModel",
            "_view_count": null,
            "_view_module": "@jupyter-widgets/base",
            "_view_module_version": "1.2.0",
            "_view_name": "StyleView",
            "description_width": ""
          }
        },
        "66198fde82f94316bcff251026f4514d": {
          "model_module": "@jupyter-widgets/controls",
          "model_name": "ButtonModel",
          "model_module_version": "1.5.0",
          "state": {
            "_dom_classes": [],
            "_model_module": "@jupyter-widgets/controls",
            "_model_module_version": "1.5.0",
            "_model_name": "ButtonModel",
            "_view_count": null,
            "_view_module": "@jupyter-widgets/controls",
            "_view_module_version": "1.5.0",
            "_view_name": "ButtonView",
            "button_style": "",
            "description": "Verificar",
            "disabled": false,
            "icon": "",
            "layout": "IPY_MODEL_a69b9cbf667a422bab6bb99f15292261",
            "style": "IPY_MODEL_7237466ee2ac4fd29dc456f434a43411",
            "tooltip": ""
          }
        },
        "ef0cf0fe9dc04fe98ab8f3f4f0241ccc": {
          "model_module": "@jupyter-widgets/base",
          "model_name": "LayoutModel",
          "model_module_version": "1.2.0",
          "state": {
            "_model_module": "@jupyter-widgets/base",
            "_model_module_version": "1.2.0",
            "_model_name": "LayoutModel",
            "_view_count": null,
            "_view_module": "@jupyter-widgets/base",
            "_view_module_version": "1.2.0",
            "_view_name": "LayoutView",
            "align_content": null,
            "align_items": null,
            "align_self": null,
            "border": null,
            "bottom": null,
            "display": null,
            "flex": null,
            "flex_flow": null,
            "grid_area": null,
            "grid_auto_columns": null,
            "grid_auto_flow": null,
            "grid_auto_rows": null,
            "grid_column": null,
            "grid_gap": null,
            "grid_row": null,
            "grid_template_areas": null,
            "grid_template_columns": null,
            "grid_template_rows": null,
            "height": null,
            "justify_content": null,
            "justify_items": null,
            "left": null,
            "margin": null,
            "max_height": null,
            "max_width": null,
            "min_height": null,
            "min_width": null,
            "object_fit": null,
            "object_position": null,
            "order": null,
            "overflow": null,
            "overflow_x": null,
            "overflow_y": null,
            "padding": null,
            "right": null,
            "top": null,
            "visibility": null,
            "width": null
          }
        },
        "a69b9cbf667a422bab6bb99f15292261": {
          "model_module": "@jupyter-widgets/base",
          "model_name": "LayoutModel",
          "model_module_version": "1.2.0",
          "state": {
            "_model_module": "@jupyter-widgets/base",
            "_model_module_version": "1.2.0",
            "_model_name": "LayoutModel",
            "_view_count": null,
            "_view_module": "@jupyter-widgets/base",
            "_view_module_version": "1.2.0",
            "_view_name": "LayoutView",
            "align_content": null,
            "align_items": null,
            "align_self": null,
            "border": null,
            "bottom": null,
            "display": null,
            "flex": null,
            "flex_flow": null,
            "grid_area": null,
            "grid_auto_columns": null,
            "grid_auto_flow": null,
            "grid_auto_rows": null,
            "grid_column": null,
            "grid_gap": null,
            "grid_row": null,
            "grid_template_areas": null,
            "grid_template_columns": null,
            "grid_template_rows": null,
            "height": null,
            "justify_content": null,
            "justify_items": null,
            "left": null,
            "margin": null,
            "max_height": null,
            "max_width": null,
            "min_height": null,
            "min_width": null,
            "object_fit": null,
            "object_position": null,
            "order": null,
            "overflow": null,
            "overflow_x": null,
            "overflow_y": null,
            "padding": null,
            "right": null,
            "top": null,
            "visibility": null,
            "width": null
          }
        },
        "7237466ee2ac4fd29dc456f434a43411": {
          "model_module": "@jupyter-widgets/controls",
          "model_name": "ButtonStyleModel",
          "model_module_version": "1.5.0",
          "state": {
            "_model_module": "@jupyter-widgets/controls",
            "_model_module_version": "1.5.0",
            "_model_name": "ButtonStyleModel",
            "_view_count": null,
            "_view_module": "@jupyter-widgets/base",
            "_view_module_version": "1.2.0",
            "_view_name": "StyleView",
            "button_color": null,
            "font_weight": ""
          }
        },
        "42478bb230314615bb10d63ec9cf10bd": {
          "model_module": "@jupyter-widgets/output",
          "model_name": "OutputModel",
          "model_module_version": "1.0.0",
          "state": {
            "_dom_classes": [],
            "_model_module": "@jupyter-widgets/output",
            "_model_module_version": "1.0.0",
            "_model_name": "OutputModel",
            "_view_count": null,
            "_view_module": "@jupyter-widgets/output",
            "_view_module_version": "1.0.0",
            "_view_name": "OutputView",
            "layout": "IPY_MODEL_826411545a0f4b83b9b8e95eb6863bd0",
            "msg_id": "",
            "outputs": []
          }
        },
        "826411545a0f4b83b9b8e95eb6863bd0": {
          "model_module": "@jupyter-widgets/base",
          "model_name": "LayoutModel",
          "model_module_version": "1.2.0",
          "state": {
            "_model_module": "@jupyter-widgets/base",
            "_model_module_version": "1.2.0",
            "_model_name": "LayoutModel",
            "_view_count": null,
            "_view_module": "@jupyter-widgets/base",
            "_view_module_version": "1.2.0",
            "_view_name": "LayoutView",
            "align_content": null,
            "align_items": null,
            "align_self": null,
            "border": null,
            "bottom": null,
            "display": null,
            "flex": null,
            "flex_flow": null,
            "grid_area": null,
            "grid_auto_columns": null,
            "grid_auto_flow": null,
            "grid_auto_rows": null,
            "grid_column": null,
            "grid_gap": null,
            "grid_row": null,
            "grid_template_areas": null,
            "grid_template_columns": null,
            "grid_template_rows": null,
            "height": null,
            "justify_content": null,
            "justify_items": null,
            "left": null,
            "margin": null,
            "max_height": null,
            "max_width": null,
            "min_height": null,
            "min_width": null,
            "object_fit": null,
            "object_position": null,
            "order": null,
            "overflow": null,
            "overflow_x": null,
            "overflow_y": null,
            "padding": null,
            "right": null,
            "top": null,
            "visibility": null,
            "width": null
          }
        },
        "e48c2e103e934b18aa9088219100399a": {
          "model_module": "@jupyter-widgets/controls",
          "model_name": "HBoxModel",
          "model_module_version": "1.5.0",
          "state": {
            "_dom_classes": [],
            "_model_module": "@jupyter-widgets/controls",
            "_model_module_version": "1.5.0",
            "_model_name": "HBoxModel",
            "_view_count": null,
            "_view_module": "@jupyter-widgets/controls",
            "_view_module_version": "1.5.0",
            "_view_name": "HBoxView",
            "box_style": "",
            "children": [
              "IPY_MODEL_8c79502e71234492b67db8be7c7bac10",
              "IPY_MODEL_66ede352b48244079a628c424060e641"
            ],
            "layout": "IPY_MODEL_7ae186646bef45f398d99e0f92ff46bf"
          }
        },
        "8c79502e71234492b67db8be7c7bac10": {
          "model_module": "@jupyter-widgets/controls",
          "model_name": "RadioButtonsModel",
          "model_module_version": "1.5.0",
          "state": {
            "_dom_classes": [],
            "_model_module": "@jupyter-widgets/controls",
            "_model_module_version": "1.5.0",
            "_model_name": "RadioButtonsModel",
            "_options_labels": [
              "Sim",
              "Não"
            ],
            "_view_count": null,
            "_view_module": "@jupyter-widgets/controls",
            "_view_module_version": "1.5.0",
            "_view_name": "RadioButtonsView",
            "description": "Resposta:",
            "description_tooltip": null,
            "disabled": false,
            "index": null,
            "layout": "IPY_MODEL_d4838fef14ad4f6aa8f781881fbadc50",
            "style": "IPY_MODEL_5bafbe60e7f54af99428ee65e20fe8aa"
          }
        },
        "66ede352b48244079a628c424060e641": {
          "model_module": "@jupyter-widgets/controls",
          "model_name": "HBoxModel",
          "model_module_version": "1.5.0",
          "state": {
            "_dom_classes": [],
            "_model_module": "@jupyter-widgets/controls",
            "_model_module_version": "1.5.0",
            "_model_name": "HBoxModel",
            "_view_count": null,
            "_view_module": "@jupyter-widgets/controls",
            "_view_module_version": "1.5.0",
            "_view_name": "HBoxView",
            "box_style": "",
            "children": [
              "IPY_MODEL_398626f442954572bc51d47b0f92f073"
            ],
            "layout": "IPY_MODEL_dd5508c2fe10463fabb9df954fc160b2"
          }
        },
        "7ae186646bef45f398d99e0f92ff46bf": {
          "model_module": "@jupyter-widgets/base",
          "model_name": "LayoutModel",
          "model_module_version": "1.2.0",
          "state": {
            "_model_module": "@jupyter-widgets/base",
            "_model_module_version": "1.2.0",
            "_model_name": "LayoutModel",
            "_view_count": null,
            "_view_module": "@jupyter-widgets/base",
            "_view_module_version": "1.2.0",
            "_view_name": "LayoutView",
            "align_content": null,
            "align_items": null,
            "align_self": null,
            "border": null,
            "bottom": null,
            "display": null,
            "flex": null,
            "flex_flow": null,
            "grid_area": null,
            "grid_auto_columns": null,
            "grid_auto_flow": null,
            "grid_auto_rows": null,
            "grid_column": null,
            "grid_gap": null,
            "grid_row": null,
            "grid_template_areas": null,
            "grid_template_columns": null,
            "grid_template_rows": null,
            "height": null,
            "justify_content": null,
            "justify_items": null,
            "left": null,
            "margin": null,
            "max_height": null,
            "max_width": null,
            "min_height": null,
            "min_width": null,
            "object_fit": null,
            "object_position": null,
            "order": null,
            "overflow": null,
            "overflow_x": null,
            "overflow_y": null,
            "padding": null,
            "right": null,
            "top": null,
            "visibility": null,
            "width": null
          }
        },
        "d4838fef14ad4f6aa8f781881fbadc50": {
          "model_module": "@jupyter-widgets/base",
          "model_name": "LayoutModel",
          "model_module_version": "1.2.0",
          "state": {
            "_model_module": "@jupyter-widgets/base",
            "_model_module_version": "1.2.0",
            "_model_name": "LayoutModel",
            "_view_count": null,
            "_view_module": "@jupyter-widgets/base",
            "_view_module_version": "1.2.0",
            "_view_name": "LayoutView",
            "align_content": null,
            "align_items": null,
            "align_self": null,
            "border": null,
            "bottom": null,
            "display": null,
            "flex": null,
            "flex_flow": null,
            "grid_area": null,
            "grid_auto_columns": null,
            "grid_auto_flow": null,
            "grid_auto_rows": null,
            "grid_column": null,
            "grid_gap": null,
            "grid_row": null,
            "grid_template_areas": null,
            "grid_template_columns": null,
            "grid_template_rows": null,
            "height": null,
            "justify_content": null,
            "justify_items": null,
            "left": null,
            "margin": null,
            "max_height": null,
            "max_width": null,
            "min_height": null,
            "min_width": null,
            "object_fit": null,
            "object_position": null,
            "order": null,
            "overflow": null,
            "overflow_x": null,
            "overflow_y": null,
            "padding": null,
            "right": null,
            "top": null,
            "visibility": null,
            "width": null
          }
        },
        "5bafbe60e7f54af99428ee65e20fe8aa": {
          "model_module": "@jupyter-widgets/controls",
          "model_name": "DescriptionStyleModel",
          "model_module_version": "1.5.0",
          "state": {
            "_model_module": "@jupyter-widgets/controls",
            "_model_module_version": "1.5.0",
            "_model_name": "DescriptionStyleModel",
            "_view_count": null,
            "_view_module": "@jupyter-widgets/base",
            "_view_module_version": "1.2.0",
            "_view_name": "StyleView",
            "description_width": ""
          }
        },
        "398626f442954572bc51d47b0f92f073": {
          "model_module": "@jupyter-widgets/controls",
          "model_name": "ButtonModel",
          "model_module_version": "1.5.0",
          "state": {
            "_dom_classes": [],
            "_model_module": "@jupyter-widgets/controls",
            "_model_module_version": "1.5.0",
            "_model_name": "ButtonModel",
            "_view_count": null,
            "_view_module": "@jupyter-widgets/controls",
            "_view_module_version": "1.5.0",
            "_view_name": "ButtonView",
            "button_style": "",
            "description": "Verificar",
            "disabled": false,
            "icon": "",
            "layout": "IPY_MODEL_3b849f4426fd4826af3c9d60b3af228d",
            "style": "IPY_MODEL_9e5f29006d464ec4b93f88ca4d3f6ac7",
            "tooltip": ""
          }
        },
        "dd5508c2fe10463fabb9df954fc160b2": {
          "model_module": "@jupyter-widgets/base",
          "model_name": "LayoutModel",
          "model_module_version": "1.2.0",
          "state": {
            "_model_module": "@jupyter-widgets/base",
            "_model_module_version": "1.2.0",
            "_model_name": "LayoutModel",
            "_view_count": null,
            "_view_module": "@jupyter-widgets/base",
            "_view_module_version": "1.2.0",
            "_view_name": "LayoutView",
            "align_content": null,
            "align_items": null,
            "align_self": null,
            "border": null,
            "bottom": null,
            "display": null,
            "flex": null,
            "flex_flow": null,
            "grid_area": null,
            "grid_auto_columns": null,
            "grid_auto_flow": null,
            "grid_auto_rows": null,
            "grid_column": null,
            "grid_gap": null,
            "grid_row": null,
            "grid_template_areas": null,
            "grid_template_columns": null,
            "grid_template_rows": null,
            "height": null,
            "justify_content": null,
            "justify_items": null,
            "left": null,
            "margin": null,
            "max_height": null,
            "max_width": null,
            "min_height": null,
            "min_width": null,
            "object_fit": null,
            "object_position": null,
            "order": null,
            "overflow": null,
            "overflow_x": null,
            "overflow_y": null,
            "padding": null,
            "right": null,
            "top": null,
            "visibility": null,
            "width": null
          }
        },
        "3b849f4426fd4826af3c9d60b3af228d": {
          "model_module": "@jupyter-widgets/base",
          "model_name": "LayoutModel",
          "model_module_version": "1.2.0",
          "state": {
            "_model_module": "@jupyter-widgets/base",
            "_model_module_version": "1.2.0",
            "_model_name": "LayoutModel",
            "_view_count": null,
            "_view_module": "@jupyter-widgets/base",
            "_view_module_version": "1.2.0",
            "_view_name": "LayoutView",
            "align_content": null,
            "align_items": null,
            "align_self": null,
            "border": null,
            "bottom": null,
            "display": null,
            "flex": null,
            "flex_flow": null,
            "grid_area": null,
            "grid_auto_columns": null,
            "grid_auto_flow": null,
            "grid_auto_rows": null,
            "grid_column": null,
            "grid_gap": null,
            "grid_row": null,
            "grid_template_areas": null,
            "grid_template_columns": null,
            "grid_template_rows": null,
            "height": null,
            "justify_content": null,
            "justify_items": null,
            "left": null,
            "margin": null,
            "max_height": null,
            "max_width": null,
            "min_height": null,
            "min_width": null,
            "object_fit": null,
            "object_position": null,
            "order": null,
            "overflow": null,
            "overflow_x": null,
            "overflow_y": null,
            "padding": null,
            "right": null,
            "top": null,
            "visibility": null,
            "width": null
          }
        },
        "9e5f29006d464ec4b93f88ca4d3f6ac7": {
          "model_module": "@jupyter-widgets/controls",
          "model_name": "ButtonStyleModel",
          "model_module_version": "1.5.0",
          "state": {
            "_model_module": "@jupyter-widgets/controls",
            "_model_module_version": "1.5.0",
            "_model_name": "ButtonStyleModel",
            "_view_count": null,
            "_view_module": "@jupyter-widgets/base",
            "_view_module_version": "1.2.0",
            "_view_name": "StyleView",
            "button_color": null,
            "font_weight": ""
          }
        },
        "1c4406e89215482e8b2e53aeba8fbd94": {
          "model_module": "@jupyter-widgets/output",
          "model_name": "OutputModel",
          "model_module_version": "1.0.0",
          "state": {
            "_dom_classes": [],
            "_model_module": "@jupyter-widgets/output",
            "_model_module_version": "1.0.0",
            "_model_name": "OutputModel",
            "_view_count": null,
            "_view_module": "@jupyter-widgets/output",
            "_view_module_version": "1.0.0",
            "_view_name": "OutputView",
            "layout": "IPY_MODEL_cdeef3334de64605b1924d995c30870d",
            "msg_id": "",
            "outputs": []
          }
        },
        "cdeef3334de64605b1924d995c30870d": {
          "model_module": "@jupyter-widgets/base",
          "model_name": "LayoutModel",
          "model_module_version": "1.2.0",
          "state": {
            "_model_module": "@jupyter-widgets/base",
            "_model_module_version": "1.2.0",
            "_model_name": "LayoutModel",
            "_view_count": null,
            "_view_module": "@jupyter-widgets/base",
            "_view_module_version": "1.2.0",
            "_view_name": "LayoutView",
            "align_content": null,
            "align_items": null,
            "align_self": null,
            "border": null,
            "bottom": null,
            "display": null,
            "flex": null,
            "flex_flow": null,
            "grid_area": null,
            "grid_auto_columns": null,
            "grid_auto_flow": null,
            "grid_auto_rows": null,
            "grid_column": null,
            "grid_gap": null,
            "grid_row": null,
            "grid_template_areas": null,
            "grid_template_columns": null,
            "grid_template_rows": null,
            "height": null,
            "justify_content": null,
            "justify_items": null,
            "left": null,
            "margin": null,
            "max_height": null,
            "max_width": null,
            "min_height": null,
            "min_width": null,
            "object_fit": null,
            "object_position": null,
            "order": null,
            "overflow": null,
            "overflow_x": null,
            "overflow_y": null,
            "padding": null,
            "right": null,
            "top": null,
            "visibility": null,
            "width": null
          }
        },
        "be92607da3624915a4750c4d9be26642": {
          "model_module": "@jupyter-widgets/controls",
          "model_name": "HBoxModel",
          "model_module_version": "1.5.0",
          "state": {
            "_dom_classes": [],
            "_model_module": "@jupyter-widgets/controls",
            "_model_module_version": "1.5.0",
            "_model_name": "HBoxModel",
            "_view_count": null,
            "_view_module": "@jupyter-widgets/controls",
            "_view_module_version": "1.5.0",
            "_view_name": "HBoxView",
            "box_style": "",
            "children": [
              "IPY_MODEL_8db2277df4784a65a5f8dff97b418b47",
              "IPY_MODEL_ff4a58d2162a4f1798d9d96d592fff16"
            ],
            "layout": "IPY_MODEL_61974ee3c5be47dca2d51f9247812833"
          }
        },
        "8db2277df4784a65a5f8dff97b418b47": {
          "model_module": "@jupyter-widgets/controls",
          "model_name": "RadioButtonsModel",
          "model_module_version": "1.5.0",
          "state": {
            "_dom_classes": [],
            "_model_module": "@jupyter-widgets/controls",
            "_model_module_version": "1.5.0",
            "_model_name": "RadioButtonsModel",
            "_options_labels": [
              "Sim",
              "Não"
            ],
            "_view_count": null,
            "_view_module": "@jupyter-widgets/controls",
            "_view_module_version": "1.5.0",
            "_view_name": "RadioButtonsView",
            "description": "Resposta:",
            "description_tooltip": null,
            "disabled": false,
            "index": null,
            "layout": "IPY_MODEL_5dd379c3183e481985f2fe1379fb9922",
            "style": "IPY_MODEL_40a65641331c49f4aea5427f31ca40a6"
          }
        },
        "ff4a58d2162a4f1798d9d96d592fff16": {
          "model_module": "@jupyter-widgets/controls",
          "model_name": "HBoxModel",
          "model_module_version": "1.5.0",
          "state": {
            "_dom_classes": [],
            "_model_module": "@jupyter-widgets/controls",
            "_model_module_version": "1.5.0",
            "_model_name": "HBoxModel",
            "_view_count": null,
            "_view_module": "@jupyter-widgets/controls",
            "_view_module_version": "1.5.0",
            "_view_name": "HBoxView",
            "box_style": "",
            "children": [
              "IPY_MODEL_dc3c3651e43d487daa60226567ddd12b"
            ],
            "layout": "IPY_MODEL_bbc4389c055c4fa19a62f1407194a06c"
          }
        },
        "61974ee3c5be47dca2d51f9247812833": {
          "model_module": "@jupyter-widgets/base",
          "model_name": "LayoutModel",
          "model_module_version": "1.2.0",
          "state": {
            "_model_module": "@jupyter-widgets/base",
            "_model_module_version": "1.2.0",
            "_model_name": "LayoutModel",
            "_view_count": null,
            "_view_module": "@jupyter-widgets/base",
            "_view_module_version": "1.2.0",
            "_view_name": "LayoutView",
            "align_content": null,
            "align_items": null,
            "align_self": null,
            "border": null,
            "bottom": null,
            "display": null,
            "flex": null,
            "flex_flow": null,
            "grid_area": null,
            "grid_auto_columns": null,
            "grid_auto_flow": null,
            "grid_auto_rows": null,
            "grid_column": null,
            "grid_gap": null,
            "grid_row": null,
            "grid_template_areas": null,
            "grid_template_columns": null,
            "grid_template_rows": null,
            "height": null,
            "justify_content": null,
            "justify_items": null,
            "left": null,
            "margin": null,
            "max_height": null,
            "max_width": null,
            "min_height": null,
            "min_width": null,
            "object_fit": null,
            "object_position": null,
            "order": null,
            "overflow": null,
            "overflow_x": null,
            "overflow_y": null,
            "padding": null,
            "right": null,
            "top": null,
            "visibility": null,
            "width": null
          }
        },
        "5dd379c3183e481985f2fe1379fb9922": {
          "model_module": "@jupyter-widgets/base",
          "model_name": "LayoutModel",
          "model_module_version": "1.2.0",
          "state": {
            "_model_module": "@jupyter-widgets/base",
            "_model_module_version": "1.2.0",
            "_model_name": "LayoutModel",
            "_view_count": null,
            "_view_module": "@jupyter-widgets/base",
            "_view_module_version": "1.2.0",
            "_view_name": "LayoutView",
            "align_content": null,
            "align_items": null,
            "align_self": null,
            "border": null,
            "bottom": null,
            "display": null,
            "flex": null,
            "flex_flow": null,
            "grid_area": null,
            "grid_auto_columns": null,
            "grid_auto_flow": null,
            "grid_auto_rows": null,
            "grid_column": null,
            "grid_gap": null,
            "grid_row": null,
            "grid_template_areas": null,
            "grid_template_columns": null,
            "grid_template_rows": null,
            "height": null,
            "justify_content": null,
            "justify_items": null,
            "left": null,
            "margin": null,
            "max_height": null,
            "max_width": null,
            "min_height": null,
            "min_width": null,
            "object_fit": null,
            "object_position": null,
            "order": null,
            "overflow": null,
            "overflow_x": null,
            "overflow_y": null,
            "padding": null,
            "right": null,
            "top": null,
            "visibility": null,
            "width": null
          }
        },
        "40a65641331c49f4aea5427f31ca40a6": {
          "model_module": "@jupyter-widgets/controls",
          "model_name": "DescriptionStyleModel",
          "model_module_version": "1.5.0",
          "state": {
            "_model_module": "@jupyter-widgets/controls",
            "_model_module_version": "1.5.0",
            "_model_name": "DescriptionStyleModel",
            "_view_count": null,
            "_view_module": "@jupyter-widgets/base",
            "_view_module_version": "1.2.0",
            "_view_name": "StyleView",
            "description_width": ""
          }
        },
        "dc3c3651e43d487daa60226567ddd12b": {
          "model_module": "@jupyter-widgets/controls",
          "model_name": "ButtonModel",
          "model_module_version": "1.5.0",
          "state": {
            "_dom_classes": [],
            "_model_module": "@jupyter-widgets/controls",
            "_model_module_version": "1.5.0",
            "_model_name": "ButtonModel",
            "_view_count": null,
            "_view_module": "@jupyter-widgets/controls",
            "_view_module_version": "1.5.0",
            "_view_name": "ButtonView",
            "button_style": "",
            "description": "Verificar",
            "disabled": false,
            "icon": "",
            "layout": "IPY_MODEL_246a6ad6dc2f4fdba2a1febf1b4e4989",
            "style": "IPY_MODEL_d7b9c0629cca4335a0a4bbeaf0e1bc92",
            "tooltip": ""
          }
        },
        "bbc4389c055c4fa19a62f1407194a06c": {
          "model_module": "@jupyter-widgets/base",
          "model_name": "LayoutModel",
          "model_module_version": "1.2.0",
          "state": {
            "_model_module": "@jupyter-widgets/base",
            "_model_module_version": "1.2.0",
            "_model_name": "LayoutModel",
            "_view_count": null,
            "_view_module": "@jupyter-widgets/base",
            "_view_module_version": "1.2.0",
            "_view_name": "LayoutView",
            "align_content": null,
            "align_items": null,
            "align_self": null,
            "border": null,
            "bottom": null,
            "display": null,
            "flex": null,
            "flex_flow": null,
            "grid_area": null,
            "grid_auto_columns": null,
            "grid_auto_flow": null,
            "grid_auto_rows": null,
            "grid_column": null,
            "grid_gap": null,
            "grid_row": null,
            "grid_template_areas": null,
            "grid_template_columns": null,
            "grid_template_rows": null,
            "height": null,
            "justify_content": null,
            "justify_items": null,
            "left": null,
            "margin": null,
            "max_height": null,
            "max_width": null,
            "min_height": null,
            "min_width": null,
            "object_fit": null,
            "object_position": null,
            "order": null,
            "overflow": null,
            "overflow_x": null,
            "overflow_y": null,
            "padding": null,
            "right": null,
            "top": null,
            "visibility": null,
            "width": null
          }
        },
        "246a6ad6dc2f4fdba2a1febf1b4e4989": {
          "model_module": "@jupyter-widgets/base",
          "model_name": "LayoutModel",
          "model_module_version": "1.2.0",
          "state": {
            "_model_module": "@jupyter-widgets/base",
            "_model_module_version": "1.2.0",
            "_model_name": "LayoutModel",
            "_view_count": null,
            "_view_module": "@jupyter-widgets/base",
            "_view_module_version": "1.2.0",
            "_view_name": "LayoutView",
            "align_content": null,
            "align_items": null,
            "align_self": null,
            "border": null,
            "bottom": null,
            "display": null,
            "flex": null,
            "flex_flow": null,
            "grid_area": null,
            "grid_auto_columns": null,
            "grid_auto_flow": null,
            "grid_auto_rows": null,
            "grid_column": null,
            "grid_gap": null,
            "grid_row": null,
            "grid_template_areas": null,
            "grid_template_columns": null,
            "grid_template_rows": null,
            "height": null,
            "justify_content": null,
            "justify_items": null,
            "left": null,
            "margin": null,
            "max_height": null,
            "max_width": null,
            "min_height": null,
            "min_width": null,
            "object_fit": null,
            "object_position": null,
            "order": null,
            "overflow": null,
            "overflow_x": null,
            "overflow_y": null,
            "padding": null,
            "right": null,
            "top": null,
            "visibility": null,
            "width": null
          }
        },
        "d7b9c0629cca4335a0a4bbeaf0e1bc92": {
          "model_module": "@jupyter-widgets/controls",
          "model_name": "ButtonStyleModel",
          "model_module_version": "1.5.0",
          "state": {
            "_model_module": "@jupyter-widgets/controls",
            "_model_module_version": "1.5.0",
            "_model_name": "ButtonStyleModel",
            "_view_count": null,
            "_view_module": "@jupyter-widgets/base",
            "_view_module_version": "1.2.0",
            "_view_name": "StyleView",
            "button_color": null,
            "font_weight": ""
          }
        },
        "9f09306a55f649cb87225c88f525e434": {
          "model_module": "@jupyter-widgets/output",
          "model_name": "OutputModel",
          "model_module_version": "1.0.0",
          "state": {
            "_dom_classes": [],
            "_model_module": "@jupyter-widgets/output",
            "_model_module_version": "1.0.0",
            "_model_name": "OutputModel",
            "_view_count": null,
            "_view_module": "@jupyter-widgets/output",
            "_view_module_version": "1.0.0",
            "_view_name": "OutputView",
            "layout": "IPY_MODEL_458b9d48b28144809231be8fd483e5b7",
            "msg_id": "",
            "outputs": []
          }
        },
        "458b9d48b28144809231be8fd483e5b7": {
          "model_module": "@jupyter-widgets/base",
          "model_name": "LayoutModel",
          "model_module_version": "1.2.0",
          "state": {
            "_model_module": "@jupyter-widgets/base",
            "_model_module_version": "1.2.0",
            "_model_name": "LayoutModel",
            "_view_count": null,
            "_view_module": "@jupyter-widgets/base",
            "_view_module_version": "1.2.0",
            "_view_name": "LayoutView",
            "align_content": null,
            "align_items": null,
            "align_self": null,
            "border": null,
            "bottom": null,
            "display": null,
            "flex": null,
            "flex_flow": null,
            "grid_area": null,
            "grid_auto_columns": null,
            "grid_auto_flow": null,
            "grid_auto_rows": null,
            "grid_column": null,
            "grid_gap": null,
            "grid_row": null,
            "grid_template_areas": null,
            "grid_template_columns": null,
            "grid_template_rows": null,
            "height": null,
            "justify_content": null,
            "justify_items": null,
            "left": null,
            "margin": null,
            "max_height": null,
            "max_width": null,
            "min_height": null,
            "min_width": null,
            "object_fit": null,
            "object_position": null,
            "order": null,
            "overflow": null,
            "overflow_x": null,
            "overflow_y": null,
            "padding": null,
            "right": null,
            "top": null,
            "visibility": null,
            "width": null
          }
        },
        "d078ded4cc8348bba2442c28a4f94b95": {
          "model_module": "@jupyter-widgets/controls",
          "model_name": "HBoxModel",
          "model_module_version": "1.5.0",
          "state": {
            "_dom_classes": [],
            "_model_module": "@jupyter-widgets/controls",
            "_model_module_version": "1.5.0",
            "_model_name": "HBoxModel",
            "_view_count": null,
            "_view_module": "@jupyter-widgets/controls",
            "_view_module_version": "1.5.0",
            "_view_name": "HBoxView",
            "box_style": "",
            "children": [
              "IPY_MODEL_d10fe9ae2c424d629612de34d5dd88f7",
              "IPY_MODEL_f5adeb9009b14b8cb76ab0babc05c0d2"
            ],
            "layout": "IPY_MODEL_ae3e42f364b540739ed39c1aca6eba6b"
          }
        },
        "d10fe9ae2c424d629612de34d5dd88f7": {
          "model_module": "@jupyter-widgets/controls",
          "model_name": "RadioButtonsModel",
          "model_module_version": "1.5.0",
          "state": {
            "_dom_classes": [],
            "_model_module": "@jupyter-widgets/controls",
            "_model_module_version": "1.5.0",
            "_model_name": "RadioButtonsModel",
            "_options_labels": [
              "Sim",
              "Não"
            ],
            "_view_count": null,
            "_view_module": "@jupyter-widgets/controls",
            "_view_module_version": "1.5.0",
            "_view_name": "RadioButtonsView",
            "description": "Resposta:",
            "description_tooltip": null,
            "disabled": false,
            "index": null,
            "layout": "IPY_MODEL_6ebf44b143a24098b957acd46f8d27ff",
            "style": "IPY_MODEL_1bc1d16682f543deaec63200029944a9"
          }
        },
        "f5adeb9009b14b8cb76ab0babc05c0d2": {
          "model_module": "@jupyter-widgets/controls",
          "model_name": "HBoxModel",
          "model_module_version": "1.5.0",
          "state": {
            "_dom_classes": [],
            "_model_module": "@jupyter-widgets/controls",
            "_model_module_version": "1.5.0",
            "_model_name": "HBoxModel",
            "_view_count": null,
            "_view_module": "@jupyter-widgets/controls",
            "_view_module_version": "1.5.0",
            "_view_name": "HBoxView",
            "box_style": "",
            "children": [
              "IPY_MODEL_2352ef4043864f32b203309af09ba4da"
            ],
            "layout": "IPY_MODEL_fa2f4a152f244ff480e0212c797b5bb1"
          }
        },
        "ae3e42f364b540739ed39c1aca6eba6b": {
          "model_module": "@jupyter-widgets/base",
          "model_name": "LayoutModel",
          "model_module_version": "1.2.0",
          "state": {
            "_model_module": "@jupyter-widgets/base",
            "_model_module_version": "1.2.0",
            "_model_name": "LayoutModel",
            "_view_count": null,
            "_view_module": "@jupyter-widgets/base",
            "_view_module_version": "1.2.0",
            "_view_name": "LayoutView",
            "align_content": null,
            "align_items": null,
            "align_self": null,
            "border": null,
            "bottom": null,
            "display": null,
            "flex": null,
            "flex_flow": null,
            "grid_area": null,
            "grid_auto_columns": null,
            "grid_auto_flow": null,
            "grid_auto_rows": null,
            "grid_column": null,
            "grid_gap": null,
            "grid_row": null,
            "grid_template_areas": null,
            "grid_template_columns": null,
            "grid_template_rows": null,
            "height": null,
            "justify_content": null,
            "justify_items": null,
            "left": null,
            "margin": null,
            "max_height": null,
            "max_width": null,
            "min_height": null,
            "min_width": null,
            "object_fit": null,
            "object_position": null,
            "order": null,
            "overflow": null,
            "overflow_x": null,
            "overflow_y": null,
            "padding": null,
            "right": null,
            "top": null,
            "visibility": null,
            "width": null
          }
        },
        "6ebf44b143a24098b957acd46f8d27ff": {
          "model_module": "@jupyter-widgets/base",
          "model_name": "LayoutModel",
          "model_module_version": "1.2.0",
          "state": {
            "_model_module": "@jupyter-widgets/base",
            "_model_module_version": "1.2.0",
            "_model_name": "LayoutModel",
            "_view_count": null,
            "_view_module": "@jupyter-widgets/base",
            "_view_module_version": "1.2.0",
            "_view_name": "LayoutView",
            "align_content": null,
            "align_items": null,
            "align_self": null,
            "border": null,
            "bottom": null,
            "display": null,
            "flex": null,
            "flex_flow": null,
            "grid_area": null,
            "grid_auto_columns": null,
            "grid_auto_flow": null,
            "grid_auto_rows": null,
            "grid_column": null,
            "grid_gap": null,
            "grid_row": null,
            "grid_template_areas": null,
            "grid_template_columns": null,
            "grid_template_rows": null,
            "height": null,
            "justify_content": null,
            "justify_items": null,
            "left": null,
            "margin": null,
            "max_height": null,
            "max_width": null,
            "min_height": null,
            "min_width": null,
            "object_fit": null,
            "object_position": null,
            "order": null,
            "overflow": null,
            "overflow_x": null,
            "overflow_y": null,
            "padding": null,
            "right": null,
            "top": null,
            "visibility": null,
            "width": null
          }
        },
        "1bc1d16682f543deaec63200029944a9": {
          "model_module": "@jupyter-widgets/controls",
          "model_name": "DescriptionStyleModel",
          "model_module_version": "1.5.0",
          "state": {
            "_model_module": "@jupyter-widgets/controls",
            "_model_module_version": "1.5.0",
            "_model_name": "DescriptionStyleModel",
            "_view_count": null,
            "_view_module": "@jupyter-widgets/base",
            "_view_module_version": "1.2.0",
            "_view_name": "StyleView",
            "description_width": ""
          }
        },
        "2352ef4043864f32b203309af09ba4da": {
          "model_module": "@jupyter-widgets/controls",
          "model_name": "ButtonModel",
          "model_module_version": "1.5.0",
          "state": {
            "_dom_classes": [],
            "_model_module": "@jupyter-widgets/controls",
            "_model_module_version": "1.5.0",
            "_model_name": "ButtonModel",
            "_view_count": null,
            "_view_module": "@jupyter-widgets/controls",
            "_view_module_version": "1.5.0",
            "_view_name": "ButtonView",
            "button_style": "",
            "description": "Verificar",
            "disabled": false,
            "icon": "",
            "layout": "IPY_MODEL_8028f563ad9a4c45ac838d394f1ec700",
            "style": "IPY_MODEL_036c76dbcd1b45af9af4a0684b4551fc",
            "tooltip": ""
          }
        },
        "fa2f4a152f244ff480e0212c797b5bb1": {
          "model_module": "@jupyter-widgets/base",
          "model_name": "LayoutModel",
          "model_module_version": "1.2.0",
          "state": {
            "_model_module": "@jupyter-widgets/base",
            "_model_module_version": "1.2.0",
            "_model_name": "LayoutModel",
            "_view_count": null,
            "_view_module": "@jupyter-widgets/base",
            "_view_module_version": "1.2.0",
            "_view_name": "LayoutView",
            "align_content": null,
            "align_items": null,
            "align_self": null,
            "border": null,
            "bottom": null,
            "display": null,
            "flex": null,
            "flex_flow": null,
            "grid_area": null,
            "grid_auto_columns": null,
            "grid_auto_flow": null,
            "grid_auto_rows": null,
            "grid_column": null,
            "grid_gap": null,
            "grid_row": null,
            "grid_template_areas": null,
            "grid_template_columns": null,
            "grid_template_rows": null,
            "height": null,
            "justify_content": null,
            "justify_items": null,
            "left": null,
            "margin": null,
            "max_height": null,
            "max_width": null,
            "min_height": null,
            "min_width": null,
            "object_fit": null,
            "object_position": null,
            "order": null,
            "overflow": null,
            "overflow_x": null,
            "overflow_y": null,
            "padding": null,
            "right": null,
            "top": null,
            "visibility": null,
            "width": null
          }
        },
        "8028f563ad9a4c45ac838d394f1ec700": {
          "model_module": "@jupyter-widgets/base",
          "model_name": "LayoutModel",
          "model_module_version": "1.2.0",
          "state": {
            "_model_module": "@jupyter-widgets/base",
            "_model_module_version": "1.2.0",
            "_model_name": "LayoutModel",
            "_view_count": null,
            "_view_module": "@jupyter-widgets/base",
            "_view_module_version": "1.2.0",
            "_view_name": "LayoutView",
            "align_content": null,
            "align_items": null,
            "align_self": null,
            "border": null,
            "bottom": null,
            "display": null,
            "flex": null,
            "flex_flow": null,
            "grid_area": null,
            "grid_auto_columns": null,
            "grid_auto_flow": null,
            "grid_auto_rows": null,
            "grid_column": null,
            "grid_gap": null,
            "grid_row": null,
            "grid_template_areas": null,
            "grid_template_columns": null,
            "grid_template_rows": null,
            "height": null,
            "justify_content": null,
            "justify_items": null,
            "left": null,
            "margin": null,
            "max_height": null,
            "max_width": null,
            "min_height": null,
            "min_width": null,
            "object_fit": null,
            "object_position": null,
            "order": null,
            "overflow": null,
            "overflow_x": null,
            "overflow_y": null,
            "padding": null,
            "right": null,
            "top": null,
            "visibility": null,
            "width": null
          }
        },
        "036c76dbcd1b45af9af4a0684b4551fc": {
          "model_module": "@jupyter-widgets/controls",
          "model_name": "ButtonStyleModel",
          "model_module_version": "1.5.0",
          "state": {
            "_model_module": "@jupyter-widgets/controls",
            "_model_module_version": "1.5.0",
            "_model_name": "ButtonStyleModel",
            "_view_count": null,
            "_view_module": "@jupyter-widgets/base",
            "_view_module_version": "1.2.0",
            "_view_name": "StyleView",
            "button_color": null,
            "font_weight": ""
          }
        },
        "98814513bbee4d59a65eb0770c36d498": {
          "model_module": "@jupyter-widgets/output",
          "model_name": "OutputModel",
          "model_module_version": "1.0.0",
          "state": {
            "_dom_classes": [],
            "_model_module": "@jupyter-widgets/output",
            "_model_module_version": "1.0.0",
            "_model_name": "OutputModel",
            "_view_count": null,
            "_view_module": "@jupyter-widgets/output",
            "_view_module_version": "1.0.0",
            "_view_name": "OutputView",
            "layout": "IPY_MODEL_95b38ca135da472a8e41148233b1ac1f",
            "msg_id": "",
            "outputs": []
          }
        },
        "95b38ca135da472a8e41148233b1ac1f": {
          "model_module": "@jupyter-widgets/base",
          "model_name": "LayoutModel",
          "model_module_version": "1.2.0",
          "state": {
            "_model_module": "@jupyter-widgets/base",
            "_model_module_version": "1.2.0",
            "_model_name": "LayoutModel",
            "_view_count": null,
            "_view_module": "@jupyter-widgets/base",
            "_view_module_version": "1.2.0",
            "_view_name": "LayoutView",
            "align_content": null,
            "align_items": null,
            "align_self": null,
            "border": null,
            "bottom": null,
            "display": null,
            "flex": null,
            "flex_flow": null,
            "grid_area": null,
            "grid_auto_columns": null,
            "grid_auto_flow": null,
            "grid_auto_rows": null,
            "grid_column": null,
            "grid_gap": null,
            "grid_row": null,
            "grid_template_areas": null,
            "grid_template_columns": null,
            "grid_template_rows": null,
            "height": null,
            "justify_content": null,
            "justify_items": null,
            "left": null,
            "margin": null,
            "max_height": null,
            "max_width": null,
            "min_height": null,
            "min_width": null,
            "object_fit": null,
            "object_position": null,
            "order": null,
            "overflow": null,
            "overflow_x": null,
            "overflow_y": null,
            "padding": null,
            "right": null,
            "top": null,
            "visibility": null,
            "width": null
          }
        },
        "4e4f31fdb3894f1ead14b6d52f67fd83": {
          "model_module": "@jupyter-widgets/controls",
          "model_name": "HBoxModel",
          "model_module_version": "1.5.0",
          "state": {
            "_dom_classes": [],
            "_model_module": "@jupyter-widgets/controls",
            "_model_module_version": "1.5.0",
            "_model_name": "HBoxModel",
            "_view_count": null,
            "_view_module": "@jupyter-widgets/controls",
            "_view_module_version": "1.5.0",
            "_view_name": "HBoxView",
            "box_style": "",
            "children": [
              "IPY_MODEL_5d6e8a6db1d9487a8ceb22b053f5310a",
              "IPY_MODEL_a1f8531e516c481cb1172002bb2a6b11"
            ],
            "layout": "IPY_MODEL_76eb06ecc569455b9cfd26129bf9af7a"
          }
        },
        "5d6e8a6db1d9487a8ceb22b053f5310a": {
          "model_module": "@jupyter-widgets/controls",
          "model_name": "RadioButtonsModel",
          "model_module_version": "1.5.0",
          "state": {
            "_dom_classes": [],
            "_model_module": "@jupyter-widgets/controls",
            "_model_module_version": "1.5.0",
            "_model_name": "RadioButtonsModel",
            "_options_labels": [
              "Sim",
              "Não"
            ],
            "_view_count": null,
            "_view_module": "@jupyter-widgets/controls",
            "_view_module_version": "1.5.0",
            "_view_name": "RadioButtonsView",
            "description": "Resposta:",
            "description_tooltip": null,
            "disabled": false,
            "index": null,
            "layout": "IPY_MODEL_203fbc9f95834c1f8a7d4e676798b1e0",
            "style": "IPY_MODEL_8ee4a0bea03c48809df99b5379ad6569"
          }
        },
        "a1f8531e516c481cb1172002bb2a6b11": {
          "model_module": "@jupyter-widgets/controls",
          "model_name": "HBoxModel",
          "model_module_version": "1.5.0",
          "state": {
            "_dom_classes": [],
            "_model_module": "@jupyter-widgets/controls",
            "_model_module_version": "1.5.0",
            "_model_name": "HBoxModel",
            "_view_count": null,
            "_view_module": "@jupyter-widgets/controls",
            "_view_module_version": "1.5.0",
            "_view_name": "HBoxView",
            "box_style": "",
            "children": [
              "IPY_MODEL_9e8b51217d6e44db9d4874d0782173c2"
            ],
            "layout": "IPY_MODEL_196465b7a6844a79876a430d1a9cbf5c"
          }
        },
        "76eb06ecc569455b9cfd26129bf9af7a": {
          "model_module": "@jupyter-widgets/base",
          "model_name": "LayoutModel",
          "model_module_version": "1.2.0",
          "state": {
            "_model_module": "@jupyter-widgets/base",
            "_model_module_version": "1.2.0",
            "_model_name": "LayoutModel",
            "_view_count": null,
            "_view_module": "@jupyter-widgets/base",
            "_view_module_version": "1.2.0",
            "_view_name": "LayoutView",
            "align_content": null,
            "align_items": null,
            "align_self": null,
            "border": null,
            "bottom": null,
            "display": null,
            "flex": null,
            "flex_flow": null,
            "grid_area": null,
            "grid_auto_columns": null,
            "grid_auto_flow": null,
            "grid_auto_rows": null,
            "grid_column": null,
            "grid_gap": null,
            "grid_row": null,
            "grid_template_areas": null,
            "grid_template_columns": null,
            "grid_template_rows": null,
            "height": null,
            "justify_content": null,
            "justify_items": null,
            "left": null,
            "margin": null,
            "max_height": null,
            "max_width": null,
            "min_height": null,
            "min_width": null,
            "object_fit": null,
            "object_position": null,
            "order": null,
            "overflow": null,
            "overflow_x": null,
            "overflow_y": null,
            "padding": null,
            "right": null,
            "top": null,
            "visibility": null,
            "width": null
          }
        },
        "203fbc9f95834c1f8a7d4e676798b1e0": {
          "model_module": "@jupyter-widgets/base",
          "model_name": "LayoutModel",
          "model_module_version": "1.2.0",
          "state": {
            "_model_module": "@jupyter-widgets/base",
            "_model_module_version": "1.2.0",
            "_model_name": "LayoutModel",
            "_view_count": null,
            "_view_module": "@jupyter-widgets/base",
            "_view_module_version": "1.2.0",
            "_view_name": "LayoutView",
            "align_content": null,
            "align_items": null,
            "align_self": null,
            "border": null,
            "bottom": null,
            "display": null,
            "flex": null,
            "flex_flow": null,
            "grid_area": null,
            "grid_auto_columns": null,
            "grid_auto_flow": null,
            "grid_auto_rows": null,
            "grid_column": null,
            "grid_gap": null,
            "grid_row": null,
            "grid_template_areas": null,
            "grid_template_columns": null,
            "grid_template_rows": null,
            "height": null,
            "justify_content": null,
            "justify_items": null,
            "left": null,
            "margin": null,
            "max_height": null,
            "max_width": null,
            "min_height": null,
            "min_width": null,
            "object_fit": null,
            "object_position": null,
            "order": null,
            "overflow": null,
            "overflow_x": null,
            "overflow_y": null,
            "padding": null,
            "right": null,
            "top": null,
            "visibility": null,
            "width": null
          }
        },
        "8ee4a0bea03c48809df99b5379ad6569": {
          "model_module": "@jupyter-widgets/controls",
          "model_name": "DescriptionStyleModel",
          "model_module_version": "1.5.0",
          "state": {
            "_model_module": "@jupyter-widgets/controls",
            "_model_module_version": "1.5.0",
            "_model_name": "DescriptionStyleModel",
            "_view_count": null,
            "_view_module": "@jupyter-widgets/base",
            "_view_module_version": "1.2.0",
            "_view_name": "StyleView",
            "description_width": ""
          }
        },
        "9e8b51217d6e44db9d4874d0782173c2": {
          "model_module": "@jupyter-widgets/controls",
          "model_name": "ButtonModel",
          "model_module_version": "1.5.0",
          "state": {
            "_dom_classes": [],
            "_model_module": "@jupyter-widgets/controls",
            "_model_module_version": "1.5.0",
            "_model_name": "ButtonModel",
            "_view_count": null,
            "_view_module": "@jupyter-widgets/controls",
            "_view_module_version": "1.5.0",
            "_view_name": "ButtonView",
            "button_style": "",
            "description": "Verificar",
            "disabled": false,
            "icon": "",
            "layout": "IPY_MODEL_cf7d768efc5e46fe82192fb1b3998d48",
            "style": "IPY_MODEL_a0e368ec78bb41a995c9d802a34605d5",
            "tooltip": ""
          }
        },
        "196465b7a6844a79876a430d1a9cbf5c": {
          "model_module": "@jupyter-widgets/base",
          "model_name": "LayoutModel",
          "model_module_version": "1.2.0",
          "state": {
            "_model_module": "@jupyter-widgets/base",
            "_model_module_version": "1.2.0",
            "_model_name": "LayoutModel",
            "_view_count": null,
            "_view_module": "@jupyter-widgets/base",
            "_view_module_version": "1.2.0",
            "_view_name": "LayoutView",
            "align_content": null,
            "align_items": null,
            "align_self": null,
            "border": null,
            "bottom": null,
            "display": null,
            "flex": null,
            "flex_flow": null,
            "grid_area": null,
            "grid_auto_columns": null,
            "grid_auto_flow": null,
            "grid_auto_rows": null,
            "grid_column": null,
            "grid_gap": null,
            "grid_row": null,
            "grid_template_areas": null,
            "grid_template_columns": null,
            "grid_template_rows": null,
            "height": null,
            "justify_content": null,
            "justify_items": null,
            "left": null,
            "margin": null,
            "max_height": null,
            "max_width": null,
            "min_height": null,
            "min_width": null,
            "object_fit": null,
            "object_position": null,
            "order": null,
            "overflow": null,
            "overflow_x": null,
            "overflow_y": null,
            "padding": null,
            "right": null,
            "top": null,
            "visibility": null,
            "width": null
          }
        },
        "cf7d768efc5e46fe82192fb1b3998d48": {
          "model_module": "@jupyter-widgets/base",
          "model_name": "LayoutModel",
          "model_module_version": "1.2.0",
          "state": {
            "_model_module": "@jupyter-widgets/base",
            "_model_module_version": "1.2.0",
            "_model_name": "LayoutModel",
            "_view_count": null,
            "_view_module": "@jupyter-widgets/base",
            "_view_module_version": "1.2.0",
            "_view_name": "LayoutView",
            "align_content": null,
            "align_items": null,
            "align_self": null,
            "border": null,
            "bottom": null,
            "display": null,
            "flex": null,
            "flex_flow": null,
            "grid_area": null,
            "grid_auto_columns": null,
            "grid_auto_flow": null,
            "grid_auto_rows": null,
            "grid_column": null,
            "grid_gap": null,
            "grid_row": null,
            "grid_template_areas": null,
            "grid_template_columns": null,
            "grid_template_rows": null,
            "height": null,
            "justify_content": null,
            "justify_items": null,
            "left": null,
            "margin": null,
            "max_height": null,
            "max_width": null,
            "min_height": null,
            "min_width": null,
            "object_fit": null,
            "object_position": null,
            "order": null,
            "overflow": null,
            "overflow_x": null,
            "overflow_y": null,
            "padding": null,
            "right": null,
            "top": null,
            "visibility": null,
            "width": null
          }
        },
        "a0e368ec78bb41a995c9d802a34605d5": {
          "model_module": "@jupyter-widgets/controls",
          "model_name": "ButtonStyleModel",
          "model_module_version": "1.5.0",
          "state": {
            "_model_module": "@jupyter-widgets/controls",
            "_model_module_version": "1.5.0",
            "_model_name": "ButtonStyleModel",
            "_view_count": null,
            "_view_module": "@jupyter-widgets/base",
            "_view_module_version": "1.2.0",
            "_view_name": "StyleView",
            "button_color": null,
            "font_weight": ""
          }
        },
        "761373cf57c042e88443fe8bf31c0c41": {
          "model_module": "@jupyter-widgets/output",
          "model_name": "OutputModel",
          "model_module_version": "1.0.0",
          "state": {
            "_dom_classes": [],
            "_model_module": "@jupyter-widgets/output",
            "_model_module_version": "1.0.0",
            "_model_name": "OutputModel",
            "_view_count": null,
            "_view_module": "@jupyter-widgets/output",
            "_view_module_version": "1.0.0",
            "_view_name": "OutputView",
            "layout": "IPY_MODEL_d924d0de2fa64176a479833a1348623b",
            "msg_id": "",
            "outputs": []
          }
        },
        "d924d0de2fa64176a479833a1348623b": {
          "model_module": "@jupyter-widgets/base",
          "model_name": "LayoutModel",
          "model_module_version": "1.2.0",
          "state": {
            "_model_module": "@jupyter-widgets/base",
            "_model_module_version": "1.2.0",
            "_model_name": "LayoutModel",
            "_view_count": null,
            "_view_module": "@jupyter-widgets/base",
            "_view_module_version": "1.2.0",
            "_view_name": "LayoutView",
            "align_content": null,
            "align_items": null,
            "align_self": null,
            "border": null,
            "bottom": null,
            "display": null,
            "flex": null,
            "flex_flow": null,
            "grid_area": null,
            "grid_auto_columns": null,
            "grid_auto_flow": null,
            "grid_auto_rows": null,
            "grid_column": null,
            "grid_gap": null,
            "grid_row": null,
            "grid_template_areas": null,
            "grid_template_columns": null,
            "grid_template_rows": null,
            "height": null,
            "justify_content": null,
            "justify_items": null,
            "left": null,
            "margin": null,
            "max_height": null,
            "max_width": null,
            "min_height": null,
            "min_width": null,
            "object_fit": null,
            "object_position": null,
            "order": null,
            "overflow": null,
            "overflow_x": null,
            "overflow_y": null,
            "padding": null,
            "right": null,
            "top": null,
            "visibility": null,
            "width": null
          }
        },
        "7ea25d7b2883450fb7f65fcc2842946b": {
          "model_module": "@jupyter-widgets/controls",
          "model_name": "HBoxModel",
          "model_module_version": "1.5.0",
          "state": {
            "_dom_classes": [],
            "_model_module": "@jupyter-widgets/controls",
            "_model_module_version": "1.5.0",
            "_model_name": "HBoxModel",
            "_view_count": null,
            "_view_module": "@jupyter-widgets/controls",
            "_view_module_version": "1.5.0",
            "_view_name": "HBoxView",
            "box_style": "",
            "children": [
              "IPY_MODEL_e81429e1a49240e3803e98d7b6eada42",
              "IPY_MODEL_6e8e546a296d4ca9a00edb7a6068fe84"
            ],
            "layout": "IPY_MODEL_ceea14f13237417fa45b960ef7845533"
          }
        },
        "e81429e1a49240e3803e98d7b6eada42": {
          "model_module": "@jupyter-widgets/controls",
          "model_name": "RadioButtonsModel",
          "model_module_version": "1.5.0",
          "state": {
            "_dom_classes": [],
            "_model_module": "@jupyter-widgets/controls",
            "_model_module_version": "1.5.0",
            "_model_name": "RadioButtonsModel",
            "_options_labels": [
              "Sim",
              "Não"
            ],
            "_view_count": null,
            "_view_module": "@jupyter-widgets/controls",
            "_view_module_version": "1.5.0",
            "_view_name": "RadioButtonsView",
            "description": "Resposta:",
            "description_tooltip": null,
            "disabled": false,
            "index": null,
            "layout": "IPY_MODEL_ecaeac3ef0f64a1187f7f6646aea3f42",
            "style": "IPY_MODEL_07fd8465e55f45ceaf072c81e0d2f2be"
          }
        },
        "6e8e546a296d4ca9a00edb7a6068fe84": {
          "model_module": "@jupyter-widgets/controls",
          "model_name": "HBoxModel",
          "model_module_version": "1.5.0",
          "state": {
            "_dom_classes": [],
            "_model_module": "@jupyter-widgets/controls",
            "_model_module_version": "1.5.0",
            "_model_name": "HBoxModel",
            "_view_count": null,
            "_view_module": "@jupyter-widgets/controls",
            "_view_module_version": "1.5.0",
            "_view_name": "HBoxView",
            "box_style": "",
            "children": [
              "IPY_MODEL_28c90a21d1204d06bc0b270e9b03c376"
            ],
            "layout": "IPY_MODEL_572c8a68febc42488bc99ce57044754d"
          }
        },
        "ceea14f13237417fa45b960ef7845533": {
          "model_module": "@jupyter-widgets/base",
          "model_name": "LayoutModel",
          "model_module_version": "1.2.0",
          "state": {
            "_model_module": "@jupyter-widgets/base",
            "_model_module_version": "1.2.0",
            "_model_name": "LayoutModel",
            "_view_count": null,
            "_view_module": "@jupyter-widgets/base",
            "_view_module_version": "1.2.0",
            "_view_name": "LayoutView",
            "align_content": null,
            "align_items": null,
            "align_self": null,
            "border": null,
            "bottom": null,
            "display": null,
            "flex": null,
            "flex_flow": null,
            "grid_area": null,
            "grid_auto_columns": null,
            "grid_auto_flow": null,
            "grid_auto_rows": null,
            "grid_column": null,
            "grid_gap": null,
            "grid_row": null,
            "grid_template_areas": null,
            "grid_template_columns": null,
            "grid_template_rows": null,
            "height": null,
            "justify_content": null,
            "justify_items": null,
            "left": null,
            "margin": null,
            "max_height": null,
            "max_width": null,
            "min_height": null,
            "min_width": null,
            "object_fit": null,
            "object_position": null,
            "order": null,
            "overflow": null,
            "overflow_x": null,
            "overflow_y": null,
            "padding": null,
            "right": null,
            "top": null,
            "visibility": null,
            "width": null
          }
        },
        "ecaeac3ef0f64a1187f7f6646aea3f42": {
          "model_module": "@jupyter-widgets/base",
          "model_name": "LayoutModel",
          "model_module_version": "1.2.0",
          "state": {
            "_model_module": "@jupyter-widgets/base",
            "_model_module_version": "1.2.0",
            "_model_name": "LayoutModel",
            "_view_count": null,
            "_view_module": "@jupyter-widgets/base",
            "_view_module_version": "1.2.0",
            "_view_name": "LayoutView",
            "align_content": null,
            "align_items": null,
            "align_self": null,
            "border": null,
            "bottom": null,
            "display": null,
            "flex": null,
            "flex_flow": null,
            "grid_area": null,
            "grid_auto_columns": null,
            "grid_auto_flow": null,
            "grid_auto_rows": null,
            "grid_column": null,
            "grid_gap": null,
            "grid_row": null,
            "grid_template_areas": null,
            "grid_template_columns": null,
            "grid_template_rows": null,
            "height": null,
            "justify_content": null,
            "justify_items": null,
            "left": null,
            "margin": null,
            "max_height": null,
            "max_width": null,
            "min_height": null,
            "min_width": null,
            "object_fit": null,
            "object_position": null,
            "order": null,
            "overflow": null,
            "overflow_x": null,
            "overflow_y": null,
            "padding": null,
            "right": null,
            "top": null,
            "visibility": null,
            "width": null
          }
        },
        "07fd8465e55f45ceaf072c81e0d2f2be": {
          "model_module": "@jupyter-widgets/controls",
          "model_name": "DescriptionStyleModel",
          "model_module_version": "1.5.0",
          "state": {
            "_model_module": "@jupyter-widgets/controls",
            "_model_module_version": "1.5.0",
            "_model_name": "DescriptionStyleModel",
            "_view_count": null,
            "_view_module": "@jupyter-widgets/base",
            "_view_module_version": "1.2.0",
            "_view_name": "StyleView",
            "description_width": ""
          }
        },
        "28c90a21d1204d06bc0b270e9b03c376": {
          "model_module": "@jupyter-widgets/controls",
          "model_name": "ButtonModel",
          "model_module_version": "1.5.0",
          "state": {
            "_dom_classes": [],
            "_model_module": "@jupyter-widgets/controls",
            "_model_module_version": "1.5.0",
            "_model_name": "ButtonModel",
            "_view_count": null,
            "_view_module": "@jupyter-widgets/controls",
            "_view_module_version": "1.5.0",
            "_view_name": "ButtonView",
            "button_style": "",
            "description": "Verificar",
            "disabled": false,
            "icon": "",
            "layout": "IPY_MODEL_2e9e89b2b96044cca2c41ae804ab09b5",
            "style": "IPY_MODEL_a40a3a0450fc4a80b81589e698020983",
            "tooltip": ""
          }
        },
        "572c8a68febc42488bc99ce57044754d": {
          "model_module": "@jupyter-widgets/base",
          "model_name": "LayoutModel",
          "model_module_version": "1.2.0",
          "state": {
            "_model_module": "@jupyter-widgets/base",
            "_model_module_version": "1.2.0",
            "_model_name": "LayoutModel",
            "_view_count": null,
            "_view_module": "@jupyter-widgets/base",
            "_view_module_version": "1.2.0",
            "_view_name": "LayoutView",
            "align_content": null,
            "align_items": null,
            "align_self": null,
            "border": null,
            "bottom": null,
            "display": null,
            "flex": null,
            "flex_flow": null,
            "grid_area": null,
            "grid_auto_columns": null,
            "grid_auto_flow": null,
            "grid_auto_rows": null,
            "grid_column": null,
            "grid_gap": null,
            "grid_row": null,
            "grid_template_areas": null,
            "grid_template_columns": null,
            "grid_template_rows": null,
            "height": null,
            "justify_content": null,
            "justify_items": null,
            "left": null,
            "margin": null,
            "max_height": null,
            "max_width": null,
            "min_height": null,
            "min_width": null,
            "object_fit": null,
            "object_position": null,
            "order": null,
            "overflow": null,
            "overflow_x": null,
            "overflow_y": null,
            "padding": null,
            "right": null,
            "top": null,
            "visibility": null,
            "width": null
          }
        },
        "2e9e89b2b96044cca2c41ae804ab09b5": {
          "model_module": "@jupyter-widgets/base",
          "model_name": "LayoutModel",
          "model_module_version": "1.2.0",
          "state": {
            "_model_module": "@jupyter-widgets/base",
            "_model_module_version": "1.2.0",
            "_model_name": "LayoutModel",
            "_view_count": null,
            "_view_module": "@jupyter-widgets/base",
            "_view_module_version": "1.2.0",
            "_view_name": "LayoutView",
            "align_content": null,
            "align_items": null,
            "align_self": null,
            "border": null,
            "bottom": null,
            "display": null,
            "flex": null,
            "flex_flow": null,
            "grid_area": null,
            "grid_auto_columns": null,
            "grid_auto_flow": null,
            "grid_auto_rows": null,
            "grid_column": null,
            "grid_gap": null,
            "grid_row": null,
            "grid_template_areas": null,
            "grid_template_columns": null,
            "grid_template_rows": null,
            "height": null,
            "justify_content": null,
            "justify_items": null,
            "left": null,
            "margin": null,
            "max_height": null,
            "max_width": null,
            "min_height": null,
            "min_width": null,
            "object_fit": null,
            "object_position": null,
            "order": null,
            "overflow": null,
            "overflow_x": null,
            "overflow_y": null,
            "padding": null,
            "right": null,
            "top": null,
            "visibility": null,
            "width": null
          }
        },
        "a40a3a0450fc4a80b81589e698020983": {
          "model_module": "@jupyter-widgets/controls",
          "model_name": "ButtonStyleModel",
          "model_module_version": "1.5.0",
          "state": {
            "_model_module": "@jupyter-widgets/controls",
            "_model_module_version": "1.5.0",
            "_model_name": "ButtonStyleModel",
            "_view_count": null,
            "_view_module": "@jupyter-widgets/base",
            "_view_module_version": "1.2.0",
            "_view_name": "StyleView",
            "button_color": null,
            "font_weight": ""
          }
        },
        "a5250d099a8a4307b2e375bf43e5a866": {
          "model_module": "@jupyter-widgets/output",
          "model_name": "OutputModel",
          "model_module_version": "1.0.0",
          "state": {
            "_dom_classes": [],
            "_model_module": "@jupyter-widgets/output",
            "_model_module_version": "1.0.0",
            "_model_name": "OutputModel",
            "_view_count": null,
            "_view_module": "@jupyter-widgets/output",
            "_view_module_version": "1.0.0",
            "_view_name": "OutputView",
            "layout": "IPY_MODEL_ad524503de11404cb0dcfb6242a6e8fa",
            "msg_id": "",
            "outputs": []
          }
        },
        "ad524503de11404cb0dcfb6242a6e8fa": {
          "model_module": "@jupyter-widgets/base",
          "model_name": "LayoutModel",
          "model_module_version": "1.2.0",
          "state": {
            "_model_module": "@jupyter-widgets/base",
            "_model_module_version": "1.2.0",
            "_model_name": "LayoutModel",
            "_view_count": null,
            "_view_module": "@jupyter-widgets/base",
            "_view_module_version": "1.2.0",
            "_view_name": "LayoutView",
            "align_content": null,
            "align_items": null,
            "align_self": null,
            "border": null,
            "bottom": null,
            "display": null,
            "flex": null,
            "flex_flow": null,
            "grid_area": null,
            "grid_auto_columns": null,
            "grid_auto_flow": null,
            "grid_auto_rows": null,
            "grid_column": null,
            "grid_gap": null,
            "grid_row": null,
            "grid_template_areas": null,
            "grid_template_columns": null,
            "grid_template_rows": null,
            "height": null,
            "justify_content": null,
            "justify_items": null,
            "left": null,
            "margin": null,
            "max_height": null,
            "max_width": null,
            "min_height": null,
            "min_width": null,
            "object_fit": null,
            "object_position": null,
            "order": null,
            "overflow": null,
            "overflow_x": null,
            "overflow_y": null,
            "padding": null,
            "right": null,
            "top": null,
            "visibility": null,
            "width": null
          }
        },
        "35af112c92bc41c8ad70fef76923eb74": {
          "model_module": "@jupyter-widgets/controls",
          "model_name": "HBoxModel",
          "model_module_version": "1.5.0",
          "state": {
            "_dom_classes": [],
            "_model_module": "@jupyter-widgets/controls",
            "_model_module_version": "1.5.0",
            "_model_name": "HBoxModel",
            "_view_count": null,
            "_view_module": "@jupyter-widgets/controls",
            "_view_module_version": "1.5.0",
            "_view_name": "HBoxView",
            "box_style": "",
            "children": [
              "IPY_MODEL_7878bdd6bc0b4a40b222514845753dad",
              "IPY_MODEL_f54e364ffe4e4a06a70e059ba270c884"
            ],
            "layout": "IPY_MODEL_7ba71a73bbed47a5a845ec63891dc3b7"
          }
        },
        "7878bdd6bc0b4a40b222514845753dad": {
          "model_module": "@jupyter-widgets/controls",
          "model_name": "RadioButtonsModel",
          "model_module_version": "1.5.0",
          "state": {
            "_dom_classes": [],
            "_model_module": "@jupyter-widgets/controls",
            "_model_module_version": "1.5.0",
            "_model_name": "RadioButtonsModel",
            "_options_labels": [
              "Sim",
              "Não"
            ],
            "_view_count": null,
            "_view_module": "@jupyter-widgets/controls",
            "_view_module_version": "1.5.0",
            "_view_name": "RadioButtonsView",
            "description": "Resposta:",
            "description_tooltip": null,
            "disabled": false,
            "index": null,
            "layout": "IPY_MODEL_6a930236c4864d329e79fac3f7d1789d",
            "style": "IPY_MODEL_9181ca30d1c7425888bab350862eeabf"
          }
        },
        "f54e364ffe4e4a06a70e059ba270c884": {
          "model_module": "@jupyter-widgets/controls",
          "model_name": "HBoxModel",
          "model_module_version": "1.5.0",
          "state": {
            "_dom_classes": [],
            "_model_module": "@jupyter-widgets/controls",
            "_model_module_version": "1.5.0",
            "_model_name": "HBoxModel",
            "_view_count": null,
            "_view_module": "@jupyter-widgets/controls",
            "_view_module_version": "1.5.0",
            "_view_name": "HBoxView",
            "box_style": "",
            "children": [
              "IPY_MODEL_4f3503a99fff4fb39c27226f0668dbd2"
            ],
            "layout": "IPY_MODEL_00f96fa76e4846f385d69e22c6b600df"
          }
        },
        "7ba71a73bbed47a5a845ec63891dc3b7": {
          "model_module": "@jupyter-widgets/base",
          "model_name": "LayoutModel",
          "model_module_version": "1.2.0",
          "state": {
            "_model_module": "@jupyter-widgets/base",
            "_model_module_version": "1.2.0",
            "_model_name": "LayoutModel",
            "_view_count": null,
            "_view_module": "@jupyter-widgets/base",
            "_view_module_version": "1.2.0",
            "_view_name": "LayoutView",
            "align_content": null,
            "align_items": null,
            "align_self": null,
            "border": null,
            "bottom": null,
            "display": null,
            "flex": null,
            "flex_flow": null,
            "grid_area": null,
            "grid_auto_columns": null,
            "grid_auto_flow": null,
            "grid_auto_rows": null,
            "grid_column": null,
            "grid_gap": null,
            "grid_row": null,
            "grid_template_areas": null,
            "grid_template_columns": null,
            "grid_template_rows": null,
            "height": null,
            "justify_content": null,
            "justify_items": null,
            "left": null,
            "margin": null,
            "max_height": null,
            "max_width": null,
            "min_height": null,
            "min_width": null,
            "object_fit": null,
            "object_position": null,
            "order": null,
            "overflow": null,
            "overflow_x": null,
            "overflow_y": null,
            "padding": null,
            "right": null,
            "top": null,
            "visibility": null,
            "width": null
          }
        },
        "6a930236c4864d329e79fac3f7d1789d": {
          "model_module": "@jupyter-widgets/base",
          "model_name": "LayoutModel",
          "model_module_version": "1.2.0",
          "state": {
            "_model_module": "@jupyter-widgets/base",
            "_model_module_version": "1.2.0",
            "_model_name": "LayoutModel",
            "_view_count": null,
            "_view_module": "@jupyter-widgets/base",
            "_view_module_version": "1.2.0",
            "_view_name": "LayoutView",
            "align_content": null,
            "align_items": null,
            "align_self": null,
            "border": null,
            "bottom": null,
            "display": null,
            "flex": null,
            "flex_flow": null,
            "grid_area": null,
            "grid_auto_columns": null,
            "grid_auto_flow": null,
            "grid_auto_rows": null,
            "grid_column": null,
            "grid_gap": null,
            "grid_row": null,
            "grid_template_areas": null,
            "grid_template_columns": null,
            "grid_template_rows": null,
            "height": null,
            "justify_content": null,
            "justify_items": null,
            "left": null,
            "margin": null,
            "max_height": null,
            "max_width": null,
            "min_height": null,
            "min_width": null,
            "object_fit": null,
            "object_position": null,
            "order": null,
            "overflow": null,
            "overflow_x": null,
            "overflow_y": null,
            "padding": null,
            "right": null,
            "top": null,
            "visibility": null,
            "width": null
          }
        },
        "9181ca30d1c7425888bab350862eeabf": {
          "model_module": "@jupyter-widgets/controls",
          "model_name": "DescriptionStyleModel",
          "model_module_version": "1.5.0",
          "state": {
            "_model_module": "@jupyter-widgets/controls",
            "_model_module_version": "1.5.0",
            "_model_name": "DescriptionStyleModel",
            "_view_count": null,
            "_view_module": "@jupyter-widgets/base",
            "_view_module_version": "1.2.0",
            "_view_name": "StyleView",
            "description_width": ""
          }
        },
        "4f3503a99fff4fb39c27226f0668dbd2": {
          "model_module": "@jupyter-widgets/controls",
          "model_name": "ButtonModel",
          "model_module_version": "1.5.0",
          "state": {
            "_dom_classes": [],
            "_model_module": "@jupyter-widgets/controls",
            "_model_module_version": "1.5.0",
            "_model_name": "ButtonModel",
            "_view_count": null,
            "_view_module": "@jupyter-widgets/controls",
            "_view_module_version": "1.5.0",
            "_view_name": "ButtonView",
            "button_style": "",
            "description": "Verificar",
            "disabled": false,
            "icon": "",
            "layout": "IPY_MODEL_05b8cb05474848c497a7bc62059ce1d1",
            "style": "IPY_MODEL_871ec616faa449768c7ca18cd5772c28",
            "tooltip": ""
          }
        },
        "00f96fa76e4846f385d69e22c6b600df": {
          "model_module": "@jupyter-widgets/base",
          "model_name": "LayoutModel",
          "model_module_version": "1.2.0",
          "state": {
            "_model_module": "@jupyter-widgets/base",
            "_model_module_version": "1.2.0",
            "_model_name": "LayoutModel",
            "_view_count": null,
            "_view_module": "@jupyter-widgets/base",
            "_view_module_version": "1.2.0",
            "_view_name": "LayoutView",
            "align_content": null,
            "align_items": null,
            "align_self": null,
            "border": null,
            "bottom": null,
            "display": null,
            "flex": null,
            "flex_flow": null,
            "grid_area": null,
            "grid_auto_columns": null,
            "grid_auto_flow": null,
            "grid_auto_rows": null,
            "grid_column": null,
            "grid_gap": null,
            "grid_row": null,
            "grid_template_areas": null,
            "grid_template_columns": null,
            "grid_template_rows": null,
            "height": null,
            "justify_content": null,
            "justify_items": null,
            "left": null,
            "margin": null,
            "max_height": null,
            "max_width": null,
            "min_height": null,
            "min_width": null,
            "object_fit": null,
            "object_position": null,
            "order": null,
            "overflow": null,
            "overflow_x": null,
            "overflow_y": null,
            "padding": null,
            "right": null,
            "top": null,
            "visibility": null,
            "width": null
          }
        },
        "05b8cb05474848c497a7bc62059ce1d1": {
          "model_module": "@jupyter-widgets/base",
          "model_name": "LayoutModel",
          "model_module_version": "1.2.0",
          "state": {
            "_model_module": "@jupyter-widgets/base",
            "_model_module_version": "1.2.0",
            "_model_name": "LayoutModel",
            "_view_count": null,
            "_view_module": "@jupyter-widgets/base",
            "_view_module_version": "1.2.0",
            "_view_name": "LayoutView",
            "align_content": null,
            "align_items": null,
            "align_self": null,
            "border": null,
            "bottom": null,
            "display": null,
            "flex": null,
            "flex_flow": null,
            "grid_area": null,
            "grid_auto_columns": null,
            "grid_auto_flow": null,
            "grid_auto_rows": null,
            "grid_column": null,
            "grid_gap": null,
            "grid_row": null,
            "grid_template_areas": null,
            "grid_template_columns": null,
            "grid_template_rows": null,
            "height": null,
            "justify_content": null,
            "justify_items": null,
            "left": null,
            "margin": null,
            "max_height": null,
            "max_width": null,
            "min_height": null,
            "min_width": null,
            "object_fit": null,
            "object_position": null,
            "order": null,
            "overflow": null,
            "overflow_x": null,
            "overflow_y": null,
            "padding": null,
            "right": null,
            "top": null,
            "visibility": null,
            "width": null
          }
        },
        "871ec616faa449768c7ca18cd5772c28": {
          "model_module": "@jupyter-widgets/controls",
          "model_name": "ButtonStyleModel",
          "model_module_version": "1.5.0",
          "state": {
            "_model_module": "@jupyter-widgets/controls",
            "_model_module_version": "1.5.0",
            "_model_name": "ButtonStyleModel",
            "_view_count": null,
            "_view_module": "@jupyter-widgets/base",
            "_view_module_version": "1.2.0",
            "_view_name": "StyleView",
            "button_color": null,
            "font_weight": ""
          }
        },
        "19ab81b9d064444eb7bfe43e9db1c244": {
          "model_module": "@jupyter-widgets/output",
          "model_name": "OutputModel",
          "model_module_version": "1.0.0",
          "state": {
            "_dom_classes": [],
            "_model_module": "@jupyter-widgets/output",
            "_model_module_version": "1.0.0",
            "_model_name": "OutputModel",
            "_view_count": null,
            "_view_module": "@jupyter-widgets/output",
            "_view_module_version": "1.0.0",
            "_view_name": "OutputView",
            "layout": "IPY_MODEL_7393f58df4824d7bae3564c1179e8e03",
            "msg_id": "",
            "outputs": []
          }
        },
        "7393f58df4824d7bae3564c1179e8e03": {
          "model_module": "@jupyter-widgets/base",
          "model_name": "LayoutModel",
          "model_module_version": "1.2.0",
          "state": {
            "_model_module": "@jupyter-widgets/base",
            "_model_module_version": "1.2.0",
            "_model_name": "LayoutModel",
            "_view_count": null,
            "_view_module": "@jupyter-widgets/base",
            "_view_module_version": "1.2.0",
            "_view_name": "LayoutView",
            "align_content": null,
            "align_items": null,
            "align_self": null,
            "border": null,
            "bottom": null,
            "display": null,
            "flex": null,
            "flex_flow": null,
            "grid_area": null,
            "grid_auto_columns": null,
            "grid_auto_flow": null,
            "grid_auto_rows": null,
            "grid_column": null,
            "grid_gap": null,
            "grid_row": null,
            "grid_template_areas": null,
            "grid_template_columns": null,
            "grid_template_rows": null,
            "height": null,
            "justify_content": null,
            "justify_items": null,
            "left": null,
            "margin": null,
            "max_height": null,
            "max_width": null,
            "min_height": null,
            "min_width": null,
            "object_fit": null,
            "object_position": null,
            "order": null,
            "overflow": null,
            "overflow_x": null,
            "overflow_y": null,
            "padding": null,
            "right": null,
            "top": null,
            "visibility": null,
            "width": null
          }
        },
        "2f70b16927b3408dbf5b1d6db4c0032b": {
          "model_module": "@jupyter-widgets/controls",
          "model_name": "HBoxModel",
          "model_module_version": "1.5.0",
          "state": {
            "_dom_classes": [],
            "_model_module": "@jupyter-widgets/controls",
            "_model_module_version": "1.5.0",
            "_model_name": "HBoxModel",
            "_view_count": null,
            "_view_module": "@jupyter-widgets/controls",
            "_view_module_version": "1.5.0",
            "_view_name": "HBoxView",
            "box_style": "",
            "children": [
              "IPY_MODEL_593ad786688a4fb7b5a4a1f645dbe62d",
              "IPY_MODEL_ed0ee0c2ca9d4d5796bb662754e96147"
            ],
            "layout": "IPY_MODEL_990f13a3b4de46469669f18e6bcbe31d"
          }
        },
        "593ad786688a4fb7b5a4a1f645dbe62d": {
          "model_module": "@jupyter-widgets/controls",
          "model_name": "RadioButtonsModel",
          "model_module_version": "1.5.0",
          "state": {
            "_dom_classes": [],
            "_model_module": "@jupyter-widgets/controls",
            "_model_module_version": "1.5.0",
            "_model_name": "RadioButtonsModel",
            "_options_labels": [
              "Sim",
              "Não"
            ],
            "_view_count": null,
            "_view_module": "@jupyter-widgets/controls",
            "_view_module_version": "1.5.0",
            "_view_name": "RadioButtonsView",
            "description": "Resposta:",
            "description_tooltip": null,
            "disabled": false,
            "index": null,
            "layout": "IPY_MODEL_5cf4ca81b4934001bf73925219466f4f",
            "style": "IPY_MODEL_bfcc1b81fa0e4a409aa793b260a1da5e"
          }
        },
        "ed0ee0c2ca9d4d5796bb662754e96147": {
          "model_module": "@jupyter-widgets/controls",
          "model_name": "HBoxModel",
          "model_module_version": "1.5.0",
          "state": {
            "_dom_classes": [],
            "_model_module": "@jupyter-widgets/controls",
            "_model_module_version": "1.5.0",
            "_model_name": "HBoxModel",
            "_view_count": null,
            "_view_module": "@jupyter-widgets/controls",
            "_view_module_version": "1.5.0",
            "_view_name": "HBoxView",
            "box_style": "",
            "children": [
              "IPY_MODEL_df781b72c06a4f7682c2443adb16791a"
            ],
            "layout": "IPY_MODEL_85130674a7384d81a5c6c64fb79417a4"
          }
        },
        "990f13a3b4de46469669f18e6bcbe31d": {
          "model_module": "@jupyter-widgets/base",
          "model_name": "LayoutModel",
          "model_module_version": "1.2.0",
          "state": {
            "_model_module": "@jupyter-widgets/base",
            "_model_module_version": "1.2.0",
            "_model_name": "LayoutModel",
            "_view_count": null,
            "_view_module": "@jupyter-widgets/base",
            "_view_module_version": "1.2.0",
            "_view_name": "LayoutView",
            "align_content": null,
            "align_items": null,
            "align_self": null,
            "border": null,
            "bottom": null,
            "display": null,
            "flex": null,
            "flex_flow": null,
            "grid_area": null,
            "grid_auto_columns": null,
            "grid_auto_flow": null,
            "grid_auto_rows": null,
            "grid_column": null,
            "grid_gap": null,
            "grid_row": null,
            "grid_template_areas": null,
            "grid_template_columns": null,
            "grid_template_rows": null,
            "height": null,
            "justify_content": null,
            "justify_items": null,
            "left": null,
            "margin": null,
            "max_height": null,
            "max_width": null,
            "min_height": null,
            "min_width": null,
            "object_fit": null,
            "object_position": null,
            "order": null,
            "overflow": null,
            "overflow_x": null,
            "overflow_y": null,
            "padding": null,
            "right": null,
            "top": null,
            "visibility": null,
            "width": null
          }
        },
        "5cf4ca81b4934001bf73925219466f4f": {
          "model_module": "@jupyter-widgets/base",
          "model_name": "LayoutModel",
          "model_module_version": "1.2.0",
          "state": {
            "_model_module": "@jupyter-widgets/base",
            "_model_module_version": "1.2.0",
            "_model_name": "LayoutModel",
            "_view_count": null,
            "_view_module": "@jupyter-widgets/base",
            "_view_module_version": "1.2.0",
            "_view_name": "LayoutView",
            "align_content": null,
            "align_items": null,
            "align_self": null,
            "border": null,
            "bottom": null,
            "display": null,
            "flex": null,
            "flex_flow": null,
            "grid_area": null,
            "grid_auto_columns": null,
            "grid_auto_flow": null,
            "grid_auto_rows": null,
            "grid_column": null,
            "grid_gap": null,
            "grid_row": null,
            "grid_template_areas": null,
            "grid_template_columns": null,
            "grid_template_rows": null,
            "height": null,
            "justify_content": null,
            "justify_items": null,
            "left": null,
            "margin": null,
            "max_height": null,
            "max_width": null,
            "min_height": null,
            "min_width": null,
            "object_fit": null,
            "object_position": null,
            "order": null,
            "overflow": null,
            "overflow_x": null,
            "overflow_y": null,
            "padding": null,
            "right": null,
            "top": null,
            "visibility": null,
            "width": null
          }
        },
        "bfcc1b81fa0e4a409aa793b260a1da5e": {
          "model_module": "@jupyter-widgets/controls",
          "model_name": "DescriptionStyleModel",
          "model_module_version": "1.5.0",
          "state": {
            "_model_module": "@jupyter-widgets/controls",
            "_model_module_version": "1.5.0",
            "_model_name": "DescriptionStyleModel",
            "_view_count": null,
            "_view_module": "@jupyter-widgets/base",
            "_view_module_version": "1.2.0",
            "_view_name": "StyleView",
            "description_width": ""
          }
        },
        "df781b72c06a4f7682c2443adb16791a": {
          "model_module": "@jupyter-widgets/controls",
          "model_name": "ButtonModel",
          "model_module_version": "1.5.0",
          "state": {
            "_dom_classes": [],
            "_model_module": "@jupyter-widgets/controls",
            "_model_module_version": "1.5.0",
            "_model_name": "ButtonModel",
            "_view_count": null,
            "_view_module": "@jupyter-widgets/controls",
            "_view_module_version": "1.5.0",
            "_view_name": "ButtonView",
            "button_style": "",
            "description": "Verificar",
            "disabled": false,
            "icon": "",
            "layout": "IPY_MODEL_24e5ccf028474d828602c4e8d2f55d6f",
            "style": "IPY_MODEL_ecb39de721314c79a6c33b438211e0e1",
            "tooltip": ""
          }
        },
        "85130674a7384d81a5c6c64fb79417a4": {
          "model_module": "@jupyter-widgets/base",
          "model_name": "LayoutModel",
          "model_module_version": "1.2.0",
          "state": {
            "_model_module": "@jupyter-widgets/base",
            "_model_module_version": "1.2.0",
            "_model_name": "LayoutModel",
            "_view_count": null,
            "_view_module": "@jupyter-widgets/base",
            "_view_module_version": "1.2.0",
            "_view_name": "LayoutView",
            "align_content": null,
            "align_items": null,
            "align_self": null,
            "border": null,
            "bottom": null,
            "display": null,
            "flex": null,
            "flex_flow": null,
            "grid_area": null,
            "grid_auto_columns": null,
            "grid_auto_flow": null,
            "grid_auto_rows": null,
            "grid_column": null,
            "grid_gap": null,
            "grid_row": null,
            "grid_template_areas": null,
            "grid_template_columns": null,
            "grid_template_rows": null,
            "height": null,
            "justify_content": null,
            "justify_items": null,
            "left": null,
            "margin": null,
            "max_height": null,
            "max_width": null,
            "min_height": null,
            "min_width": null,
            "object_fit": null,
            "object_position": null,
            "order": null,
            "overflow": null,
            "overflow_x": null,
            "overflow_y": null,
            "padding": null,
            "right": null,
            "top": null,
            "visibility": null,
            "width": null
          }
        },
        "24e5ccf028474d828602c4e8d2f55d6f": {
          "model_module": "@jupyter-widgets/base",
          "model_name": "LayoutModel",
          "model_module_version": "1.2.0",
          "state": {
            "_model_module": "@jupyter-widgets/base",
            "_model_module_version": "1.2.0",
            "_model_name": "LayoutModel",
            "_view_count": null,
            "_view_module": "@jupyter-widgets/base",
            "_view_module_version": "1.2.0",
            "_view_name": "LayoutView",
            "align_content": null,
            "align_items": null,
            "align_self": null,
            "border": null,
            "bottom": null,
            "display": null,
            "flex": null,
            "flex_flow": null,
            "grid_area": null,
            "grid_auto_columns": null,
            "grid_auto_flow": null,
            "grid_auto_rows": null,
            "grid_column": null,
            "grid_gap": null,
            "grid_row": null,
            "grid_template_areas": null,
            "grid_template_columns": null,
            "grid_template_rows": null,
            "height": null,
            "justify_content": null,
            "justify_items": null,
            "left": null,
            "margin": null,
            "max_height": null,
            "max_width": null,
            "min_height": null,
            "min_width": null,
            "object_fit": null,
            "object_position": null,
            "order": null,
            "overflow": null,
            "overflow_x": null,
            "overflow_y": null,
            "padding": null,
            "right": null,
            "top": null,
            "visibility": null,
            "width": null
          }
        },
        "ecb39de721314c79a6c33b438211e0e1": {
          "model_module": "@jupyter-widgets/controls",
          "model_name": "ButtonStyleModel",
          "model_module_version": "1.5.0",
          "state": {
            "_model_module": "@jupyter-widgets/controls",
            "_model_module_version": "1.5.0",
            "_model_name": "ButtonStyleModel",
            "_view_count": null,
            "_view_module": "@jupyter-widgets/base",
            "_view_module_version": "1.2.0",
            "_view_name": "StyleView",
            "button_color": null,
            "font_weight": ""
          }
        },
        "6eecf3c23a484c0792030f675372336d": {
          "model_module": "@jupyter-widgets/output",
          "model_name": "OutputModel",
          "model_module_version": "1.0.0",
          "state": {
            "_dom_classes": [],
            "_model_module": "@jupyter-widgets/output",
            "_model_module_version": "1.0.0",
            "_model_name": "OutputModel",
            "_view_count": null,
            "_view_module": "@jupyter-widgets/output",
            "_view_module_version": "1.0.0",
            "_view_name": "OutputView",
            "layout": "IPY_MODEL_a031d940e579434095dfb9f506b04073",
            "msg_id": "",
            "outputs": []
          }
        },
        "a031d940e579434095dfb9f506b04073": {
          "model_module": "@jupyter-widgets/base",
          "model_name": "LayoutModel",
          "model_module_version": "1.2.0",
          "state": {
            "_model_module": "@jupyter-widgets/base",
            "_model_module_version": "1.2.0",
            "_model_name": "LayoutModel",
            "_view_count": null,
            "_view_module": "@jupyter-widgets/base",
            "_view_module_version": "1.2.0",
            "_view_name": "LayoutView",
            "align_content": null,
            "align_items": null,
            "align_self": null,
            "border": null,
            "bottom": null,
            "display": null,
            "flex": null,
            "flex_flow": null,
            "grid_area": null,
            "grid_auto_columns": null,
            "grid_auto_flow": null,
            "grid_auto_rows": null,
            "grid_column": null,
            "grid_gap": null,
            "grid_row": null,
            "grid_template_areas": null,
            "grid_template_columns": null,
            "grid_template_rows": null,
            "height": null,
            "justify_content": null,
            "justify_items": null,
            "left": null,
            "margin": null,
            "max_height": null,
            "max_width": null,
            "min_height": null,
            "min_width": null,
            "object_fit": null,
            "object_position": null,
            "order": null,
            "overflow": null,
            "overflow_x": null,
            "overflow_y": null,
            "padding": null,
            "right": null,
            "top": null,
            "visibility": null,
            "width": null
          }
        }
      }
    }
  },
  "nbformat": 4,
  "nbformat_minor": 0
}